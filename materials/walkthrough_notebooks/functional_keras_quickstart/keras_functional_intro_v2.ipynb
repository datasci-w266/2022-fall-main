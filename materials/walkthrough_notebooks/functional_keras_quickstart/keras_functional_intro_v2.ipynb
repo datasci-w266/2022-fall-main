{
 "cells": [
  {
   "cell_type": "markdown",
   "metadata": {},
   "source": [
    "# Learning the Keras functional API \n",
    "\n",
    "<a id = 'top'></a>\n",
    "\n",
    "  * A. [Intro to Functional API](#introToFunctionalKeras) \n",
    "  * B. [A word about word embeddings](#wordAboutEmbeddings)\n",
    "  * C. [Description of our dataset](#datasetDescription) \n",
    "  * D. [Let's Build our functional model](#buildModel)\n",
    "  * E. [Let's Train and Evaluate our model](#trainModel)\n",
    "  * F. [Considerations for further exploration](#furtherExploration)"
   ]
  },
  {
   "cell_type": "markdown",
   "metadata": {},
   "source": [
    "<a id = 'introToFunctionalKeras'></a>\n",
    "## A. Intro to Functional API\n",
    "The Keras functional syntax for models is only slightly different from the sequential syntax.  It is an intuitive way to build up model graphs.  In return it offers much greater flexibility, allowing multiple connections from arbitrary layers to other layers.  \n",
    "\n",
    "It is referred to as \"functional\" since you use layers as functions called on input nodes to create output nodes.  A good place to start is the [Keras functional documentation](https://keras.io/guides/functional_api/)\n",
    "\n",
    "Many of the more advanced deep-learning networks you will learn about require layer connections which are not strictly sequential; therefore we will mostly use the functional syntax moving forward.\n",
    "\n",
    "This notebook gives you a sense of how to use the functional syntax to create a network, even though our example model will end up being one where layers are consecutively connected.\n",
    "\n",
    "[Go to Top](#top)"
   ]
  },
  {
   "cell_type": "code",
   "execution_count": 1,
   "metadata": {},
   "outputs": [
    {
     "name": "stdout",
     "output_type": "stream",
     "text": [
      "Requirement already satisfied: gensim==4.0.1 in /home/mhbutler/anaconda3/lib/python3.9/site-packages (4.0.1)\r\n",
      "Requirement already satisfied: numpy>=1.11.3 in /home/mhbutler/anaconda3/lib/python3.9/site-packages (from gensim==4.0.1) (1.21.5)\r\n",
      "Requirement already satisfied: smart-open>=1.8.1 in /home/mhbutler/anaconda3/lib/python3.9/site-packages (from gensim==4.0.1) (5.1.0)\r\n",
      "Requirement already satisfied: scipy>=0.18.1 in /home/mhbutler/anaconda3/lib/python3.9/site-packages (from gensim==4.0.1) (1.7.3)\r\n"
     ]
    }
   ],
   "source": [
    "#VERY IMPORTANT - the gensim code here requires gensim==4.0.1.\n",
    "#\n",
    "# In order to use this you need to install a compiler.  There are multiple ways of doing that within \n",
    "# Ubuntu LTS.  A convenient way of doing that for our purposes is with the following command:\n",
    "#   sudo apt install build-essential\n",
    "#\n",
    "#  Once you've run the build-essential package you need to\n",
    "#  make sure you pip install that version of the code.  This will be updated in the future.\n",
    "!pip install gensim==4.0.1"
   ]
  },
  {
   "cell_type": "code",
   "execution_count": 2,
   "metadata": {},
   "outputs": [
    {
     "name": "stderr",
     "output_type": "stream",
     "text": [
      "/home/mhbutler/anaconda3/lib/python3.9/site-packages/gensim/similarities/__init__.py:15: UserWarning: The gensim.similarities.levenshtein submodule is disabled, because the optional Levenshtein package <https://pypi.org/project/python-Levenshtein/> is unavailable. Install Levenhstein (e.g. `pip install python-Levenshtein`) to suppress this warning.\n",
      "  warnings.warn(msg)\n"
     ]
    }
   ],
   "source": [
    "import nltk\n",
    "from nltk.corpus import reuters\n",
    "from nltk.data import find\n",
    "\n",
    "#VERY IMPORTANT - the gensim code here requires gensim==4.0.1.\n",
    "#make sure you pip install that version of the code.  This will be updated in the future.\n",
    "import gensim\n",
    "\n",
    "import numpy as np"
   ]
  },
  {
   "cell_type": "markdown",
   "metadata": {},
   "source": [
    "<a id = 'wordAboutEmbeddings'></a>\n",
    "## B. A word about word embeddings\n",
    "\n",
    "This example will use pre-trained word embeddings from [nltk / gensim](https://github.com/nltk/nltk/blob/develop/nltk/test/gensim.doctest) \n",
    "\n",
    "You will have more chance to work with embedding vectors in a later homework.  If you haven't been exposed to word embeddings (like \"word2vec\") think of embeddings as a way to represent word meaning in geometric space, allowing us to do things like compare word similarities using vector operations like dot products.  For now, we'll use the word2vec pre-trained model to create an embedding layer for our classifier model.\n",
    "\n",
    "[Go to Top](#top)"
   ]
  },
  {
   "cell_type": "code",
   "execution_count": 3,
   "metadata": {},
   "outputs": [
    {
     "name": "stderr",
     "output_type": "stream",
     "text": [
      "[nltk_data] Downloading package word2vec_sample to\n",
      "[nltk_data]     /home/mhbutler/nltk_data...\n",
      "[nltk_data]   Package word2vec_sample is already up-to-date!\n"
     ]
    },
    {
     "name": "stdout",
     "output_type": "stream",
     "text": [
      "The length of gensim embedding vocabulary : 43981\n",
      "Length d of embedding vectors : 300\n",
      "The shape of our embedding matrix is (43982, 300)\n"
     ]
    }
   ],
   "source": [
    "# Download NLTK's sample word2vec embeddings\n",
    "\n",
    "nltk.download('word2vec_sample')\n",
    "\n",
    "word2vec_sample = str(find('models/word2vec_sample/pruned.word2vec.txt'))\n",
    "\n",
    "embmod = gensim.models.KeyedVectors.load_word2vec_format(word2vec_sample, binary=False)\n",
    "print('The length of gensim embedding vocabulary : {}'.format(len(embmod)))\n",
    "EMBEDDING_DIM = len(embmod['university'])\n",
    "print('Length d of embedding vectors : {}'.format(EMBEDDING_DIM))\n",
    "\n",
    "# initialize embedding matrix and word-to-id map:\n",
    "embedding_matrix = np.zeros((len(embmod) + 1, EMBEDDING_DIM))       \n",
    "vocab_dict = {}\n",
    "\n",
    "# build the embedding matrix and the word-to-id map:\n",
    "for i, word in enumerate(embmod.key_to_index.keys()):\n",
    "    embedding_vector = embmod[word]\n",
    "    if embedding_vector is not None:\n",
    "        # words not found in embedding index will be all-zeros.\n",
    "        embedding_matrix[i] = embedding_vector\n",
    "        vocab_dict[word] = i\n",
    "\n",
    "print('The shape of our embedding matrix is {}'.format(embedding_matrix.shape))"
   ]
  },
  {
   "cell_type": "markdown",
   "metadata": {},
   "source": [
    "<a id = 'datasetDescription'></a>\n",
    "## C. Description of our dataset\n",
    "\n",
    "We will create a classifier model on the [large movie review dataset from Stanford AI Lab](https://ai.stanford.edu/~amaas/data/sentiment/). \n",
    "\n",
    "This dataset was used in the paper:  \n",
    "[Learning Word Vectors for Sentiment Analysis by Andrew L. Maas, Raymond E. Daly, Peter T. Pham, Dan Huang, Andrew Y. Ng, Christopher Potts from the Jun 2011 issue of ACL.](https://www.aclweb.org/anthology/P11-1015.pdf)  \n",
    "\n",
    "The dataset training samples are split between:\n",
    "  * \"negative\" movie reviews, with ratings in the range (1,2,3,4) and \n",
    "  * \"positive reviews in the range of (7,8,9,10).\n",
    " \n",
    "We will re-group the ratings into 2 \"negative\" groups and 2 \"positive\" groups, to make our classification task a bit easier.\n",
    "\n",
    "[Go to Top](#top)"
   ]
  },
  {
   "cell_type": "code",
   "execution_count": 4,
   "metadata": {},
   "outputs": [
    {
     "name": "stdout",
     "output_type": "stream",
     "text": [
      "Finished downloading file\n",
      "Finished untar-ing file\n",
      "Our unique class labels are: [0 1 2 3]\n"
     ]
    }
   ],
   "source": [
    "# Download the dataset\n",
    "import requests\n",
    "url = 'https://ai.stanford.edu/~amaas/data/sentiment/aclImdb_v1.tar.gz'\n",
    "r = requests.get(url, allow_redirects=True)\n",
    "print('Finished downloading file')\n",
    "open('aclImdb_v1.tar.gz', 'wb').write(r.content)\n",
    "\n",
    "# Untar the downloaded file\n",
    "!tar xfz aclImdb_v1.tar.gz\n",
    "print('Finished untar-ing file')\n",
    "\n",
    "input_length = 100\n",
    "import os\n",
    "import re\n",
    "pos_directory = \"./aclImdb/train/pos/\"\n",
    "neg_directory = \"./aclImdb/train/neg/\"\n",
    "\n",
    "# The original labels are negative in [1,2,3,4] and 'positive in [7,8,9,10]'\n",
    "# To simplify our classification let's reduce the number of classes by remapping ratings:\n",
    "#     Map labels to new labels\n",
    "#      1, 2  map to 0\n",
    "#      3, 4 map to 1\n",
    "#      7, 8  map to 2\n",
    "#      9, 10 map to 3\n",
    "maplabels = {\"1\" : 0, \"2\" : 0, \n",
    "             \"3\" : 1, \"4\" : 1,\n",
    "             \"7\" : 2, \"8\" : 2,\n",
    "             \"9\" : 3, \"10\" : 3}\n",
    "\n",
    "# Create pos and neg training samples by tokenizing the first 100 words from each review\n",
    "pos_samples = []\n",
    "pos_labels = []\n",
    "\n",
    "pat = re.compile('\\d+_(\\d+).txt')\n",
    "for file in os.listdir(pos_directory):\n",
    "    with open(pos_directory + file, 'r') as fh:\n",
    "        review = fh.readline().split()\n",
    "        if len(review) < input_length:\n",
    "            whole = int(input_length / len(review) )\n",
    "            leftover = len(review) % input_length\n",
    "            review = review * whole + review[:leftover]\n",
    "        tokens = [vocab_dict.get(word, 43981) for word in review[:input_length]] # only take the first input_length words\n",
    "        pos_samples.append(tokens)\n",
    "        label = pat.sub(r'\\1', file) # Extract label from filename\n",
    "        pos_labels.append(maplabels[label])\n",
    "        \n",
    "neg_samples = []\n",
    "neg_labels = []\n",
    "for file in os.listdir(neg_directory):\n",
    "    with open(neg_directory + file, 'r') as fh:\n",
    "        review = fh.readline().split()\n",
    "        if len(review) < input_length:\n",
    "            whole = int(input_length / len(review) )\n",
    "            leftover = len(review) % input_length\n",
    "            review = review * whole + review[:leftover]\n",
    "        tokens = [vocab_dict.get(word, 43981) for word in review[:input_length]]\n",
    "        neg_samples.append(tokens)\n",
    "        label = pat.sub(r'\\1', file) # Extract label from filename\n",
    "        neg_labels.append(maplabels[label])\n",
    "        \n",
    "# Create x samples and labels\n",
    "from sklearn.model_selection import train_test_split\n",
    "\n",
    "xsamples = pos_samples + neg_samples # combine lists\n",
    "# labels = [1] * len(pos_samples) + [0] * len(neg_samples)\n",
    "labels = pos_labels + neg_labels\n",
    "\n",
    "# Repackage as numpy arrays\n",
    "xsamples = np.array(xsamples)\n",
    "labels = np.array(labels).reshape([-1,1]) # Labels must have at least one column\n",
    "\n",
    "# Create training, eval split\n",
    "train_input, test_input, train_labels, test_labels = train_test_split(xsamples, labels, test_size = 0.2, \n",
    "                                                         random_state = 41,\n",
    "                                                         shuffle = True)\n",
    "\n",
    "# Investigate the unique class \"levels\"\n",
    "print('Our unique class labels are: {}'.format(np.unique(labels)))\n"
   ]
  },
  {
   "cell_type": "code",
   "execution_count": 5,
   "metadata": {},
   "outputs": [
    {
     "data": {
      "text/plain": [
       "array([15402, 18046, 43981,  6290, 43981, 43981, 30114, 14193, 14803,\n",
       "       38063, 12375, 43981, 28117, 12292,   943, 43981, 14193,  1493,\n",
       "        6345, 20025, 43981, 43981, 42376, 16908, 43981, 11306, 36633,\n",
       "         524,  3636, 19666, 33790,   428, 12292, 43981, 43981, 14193,\n",
       "       10297, 43981, 35029, 22138, 22912, 16909,  1331, 43981, 42376,\n",
       "       38632, 19466,  1331, 14193, 43981, 12677, 43981, 14193, 43981,\n",
       "       32634, 16908, 43981,  8257, 11301, 43981, 14193, 12677, 43981,\n",
       "       43981, 43981, 43981, 43981, 43981, 43981, 43981, 32799, 43981,\n",
       "       19840, 36633, 23245, 43981, 10582, 16908, 43981, 43981, 43981,\n",
       "       43981,   524, 15016, 16915, 17214, 43981, 17371, 14193, 25273,\n",
       "       15756, 39566, 43981, 43981, 31310, 42997, 43981, 10670, 40418,\n",
       "       14193])"
      ]
     },
     "execution_count": 5,
     "metadata": {},
     "output_type": "execute_result"
    }
   ],
   "source": [
    "train_input[0]"
   ]
  },
  {
   "cell_type": "code",
   "execution_count": 6,
   "metadata": {},
   "outputs": [
    {
     "name": "stdout",
     "output_type": "stream",
     "text": [
      "Number of training samples = 20000\n",
      "class 0 has 5895 samples (29.48%)\n",
      "class 1 has 4099 samples (20.50%)\n",
      "class 2 has 4387 samples (21.93%)\n",
      "class 3 has 5619 samples (28.09%)\n",
      "\n",
      "Number of test samples = 5000\n",
      "class 0 has 1489 samples (29.78%)\n",
      "class 1 has 1017 samples (20.34%)\n",
      "class 2 has 1118 samples (22.36%)\n",
      "class 3 has 1376 samples (27.52%)\n"
     ]
    }
   ],
   "source": [
    "# Let's look for possible class imbalance\n",
    "ltrain = len(train_labels)\n",
    "print('Number of training samples = {}'.format(ltrain))\n",
    "for i in range(4):\n",
    "    nclass = len(np.where(train_labels.reshape([-1]) == i)[0])\n",
    "    print('class ' + str(i) + ' has {} samples ({:.2f}%)'.format(nclass, 100 * float(nclass / ltrain )))\n",
    "\n",
    "print()\n",
    "ltest = len(test_labels)\n",
    "print('Number of test samples = {}'.format(ltest))\n",
    "for i in range(4):\n",
    "    nclass = len(np.where(test_labels.reshape([-1]) == i)[0])\n",
    "    print('class ' + str(i) + ' has {} samples ({:.2f}%)'.format(nclass, 100 * float(nclass / ltest )))"
   ]
  },
  {
   "cell_type": "markdown",
   "metadata": {},
   "source": [
    "<a id = 'buildModel'></a>\n",
    "## D. Let's build our functional model\n",
    "Building up a graph involves using layers as functions and calling those functions on input tensors to create output tensors, which then can be used to feed other layers.\n",
    "\n",
    "For example, you can create an input and output connection using a dense layer by doing the following:\n",
    "\n",
    "  * x = Dense(50, activation='relu')(x)\n",
    "\n",
    "or by declaring the layer separately and calling that layer as a function with input, x:\n",
    "\n",
    "  * dlayer = Dense(50, activation='relu')  \n",
    "  * x = dlayer(x)\n",
    "\n",
    "In the second representation, you can see that layer instances resemble functions called on graph nodes."
   ]
  },
  {
   "cell_type": "code",
   "execution_count": 7,
   "metadata": {},
   "outputs": [],
   "source": [
    "import tensorflow as tf\n",
    "from tensorflow.keras.layers import Embedding, Input, Dense, Lambda\n",
    "from tensorflow.keras.models import Model\n",
    "import tensorflow.keras.backend as K\n",
    "\n",
    "#  Package our word2vec embedding model as a fixed pre-trained embedding.\n",
    "#  Note we set the argument \"trainable\" to False as we don't want to modify our pre-trained\n",
    "#  ...embedding values during model training.\n",
    "\n",
    "embedding_layer = Embedding(embedding_matrix.shape[0],\n",
    "                            embedding_matrix.shape[1],\n",
    "                            embeddings_initializer=tf.keras.initializers.Constant(embedding_matrix),\n",
    "                            # input_length=input_length,\n",
    "                            trainable=False)\n",
    "\n",
    "# Note that \"trainable\" is set to False, since we want our classifier model to leave embedding vectors alone during training."
   ]
  },
  {
   "cell_type": "markdown",
   "metadata": {},
   "source": [
    "Now that we've created our first embedding layer, let's build the model adding other layers using the **Functional API**: "
   ]
  },
  {
   "cell_type": "code",
   "execution_count": 8,
   "metadata": {},
   "outputs": [
    {
     "name": "stderr",
     "output_type": "stream",
     "text": [
      "2022-08-29 18:50:35.407216: I tensorflow/core/platform/cpu_feature_guard.cc:193] This TensorFlow binary is optimized with oneAPI Deep Neural Network Library (oneDNN) to use the following CPU instructions in performance-critical operations:  AVX2 FMA\n",
      "To enable them in other operations, rebuild TensorFlow with the appropriate compiler flags.\n",
      "2022-08-29 18:50:35.434545: W tensorflow/core/framework/cpu_allocator_impl.cc:82] Allocation of 52778400 exceeds 10% of free system memory.\n"
     ]
    }
   ],
   "source": [
    "# Choose a word length to truncate each movie review\n",
    "input_length = 100\n",
    "\n",
    "# Define an input using our input fixed number of words per review sample\n",
    "input_x = Input(shape = (input_length,), name=\"input_words\")\n",
    "\n",
    "# Apply embeddings to each word input\n",
    "x1 = embedding_layer(input_x) \n",
    "\n",
    "# Use Keras lambda function layer to take the mean of the 100 word vectors\n",
    "x2 = tf.keras.layers.Lambda(lambda x: K.mean(x, axis=1))(x1)    # average of embedding vectors\n",
    "\n",
    "# Continue building the network graph                                \n",
    "x3 = Dense(50, activation='relu', name=\"hidden1\")(x2)   # hidden layer\n",
    "x4 = Dense(20, activation='relu', name=\"hidden2\")(x3)   # hidden layer\n",
    "\n",
    "# Our final output classifier layer.  It has 4 outputs (one for each class)\n",
    "# Because this is a multi-class output we'll use softmax as an activation.\n",
    "# We want the predictor outputs to always sum to 1 to represent probability.\n",
    "yhat = Dense(4, activation='softmax', name=\"output\")(x4)   # classification layer\n",
    "\n",
    "# Define the model\n",
    "model = Model(inputs=input_x, outputs=yhat, name=\"keras_func_model\")\n",
    "\n",
    "# Compile the model\n",
    "model.compile(optimizer='adam', \n",
    "              loss='sparse_categorical_crossentropy', \n",
    "              metrics = ['sparse_categorical_accuracy'])"
   ]
  },
  {
   "cell_type": "markdown",
   "metadata": {},
   "source": [
    "**Review the output layers, output dimensions, number of weights**"
   ]
  },
  {
   "cell_type": "markdown",
   "metadata": {},
   "source": [
    "Let's see whether our dimension discussion was correct. Print a model summary:"
   ]
  },
  {
   "cell_type": "code",
   "execution_count": 9,
   "metadata": {},
   "outputs": [
    {
     "name": "stdout",
     "output_type": "stream",
     "text": [
      "Model: \"keras_func_model\"\n",
      "_________________________________________________________________\n",
      " Layer (type)                Output Shape              Param #   \n",
      "=================================================================\n",
      " input_words (InputLayer)    [(None, 100)]             0         \n",
      "                                                                 \n",
      " embedding (Embedding)       (None, 100, 300)          13194600  \n",
      "                                                                 \n",
      " lambda (Lambda)             (None, 300)               0         \n",
      "                                                                 \n",
      " hidden1 (Dense)             (None, 50)                15050     \n",
      "                                                                 \n",
      " hidden2 (Dense)             (None, 20)                1020      \n",
      "                                                                 \n",
      " output (Dense)              (None, 4)                 84        \n",
      "                                                                 \n",
      "=================================================================\n",
      "Total params: 13,210,754\n",
      "Trainable params: 16,154\n",
      "Non-trainable params: 13,194,600\n",
      "_________________________________________________________________\n"
     ]
    }
   ],
   "source": [
    "model.summary()"
   ]
  },
  {
   "cell_type": "markdown",
   "metadata": {},
   "source": [
    "<a id = 'trainModel'></a>\n",
    "## E. Let's Train and Evaluate our model\n",
    "\n",
    "[Return to Top](#top)"
   ]
  },
  {
   "cell_type": "code",
   "execution_count": 10,
   "metadata": {},
   "outputs": [
    {
     "name": "stdout",
     "output_type": "stream",
     "text": [
      "Epoch 1/50\n",
      " 2/40 [>.............................] - ETA: 2s - loss: 1.3869 - sparse_categorical_accuracy: 0.2475 "
     ]
    },
    {
     "name": "stderr",
     "output_type": "stream",
     "text": [
      "2022-08-29 18:50:36.048317: W tensorflow/core/framework/cpu_allocator_impl.cc:82] Allocation of 48000000 exceeds 10% of free system memory.\n",
      "2022-08-29 18:50:36.138332: W tensorflow/core/framework/cpu_allocator_impl.cc:82] Allocation of 48000000 exceeds 10% of free system memory.\n",
      "2022-08-29 18:50:36.204648: W tensorflow/core/framework/cpu_allocator_impl.cc:82] Allocation of 48000000 exceeds 10% of free system memory.\n"
     ]
    },
    {
     "name": "stdout",
     "output_type": "stream",
     "text": [
      " 6/40 [===>..........................] - ETA: 2s - loss: 1.3845 - sparse_categorical_accuracy: 0.2779"
     ]
    },
    {
     "name": "stderr",
     "output_type": "stream",
     "text": [
      "2022-08-29 18:50:36.271751: W tensorflow/core/framework/cpu_allocator_impl.cc:82] Allocation of 48000000 exceeds 10% of free system memory.\n"
     ]
    },
    {
     "name": "stdout",
     "output_type": "stream",
     "text": [
      "40/40 [==============================] - 4s 84ms/step - loss: 1.3721 - sparse_categorical_accuracy: 0.3223 - val_loss: 1.3614 - val_sparse_categorical_accuracy: 0.3840\n",
      "Epoch 2/50\n",
      "40/40 [==============================] - 3s 79ms/step - loss: 1.3507 - sparse_categorical_accuracy: 0.3919 - val_loss: 1.3356 - val_sparse_categorical_accuracy: 0.3975\n",
      "Epoch 3/50\n",
      "40/40 [==============================] - 4s 91ms/step - loss: 1.3177 - sparse_categorical_accuracy: 0.4053 - val_loss: 1.2956 - val_sparse_categorical_accuracy: 0.4170\n",
      "Epoch 4/50\n",
      "40/40 [==============================] - 3s 79ms/step - loss: 1.2724 - sparse_categorical_accuracy: 0.4271 - val_loss: 1.2462 - val_sparse_categorical_accuracy: 0.4420\n",
      "Epoch 5/50\n",
      "40/40 [==============================] - 3s 79ms/step - loss: 1.2265 - sparse_categorical_accuracy: 0.4499 - val_loss: 1.2036 - val_sparse_categorical_accuracy: 0.4692\n",
      "Epoch 6/50\n",
      "40/40 [==============================] - 3s 79ms/step - loss: 1.1897 - sparse_categorical_accuracy: 0.4637 - val_loss: 1.1717 - val_sparse_categorical_accuracy: 0.4748\n",
      "Epoch 7/50\n",
      "40/40 [==============================] - 3s 79ms/step - loss: 1.1665 - sparse_categorical_accuracy: 0.4757 - val_loss: 1.1534 - val_sparse_categorical_accuracy: 0.4850\n",
      "Epoch 8/50\n",
      "40/40 [==============================] - 3s 80ms/step - loss: 1.1486 - sparse_categorical_accuracy: 0.4839 - val_loss: 1.1399 - val_sparse_categorical_accuracy: 0.5000\n",
      "Epoch 9/50\n",
      "40/40 [==============================] - 3s 79ms/step - loss: 1.1373 - sparse_categorical_accuracy: 0.4897 - val_loss: 1.1301 - val_sparse_categorical_accuracy: 0.4992\n",
      "Epoch 10/50\n",
      "40/40 [==============================] - 3s 79ms/step - loss: 1.1265 - sparse_categorical_accuracy: 0.4951 - val_loss: 1.1271 - val_sparse_categorical_accuracy: 0.5000\n",
      "Epoch 11/50\n",
      "40/40 [==============================] - 3s 79ms/step - loss: 1.1182 - sparse_categorical_accuracy: 0.5008 - val_loss: 1.1149 - val_sparse_categorical_accuracy: 0.5038\n",
      "Epoch 12/50\n",
      "40/40 [==============================] - 3s 79ms/step - loss: 1.1107 - sparse_categorical_accuracy: 0.5028 - val_loss: 1.1092 - val_sparse_categorical_accuracy: 0.5033\n",
      "Epoch 13/50\n",
      "40/40 [==============================] - 3s 79ms/step - loss: 1.1046 - sparse_categorical_accuracy: 0.5096 - val_loss: 1.1048 - val_sparse_categorical_accuracy: 0.5060\n",
      "Epoch 14/50\n",
      "40/40 [==============================] - 3s 79ms/step - loss: 1.1023 - sparse_categorical_accuracy: 0.5106 - val_loss: 1.1053 - val_sparse_categorical_accuracy: 0.5023\n",
      "Epoch 15/50\n",
      "40/40 [==============================] - 3s 79ms/step - loss: 1.0965 - sparse_categorical_accuracy: 0.5133 - val_loss: 1.1041 - val_sparse_categorical_accuracy: 0.5063\n",
      "Epoch 16/50\n",
      "40/40 [==============================] - 3s 79ms/step - loss: 1.0915 - sparse_categorical_accuracy: 0.5174 - val_loss: 1.0988 - val_sparse_categorical_accuracy: 0.5088\n",
      "Epoch 17/50\n",
      "40/40 [==============================] - 3s 79ms/step - loss: 1.0895 - sparse_categorical_accuracy: 0.5162 - val_loss: 1.0934 - val_sparse_categorical_accuracy: 0.5080\n",
      "Epoch 18/50\n",
      "40/40 [==============================] - 3s 79ms/step - loss: 1.0879 - sparse_categorical_accuracy: 0.5197 - val_loss: 1.0960 - val_sparse_categorical_accuracy: 0.5090\n",
      "Epoch 19/50\n",
      "40/40 [==============================] - 3s 79ms/step - loss: 1.0827 - sparse_categorical_accuracy: 0.5241 - val_loss: 1.0913 - val_sparse_categorical_accuracy: 0.5125\n",
      "Epoch 20/50\n",
      "40/40 [==============================] - 3s 79ms/step - loss: 1.0813 - sparse_categorical_accuracy: 0.5210 - val_loss: 1.0931 - val_sparse_categorical_accuracy: 0.5117\n",
      "Epoch 21/50\n",
      "40/40 [==============================] - 3s 79ms/step - loss: 1.0768 - sparse_categorical_accuracy: 0.5270 - val_loss: 1.0853 - val_sparse_categorical_accuracy: 0.5150\n",
      "Epoch 22/50\n",
      "40/40 [==============================] - 3s 79ms/step - loss: 1.0753 - sparse_categorical_accuracy: 0.5268 - val_loss: 1.0894 - val_sparse_categorical_accuracy: 0.5170\n",
      "Epoch 23/50\n",
      "40/40 [==============================] - 3s 79ms/step - loss: 1.0731 - sparse_categorical_accuracy: 0.5264 - val_loss: 1.0831 - val_sparse_categorical_accuracy: 0.5148\n",
      "Epoch 24/50\n",
      "40/40 [==============================] - 3s 79ms/step - loss: 1.0707 - sparse_categorical_accuracy: 0.5272 - val_loss: 1.0805 - val_sparse_categorical_accuracy: 0.5180\n",
      "Epoch 25/50\n",
      "40/40 [==============================] - 3s 79ms/step - loss: 1.0717 - sparse_categorical_accuracy: 0.5279 - val_loss: 1.0811 - val_sparse_categorical_accuracy: 0.5165\n",
      "Epoch 26/50\n",
      "40/40 [==============================] - 3s 79ms/step - loss: 1.0668 - sparse_categorical_accuracy: 0.5331 - val_loss: 1.0792 - val_sparse_categorical_accuracy: 0.5170\n",
      "Epoch 27/50\n",
      "40/40 [==============================] - 3s 79ms/step - loss: 1.0699 - sparse_categorical_accuracy: 0.5304 - val_loss: 1.0795 - val_sparse_categorical_accuracy: 0.5203\n",
      "Epoch 28/50\n",
      "40/40 [==============================] - 3s 79ms/step - loss: 1.0701 - sparse_categorical_accuracy: 0.5306 - val_loss: 1.0864 - val_sparse_categorical_accuracy: 0.5125\n",
      "Epoch 29/50\n",
      "40/40 [==============================] - 3s 79ms/step - loss: 1.0648 - sparse_categorical_accuracy: 0.5316 - val_loss: 1.0794 - val_sparse_categorical_accuracy: 0.5163\n",
      "Epoch 30/50\n",
      "40/40 [==============================] - 3s 79ms/step - loss: 1.0635 - sparse_categorical_accuracy: 0.5353 - val_loss: 1.0782 - val_sparse_categorical_accuracy: 0.5203\n",
      "Epoch 31/50\n",
      "40/40 [==============================] - 3s 78ms/step - loss: 1.0626 - sparse_categorical_accuracy: 0.5332 - val_loss: 1.0757 - val_sparse_categorical_accuracy: 0.5178\n",
      "Epoch 32/50\n",
      "40/40 [==============================] - 3s 80ms/step - loss: 1.0617 - sparse_categorical_accuracy: 0.5334 - val_loss: 1.0754 - val_sparse_categorical_accuracy: 0.5178\n",
      "Epoch 33/50\n",
      "40/40 [==============================] - 3s 79ms/step - loss: 1.0645 - sparse_categorical_accuracy: 0.5337 - val_loss: 1.0751 - val_sparse_categorical_accuracy: 0.5185\n",
      "Epoch 34/50\n",
      "40/40 [==============================] - 3s 78ms/step - loss: 1.0592 - sparse_categorical_accuracy: 0.5389 - val_loss: 1.0755 - val_sparse_categorical_accuracy: 0.5165\n",
      "Epoch 35/50\n",
      "40/40 [==============================] - 3s 79ms/step - loss: 1.0572 - sparse_categorical_accuracy: 0.5379 - val_loss: 1.0746 - val_sparse_categorical_accuracy: 0.5173\n",
      "Epoch 36/50\n",
      "40/40 [==============================] - 3s 79ms/step - loss: 1.0575 - sparse_categorical_accuracy: 0.5351 - val_loss: 1.0740 - val_sparse_categorical_accuracy: 0.5150\n",
      "Epoch 37/50\n",
      "40/40 [==============================] - 3s 79ms/step - loss: 1.0575 - sparse_categorical_accuracy: 0.5381 - val_loss: 1.0744 - val_sparse_categorical_accuracy: 0.5235\n",
      "Epoch 38/50\n",
      "40/40 [==============================] - 3s 79ms/step - loss: 1.0561 - sparse_categorical_accuracy: 0.5383 - val_loss: 1.0774 - val_sparse_categorical_accuracy: 0.5140\n",
      "Epoch 39/50\n",
      "40/40 [==============================] - 3s 79ms/step - loss: 1.0572 - sparse_categorical_accuracy: 0.5376 - val_loss: 1.0727 - val_sparse_categorical_accuracy: 0.5190\n",
      "Epoch 40/50\n",
      "40/40 [==============================] - 3s 79ms/step - loss: 1.0546 - sparse_categorical_accuracy: 0.5386 - val_loss: 1.0729 - val_sparse_categorical_accuracy: 0.5245\n",
      "Epoch 41/50\n",
      "40/40 [==============================] - 3s 80ms/step - loss: 1.0565 - sparse_categorical_accuracy: 0.5384 - val_loss: 1.0762 - val_sparse_categorical_accuracy: 0.5228\n",
      "Epoch 42/50\n",
      "40/40 [==============================] - 3s 79ms/step - loss: 1.0545 - sparse_categorical_accuracy: 0.5396 - val_loss: 1.0759 - val_sparse_categorical_accuracy: 0.5230\n",
      "Epoch 43/50\n",
      "40/40 [==============================] - 3s 79ms/step - loss: 1.0543 - sparse_categorical_accuracy: 0.5349 - val_loss: 1.0792 - val_sparse_categorical_accuracy: 0.5155\n",
      "Epoch 44/50\n",
      "40/40 [==============================] - 3s 79ms/step - loss: 1.0522 - sparse_categorical_accuracy: 0.5361 - val_loss: 1.0722 - val_sparse_categorical_accuracy: 0.5163\n",
      "Epoch 45/50\n",
      "40/40 [==============================] - 3s 79ms/step - loss: 1.0575 - sparse_categorical_accuracy: 0.5357 - val_loss: 1.0715 - val_sparse_categorical_accuracy: 0.5180\n",
      "Epoch 46/50\n"
     ]
    },
    {
     "name": "stdout",
     "output_type": "stream",
     "text": [
      "40/40 [==============================] - 3s 79ms/step - loss: 1.0508 - sparse_categorical_accuracy: 0.5402 - val_loss: 1.0729 - val_sparse_categorical_accuracy: 0.5207\n",
      "Epoch 47/50\n",
      "40/40 [==============================] - 3s 79ms/step - loss: 1.0514 - sparse_categorical_accuracy: 0.5376 - val_loss: 1.0741 - val_sparse_categorical_accuracy: 0.5203\n",
      "Epoch 48/50\n",
      "40/40 [==============================] - 3s 79ms/step - loss: 1.0515 - sparse_categorical_accuracy: 0.5373 - val_loss: 1.0755 - val_sparse_categorical_accuracy: 0.5167\n",
      "Epoch 49/50\n",
      "40/40 [==============================] - 3s 79ms/step - loss: 1.0508 - sparse_categorical_accuracy: 0.5409 - val_loss: 1.0808 - val_sparse_categorical_accuracy: 0.5230\n",
      "Epoch 50/50\n",
      "40/40 [==============================] - 3s 79ms/step - loss: 1.0518 - sparse_categorical_accuracy: 0.5393 - val_loss: 1.0729 - val_sparse_categorical_accuracy: 0.5180\n"
     ]
    }
   ],
   "source": [
    "# Train the model\n",
    "history = model.fit(train_input, train_labels, batch_size = 400, validation_split=0.2, epochs = 50)"
   ]
  },
  {
   "cell_type": "code",
   "execution_count": 11,
   "metadata": {},
   "outputs": [
    {
     "name": "stdout",
     "output_type": "stream",
     "text": [
      "dict_keys(['loss', 'sparse_categorical_accuracy', 'val_loss', 'val_sparse_categorical_accuracy'])\n"
     ]
    },
    {
     "data": {
      "image/png": "[encoded data removed]",
      "text/plain": [
       "<Figure size 432x288 with 1 Axes>"
      ]
     },
     "metadata": {
      "needs_background": "light"
     },
     "output_type": "display_data"
    },
    {
     "data": {
      "image/png": "[encoded data removed]",
      "text/plain": [
       "<Figure size 432x288 with 1 Axes>"
      ]
     },
     "metadata": {
      "needs_background": "light"
     },
     "output_type": "display_data"
    }
   ],
   "source": [
    "# Plot accuracy and loss for training / validation samples\n",
    "import matplotlib.pyplot as plt\n",
    "print(history.history.keys())\n",
    "# summarize history for accuracy\n",
    "plt.plot(history.history['sparse_categorical_accuracy'])\n",
    "plt.plot(history.history['val_sparse_categorical_accuracy'])\n",
    "plt.title('model accuracy')\n",
    "plt.ylabel('sparse_categorical_accuracy')\n",
    "plt.xlabel('epoch')\n",
    "plt.legend(['train', 'validation'], loc='upper left')\n",
    "plt.show()\n",
    "# summarize history for loss\n",
    "plt.plot(history.history['loss'])\n",
    "plt.plot(history.history['val_loss'])\n",
    "plt.title('model loss')\n",
    "plt.ylabel('loss')\n",
    "plt.xlabel('epoch')\n",
    "plt.legend(['train', 'test'], loc='upper left')\n",
    "plt.show()"
   ]
  },
  {
   "cell_type": "markdown",
   "metadata": {},
   "source": [
    "<a id = 'furtherExploration'></a>\n",
    "## F. Some considerations for further exploration are:\n",
    "1. What evidence do you see that the above model might be over-fitting?\n",
    "\n",
    "2. Might BOW have some basic limitations for classification accuracy?  You'll explore this more in a homework on a BOW classifier.\n",
    "\n",
    "3. How might class imbalance impact possible accuracy / bias a model in a particular way to impact accuracy?  How could this be overcome?\n",
    "\n",
    "4. We are sparse_crossentropy_loss as loss function.  This might not be the optimal loss function.  Can you think of why?"
   ]
  },
  {
   "cell_type": "code",
   "execution_count": null,
   "metadata": {},
   "outputs": [],
   "source": []
  }
 ],
 "metadata": {
  "kernelspec": {
   "display_name": "Python 3 (ipykernel)",
   "language": "python",
   "name": "python3"
  },
  "language_info": {
   "codemirror_mode": {
    "name": "ipython",
    "version": 3
   },
   "file_extension": ".py",
   "mimetype": "text/x-python",
   "name": "python",
   "nbconvert_exporter": "python",
   "pygments_lexer": "ipython3",
   "version": "3.9.12"
  }
 },
 "nbformat": 4,
 "nbformat_minor": 4
}
