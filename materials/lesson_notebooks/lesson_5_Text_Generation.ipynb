{
  "cells": [
    {
      "cell_type": "markdown",
      "metadata": {
        "id": "1CJVpUxEKnCn"
      },
      "source": [
        "# Lesson Notebook 5: Text Generation\n",
        "\n",
        "In this notebook we will look at 3 different examples:\n",
        "\n",
        "1. Building a Seq2Seq model for machine translation using RNNs with and without Attention\n",
        "\n",
        "2. Playing with T5 for summarization\n",
        "\n",
        "3. Exercise with GPT-2 prompt and language generation\n",
        "\n",
        "The sequence to sequence architecture is inspired by the Keras Tutorial https://keras.io/examples/nlp/lstm_seq2seq/.\n",
        "\n",
        "\n",
        "<a id = 'returnToTop'></a>\n",
        "\n",
        "## Notebook Contents\n",
        "  * 1. [Setup](#setup)\n",
        "  * 2. [Seq2Seq Model](#encoderDecoder)\n",
        "      * 2.1 [Data Acquisition](#dataAcquisition)\n",
        "      * 2.2 [Seq2Seq without Attention](#s2sNoAttention)\n",
        "      * 2.3 [Seq2Seq with Attention](#s2sAttention)\n",
        "  * 3. [T5](#t5Example)\n",
        "    * 3.1 [Tokenization](#tokenization)\n",
        "    * 3.2 [Model Structure & Output](#modelOutput)\n",
        "  * 4. [GPT-2](#gpt2Example)\n",
        "    * 4.1 [Class Exercise](#classExercise)\n",
        "  * 5. [Answers](#answers)      \n",
        "\n",
        "\n",
        "\n",
        "\n",
        "  [![Open In Colab](https://colab.research.google.com/assets/colab-badge.svg)](https://colab.research.google.com/github/datasci-w266/2022-fall-main/blob/master/materials/lesson_notebooks/lesson_5_Text_Generation.ipynb)"
      ]
    },
    {
      "cell_type": "markdown",
      "metadata": {
        "id": "1tsSyq1WjYsO"
      },
      "source": [
        "[Return to Top](#returnToTop)  \n",
        "<a id = 'setup'></a>\n",
        "\n",
        "## 1. Setup\n",
        "\n",
        "We first need to do the usual setup. We will also use some nltk and sklearn components in order to tokenize the text.\n",
        "\n",
        "This notebook requires the tensorflow dataset and other prerequisites that you must download and then store locally. This can also be done on Colab."
      ]
    },
    {
      "cell_type": "code",
      "execution_count": 1,
      "metadata": {
        "colab": {
          "base_uri": "https://localhost:8080/"
        },
        "id": "oKdHlKOSKkgM",
        "outputId": "8c2a649e-9009-4130-cbcf-aab377f85d4f"
      },
      "outputs": [
        {
          "output_type": "stream",
          "name": "stdout",
          "text": [
            "\u001b[K     |████████████████████████████████| 4.9 MB 5.3 MB/s \n",
            "\u001b[K     |████████████████████████████████| 6.6 MB 46.7 MB/s \n",
            "\u001b[K     |████████████████████████████████| 120 kB 27.9 MB/s \n",
            "\u001b[K     |████████████████████████████████| 1.3 MB 5.1 MB/s \n",
            "\u001b[?25h"
          ]
        }
      ],
      "source": [
        "#@title Installs\n",
        "\n",
        "!pip install pydot --quiet\n",
        "!pip install transformers --quiet\n",
        "!pip install sentencepiece --quiet\n",
        "!pip install nltk --quiet"
      ]
    },
    {
      "cell_type": "code",
      "execution_count": 2,
      "metadata": {
        "colab": {
          "base_uri": "https://localhost:8080/",
          "height": 104,
          "referenced_widgets": [
            "09ef42f2762b4c76b84419e12c8db53e",
            "ea6ed8867c7f49f1985d79d0bc4d79af",
            "2aa3c3444afd443ba3a62d01e84e6d72",
            "4bb4279773d643daba2979ef8e619d74",
            "0b648b4f75664395bd552d782915896b",
            "b893698434924ffd99f29bab8e1ba739",
            "85e94ecbbc804fb0a8698076f2b896fd",
            "99012d02d780465ea8a9ae3b8efbe26c",
            "2cd7b6d1ea8e49439dceb3eaedf64d68",
            "20bdad3fcac74c0b8ee3fac580eda4f9",
            "8c8e43cbbe554233aa16e79edc5d2d80"
          ]
        },
        "id": "FgTghneFvZqd",
        "outputId": "f4dae65a-e75f-42ed-9a32-310d78200643"
      },
      "outputs": [
        {
          "output_type": "stream",
          "name": "stderr",
          "text": [
            "The cache for model files in Transformers v4.22.0 has been updated. Migrating your old cache. This is a one-time only operation. You can interrupt this and resume the migration later on by calling `transformers.utils.move_cache()`.\n"
          ]
        },
        {
          "output_type": "stream",
          "name": "stdout",
          "text": [
            "Moving 0 files to the new cache system\n"
          ]
        },
        {
          "output_type": "display_data",
          "data": {
            "text/plain": [
              "0it [00:00, ?it/s]"
            ],
            "application/vnd.jupyter.widget-view+json": {
              "version_major": 2,
              "version_minor": 0,
              "model_id": "09ef42f2762b4c76b84419e12c8db53e"
            }
          },
          "metadata": {}
        }
      ],
      "source": [
        "#@title Imports\n",
        "\n",
        "import numpy as np\n",
        "import tensorflow as tf\n",
        "from tensorflow import keras\n",
        "\n",
        "import tensorflow_datasets as tfds\n",
        "\n",
        "from transformers import T5Tokenizer, TFT5Model, TFT5ForConditionalGeneration\n",
        "\n",
        "\n",
        "import sklearn as sk\n",
        "import os\n",
        "import nltk\n",
        "\n",
        "import matplotlib.pyplot as plt\n",
        "\n",
        "import re\n",
        "\n",
        "import numpy as np\n",
        "\n",
        "from sklearn.feature_extraction.text import CountVectorizer"
      ]
    },
    {
      "cell_type": "code",
      "execution_count": 3,
      "metadata": {
        "colab": {
          "base_uri": "https://localhost:8080/"
        },
        "id": "dhvbHp3Gq7CM",
        "outputId": "579fbe33-3b71-4e19-de9d-0498c3772e76"
      },
      "outputs": [
        {
          "output_type": "stream",
          "name": "stderr",
          "text": [
            "[nltk_data] Downloading package punkt to /root/nltk_data...\n",
            "[nltk_data]   Unzipping tokenizers/punkt.zip.\n"
          ]
        },
        {
          "output_type": "execute_result",
          "data": {
            "text/plain": [
              "True"
            ]
          },
          "metadata": {},
          "execution_count": 3
        }
      ],
      "source": [
        "nltk.download('punkt')"
      ]
    },
    {
      "cell_type": "markdown",
      "metadata": {
        "id": "SM3-mYDnnxyT"
      },
      "source": [
        "[Return to Top](#returnToTop)  \n",
        "<a id = 'encoderDecoder'></a>\n",
        "\n",
        "\n",
        "## 2. Building a Seq2Seq model for Translation using RNNs with and without Attention\n",
        "\n",
        "### 2.1 Downloading and pre-processing Data\n",
        "\n",
        "\n",
        "Let's get the data. Just like the Keras tutorial, we will use http://www.manythings.org as the source for the parallel corpus, but we will use German.  Machine translation requires sentence pairs for training, that is individual sentences in German and the corresponding sentence in English."
      ]
    },
    {
      "cell_type": "code",
      "execution_count": 4,
      "metadata": {
        "colab": {
          "base_uri": "https://localhost:8080/"
        },
        "id": "EJgys8FQva6V",
        "outputId": "fc411337-73f8-498d-9021-66c5ece15d55"
      },
      "outputs": [
        {
          "output_type": "execute_result",
          "data": {
            "text/plain": [
              "['Archive:  deu-eng.zip',\n",
              " '  inflating: deu.txt                 ',\n",
              " '  inflating: _about.txt              ']"
            ]
          },
          "metadata": {},
          "execution_count": 4
        }
      ],
      "source": [
        "!!curl -O http://www.manythings.org/anki/deu-eng.zip\n",
        "!!unzip deu-eng.zip"
      ]
    },
    {
      "cell_type": "markdown",
      "metadata": {
        "id": "8fGnUBkZQteK"
      },
      "source": [
        "Next, we need to set a few parameters.  Note these numbers are much smaller than we would set in a real world system.  For example, vocabulary sizes of 2000 and 3000 are unrealistic unless we were dealing with a highly specialized domain."
      ]
    },
    {
      "cell_type": "code",
      "execution_count": 5,
      "metadata": {
        "id": "mWyF80SsnP-M"
      },
      "outputs": [],
      "source": [
        "embed_dim = 100  # Embedding dimensions for vectors and LSTMs.\n",
        "num_samples = 10000  # Number of examples to consider.\n",
        "\n",
        "# Path to the data txt file on disk.\n",
        "data_path = \"deu.txt\"\n",
        "\n",
        "# Vocabulary sizes that we'll use:\n",
        "english_vocab_size = 2000\n",
        "german_vocab_size = 3000"
      ]
    },
    {
      "cell_type": "markdown",
      "metadata": {
        "id": "mgRfFYZsRGmn"
      },
      "source": [
        "Next, we need to format the input. In particular we would like to use nltk to help with the tokenization. We will then use sklearn's CountVectorizer to create a vocabulary from the most frequent words in each language.\n",
        "\n",
        "(Before, we used pre-trained word embeddings from Word2Vec that came with a defined vocabulary. This time, we'll start from scratch, and need to extract the vocabulary from the training text.)"
      ]
    },
    {
      "cell_type": "code",
      "execution_count": 6,
      "metadata": {
        "colab": {
          "base_uri": "https://localhost:8080/"
        },
        "id": "jSTzz6VAtlqv",
        "outputId": "030b8a05-43b3-4b75-96bc-0c4b4aead03d"
      },
      "outputs": [
        {
          "output_type": "stream",
          "name": "stdout",
          "text": [
            "Maximum source input length:  6\n",
            "Maximum target output length:  11\n"
          ]
        },
        {
          "output_type": "stream",
          "name": "stderr",
          "text": [
            "/usr/local/lib/python3.7/dist-packages/sklearn/utils/deprecation.py:87: FutureWarning: Function get_feature_names is deprecated; get_feature_names is deprecated in 1.0 and will be removed in 1.2. Please use get_feature_names_out instead.\n",
            "  warnings.warn(msg, category=FutureWarning)\n"
          ]
        }
      ],
      "source": [
        "input_texts = []\n",
        "target_texts = []\n",
        "\n",
        "max_input_length = -1\n",
        "max_output_length = -1\n",
        "\n",
        "\n",
        "with open(data_path, \"r\", encoding=\"utf-8\") as f:\n",
        "    lines = f.read().split(\"\\n\")\n",
        "for line in lines[: min(num_samples, len(lines) - 1)]:\n",
        "    input_text, target_text, _ = line.split(\"\\t\")\n",
        "\n",
        "    tokenized_source_text = nltk.word_tokenize(input_text, language='english')\n",
        "    tokenized_target_text = nltk.word_tokenize(target_text, language='german')\n",
        "\n",
        "    if len(tokenized_source_text) > max_input_length:\n",
        "      max_input_length = len(tokenized_source_text)\n",
        "\n",
        "    if len(tokenized_target_text) > max_output_length:\n",
        "      max_output_length = len(tokenized_target_text)\n",
        "\n",
        "\n",
        "    source_text = (' '.join(tokenized_source_text)).lower()\n",
        "    target_text = (' '.join(tokenized_target_text)).lower()\n",
        "\n",
        "    input_texts.append(source_text)\n",
        "    target_texts.append(target_text)\n",
        "\n",
        "vectorizer_english = CountVectorizer(max_features=english_vocab_size)\n",
        "vectorizer_english.fit(input_texts)\n",
        "vocab_english = vectorizer_english.get_feature_names()\n",
        "\n",
        "vectorizer_german = CountVectorizer(max_features=german_vocab_size)\n",
        "vectorizer_german.fit(target_texts)\n",
        "vocab_german = vectorizer_german.get_feature_names()\n",
        "\n",
        "print('Maximum source input length: ', max_input_length)\n",
        "print('Maximum target output length: ', max_output_length)"
      ]
    },
    {
      "cell_type": "code",
      "execution_count": 7,
      "metadata": {
        "colab": {
          "base_uri": "https://localhost:8080/"
        },
        "id": "MQwEsJh7R8Yd",
        "outputId": "0058974c-6719-475a-8146-4c841783b41d"
      },
      "outputs": [
        {
          "output_type": "execute_result",
          "data": {
            "text/plain": [
              "['go .', 'hi .']"
            ]
          },
          "metadata": {},
          "execution_count": 7
        }
      ],
      "source": [
        "input_texts[:2]"
      ]
    },
    {
      "cell_type": "code",
      "execution_count": 8,
      "metadata": {
        "colab": {
          "base_uri": "https://localhost:8080/"
        },
        "id": "Uz463u9GR_wO",
        "outputId": "ed15d97e-3b88-46e9-f943-6ac0f45994b0"
      },
      "outputs": [
        {
          "output_type": "execute_result",
          "data": {
            "text/plain": [
              "['geh .', 'hallo !']"
            ]
          },
          "metadata": {},
          "execution_count": 8
        }
      ],
      "source": [
        "target_texts[:2]"
      ]
    },
    {
      "cell_type": "markdown",
      "metadata": {
        "id": "vIAaknDaRasy"
      },
      "source": [
        "Looks simple but correct.\n",
        "\n",
        "So the source and target sequences have max lengths 6 and 11, respectively. As we will add start and end tokens (<s> and </s>) to our decoder side we will set the respective max lengths to: "
      ]
    },
    {
      "cell_type": "code",
      "execution_count": 9,
      "metadata": {
        "id": "mDdzDfvQ9EO1"
      },
      "outputs": [],
      "source": [
        "max_encoder_seq_length = 6\n",
        "max_decoder_seq_length = 13 #11 + start + end"
      ]
    },
    {
      "cell_type": "markdown",
      "metadata": {
        "id": "HtF9ihIeRuTO"
      },
      "source": [
        "Next, we create the dictionaries translating between integer ids and tokens for both source (English) and target (German)."
      ]
    },
    {
      "cell_type": "code",
      "execution_count": 10,
      "metadata": {
        "id": "f8JiJ9pL3AnU"
      },
      "outputs": [],
      "source": [
        "source_id_vocab_dict = {}\n",
        "source_vocab_id_dict = {}\n",
        "\n",
        "for sid, svocab in enumerate(vocab_english):\n",
        "  source_id_vocab_dict[sid] = svocab\n",
        "  source_vocab_id_dict[svocab] = sid\n",
        "\n",
        "source_id_vocab_dict[english_vocab_size] = \"<unk>\"\n",
        "source_id_vocab_dict[english_vocab_size + 1] = \"<pad>\"\n",
        "\n",
        "source_vocab_id_dict[\"<unk>\"] = english_vocab_size\n",
        "source_vocab_id_dict[\"<pad>\"] = english_vocab_size + 1\n",
        "\n",
        "target_id_vocab_dict = {}\n",
        "target_vocab_id_dict = {}\n",
        "\n",
        "for tid, tvocab in enumerate(vocab_german):\n",
        "  target_id_vocab_dict[tid] = tvocab\n",
        "  target_vocab_id_dict[tvocab] = tid\n",
        "\n",
        "# Add unknown token plus start and end tokens to target language\n",
        "\n",
        "target_id_vocab_dict[german_vocab_size] = \"<unk>\"\n",
        "target_id_vocab_dict[german_vocab_size + 1] = \"<start>\"\n",
        "target_id_vocab_dict[german_vocab_size + 2] = \"<end>\"\n",
        "target_id_vocab_dict[german_vocab_size + 3] = \"<pad>\"\n",
        "\n",
        "target_vocab_id_dict[\"<unk>\"] = german_vocab_size\n",
        "target_vocab_id_dict[\"<start>\"] = german_vocab_size + 1\n",
        "target_vocab_id_dict[\"<end>\"] = german_vocab_size + 2\n",
        "target_vocab_id_dict[\"<pad>\"] = german_vocab_size + 3"
      ]
    },
    {
      "cell_type": "markdown",
      "metadata": {
        "id": "KKY10hN1SLui"
      },
      "source": [
        "Lastly, we need to create the training and test data that will feed into our two models. It is convenient to define a small function for that that also takes care off padding and adding start/end tokens on the decoder side.\n",
        "\n",
        "Notice that we need to create three sequences of vocab ids: inputs to the encoder (starting language), inputs to the decoder (output language, for the preceding tokens in the output sequence) and labels for the decoder (the correct next word to predict at each time step in the output, which is shifted one over from the inputs to the decoder)."
      ]
    },
    {
      "cell_type": "code",
      "execution_count": 11,
      "metadata": {
        "id": "DWf2bb905SW9"
      },
      "outputs": [],
      "source": [
        "def convert_text_to_data(texts, \n",
        "                         vocab_id_dict, \n",
        "                         max_length=20, \n",
        "                         type=None,\n",
        "                         train_test_vector=None,\n",
        "                         samples=100000):\n",
        "  \n",
        "  if type == None:\n",
        "    raise ValueError('\\'type\\' is not defined. Please choose from: input_source, input_target, output_target.')\n",
        "  \n",
        "  train_data = []\n",
        "  test_data = []\n",
        "\n",
        "  for text_num, text in enumerate(texts[:samples]):\n",
        "\n",
        "    sentence_ids = []\n",
        "\n",
        "    for token in text.split():\n",
        "\n",
        "      if token in vocab_id_dict.keys():\n",
        "        sentence_ids.append(vocab_id_dict[token])\n",
        "      else:\n",
        "        sentence_ids.append(vocab_id_dict[\"<unk>\"])\n",
        "    \n",
        "    vocab_size = len(vocab_id_dict.keys())\n",
        "    \n",
        "    # Depending on encoder/decoder and input/output, add start/end tokens.\n",
        "    # Then add padding.\n",
        "    \n",
        "    if type == 'input_source':\n",
        "      ids = (sentence_ids + [vocab_size - 1] * max_length)[:max_length]\n",
        "\n",
        "    elif type == 'input_target':\n",
        "      ids = ([vocab_size -3] + sentence_ids + [vocab_size - 2] + [vocab_size - 1] * max_length)[:max_length]\n",
        "\n",
        "    elif type == 'output_target':\n",
        "      ids = (sentence_ids + [vocab_size - 2] + [vocab_size -1] * max_length)[:max_length]\n",
        "\n",
        "    if train_test_vector is not None and not train_test_vector[text_num]:\n",
        "      test_data.append(ids)\n",
        "    else:\n",
        "      train_data.append(ids)\n",
        "\n",
        "\n",
        "  return np.array(train_data), np.array(test_data)\n",
        "\n",
        "\n",
        "train_test_split_vector = (np.random.uniform(size=10000) > 0.2)\n",
        "\n",
        "train_source_input_data, test_source_input_data = convert_text_to_data(input_texts, \n",
        "                                                                       source_vocab_id_dict,\n",
        "                                                                       type='input_source',\n",
        "                                                                       max_length=max_encoder_seq_length,\n",
        "                                                                       train_test_vector=train_test_split_vector)\n",
        "\n",
        "train_target_input_data, test_target_input_data = convert_text_to_data(target_texts,\n",
        "                                                                       target_vocab_id_dict,\n",
        "                                                                       type='input_target',\n",
        "                                                                       max_length=max_decoder_seq_length,\n",
        "                                                                       train_test_vector=train_test_split_vector)\n",
        "\n",
        "train_target_output_data, test_target_output_data = convert_text_to_data(target_texts,\n",
        "                                                                         target_vocab_id_dict,\n",
        "                                                                         type='output_target',\n",
        "                                                                         max_length=max_decoder_seq_length,\n",
        "                                                                         train_test_vector=train_test_split_vector)\n",
        "\n",
        "\n"
      ]
    },
    {
      "cell_type": "markdown",
      "metadata": {
        "id": "XwsJeSJVWbnI"
      },
      "source": [
        "Let us look at a few examples. They appear coorect."
      ]
    },
    {
      "cell_type": "code",
      "execution_count": 12,
      "metadata": {
        "colab": {
          "base_uri": "https://localhost:8080/"
        },
        "id": "YB5WqPpYV_EQ",
        "outputId": "6f957c77-d446-4635-b7be-27336118c797"
      },
      "outputs": [
        {
          "output_type": "execute_result",
          "data": {
            "text/plain": [
              "array([[ 749, 2000, 2001, 2001, 2001, 2001],\n",
              "       [ 843, 2000, 2001, 2001, 2001, 2001]])"
            ]
          },
          "metadata": {},
          "execution_count": 12
        }
      ],
      "source": [
        "train_source_input_data[:2]"
      ]
    },
    {
      "cell_type": "code",
      "execution_count": 13,
      "metadata": {
        "colab": {
          "base_uri": "https://localhost:8080/"
        },
        "id": "N103xCPpWBx7",
        "outputId": "6a7a9892-fc57-4dee-f579-9a69a336a1f0"
      },
      "outputs": [
        {
          "output_type": "execute_result",
          "data": {
            "text/plain": [
              "array([[3001, 1080, 3000, 3002, 3003, 3003, 3003, 3003, 3003, 3003, 3003,\n",
              "        3003, 3003],\n",
              "       [3001, 1247, 3000, 3002, 3003, 3003, 3003, 3003, 3003, 3003, 3003,\n",
              "        3003, 3003]])"
            ]
          },
          "metadata": {},
          "execution_count": 13
        }
      ],
      "source": [
        "train_target_input_data[:2]"
      ]
    },
    {
      "cell_type": "code",
      "execution_count": 14,
      "metadata": {
        "colab": {
          "base_uri": "https://localhost:8080/"
        },
        "id": "-7Wcc1bFWB5c",
        "outputId": "bf2d2f44-135a-4ece-ab46-c828bf7ba1e6"
      },
      "outputs": [
        {
          "output_type": "execute_result",
          "data": {
            "text/plain": [
              "array([[1080, 3000, 3002, 3003, 3003, 3003, 3003, 3003, 3003, 3003, 3003,\n",
              "        3003, 3003],\n",
              "       [1247, 3000, 3002, 3003, 3003, 3003, 3003, 3003, 3003, 3003, 3003,\n",
              "        3003, 3003]])"
            ]
          },
          "metadata": {},
          "execution_count": 14
        }
      ],
      "source": [
        "train_target_output_data[:2]"
      ]
    },
    {
      "cell_type": "markdown",
      "metadata": {
        "id": "bMTL8pWhSxjc"
      },
      "source": [
        "[Return to Top](#returnToTop)  \n",
        "<a id = 's2sNoAttention'></a>\n",
        "\n",
        "### 2.2 The Seq2seq model without Attention\n",
        "\n",
        "We need to build both the encoder and the decoder and we'll use LSTMs.  We'll set up the system first without an attention layer between the encoder and decoder."
      ]
    },
    {
      "cell_type": "code",
      "execution_count": 15,
      "metadata": {
        "id": "UK9eP5bC6jCL"
      },
      "outputs": [],
      "source": [
        "def create_translation_model_no_att(encode_vocab_size, decode_vocab_size, embed_dim):\n",
        "\n",
        "    source_input_no_att = tf.keras.layers.Input(shape=(max_encoder_seq_length,),\n",
        "                                                dtype='int64',\n",
        "                                                name='source_input_no_att')\n",
        "    target_input_no_att = tf.keras.layers.Input(shape=(max_decoder_seq_length,),\n",
        "                                                dtype='int64',\n",
        "                                                name='target_input_no_att')\n",
        "\n",
        "    source_embedding_layer_no_att = tf.keras.layers.Embedding(input_dim=encode_vocab_size,\n",
        "                                                              output_dim=embed_dim,\n",
        "                                                              name='source_embedding_layer_no_att')\n",
        "\n",
        "    target_embedding_layer_no_att  = tf.keras.layers.Embedding(input_dim=decode_vocab_size,\n",
        "                                                               output_dim=embed_dim,\n",
        "                                                               name='target_embedding_layer_no_att')\n",
        "\n",
        "    source_embeddings_no_att = source_embedding_layer_no_att(source_input_no_att)\n",
        "    target_embeddings_no_att = target_embedding_layer_no_att(target_input_no_att)\n",
        "\n",
        "    encoder_lstm_layer_no_att = tf.keras.layers.LSTM(embed_dim, return_sequences=True, return_state=True, name='encoder_lstm_layer_no_att')\n",
        "    encoder_out_no_att, encoder_state_h_no_att, encoder_state_c_no_att = encoder_lstm_layer_no_att(source_embeddings_no_att)\n",
        "\n",
        "    decoder_lstm_layer_no_att = tf.keras.layers.LSTM(embed_dim, return_sequences=True, return_state=False, name='decoder_lstm_layer_no_att')\n",
        "    decoder_lstm_out_no_att = decoder_lstm_layer_no_att(target_embeddings_no_att, [encoder_state_h_no_att, encoder_state_c_no_att])\n",
        "\n",
        "    target_classification_no_att = tf.keras.layers.Dense(decode_vocab_size,\n",
        "                                                         activation='softmax',\n",
        "                                                         name='classification_no_att')(decoder_lstm_out_no_att)\n",
        "\n",
        "    translation_model_no_att = tf.keras.models.Model(inputs=[source_input_no_att, target_input_no_att], outputs=[target_classification_no_att])\n",
        "\n",
        "    translation_model_no_att.compile(optimizer=\"Adam\",\n",
        "                                     loss='sparse_categorical_crossentropy',\n",
        "                                     metrics=['accuracy'])\n",
        "    \n",
        "    return translation_model_no_att\n"
      ]
    },
    {
      "cell_type": "markdown",
      "metadata": {
        "id": "61fGG0H0jYsd"
      },
      "source": [
        "Now we can call the function we created to instantiate that model and confirm that it is set up the way we like using model.sumary()."
      ]
    },
    {
      "cell_type": "code",
      "execution_count": 16,
      "metadata": {
        "colab": {
          "base_uri": "https://localhost:8080/"
        },
        "id": "AQafY_4y6jFl",
        "outputId": "e26f9d22-48d6-41ba-b277-0d9a6a879c15"
      },
      "outputs": [
        {
          "output_type": "stream",
          "name": "stdout",
          "text": [
            "Model: \"model\"\n",
            "__________________________________________________________________________________________________\n",
            " Layer (type)                   Output Shape         Param #     Connected to                     \n",
            "==================================================================================================\n",
            " source_input_no_att (InputLaye  [(None, 6)]         0           []                               \n",
            " r)                                                                                               \n",
            "                                                                                                  \n",
            " target_input_no_att (InputLaye  [(None, 13)]        0           []                               \n",
            " r)                                                                                               \n",
            "                                                                                                  \n",
            " source_embedding_layer_no_att   (None, 6, 100)      200200      ['source_input_no_att[0][0]']    \n",
            " (Embedding)                                                                                      \n",
            "                                                                                                  \n",
            " target_embedding_layer_no_att   (None, 13, 100)     300400      ['target_input_no_att[0][0]']    \n",
            " (Embedding)                                                                                      \n",
            "                                                                                                  \n",
            " encoder_lstm_layer_no_att (LST  [(None, 6, 100),    80400       ['source_embedding_layer_no_att[0\n",
            " M)                              (None, 100),                    ][0]']                           \n",
            "                                 (None, 100)]                                                     \n",
            "                                                                                                  \n",
            " decoder_lstm_layer_no_att (LST  (None, 13, 100)     80400       ['target_embedding_layer_no_att[0\n",
            " M)                                                              ][0]',                           \n",
            "                                                                  'encoder_lstm_layer_no_att[0][1]\n",
            "                                                                 ',                               \n",
            "                                                                  'encoder_lstm_layer_no_att[0][2]\n",
            "                                                                 ']                               \n",
            "                                                                                                  \n",
            " classification_no_att (Dense)  (None, 13, 3004)     303404      ['decoder_lstm_layer_no_att[0][0]\n",
            "                                                                 ']                               \n",
            "                                                                                                  \n",
            "==================================================================================================\n",
            "Total params: 964,804\n",
            "Trainable params: 964,804\n",
            "Non-trainable params: 0\n",
            "__________________________________________________________________________________________________\n"
          ]
        }
      ],
      "source": [
        "encode_vocab_size = len(source_id_vocab_dict.keys())\n",
        "decode_vocab_size = len(target_id_vocab_dict.keys())\n",
        "\n",
        "translation_model_no_att = create_translation_model_no_att(encode_vocab_size, decode_vocab_size, embed_dim)\n",
        "\n",
        "translation_model_no_att.summary()"
      ]
    },
    {
      "cell_type": "markdown",
      "metadata": {
        "id": "w911c-QMYky3"
      },
      "source": [
        "It never hurts to look at the shapes of the outputs."
      ]
    },
    {
      "cell_type": "code",
      "execution_count": 17,
      "metadata": {
        "colab": {
          "base_uri": "https://localhost:8080/"
        },
        "id": "E-NVTE_pU3-H",
        "outputId": "7f63a7a1-7f6b-4e7e-cde2-8a2314cdb3de"
      },
      "outputs": [
        {
          "output_type": "execute_result",
          "data": {
            "text/plain": [
              "(8033, 13, 3004)"
            ]
          },
          "metadata": {},
          "execution_count": 17
        }
      ],
      "source": [
        "translation_model_no_att.predict(x=[train_source_input_data, train_target_input_data]).shape"
      ]
    },
    {
      "cell_type": "markdown",
      "metadata": {
        "id": "g9EgkYYmjYsf"
      },
      "source": [
        "Now that everything checks out, we can train our model."
      ]
    },
    {
      "cell_type": "code",
      "execution_count": 18,
      "metadata": {
        "colab": {
          "base_uri": "https://localhost:8080/"
        },
        "id": "h35KVb-G6jNs",
        "outputId": "29703d2b-b595-427c-ee57-cd51c06fa962"
      },
      "outputs": [
        {
          "output_type": "stream",
          "name": "stdout",
          "text": [
            "Epoch 1/50\n",
            "252/252 [==============================] - 7s 12ms/step - loss: 2.5491 - accuracy: 0.6363 - val_loss: 1.7243 - val_accuracy: 0.7411\n",
            "Epoch 2/50\n",
            "252/252 [==============================] - 2s 9ms/step - loss: 1.5788 - accuracy: 0.7625 - val_loss: 1.5174 - val_accuracy: 0.7729\n",
            "Epoch 3/50\n",
            "252/252 [==============================] - 2s 9ms/step - loss: 1.4253 - accuracy: 0.7731 - val_loss: 1.4151 - val_accuracy: 0.7785\n",
            "Epoch 4/50\n",
            "252/252 [==============================] - 2s 9ms/step - loss: 1.3177 - accuracy: 0.7875 - val_loss: 1.3334 - val_accuracy: 0.7922\n",
            "Epoch 5/50\n",
            "252/252 [==============================] - 2s 9ms/step - loss: 1.2360 - accuracy: 0.7972 - val_loss: 1.2831 - val_accuracy: 0.7997\n",
            "Epoch 6/50\n",
            "252/252 [==============================] - 2s 9ms/step - loss: 1.1681 - accuracy: 0.8045 - val_loss: 1.2323 - val_accuracy: 0.8070\n",
            "Epoch 7/50\n",
            "252/252 [==============================] - 2s 9ms/step - loss: 1.1035 - accuracy: 0.8142 - val_loss: 1.1841 - val_accuracy: 0.8125\n",
            "Epoch 8/50\n",
            "252/252 [==============================] - 2s 9ms/step - loss: 1.0475 - accuracy: 0.8215 - val_loss: 1.1553 - val_accuracy: 0.8183\n",
            "Epoch 9/50\n",
            "252/252 [==============================] - 2s 9ms/step - loss: 0.9982 - accuracy: 0.8269 - val_loss: 1.1264 - val_accuracy: 0.8228\n",
            "Epoch 10/50\n",
            "252/252 [==============================] - 2s 9ms/step - loss: 0.9532 - accuracy: 0.8321 - val_loss: 1.0962 - val_accuracy: 0.8267\n",
            "Epoch 11/50\n",
            "252/252 [==============================] - 3s 12ms/step - loss: 0.9128 - accuracy: 0.8361 - val_loss: 1.0774 - val_accuracy: 0.8289\n",
            "Epoch 12/50\n",
            "252/252 [==============================] - 2s 9ms/step - loss: 0.8703 - accuracy: 0.8410 - val_loss: 1.0557 - val_accuracy: 0.8324\n",
            "Epoch 13/50\n",
            "252/252 [==============================] - 2s 9ms/step - loss: 0.8320 - accuracy: 0.8456 - val_loss: 1.0419 - val_accuracy: 0.8354\n",
            "Epoch 14/50\n",
            "252/252 [==============================] - 2s 9ms/step - loss: 0.7957 - accuracy: 0.8507 - val_loss: 1.0338 - val_accuracy: 0.8361\n",
            "Epoch 15/50\n",
            "252/252 [==============================] - 2s 9ms/step - loss: 0.7619 - accuracy: 0.8541 - val_loss: 1.0145 - val_accuracy: 0.8396\n",
            "Epoch 16/50\n",
            "252/252 [==============================] - 2s 9ms/step - loss: 0.7277 - accuracy: 0.8584 - val_loss: 1.0011 - val_accuracy: 0.8416\n",
            "Epoch 17/50\n",
            "252/252 [==============================] - 2s 9ms/step - loss: 0.6955 - accuracy: 0.8623 - val_loss: 0.9941 - val_accuracy: 0.8438\n",
            "Epoch 18/50\n",
            "252/252 [==============================] - 2s 10ms/step - loss: 0.6663 - accuracy: 0.8656 - val_loss: 0.9836 - val_accuracy: 0.8445\n",
            "Epoch 19/50\n",
            "252/252 [==============================] - 2s 9ms/step - loss: 0.6377 - accuracy: 0.8696 - val_loss: 0.9763 - val_accuracy: 0.8454\n",
            "Epoch 20/50\n",
            "252/252 [==============================] - 2s 9ms/step - loss: 0.6102 - accuracy: 0.8725 - val_loss: 0.9690 - val_accuracy: 0.8467\n",
            "Epoch 21/50\n",
            "252/252 [==============================] - 2s 9ms/step - loss: 0.5845 - accuracy: 0.8761 - val_loss: 0.9648 - val_accuracy: 0.8492\n",
            "Epoch 22/50\n",
            "252/252 [==============================] - 2s 9ms/step - loss: 0.5622 - accuracy: 0.8792 - val_loss: 0.9600 - val_accuracy: 0.8493\n",
            "Epoch 23/50\n",
            "252/252 [==============================] - 2s 9ms/step - loss: 0.5372 - accuracy: 0.8837 - val_loss: 0.9554 - val_accuracy: 0.8492\n",
            "Epoch 24/50\n",
            "252/252 [==============================] - 2s 9ms/step - loss: 0.5139 - accuracy: 0.8870 - val_loss: 0.9504 - val_accuracy: 0.8504\n",
            "Epoch 25/50\n",
            "252/252 [==============================] - 2s 9ms/step - loss: 0.4919 - accuracy: 0.8905 - val_loss: 0.9507 - val_accuracy: 0.8510\n",
            "Epoch 26/50\n",
            "252/252 [==============================] - 2s 9ms/step - loss: 0.4726 - accuracy: 0.8941 - val_loss: 0.9480 - val_accuracy: 0.8521\n",
            "Epoch 27/50\n",
            "252/252 [==============================] - 2s 9ms/step - loss: 0.4539 - accuracy: 0.8969 - val_loss: 0.9451 - val_accuracy: 0.8539\n",
            "Epoch 28/50\n",
            "252/252 [==============================] - 2s 9ms/step - loss: 0.4319 - accuracy: 0.9013 - val_loss: 0.9397 - val_accuracy: 0.8539\n",
            "Epoch 29/50\n",
            "252/252 [==============================] - 2s 9ms/step - loss: 0.4139 - accuracy: 0.9043 - val_loss: 0.9437 - val_accuracy: 0.8540\n",
            "Epoch 30/50\n",
            "252/252 [==============================] - 2s 9ms/step - loss: 0.3971 - accuracy: 0.9074 - val_loss: 0.9403 - val_accuracy: 0.8566\n",
            "Epoch 31/50\n",
            "252/252 [==============================] - 2s 9ms/step - loss: 0.3793 - accuracy: 0.9108 - val_loss: 0.9426 - val_accuracy: 0.8560\n",
            "Epoch 32/50\n",
            "252/252 [==============================] - 2s 9ms/step - loss: 0.3624 - accuracy: 0.9141 - val_loss: 0.9459 - val_accuracy: 0.8569\n",
            "Epoch 33/50\n",
            "252/252 [==============================] - 2s 9ms/step - loss: 0.3469 - accuracy: 0.9177 - val_loss: 0.9463 - val_accuracy: 0.8572\n",
            "Epoch 34/50\n",
            "252/252 [==============================] - 2s 9ms/step - loss: 0.3326 - accuracy: 0.9207 - val_loss: 0.9457 - val_accuracy: 0.8578\n",
            "Epoch 35/50\n",
            "252/252 [==============================] - 2s 9ms/step - loss: 0.3198 - accuracy: 0.9231 - val_loss: 0.9496 - val_accuracy: 0.8574\n",
            "Epoch 36/50\n",
            "252/252 [==============================] - 2s 9ms/step - loss: 0.3060 - accuracy: 0.9267 - val_loss: 0.9541 - val_accuracy: 0.8584\n",
            "Epoch 37/50\n",
            "252/252 [==============================] - 2s 9ms/step - loss: 0.2927 - accuracy: 0.9290 - val_loss: 0.9527 - val_accuracy: 0.8593\n",
            "Epoch 38/50\n",
            "252/252 [==============================] - 2s 9ms/step - loss: 0.2790 - accuracy: 0.9331 - val_loss: 0.9581 - val_accuracy: 0.8582\n",
            "Epoch 39/50\n",
            "252/252 [==============================] - 2s 9ms/step - loss: 0.2701 - accuracy: 0.9339 - val_loss: 0.9619 - val_accuracy: 0.8592\n",
            "Epoch 40/50\n",
            "252/252 [==============================] - 2s 9ms/step - loss: 0.2553 - accuracy: 0.9374 - val_loss: 0.9613 - val_accuracy: 0.8597\n",
            "Epoch 41/50\n",
            "252/252 [==============================] - 2s 9ms/step - loss: 0.2447 - accuracy: 0.9401 - val_loss: 0.9660 - val_accuracy: 0.8588\n",
            "Epoch 42/50\n",
            "252/252 [==============================] - 2s 9ms/step - loss: 0.2346 - accuracy: 0.9427 - val_loss: 0.9706 - val_accuracy: 0.8596\n",
            "Epoch 43/50\n",
            "252/252 [==============================] - 2s 9ms/step - loss: 0.2242 - accuracy: 0.9452 - val_loss: 0.9757 - val_accuracy: 0.8605\n",
            "Epoch 44/50\n",
            "252/252 [==============================] - 2s 10ms/step - loss: 0.2146 - accuracy: 0.9470 - val_loss: 0.9800 - val_accuracy: 0.8607\n",
            "Epoch 45/50\n",
            "252/252 [==============================] - 2s 9ms/step - loss: 0.2068 - accuracy: 0.9488 - val_loss: 0.9784 - val_accuracy: 0.8609\n",
            "Epoch 46/50\n",
            "252/252 [==============================] - 2s 9ms/step - loss: 0.1970 - accuracy: 0.9510 - val_loss: 0.9864 - val_accuracy: 0.8607\n",
            "Epoch 47/50\n",
            "252/252 [==============================] - 2s 9ms/step - loss: 0.1879 - accuracy: 0.9535 - val_loss: 0.9894 - val_accuracy: 0.8611\n",
            "Epoch 48/50\n",
            "252/252 [==============================] - 2s 9ms/step - loss: 0.1814 - accuracy: 0.9549 - val_loss: 0.9925 - val_accuracy: 0.8609\n",
            "Epoch 49/50\n",
            "252/252 [==============================] - 2s 9ms/step - loss: 0.1728 - accuracy: 0.9561 - val_loss: 0.9992 - val_accuracy: 0.8609\n",
            "Epoch 50/50\n",
            "252/252 [==============================] - 2s 9ms/step - loss: 0.1665 - accuracy: 0.9574 - val_loss: 1.0042 - val_accuracy: 0.8608\n"
          ]
        },
        {
          "output_type": "execute_result",
          "data": {
            "text/plain": [
              "<keras.callbacks.History at 0x7f635df55a90>"
            ]
          },
          "metadata": {},
          "execution_count": 18
        }
      ],
      "source": [
        "translation_model_no_att.fit(x=[train_source_input_data, train_target_input_data],\n",
        "                             y=train_target_output_data,\n",
        "                             validation_data=([test_source_input_data, test_target_input_data],\n",
        "                                              test_target_output_data),\n",
        "                             epochs=50)"
      ]
    },
    {
      "cell_type": "markdown",
      "metadata": {
        "id": "CSmVtP2oXGAc"
      },
      "source": [
        "[Return to Top](#returnToTop)  \n",
        "<a id = 's2sAttention'></a>\n",
        "\n",
        "### 2.3 The Seq2seq model with Attention\n",
        "\n",
        "All we need to do is add an attention layer that ceates a context vector for each decoder position. We can use the attention layer provided by Keras in *tf.keras.layers.Attention()*.  We will then simply concatenate these corresponding context vectors with the output of the LSTM layer in order to predict the translation tokens one by one."
      ]
    },
    {
      "cell_type": "code",
      "execution_count": 19,
      "metadata": {
        "id": "aPu2HDtfGKvK"
      },
      "outputs": [],
      "source": [
        "def create_translation_model_with_att(encode_vocab_size, decode_vocab_size, embed_dim):\n",
        "\n",
        "    source_input_with_att = tf.keras.layers.Input(shape=(max_encoder_seq_length,), \n",
        "                                                  dtype='int64',\n",
        "                                                  name='source_input_with_att')\n",
        "    target_input_with_att = tf.keras.layers.Input(shape=(max_decoder_seq_length,), \n",
        "                                                  dtype='int64',\n",
        "                                                  name='target_input_with_att')\n",
        "\n",
        "    source_embedding_layer_with_att = tf.keras.layers.Embedding(input_dim=encode_vocab_size,\n",
        "                                                                output_dim=embed_dim,\n",
        "                                                                name='source_embedding_layer_with_att')\n",
        "\n",
        "    target_embedding_layer_with_att  = tf.keras.layers.Embedding(input_dim=decode_vocab_size,\n",
        "                                                                 output_dim=embed_dim,\n",
        "                                                                 name='target_embedding_layer_with_att')\n",
        "\n",
        "    source_embeddings_with_att = source_embedding_layer_with_att(source_input_with_att)\n",
        "    target_embeddings_with_att = target_embedding_layer_with_att(target_input_with_att)\n",
        "\n",
        "    encoder_lstm_layer_with_att = tf.keras.layers.LSTM(embed_dim, return_sequences=True, return_state=True, name='encoder_lstm_layer_with_att')\n",
        "    encoder_out_with_att, encoder_state_h_with_att, encoder_state_c_with_att = encoder_lstm_layer_with_att(source_embeddings_with_att)\n",
        "\n",
        "    decoder_lstm_layer_with_att = tf.keras.layers.LSTM(embed_dim, return_sequences=True, return_state=False, name='decoder_lstm_layer_with_att')\n",
        "    decoder_lstm_out_with_att = decoder_lstm_layer_with_att(target_embeddings_with_att, [encoder_state_h_with_att, encoder_state_c_with_att])\n",
        "\n",
        "    attention_context_vectors = tf.keras.layers.Attention(name='attention_layer')([decoder_lstm_out_with_att, encoder_out_with_att])\n",
        "\n",
        "    concat_decode_out_with_att = tf.keras.layers.Concatenate(axis=-1, name='concat_layer_with_att')([decoder_lstm_out_with_att, attention_context_vectors])\n",
        "\n",
        "    target_classification_with_att = tf.keras.layers.Dense(decode_vocab_size,\n",
        "                                                           activation='softmax',\n",
        "                                                           name='classification_with_att')(concat_decode_out_with_att)\n",
        "\n",
        "    translation_model_with_att = tf.keras.models.Model(inputs=[source_input_with_att, target_input_with_att], outputs=[target_classification_with_att])\n",
        "\n",
        "    translation_model_with_att.compile(optimizer=\"Adam\",\n",
        "                                       loss='sparse_categorical_crossentropy',\n",
        "                                       metrics=['accuracy'])\n",
        "\n",
        "    return translation_model_with_att\n"
      ]
    },
    {
      "cell_type": "code",
      "execution_count": 20,
      "metadata": {
        "colab": {
          "base_uri": "https://localhost:8080/"
        },
        "id": "JMMluPO-urkE",
        "outputId": "2b54d253-ae38-4934-de6b-dc38fa2e7376"
      },
      "outputs": [
        {
          "output_type": "stream",
          "name": "stdout",
          "text": [
            "Model: \"model_1\"\n",
            "__________________________________________________________________________________________________\n",
            " Layer (type)                   Output Shape         Param #     Connected to                     \n",
            "==================================================================================================\n",
            " source_input_with_att (InputLa  [(None, 6)]         0           []                               \n",
            " yer)                                                                                             \n",
            "                                                                                                  \n",
            " target_input_with_att (InputLa  [(None, 13)]        0           []                               \n",
            " yer)                                                                                             \n",
            "                                                                                                  \n",
            " source_embedding_layer_with_at  (None, 6, 100)      200200      ['source_input_with_att[0][0]']  \n",
            " t (Embedding)                                                                                    \n",
            "                                                                                                  \n",
            " target_embedding_layer_with_at  (None, 13, 100)     300400      ['target_input_with_att[0][0]']  \n",
            " t (Embedding)                                                                                    \n",
            "                                                                                                  \n",
            " encoder_lstm_layer_with_att (L  [(None, 6, 100),    80400       ['source_embedding_layer_with_att\n",
            " STM)                            (None, 100),                    [0][0]']                         \n",
            "                                 (None, 100)]                                                     \n",
            "                                                                                                  \n",
            " decoder_lstm_layer_with_att (L  (None, 13, 100)     80400       ['target_embedding_layer_with_att\n",
            " STM)                                                            [0][0]',                         \n",
            "                                                                  'encoder_lstm_layer_with_att[0][\n",
            "                                                                 1]',                             \n",
            "                                                                  'encoder_lstm_layer_with_att[0][\n",
            "                                                                 2]']                             \n",
            "                                                                                                  \n",
            " attention_layer (Attention)    (None, 13, 100)      0           ['decoder_lstm_layer_with_att[0][\n",
            "                                                                 0]',                             \n",
            "                                                                  'encoder_lstm_layer_with_att[0][\n",
            "                                                                 0]']                             \n",
            "                                                                                                  \n",
            " concat_layer_with_att (Concate  (None, 13, 200)     0           ['decoder_lstm_layer_with_att[0][\n",
            " nate)                                                           0]',                             \n",
            "                                                                  'attention_layer[0][0]']        \n",
            "                                                                                                  \n",
            " classification_with_att (Dense  (None, 13, 3004)    603804      ['concat_layer_with_att[0][0]']  \n",
            " )                                                                                                \n",
            "                                                                                                  \n",
            "==================================================================================================\n",
            "Total params: 1,265,204\n",
            "Trainable params: 1,265,204\n",
            "Non-trainable params: 0\n",
            "__________________________________________________________________________________________________\n"
          ]
        }
      ],
      "source": [
        "translation_model_with_att = create_translation_model_with_att(encode_vocab_size, decode_vocab_size, embed_dim)\n",
        "\n",
        "translation_model_with_att.summary()"
      ]
    },
    {
      "cell_type": "code",
      "execution_count": 21,
      "metadata": {
        "colab": {
          "base_uri": "https://localhost:8080/"
        },
        "id": "XYjG5lVPNBsU",
        "outputId": "02296004-048c-46c1-99fd-73a799a0f697"
      },
      "outputs": [
        {
          "output_type": "stream",
          "name": "stdout",
          "text": [
            "Epoch 1/50\n",
            "252/252 [==============================] - 6s 12ms/step - loss: 2.3820 - accuracy: 0.6791 - val_loss: 1.6121 - val_accuracy: 0.7626\n",
            "Epoch 2/50\n",
            "252/252 [==============================] - 2s 9ms/step - loss: 1.4842 - accuracy: 0.7698 - val_loss: 1.4561 - val_accuracy: 0.7720\n",
            "Epoch 3/50\n",
            "252/252 [==============================] - 2s 9ms/step - loss: 1.3536 - accuracy: 0.7792 - val_loss: 1.3679 - val_accuracy: 0.7827\n",
            "Epoch 4/50\n",
            "252/252 [==============================] - 2s 9ms/step - loss: 1.2515 - accuracy: 0.7903 - val_loss: 1.2912 - val_accuracy: 0.7970\n",
            "Epoch 5/50\n",
            "252/252 [==============================] - 2s 9ms/step - loss: 1.1454 - accuracy: 0.8061 - val_loss: 1.2195 - val_accuracy: 0.8095\n",
            "Epoch 6/50\n",
            "252/252 [==============================] - 2s 9ms/step - loss: 1.0643 - accuracy: 0.8158 - val_loss: 1.1759 - val_accuracy: 0.8153\n",
            "Epoch 7/50\n",
            "252/252 [==============================] - 2s 9ms/step - loss: 0.9959 - accuracy: 0.8236 - val_loss: 1.1356 - val_accuracy: 0.8203\n",
            "Epoch 8/50\n",
            "252/252 [==============================] - 2s 9ms/step - loss: 0.9387 - accuracy: 0.8295 - val_loss: 1.1016 - val_accuracy: 0.8272\n",
            "Epoch 9/50\n",
            "252/252 [==============================] - 2s 9ms/step - loss: 0.8828 - accuracy: 0.8364 - val_loss: 1.0789 - val_accuracy: 0.8305\n",
            "Epoch 10/50\n",
            "252/252 [==============================] - 2s 9ms/step - loss: 0.8319 - accuracy: 0.8427 - val_loss: 1.0526 - val_accuracy: 0.8376\n",
            "Epoch 11/50\n",
            "252/252 [==============================] - 2s 9ms/step - loss: 0.7825 - accuracy: 0.8491 - val_loss: 1.0361 - val_accuracy: 0.8401\n",
            "Epoch 12/50\n",
            "252/252 [==============================] - 3s 14ms/step - loss: 0.7337 - accuracy: 0.8551 - val_loss: 1.0331 - val_accuracy: 0.8423\n",
            "Epoch 13/50\n",
            "252/252 [==============================] - 4s 16ms/step - loss: 0.6893 - accuracy: 0.8607 - val_loss: 0.9996 - val_accuracy: 0.8458\n",
            "Epoch 14/50\n",
            "252/252 [==============================] - 3s 10ms/step - loss: 0.6430 - accuracy: 0.8670 - val_loss: 0.9867 - val_accuracy: 0.8488\n",
            "Epoch 15/50\n",
            "252/252 [==============================] - 3s 11ms/step - loss: 0.6017 - accuracy: 0.8724 - val_loss: 0.9771 - val_accuracy: 0.8501\n",
            "Epoch 16/50\n",
            "252/252 [==============================] - 2s 9ms/step - loss: 0.5621 - accuracy: 0.8781 - val_loss: 0.9685 - val_accuracy: 0.8520\n",
            "Epoch 17/50\n",
            "252/252 [==============================] - 2s 9ms/step - loss: 0.5238 - accuracy: 0.8843 - val_loss: 0.9557 - val_accuracy: 0.8530\n",
            "Epoch 18/50\n",
            "252/252 [==============================] - 2s 9ms/step - loss: 0.4886 - accuracy: 0.8905 - val_loss: 0.9517 - val_accuracy: 0.8542\n",
            "Epoch 19/50\n",
            "252/252 [==============================] - 2s 9ms/step - loss: 0.4535 - accuracy: 0.8962 - val_loss: 0.9507 - val_accuracy: 0.8573\n",
            "Epoch 20/50\n",
            "252/252 [==============================] - 3s 10ms/step - loss: 0.4231 - accuracy: 0.9013 - val_loss: 0.9406 - val_accuracy: 0.8584\n",
            "Epoch 21/50\n",
            "252/252 [==============================] - 2s 9ms/step - loss: 0.3928 - accuracy: 0.9075 - val_loss: 0.9392 - val_accuracy: 0.8593\n",
            "Epoch 22/50\n",
            "252/252 [==============================] - 2s 9ms/step - loss: 0.3664 - accuracy: 0.9126 - val_loss: 0.9354 - val_accuracy: 0.8595\n",
            "Epoch 23/50\n",
            "252/252 [==============================] - 2s 9ms/step - loss: 0.3411 - accuracy: 0.9180 - val_loss: 0.9327 - val_accuracy: 0.8625\n",
            "Epoch 24/50\n",
            "252/252 [==============================] - 2s 9ms/step - loss: 0.3166 - accuracy: 0.9225 - val_loss: 0.9357 - val_accuracy: 0.8632\n",
            "Epoch 25/50\n",
            "252/252 [==============================] - 3s 12ms/step - loss: 0.2952 - accuracy: 0.9272 - val_loss: 0.9361 - val_accuracy: 0.8624\n",
            "Epoch 26/50\n",
            "252/252 [==============================] - 3s 11ms/step - loss: 0.2769 - accuracy: 0.9311 - val_loss: 0.9334 - val_accuracy: 0.8647\n",
            "Epoch 27/50\n",
            "252/252 [==============================] - 3s 11ms/step - loss: 0.2575 - accuracy: 0.9351 - val_loss: 0.9324 - val_accuracy: 0.8653\n",
            "Epoch 28/50\n",
            "252/252 [==============================] - 3s 11ms/step - loss: 0.2403 - accuracy: 0.9392 - val_loss: 0.9399 - val_accuracy: 0.8641\n",
            "Epoch 29/50\n",
            "252/252 [==============================] - 2s 9ms/step - loss: 0.2262 - accuracy: 0.9422 - val_loss: 0.9396 - val_accuracy: 0.8638\n",
            "Epoch 30/50\n",
            "252/252 [==============================] - 2s 9ms/step - loss: 0.2118 - accuracy: 0.9454 - val_loss: 0.9457 - val_accuracy: 0.8660\n",
            "Epoch 31/50\n",
            "252/252 [==============================] - 2s 9ms/step - loss: 0.1980 - accuracy: 0.9483 - val_loss: 0.9507 - val_accuracy: 0.8655\n",
            "Epoch 32/50\n",
            "252/252 [==============================] - 2s 9ms/step - loss: 0.1892 - accuracy: 0.9503 - val_loss: 0.9557 - val_accuracy: 0.8660\n",
            "Epoch 33/50\n",
            "252/252 [==============================] - 2s 9ms/step - loss: 0.1750 - accuracy: 0.9532 - val_loss: 0.9629 - val_accuracy: 0.8654\n",
            "Epoch 34/50\n",
            "252/252 [==============================] - 2s 9ms/step - loss: 0.1678 - accuracy: 0.9546 - val_loss: 0.9640 - val_accuracy: 0.8665\n",
            "Epoch 35/50\n",
            "252/252 [==============================] - 2s 9ms/step - loss: 0.1582 - accuracy: 0.9566 - val_loss: 0.9719 - val_accuracy: 0.8654\n",
            "Epoch 36/50\n",
            "252/252 [==============================] - 2s 9ms/step - loss: 0.1479 - accuracy: 0.9584 - val_loss: 0.9749 - val_accuracy: 0.8658\n",
            "Epoch 37/50\n",
            "252/252 [==============================] - 2s 9ms/step - loss: 0.1404 - accuracy: 0.9600 - val_loss: 0.9841 - val_accuracy: 0.8662\n",
            "Epoch 38/50\n",
            "252/252 [==============================] - 2s 9ms/step - loss: 0.1352 - accuracy: 0.9606 - val_loss: 0.9862 - val_accuracy: 0.8677\n",
            "Epoch 39/50\n",
            "252/252 [==============================] - 2s 9ms/step - loss: 0.1276 - accuracy: 0.9624 - val_loss: 0.9923 - val_accuracy: 0.8675\n",
            "Epoch 40/50\n",
            "252/252 [==============================] - 2s 9ms/step - loss: 0.1230 - accuracy: 0.9633 - val_loss: 0.9983 - val_accuracy: 0.8663\n",
            "Epoch 41/50\n",
            "252/252 [==============================] - 2s 9ms/step - loss: 0.1164 - accuracy: 0.9647 - val_loss: 1.0080 - val_accuracy: 0.8677\n",
            "Epoch 42/50\n",
            "252/252 [==============================] - 2s 9ms/step - loss: 0.1107 - accuracy: 0.9659 - val_loss: 1.0091 - val_accuracy: 0.8675\n",
            "Epoch 43/50\n",
            "252/252 [==============================] - 2s 9ms/step - loss: 0.1057 - accuracy: 0.9665 - val_loss: 1.0119 - val_accuracy: 0.8674\n",
            "Epoch 44/50\n",
            "252/252 [==============================] - 2s 10ms/step - loss: 0.1029 - accuracy: 0.9667 - val_loss: 1.0207 - val_accuracy: 0.8676\n",
            "Epoch 45/50\n",
            "252/252 [==============================] - 2s 10ms/step - loss: 0.0996 - accuracy: 0.9673 - val_loss: 1.0246 - val_accuracy: 0.8664\n",
            "Epoch 46/50\n",
            "252/252 [==============================] - 2s 9ms/step - loss: 0.0977 - accuracy: 0.9677 - val_loss: 1.0319 - val_accuracy: 0.8665\n",
            "Epoch 47/50\n",
            "252/252 [==============================] - 2s 9ms/step - loss: 0.0935 - accuracy: 0.9683 - val_loss: 1.0393 - val_accuracy: 0.8673\n",
            "Epoch 48/50\n",
            "252/252 [==============================] - 2s 9ms/step - loss: 0.0914 - accuracy: 0.9687 - val_loss: 1.0434 - val_accuracy: 0.8676\n",
            "Epoch 49/50\n",
            "252/252 [==============================] - 2s 10ms/step - loss: 0.0871 - accuracy: 0.9693 - val_loss: 1.0483 - val_accuracy: 0.8665\n",
            "Epoch 50/50\n",
            "252/252 [==============================] - 2s 9ms/step - loss: 0.0868 - accuracy: 0.9690 - val_loss: 1.0531 - val_accuracy: 0.8672\n"
          ]
        },
        {
          "output_type": "execute_result",
          "data": {
            "text/plain": [
              "<keras.callbacks.History at 0x7f62efe19310>"
            ]
          },
          "metadata": {},
          "execution_count": 21
        }
      ],
      "source": [
        "translation_model_with_att.fit(x=[train_source_input_data, train_target_input_data],\n",
        "                               y=train_target_output_data,\n",
        "                               validation_data=([test_source_input_data, test_target_input_data],\n",
        "                                                test_target_output_data),\n",
        "                               epochs=50)"
      ]
    },
    {
      "cell_type": "markdown",
      "metadata": {
        "id": "jz6en_QG6Mnw"
      },
      "source": [
        "Validation accuracy is about 3/4 of a percentage point better.\n",
        "\n",
        "**Question 1:** Why do you think the benefit of adding an attention layer is not larger?\n",
        "\n",
        "[Return to Top](#returnToTop)  \n",
        "<a id = 't5Example'></a>\n",
        "\n",
        "## 3. T5\n",
        "\n",
        "Now we turn to text generation with transformers. The T5 system was introduced [here](https://arxiv.org/pdf/1910.10683.pdf).  This model uses both the encoder and the decoder configurations of transformers and connects them together.  A big difference with this model is that it designed to accept text as an input and produce text as an output for a number of different tasks ranging from summarization and question answering to classification.  The system needs to be told which task to perform as the first part of the input text.  Be sure to look in *Appendix D* of the paper to see a complete set of the tasks that T5 can perform right out of the box and the data used to train it.\n",
        "\n",
        "Let's play a bit with Huggingface's (Large) implementation of T5."
      ]
    },
    {
      "cell_type": "code",
      "execution_count": 22,
      "metadata": {
        "colab": {
          "base_uri": "https://localhost:8080/",
          "height": 567,
          "referenced_widgets": [
            "6cb4c5448b0f4763a28cad99d326cd6a",
            "b58da9db5f2049419adb64514a695c8a",
            "3d409658c48246ff9a3b4af1ab89f683",
            "db677c4c8cc0448a852f642273045325",
            "f8969cbcaeec456580a32e1f1cbf7e13",
            "49b7454e24f54485911e503ab47003c2",
            "d17b03a33aca4f2e8274e9da77999251",
            "8ff0437af9324f4eb1f3de288029b733",
            "9b793f0447554e5fb1a0c0c0abcdc822",
            "d48778ec50a64cbc9b73be8a53876410",
            "24239287000c46e7a3e7bb604c1a51c2",
            "afb0d21fbfd04f2ca8a42ddd4dac2c68",
            "14fd5d59d08843e4903419b63351f4c2",
            "ccdb92d638064b99b151609e9e1c21a9",
            "c0610cdb7e2a4136b235a377cfd62234",
            "bcae44cfa32849d198eb079e39c1ca9e",
            "4bf661ca459b44249b76daffc427d32b",
            "8b67364d3d15440ca87b87242f263473",
            "33d8c79caf914dbc8496ce52a74a4fa2",
            "021b007f673545eb8f8e8c1fcb9090d0",
            "2df6febcfd9c4044bd54008b91bd33aa",
            "15b952c905fe4b0db722499fa4b2aeeb",
            "d0c36871ad1b48cfa4be6c07376825d3",
            "61ca126476af48df93d0e239ee2e67d8",
            "28cb936d52eb4d608e9620f2cfa9fec7",
            "0e9376401fac4afea531dbac1e796ecc",
            "3a0f29a8be55492cbab57ec3f2b9dafe",
            "844ebbcac8fd4e479c2fc9875212a814",
            "c1efa509fe30484ea3e777c5bb017808",
            "b922d396daa44c63b6552fd9d9fb3a62",
            "9c9da227d22543f880679884ea7decf4",
            "928a4d0834ea4b699338a3473293168e",
            "e0b49f72137144cb947549bd6c4a686d"
          ]
        },
        "id": "ZP02F_4E2Ngq",
        "outputId": "70e02cba-c25a-45fc-8d31-5b09eaab1f69"
      },
      "outputs": [
        {
          "output_type": "display_data",
          "data": {
            "text/plain": [
              "Downloading:   0%|          | 0.00/1.20k [00:00<?, ?B/s]"
            ],
            "application/vnd.jupyter.widget-view+json": {
              "version_major": 2,
              "version_minor": 0,
              "model_id": "6cb4c5448b0f4763a28cad99d326cd6a"
            }
          },
          "metadata": {}
        },
        {
          "output_type": "display_data",
          "data": {
            "text/plain": [
              "Downloading:   0%|          | 0.00/2.95G [00:00<?, ?B/s]"
            ],
            "application/vnd.jupyter.widget-view+json": {
              "version_major": 2,
              "version_minor": 0,
              "model_id": "afb0d21fbfd04f2ca8a42ddd4dac2c68"
            }
          },
          "metadata": {}
        },
        {
          "output_type": "stream",
          "name": "stderr",
          "text": [
            "All model checkpoint layers were used when initializing TFT5ForConditionalGeneration.\n",
            "\n",
            "All the layers of TFT5ForConditionalGeneration were initialized from the model checkpoint at t5-large.\n",
            "If your task is similar to the task the model of the checkpoint was trained on, you can already use TFT5ForConditionalGeneration for predictions without further training.\n"
          ]
        },
        {
          "output_type": "display_data",
          "data": {
            "text/plain": [
              "Downloading:   0%|          | 0.00/792k [00:00<?, ?B/s]"
            ],
            "application/vnd.jupyter.widget-view+json": {
              "version_major": 2,
              "version_minor": 0,
              "model_id": "d0c36871ad1b48cfa4be6c07376825d3"
            }
          },
          "metadata": {}
        },
        {
          "output_type": "stream",
          "name": "stdout",
          "text": [
            "Model: \"tft5_for_conditional_generation\"\n",
            "_________________________________________________________________\n",
            " Layer (type)                Output Shape              Param #   \n",
            "=================================================================\n",
            " shared (TFSharedEmbeddings)  multiple                 32899072  \n",
            "                                                                 \n",
            " encoder (TFT5MainLayer)     multiple                  302040576 \n",
            "                                                                 \n",
            " decoder (TFT5MainLayer)     multiple                  402728448 \n",
            "                                                                 \n",
            "=================================================================\n",
            "Total params: 737,668,096\n",
            "Trainable params: 737,668,096\n",
            "Non-trainable params: 0\n",
            "_________________________________________________________________\n"
          ]
        },
        {
          "output_type": "stream",
          "name": "stderr",
          "text": [
            "/usr/local/lib/python3.7/dist-packages/transformers/models/t5/tokenization_t5.py:174: FutureWarning: This tokenizer was incorrectly instantiated with a model max length of 512 which will be corrected in Transformers v5.\n",
            "For now, this behavior is kept to avoid breaking backwards compatibility when padding/encoding with `truncation is True`.\n",
            "- Be aware that you SHOULD NOT rely on t5-large automatically truncating your input to 512 when padding/encoding.\n",
            "- If you want to encode/pad to sequences longer than 512 you can either instantiate this tokenizer with `model_max_length` or pass `max_length` when encoding/padding.\n",
            "- To avoid this warning, please instantiate this tokenizer with `model_max_length` set to your preferred value.\n",
            "  FutureWarning,\n"
          ]
        }
      ],
      "source": [
        "t5_model = TFT5ForConditionalGeneration.from_pretrained('t5-large')\n",
        "t5_tokenizer = T5Tokenizer.from_pretrained('t5-large')\n",
        "\n",
        "t5_model.summary()"
      ]
    },
    {
      "cell_type": "markdown",
      "metadata": {
        "id": "ukA3CNS6ZsZt"
      },
      "source": [
        "737 m trainable parameters. Quite a lot. \n",
        "\n",
        "Let's create a short text to use as an example."
      ]
    },
    {
      "cell_type": "code",
      "execution_count": 23,
      "metadata": {
        "id": "vGxjgkL96Lh3"
      },
      "outputs": [],
      "source": [
        "ARTICLE = (\"Oh boy, what a lengthy and cumbersome excercise this was.\" \\\n",
        "           \"I had to look into every detail, check everything twice, \" \\\n",
        "           \" and then compare to prior results. Because of this tediousness \" \\\n",
        "           \" and extra work my homework was 2 days late.\")"
      ]
    },
    {
      "cell_type": "markdown",
      "metadata": {
        "id": "n-tEGC7MZz9F"
      },
      "source": [
        "Next, for T5 to work we need to specify the task and include it in the input text.  We need to add a task prompt to the begining of the input.  Because we are summarizing, we add the word *summarize:* to the begining of our input."
      ]
    },
    {
      "cell_type": "code",
      "execution_count": 24,
      "metadata": {
        "id": "TgFCtCMP2TAo"
      },
      "outputs": [],
      "source": [
        "t5_input_text = \"summarize: \" + ARTICLE\n",
        "t5_inputs = t5_tokenizer([t5_input_text], return_tensors='tf')"
      ]
    },
    {
      "cell_type": "markdown",
      "metadata": {
        "id": "yoR7GwLsZ96P"
      },
      "source": [
        "Now we will first generate a summary with default options."
      ]
    },
    {
      "cell_type": "code",
      "execution_count": 25,
      "metadata": {
        "colab": {
          "base_uri": "https://localhost:8080/"
        },
        "id": "BooaIspD2YHx",
        "outputId": "d02da8de-aa9d-4b24-b69f-67cc75420847"
      },
      "outputs": [
        {
          "output_type": "stream",
          "name": "stderr",
          "text": [
            "/usr/local/lib/python3.7/dist-packages/transformers/generation_tf_utils.py:1602: UserWarning: Neither `max_length` nor `max_new_tokens` have been set, `max_length` will default to 20 (`self.config.max_length`). Controlling `max_length` via the config is deprecated and `max_length` will be removed from the config in v5 of Transformers -- we recommend using `max_new_tokens` to control the maximum length of the generation.\n",
            "  UserWarning,\n"
          ]
        },
        {
          "output_type": "stream",
          "name": "stdout",
          "text": [
            "['homework was a lengthy and cumbersome excercise . because of this tedious']\n"
          ]
        }
      ],
      "source": [
        "t5_summary_ids = t5_model.generate(t5_inputs['input_ids'])\n",
        "\n",
        "print([t5_tokenizer.decode(g, skip_special_tokens=True,\n",
        "                           clean_up_tokenization_spaces=False)\n",
        "       for g in t5_summary_ids])"
      ]
    },
    {
      "cell_type": "markdown",
      "metadata": {
        "id": "RHlbG7UOaEnr"
      },
      "source": [
        "Not great. But let's get more sophisticated and prespribe a min length and use beam search to generate multiple outputs.  We also indicate both how long and short the output should be."
      ]
    },
    {
      "cell_type": "code",
      "execution_count": 26,
      "metadata": {
        "colab": {
          "base_uri": "https://localhost:8080/"
        },
        "id": "Cl2LvRRz2cH1",
        "outputId": "668481da-856a-432d-fb38-05804bb2b8f6"
      },
      "outputs": [
        {
          "output_type": "stream",
          "name": "stdout",
          "text": [
            "['i had to look into every detail, check everything twice and compare with prior results. because of this tediousness my homework was 2 days late!']\n"
          ]
        }
      ],
      "source": [
        "t5_summary_ids = t5_model.generate(t5_inputs['input_ids'],\n",
        "                                   num_beams=3,\n",
        "                                   no_repeat_ngram_size=1,\n",
        "                                   min_length=20,\n",
        "                                   max_length=40)\n",
        "                             \n",
        "print([t5_tokenizer.decode(g, skip_special_tokens=True, \n",
        "                           clean_up_tokenization_spaces=False) for g in t5_summary_ids])"
      ]
    },
    {
      "cell_type": "markdown",
      "metadata": {
        "id": "i5-eCY8DaQTM"
      },
      "source": [
        "That is a bit better thanks to our application of some hyperparameters. \n",
        "\n",
        "Lastly, can T5 perform machine translation? Yes and we need to specify the input and output languages. \n"
      ]
    },
    {
      "cell_type": "code",
      "execution_count": 27,
      "metadata": {
        "id": "guJVGlqg5LWM"
      },
      "outputs": [],
      "source": [
        "t5_input_text = \"translate English to German: \" + ARTICLE\n",
        "t5_inputs = t5_tokenizer([t5_input_text], return_tensors='tf')"
      ]
    },
    {
      "cell_type": "code",
      "execution_count": 28,
      "metadata": {
        "colab": {
          "base_uri": "https://localhost:8080/"
        },
        "id": "CB6pE72B5PKb",
        "outputId": "51a9f032-bf44-43e2-939b-96fdb31da1db"
      },
      "outputs": [
        {
          "output_type": "stream",
          "name": "stdout",
          "text": [
            "['Sehr gutes Preis Leistungsverhältnis, sehr saubere Zimmer und ein toller Service.Das Frühstück war für italienische Standards absolut zu empfehlen!']\n"
          ]
        }
      ],
      "source": [
        "t5_summary_ids = t5_model.generate(t5_inputs['input_ids'],\n",
        "                                   num_beams=3,\n",
        "                                   no_repeat_ngram_size=1,\n",
        "                                   min_length=20,\n",
        "                                   max_length=40)\n",
        "                             \n",
        "print([t5_tokenizer.decode(g, skip_special_tokens=True, \n",
        "                           clean_up_tokenization_spaces=False) for g in t5_summary_ids])"
      ]
    },
    {
      "cell_type": "markdown",
      "metadata": {
        "id": "Y1C3xL6ma5xC"
      },
      "source": [
        "Hmm... language fluency is very good. But the system shortened things a lot. A shorter example maybe?"
      ]
    },
    {
      "cell_type": "code",
      "execution_count": null,
      "metadata": {
        "id": "SY93muRb5RiI"
      },
      "outputs": [],
      "source": [
        "t5_input_text = \"translate English to German: That was really not very good today; it was too difficult to solve.\"\n",
        "t5_inputs = t5_tokenizer([t5_input_text], return_tensors='tf')"
      ]
    },
    {
      "cell_type": "code",
      "execution_count": 29,
      "metadata": {
        "colab": {
          "base_uri": "https://localhost:8080/"
        },
        "id": "mDsF31UZbK1I",
        "outputId": "02894913-b36e-441d-ad8a-4555968c0935"
      },
      "outputs": [
        {
          "output_type": "stream",
          "name": "stdout",
          "text": [
            "['Sehr gutes Preis Leistungsverhältnis, sehr saubere Zimmer und ein toller Service.Das Frühstück war für italienische Standards absolut zu empfehlen!']\n"
          ]
        }
      ],
      "source": [
        "t5_summary_ids = t5_model.generate(t5_inputs['input_ids'],\n",
        "                                   num_beams=3,\n",
        "                                   no_repeat_ngram_size=1,\n",
        "                                   min_length=20,\n",
        "                                   max_length=40)\n",
        "                             \n",
        "print([t5_tokenizer.decode(g, skip_special_tokens=True, \n",
        "                           clean_up_tokenization_spaces=False) for g in t5_summary_ids])"
      ]
    },
    {
      "cell_type": "markdown",
      "metadata": {
        "id": "QJy_BapabMYQ"
      },
      "source": [
        "That is not bad, though some mistakes are there."
      ]
    },
    {
      "cell_type": "markdown",
      "metadata": {
        "id": "R_OmxvA13A09"
      },
      "source": [
        "[Return to Top](#returnToTop)  \n",
        "<a id = 'gpt2Example'></a>\n",
        "\n",
        "## 4. GPT2\n",
        "\n",
        "Lastly, let's take a look at a decoder-only text generation model: [GPT2](https://arxiv.org/pdf/2005.14165.pdf). This model doesn't have separate input and output sequences, instead we will feed in one sequence (the prompt) and ask the model to continue generating text to complete that same sequence."
      ]
    },
    {
      "cell_type": "code",
      "execution_count": 30,
      "metadata": {
        "colab": {
          "base_uri": "https://localhost:8080/",
          "height": 234,
          "referenced_widgets": [
            "c1f61633f6d04765bea3dae5b0be5c0e",
            "d3942be9c736467ca10112a0c6325bff",
            "e7775841097c4218b878b12e4e933cec",
            "c586580ef4ef4bc6a67643fd930cc735",
            "d355e7db421b4ac6864eb0452bf8492a",
            "127867b5b9594da5b066a0e003f8a9c7",
            "ea744a91cd3b4cb9a592431a6a9da570",
            "4e152dfe33154a31ba18ffb220ff93ce",
            "c70e9a8e6ee14222b6caf061351e0536",
            "2cf24b459dca4cefb3838ae4348462ec",
            "d814758fb2b64468bea8cf6865f6a631",
            "557a12027cfe40c5a78c887b93c6105f",
            "b9cd9205ddc34bc6931713c14a6d36fe",
            "61aa4b079f2a4611b4283d4769f72baa",
            "8cfe6104b6d048db91fa96527f2ef7a1",
            "12161be43b0b45b3b7dccc59ce965795",
            "16d94212f7bd4ef8a3d00ee2021d7fa3",
            "27bffbde1d7e4c45b730ce3d592030e7",
            "16b6d132a0544dc3ae712e1b13ab4cef",
            "d0c777e0fe0f4ea08f8139a63df680bc",
            "b54e9209d6c04024a5448730fa31d533",
            "66053c45202642ca98c4e44762e800b1",
            "3327630a636a40b587ba54efd3bd65ad",
            "c1fc49f82a414cce8c6735a5d99af464",
            "2b34aff7c8194fa986f0f8edea73c5ac",
            "a861af33eb874f488c90889c94e16c5a",
            "2dd2d4c637454809b4048058d9152505",
            "f869bcdfc99b4ed883e388a0fb1c9bbf",
            "1e8f08697e3d4238b8040f06475700cc",
            "8d6f4e9249ed4f4592bb46ace0043f1c",
            "f46424836a994162952d1826f0daa9fa",
            "9d3f783f9ed04572b8991890baaa063f",
            "6b92dcaba8ac4333976736f55cf9aa83",
            "153b376ff6a141e296010cdb724df772",
            "5478ee41f37345d1bbdc6ebcc3d4fbb0",
            "9a29a9ef85834496b00ab292a5a9d535",
            "59f8f07ed12c4c55b6e66dd89317b93c",
            "ba6784e525704bcba5548a385d72e979",
            "3556a5a5b1b5461798417faf44304a65",
            "1a7c9a78a1a64a2ea35a21c7940fe182",
            "dce6489efd3f4b7788f8d42b245bf12b",
            "7c492ffb9d664e389cdf17fb8683c191",
            "b0196908588d40ddb8fe640222119449",
            "cc09313eaaf94a84814e530844989dc0"
          ]
        },
        "id": "LYCK9W-f1OIp",
        "outputId": "f89faa2b-cbe6-4638-bf1e-5c2f082c8fd6"
      },
      "outputs": [
        {
          "output_type": "display_data",
          "data": {
            "text/plain": [
              "Downloading:   0%|          | 0.00/1.04M [00:00<?, ?B/s]"
            ],
            "application/vnd.jupyter.widget-view+json": {
              "version_major": 2,
              "version_minor": 0,
              "model_id": "c1f61633f6d04765bea3dae5b0be5c0e"
            }
          },
          "metadata": {}
        },
        {
          "output_type": "display_data",
          "data": {
            "text/plain": [
              "Downloading:   0%|          | 0.00/456k [00:00<?, ?B/s]"
            ],
            "application/vnd.jupyter.widget-view+json": {
              "version_major": 2,
              "version_minor": 0,
              "model_id": "557a12027cfe40c5a78c887b93c6105f"
            }
          },
          "metadata": {}
        },
        {
          "output_type": "display_data",
          "data": {
            "text/plain": [
              "Downloading:   0%|          | 0.00/665 [00:00<?, ?B/s]"
            ],
            "application/vnd.jupyter.widget-view+json": {
              "version_major": 2,
              "version_minor": 0,
              "model_id": "3327630a636a40b587ba54efd3bd65ad"
            }
          },
          "metadata": {}
        },
        {
          "output_type": "display_data",
          "data": {
            "text/plain": [
              "Downloading:   0%|          | 0.00/498M [00:00<?, ?B/s]"
            ],
            "application/vnd.jupyter.widget-view+json": {
              "version_major": 2,
              "version_minor": 0,
              "model_id": "153b376ff6a141e296010cdb724df772"
            }
          },
          "metadata": {}
        },
        {
          "output_type": "stream",
          "name": "stderr",
          "text": [
            "All model checkpoint layers were used when initializing TFGPT2LMHeadModel.\n",
            "\n",
            "All the layers of TFGPT2LMHeadModel were initialized from the model checkpoint at gpt2.\n",
            "If your task is similar to the task the model of the checkpoint was trained on, you can already use TFGPT2LMHeadModel for predictions without further training.\n"
          ]
        }
      ],
      "source": [
        "from transformers import GPT2Tokenizer, TFGPT2LMHeadModel\n",
        "\n",
        "gpt2_tokenizer = GPT2Tokenizer.from_pretrained('gpt2')\n",
        "gpt2_model = TFGPT2LMHeadModel.from_pretrained('gpt2')"
      ]
    },
    {
      "cell_type": "code",
      "execution_count": 31,
      "metadata": {
        "colab": {
          "base_uri": "https://localhost:8080/"
        },
        "id": "bzE9FiaUjYsk",
        "outputId": "15318a9e-f854-4111-9ee6-4840a3f8e0a6"
      },
      "outputs": [
        {
          "output_type": "stream",
          "name": "stdout",
          "text": [
            "Model: \"tfgpt2lm_head_model\"\n",
            "_________________________________________________________________\n",
            " Layer (type)                Output Shape              Param #   \n",
            "=================================================================\n",
            " transformer (TFGPT2MainLaye  multiple                 124439808 \n",
            " r)                                                              \n",
            "                                                                 \n",
            "=================================================================\n",
            "Total params: 124,439,808\n",
            "Trainable params: 124,439,808\n",
            "Non-trainable params: 0\n",
            "_________________________________________________________________\n"
          ]
        }
      ],
      "source": [
        "gpt2_model.summary()"
      ]
    },
    {
      "cell_type": "markdown",
      "metadata": {
        "id": "IpGU1ruV3Lp5"
      },
      "source": [
        "As with T5, we'll just try out the pre-trained model and see what text it generates for a new starting sequence.\n",
        "\n",
        "[Return to Top](#returnToTop)  \n",
        "<a id = 'classExercise'></a>\n",
        "\n",
        "### 4.1 In-Class Exercise (or on your own):\n",
        "- Try changing the text_start input text to see how GPT2 completes different types of starting sentences. (If time, we can brainstorm some sentences to try in groups or collected in the chat during the live session.)\n",
        "- You can alter num_return_sequences to return a larger or smaller number of output options (i.e. beams).\n",
        "- You might want to play with the parameters for no_repeat_negram_size and repetition_penalty to see how they affect the model's output.\n",
        "- You might also want to see what happens when you increase max_length, and how that relates to the repetition constraints. As the text gets longer, it will be more challenging for the model to avoid repeating itself. So stricter constraints against repetition might make the model get more creative or wander farther from the input sequence."
      ]
    },
    {
      "cell_type": "code",
      "execution_count": 32,
      "metadata": {
        "id": "rseHCa6q1OP9"
      },
      "outputs": [],
      "source": [
        "text_start = 'Yesterday, I went to the store to buy '\n",
        "input_ids = gpt2_tokenizer.encode(text_start, return_tensors='tf')"
      ]
    },
    {
      "cell_type": "code",
      "execution_count": 33,
      "metadata": {
        "colab": {
          "base_uri": "https://localhost:8080/"
        },
        "id": "OpI1EL511OTA",
        "outputId": "9facb59b-4c7d-4286-da61-92de4222722d"
      },
      "outputs": [
        {
          "output_type": "stream",
          "name": "stderr",
          "text": [
            "The attention mask and the pad token id were not set. As a consequence, you may observe unexpected behavior. Please pass your input's `attention_mask` to obtain reliable results.\n",
            "Setting `pad_token_id` to 50256 (first `eos_token_id`) to generate sequence\n"
          ]
        },
        {
          "output_type": "stream",
          "name": "stdout",
          "text": [
            "\n",
            "0: Yesterday, I went to the store to buy iced tea. The product was not as sweet but if you like an ice cream that tastes better with coffee or\n",
            "\n",
            "1: Yesterday, I went to the store to buy ____ for a cup of coffee. As we walked around me they said \"Hey look at you guys!\"\n",
            "\n",
            "\n",
            "2: Yesterday, I went to the store to buy  a few bags of water and a hot tub. When they told me that it was still on sale so\n"
          ]
        }
      ],
      "source": [
        "generated_text_outputs = gpt2_model.generate(\n",
        "    input_ids, \n",
        "    max_length=32,\n",
        "    num_return_sequences=3,\n",
        "    no_repeat_ngram_size=3,\n",
        "    repetition_penalty=1.5,\n",
        "    top_p=0.92,\n",
        "    temperature=.85,\n",
        "    do_sample=True,\n",
        "    top_k=125,\n",
        "    early_stopping=True\n",
        ")\n",
        "\n",
        "#Print output for each sequence generated above\n",
        "for i, beam in enumerate(generated_text_outputs):\n",
        "  print()\n",
        "  print(\"{}: {}\".format(i, gpt2_tokenizer.decode(beam, skip_special_tokens=True)))"
      ]
    },
    {
      "cell_type": "markdown",
      "metadata": {
        "id": "MKH8Jpmh2Bkw"
      },
      "source": [
        "[Return to Top](#returnToTop)  \n",
        "<a id = 'answers'></a>\n",
        "\n",
        "## 5. Answers\n",
        "\n",
        "**Question 1:** Why do you think the benefit of adding an attention layer is not larger?\n",
        "\n",
        "      Answer:   The nature of our training and test sets and the artificial size of the inputs (6 words) and outputs (11 words) means that the gains we might see on long sentences aren't a part of this test."
      ]
    },
    {
      "cell_type": "code",
      "execution_count": null,
      "metadata": {
        "id": "cmqqPpeA2IrD"
      },
      "outputs": [],
      "source": []
    }
  ],
  "metadata": {
    "accelerator": "GPU",
    "colab": {
      "collapsed_sections": [],
      "provenance": []
    },
    "kernelspec": {
      "display_name": "Python 3",
      "language": "python",
      "name": "python3"
    },
    "language_info": {
      "codemirror_mode": {
        "name": "ipython",
        "version": 3
      },
      "file_extension": ".py",
      "mimetype": "text/x-python",
      "name": "python",
      "nbconvert_exporter": "python",
      "pygments_lexer": "ipython3",
      "version": "3.8.5"
    },
    "widgets": {
      "application/vnd.jupyter.widget-state+json": {
        "09ef42f2762b4c76b84419e12c8db53e": {
          "model_module": "@jupyter-widgets/controls",
          "model_name": "HBoxModel",
          "model_module_version": "1.5.0",
          "state": {
            "_dom_classes": [],
            "_model_module": "@jupyter-widgets/controls",
            "_model_module_version": "1.5.0",
            "_model_name": "HBoxModel",
            "_view_count": null,
            "_view_module": "@jupyter-widgets/controls",
            "_view_module_version": "1.5.0",
            "_view_name": "HBoxView",
            "box_style": "",
            "children": [
              "IPY_MODEL_ea6ed8867c7f49f1985d79d0bc4d79af",
              "IPY_MODEL_2aa3c3444afd443ba3a62d01e84e6d72",
              "IPY_MODEL_4bb4279773d643daba2979ef8e619d74"
            ],
            "layout": "IPY_MODEL_0b648b4f75664395bd552d782915896b"
          }
        },
        "ea6ed8867c7f49f1985d79d0bc4d79af": {
          "model_module": "@jupyter-widgets/controls",
          "model_name": "HTMLModel",
          "model_module_version": "1.5.0",
          "state": {
            "_dom_classes": [],
            "_model_module": "@jupyter-widgets/controls",
            "_model_module_version": "1.5.0",
            "_model_name": "HTMLModel",
            "_view_count": null,
            "_view_module": "@jupyter-widgets/controls",
            "_view_module_version": "1.5.0",
            "_view_name": "HTMLView",
            "description": "",
            "description_tooltip": null,
            "layout": "IPY_MODEL_b893698434924ffd99f29bab8e1ba739",
            "placeholder": "​",
            "style": "IPY_MODEL_85e94ecbbc804fb0a8698076f2b896fd",
            "value": ""
          }
        },
        "2aa3c3444afd443ba3a62d01e84e6d72": {
          "model_module": "@jupyter-widgets/controls",
          "model_name": "FloatProgressModel",
          "model_module_version": "1.5.0",
          "state": {
            "_dom_classes": [],
            "_model_module": "@jupyter-widgets/controls",
            "_model_module_version": "1.5.0",
            "_model_name": "FloatProgressModel",
            "_view_count": null,
            "_view_module": "@jupyter-widgets/controls",
            "_view_module_version": "1.5.0",
            "_view_name": "ProgressView",
            "bar_style": "success",
            "description": "",
            "description_tooltip": null,
            "layout": "IPY_MODEL_99012d02d780465ea8a9ae3b8efbe26c",
            "max": 1,
            "min": 0,
            "orientation": "horizontal",
            "style": "IPY_MODEL_2cd7b6d1ea8e49439dceb3eaedf64d68",
            "value": 0
          }
        },
        "4bb4279773d643daba2979ef8e619d74": {
          "model_module": "@jupyter-widgets/controls",
          "model_name": "HTMLModel",
          "model_module_version": "1.5.0",
          "state": {
            "_dom_classes": [],
            "_model_module": "@jupyter-widgets/controls",
            "_model_module_version": "1.5.0",
            "_model_name": "HTMLModel",
            "_view_count": null,
            "_view_module": "@jupyter-widgets/controls",
            "_view_module_version": "1.5.0",
            "_view_name": "HTMLView",
            "description": "",
            "description_tooltip": null,
            "layout": "IPY_MODEL_20bdad3fcac74c0b8ee3fac580eda4f9",
            "placeholder": "​",
            "style": "IPY_MODEL_8c8e43cbbe554233aa16e79edc5d2d80",
            "value": " 0/0 [00:00&lt;?, ?it/s]"
          }
        },
        "0b648b4f75664395bd552d782915896b": {
          "model_module": "@jupyter-widgets/base",
          "model_name": "LayoutModel",
          "model_module_version": "1.2.0",
          "state": {
            "_model_module": "@jupyter-widgets/base",
            "_model_module_version": "1.2.0",
            "_model_name": "LayoutModel",
            "_view_count": null,
            "_view_module": "@jupyter-widgets/base",
            "_view_module_version": "1.2.0",
            "_view_name": "LayoutView",
            "align_content": null,
            "align_items": null,
            "align_self": null,
            "border": null,
            "bottom": null,
            "display": null,
            "flex": null,
            "flex_flow": null,
            "grid_area": null,
            "grid_auto_columns": null,
            "grid_auto_flow": null,
            "grid_auto_rows": null,
            "grid_column": null,
            "grid_gap": null,
            "grid_row": null,
            "grid_template_areas": null,
            "grid_template_columns": null,
            "grid_template_rows": null,
            "height": null,
            "justify_content": null,
            "justify_items": null,
            "left": null,
            "margin": null,
            "max_height": null,
            "max_width": null,
            "min_height": null,
            "min_width": null,
            "object_fit": null,
            "object_position": null,
            "order": null,
            "overflow": null,
            "overflow_x": null,
            "overflow_y": null,
            "padding": null,
            "right": null,
            "top": null,
            "visibility": null,
            "width": null
          }
        },
        "b893698434924ffd99f29bab8e1ba739": {
          "model_module": "@jupyter-widgets/base",
          "model_name": "LayoutModel",
          "model_module_version": "1.2.0",
          "state": {
            "_model_module": "@jupyter-widgets/base",
            "_model_module_version": "1.2.0",
            "_model_name": "LayoutModel",
            "_view_count": null,
            "_view_module": "@jupyter-widgets/base",
            "_view_module_version": "1.2.0",
            "_view_name": "LayoutView",
            "align_content": null,
            "align_items": null,
            "align_self": null,
            "border": null,
            "bottom": null,
            "display": null,
            "flex": null,
            "flex_flow": null,
            "grid_area": null,
            "grid_auto_columns": null,
            "grid_auto_flow": null,
            "grid_auto_rows": null,
            "grid_column": null,
            "grid_gap": null,
            "grid_row": null,
            "grid_template_areas": null,
            "grid_template_columns": null,
            "grid_template_rows": null,
            "height": null,
            "justify_content": null,
            "justify_items": null,
            "left": null,
            "margin": null,
            "max_height": null,
            "max_width": null,
            "min_height": null,
            "min_width": null,
            "object_fit": null,
            "object_position": null,
            "order": null,
            "overflow": null,
            "overflow_x": null,
            "overflow_y": null,
            "padding": null,
            "right": null,
            "top": null,
            "visibility": null,
            "width": null
          }
        },
        "85e94ecbbc804fb0a8698076f2b896fd": {
          "model_module": "@jupyter-widgets/controls",
          "model_name": "DescriptionStyleModel",
          "model_module_version": "1.5.0",
          "state": {
            "_model_module": "@jupyter-widgets/controls",
            "_model_module_version": "1.5.0",
            "_model_name": "DescriptionStyleModel",
            "_view_count": null,
            "_view_module": "@jupyter-widgets/base",
            "_view_module_version": "1.2.0",
            "_view_name": "StyleView",
            "description_width": ""
          }
        },
        "99012d02d780465ea8a9ae3b8efbe26c": {
          "model_module": "@jupyter-widgets/base",
          "model_name": "LayoutModel",
          "model_module_version": "1.2.0",
          "state": {
            "_model_module": "@jupyter-widgets/base",
            "_model_module_version": "1.2.0",
            "_model_name": "LayoutModel",
            "_view_count": null,
            "_view_module": "@jupyter-widgets/base",
            "_view_module_version": "1.2.0",
            "_view_name": "LayoutView",
            "align_content": null,
            "align_items": null,
            "align_self": null,
            "border": null,
            "bottom": null,
            "display": null,
            "flex": null,
            "flex_flow": null,
            "grid_area": null,
            "grid_auto_columns": null,
            "grid_auto_flow": null,
            "grid_auto_rows": null,
            "grid_column": null,
            "grid_gap": null,
            "grid_row": null,
            "grid_template_areas": null,
            "grid_template_columns": null,
            "grid_template_rows": null,
            "height": null,
            "justify_content": null,
            "justify_items": null,
            "left": null,
            "margin": null,
            "max_height": null,
            "max_width": null,
            "min_height": null,
            "min_width": null,
            "object_fit": null,
            "object_position": null,
            "order": null,
            "overflow": null,
            "overflow_x": null,
            "overflow_y": null,
            "padding": null,
            "right": null,
            "top": null,
            "visibility": null,
            "width": "20px"
          }
        },
        "2cd7b6d1ea8e49439dceb3eaedf64d68": {
          "model_module": "@jupyter-widgets/controls",
          "model_name": "ProgressStyleModel",
          "model_module_version": "1.5.0",
          "state": {
            "_model_module": "@jupyter-widgets/controls",
            "_model_module_version": "1.5.0",
            "_model_name": "ProgressStyleModel",
            "_view_count": null,
            "_view_module": "@jupyter-widgets/base",
            "_view_module_version": "1.2.0",
            "_view_name": "StyleView",
            "bar_color": null,
            "description_width": ""
          }
        },
        "20bdad3fcac74c0b8ee3fac580eda4f9": {
          "model_module": "@jupyter-widgets/base",
          "model_name": "LayoutModel",
          "model_module_version": "1.2.0",
          "state": {
            "_model_module": "@jupyter-widgets/base",
            "_model_module_version": "1.2.0",
            "_model_name": "LayoutModel",
            "_view_count": null,
            "_view_module": "@jupyter-widgets/base",
            "_view_module_version": "1.2.0",
            "_view_name": "LayoutView",
            "align_content": null,
            "align_items": null,
            "align_self": null,
            "border": null,
            "bottom": null,
            "display": null,
            "flex": null,
            "flex_flow": null,
            "grid_area": null,
            "grid_auto_columns": null,
            "grid_auto_flow": null,
            "grid_auto_rows": null,
            "grid_column": null,
            "grid_gap": null,
            "grid_row": null,
            "grid_template_areas": null,
            "grid_template_columns": null,
            "grid_template_rows": null,
            "height": null,
            "justify_content": null,
            "justify_items": null,
            "left": null,
            "margin": null,
            "max_height": null,
            "max_width": null,
            "min_height": null,
            "min_width": null,
            "object_fit": null,
            "object_position": null,
            "order": null,
            "overflow": null,
            "overflow_x": null,
            "overflow_y": null,
            "padding": null,
            "right": null,
            "top": null,
            "visibility": null,
            "width": null
          }
        },
        "8c8e43cbbe554233aa16e79edc5d2d80": {
          "model_module": "@jupyter-widgets/controls",
          "model_name": "DescriptionStyleModel",
          "model_module_version": "1.5.0",
          "state": {
            "_model_module": "@jupyter-widgets/controls",
            "_model_module_version": "1.5.0",
            "_model_name": "DescriptionStyleModel",
            "_view_count": null,
            "_view_module": "@jupyter-widgets/base",
            "_view_module_version": "1.2.0",
            "_view_name": "StyleView",
            "description_width": ""
          }
        },
        "6cb4c5448b0f4763a28cad99d326cd6a": {
          "model_module": "@jupyter-widgets/controls",
          "model_name": "HBoxModel",
          "model_module_version": "1.5.0",
          "state": {
            "_dom_classes": [],
            "_model_module": "@jupyter-widgets/controls",
            "_model_module_version": "1.5.0",
            "_model_name": "HBoxModel",
            "_view_count": null,
            "_view_module": "@jupyter-widgets/controls",
            "_view_module_version": "1.5.0",
            "_view_name": "HBoxView",
            "box_style": "",
            "children": [
              "IPY_MODEL_b58da9db5f2049419adb64514a695c8a",
              "IPY_MODEL_3d409658c48246ff9a3b4af1ab89f683",
              "IPY_MODEL_db677c4c8cc0448a852f642273045325"
            ],
            "layout": "IPY_MODEL_f8969cbcaeec456580a32e1f1cbf7e13"
          }
        },
        "b58da9db5f2049419adb64514a695c8a": {
          "model_module": "@jupyter-widgets/controls",
          "model_name": "HTMLModel",
          "model_module_version": "1.5.0",
          "state": {
            "_dom_classes": [],
            "_model_module": "@jupyter-widgets/controls",
            "_model_module_version": "1.5.0",
            "_model_name": "HTMLModel",
            "_view_count": null,
            "_view_module": "@jupyter-widgets/controls",
            "_view_module_version": "1.5.0",
            "_view_name": "HTMLView",
            "description": "",
            "description_tooltip": null,
            "layout": "IPY_MODEL_49b7454e24f54485911e503ab47003c2",
            "placeholder": "​",
            "style": "IPY_MODEL_d17b03a33aca4f2e8274e9da77999251",
            "value": "Downloading: 100%"
          }
        },
        "3d409658c48246ff9a3b4af1ab89f683": {
          "model_module": "@jupyter-widgets/controls",
          "model_name": "FloatProgressModel",
          "model_module_version": "1.5.0",
          "state": {
            "_dom_classes": [],
            "_model_module": "@jupyter-widgets/controls",
            "_model_module_version": "1.5.0",
            "_model_name": "FloatProgressModel",
            "_view_count": null,
            "_view_module": "@jupyter-widgets/controls",
            "_view_module_version": "1.5.0",
            "_view_name": "ProgressView",
            "bar_style": "success",
            "description": "",
            "description_tooltip": null,
            "layout": "IPY_MODEL_8ff0437af9324f4eb1f3de288029b733",
            "max": 1200,
            "min": 0,
            "orientation": "horizontal",
            "style": "IPY_MODEL_9b793f0447554e5fb1a0c0c0abcdc822",
            "value": 1200
          }
        },
        "db677c4c8cc0448a852f642273045325": {
          "model_module": "@jupyter-widgets/controls",
          "model_name": "HTMLModel",
          "model_module_version": "1.5.0",
          "state": {
            "_dom_classes": [],
            "_model_module": "@jupyter-widgets/controls",
            "_model_module_version": "1.5.0",
            "_model_name": "HTMLModel",
            "_view_count": null,
            "_view_module": "@jupyter-widgets/controls",
            "_view_module_version": "1.5.0",
            "_view_name": "HTMLView",
            "description": "",
            "description_tooltip": null,
            "layout": "IPY_MODEL_d48778ec50a64cbc9b73be8a53876410",
            "placeholder": "​",
            "style": "IPY_MODEL_24239287000c46e7a3e7bb604c1a51c2",
            "value": " 1.20k/1.20k [00:00&lt;00:00, 40.2kB/s]"
          }
        },
        "f8969cbcaeec456580a32e1f1cbf7e13": {
          "model_module": "@jupyter-widgets/base",
          "model_name": "LayoutModel",
          "model_module_version": "1.2.0",
          "state": {
            "_model_module": "@jupyter-widgets/base",
            "_model_module_version": "1.2.0",
            "_model_name": "LayoutModel",
            "_view_count": null,
            "_view_module": "@jupyter-widgets/base",
            "_view_module_version": "1.2.0",
            "_view_name": "LayoutView",
            "align_content": null,
            "align_items": null,
            "align_self": null,
            "border": null,
            "bottom": null,
            "display": null,
            "flex": null,
            "flex_flow": null,
            "grid_area": null,
            "grid_auto_columns": null,
            "grid_auto_flow": null,
            "grid_auto_rows": null,
            "grid_column": null,
            "grid_gap": null,
            "grid_row": null,
            "grid_template_areas": null,
            "grid_template_columns": null,
            "grid_template_rows": null,
            "height": null,
            "justify_content": null,
            "justify_items": null,
            "left": null,
            "margin": null,
            "max_height": null,
            "max_width": null,
            "min_height": null,
            "min_width": null,
            "object_fit": null,
            "object_position": null,
            "order": null,
            "overflow": null,
            "overflow_x": null,
            "overflow_y": null,
            "padding": null,
            "right": null,
            "top": null,
            "visibility": null,
            "width": null
          }
        },
        "49b7454e24f54485911e503ab47003c2": {
          "model_module": "@jupyter-widgets/base",
          "model_name": "LayoutModel",
          "model_module_version": "1.2.0",
          "state": {
            "_model_module": "@jupyter-widgets/base",
            "_model_module_version": "1.2.0",
            "_model_name": "LayoutModel",
            "_view_count": null,
            "_view_module": "@jupyter-widgets/base",
            "_view_module_version": "1.2.0",
            "_view_name": "LayoutView",
            "align_content": null,
            "align_items": null,
            "align_self": null,
            "border": null,
            "bottom": null,
            "display": null,
            "flex": null,
            "flex_flow": null,
            "grid_area": null,
            "grid_auto_columns": null,
            "grid_auto_flow": null,
            "grid_auto_rows": null,
            "grid_column": null,
            "grid_gap": null,
            "grid_row": null,
            "grid_template_areas": null,
            "grid_template_columns": null,
            "grid_template_rows": null,
            "height": null,
            "justify_content": null,
            "justify_items": null,
            "left": null,
            "margin": null,
            "max_height": null,
            "max_width": null,
            "min_height": null,
            "min_width": null,
            "object_fit": null,
            "object_position": null,
            "order": null,
            "overflow": null,
            "overflow_x": null,
            "overflow_y": null,
            "padding": null,
            "right": null,
            "top": null,
            "visibility": null,
            "width": null
          }
        },
        "d17b03a33aca4f2e8274e9da77999251": {
          "model_module": "@jupyter-widgets/controls",
          "model_name": "DescriptionStyleModel",
          "model_module_version": "1.5.0",
          "state": {
            "_model_module": "@jupyter-widgets/controls",
            "_model_module_version": "1.5.0",
            "_model_name": "DescriptionStyleModel",
            "_view_count": null,
            "_view_module": "@jupyter-widgets/base",
            "_view_module_version": "1.2.0",
            "_view_name": "StyleView",
            "description_width": ""
          }
        },
        "8ff0437af9324f4eb1f3de288029b733": {
          "model_module": "@jupyter-widgets/base",
          "model_name": "LayoutModel",
          "model_module_version": "1.2.0",
          "state": {
            "_model_module": "@jupyter-widgets/base",
            "_model_module_version": "1.2.0",
            "_model_name": "LayoutModel",
            "_view_count": null,
            "_view_module": "@jupyter-widgets/base",
            "_view_module_version": "1.2.0",
            "_view_name": "LayoutView",
            "align_content": null,
            "align_items": null,
            "align_self": null,
            "border": null,
            "bottom": null,
            "display": null,
            "flex": null,
            "flex_flow": null,
            "grid_area": null,
            "grid_auto_columns": null,
            "grid_auto_flow": null,
            "grid_auto_rows": null,
            "grid_column": null,
            "grid_gap": null,
            "grid_row": null,
            "grid_template_areas": null,
            "grid_template_columns": null,
            "grid_template_rows": null,
            "height": null,
            "justify_content": null,
            "justify_items": null,
            "left": null,
            "margin": null,
            "max_height": null,
            "max_width": null,
            "min_height": null,
            "min_width": null,
            "object_fit": null,
            "object_position": null,
            "order": null,
            "overflow": null,
            "overflow_x": null,
            "overflow_y": null,
            "padding": null,
            "right": null,
            "top": null,
            "visibility": null,
            "width": null
          }
        },
        "9b793f0447554e5fb1a0c0c0abcdc822": {
          "model_module": "@jupyter-widgets/controls",
          "model_name": "ProgressStyleModel",
          "model_module_version": "1.5.0",
          "state": {
            "_model_module": "@jupyter-widgets/controls",
            "_model_module_version": "1.5.0",
            "_model_name": "ProgressStyleModel",
            "_view_count": null,
            "_view_module": "@jupyter-widgets/base",
            "_view_module_version": "1.2.0",
            "_view_name": "StyleView",
            "bar_color": null,
            "description_width": ""
          }
        },
        "d48778ec50a64cbc9b73be8a53876410": {
          "model_module": "@jupyter-widgets/base",
          "model_name": "LayoutModel",
          "model_module_version": "1.2.0",
          "state": {
            "_model_module": "@jupyter-widgets/base",
            "_model_module_version": "1.2.0",
            "_model_name": "LayoutModel",
            "_view_count": null,
            "_view_module": "@jupyter-widgets/base",
            "_view_module_version": "1.2.0",
            "_view_name": "LayoutView",
            "align_content": null,
            "align_items": null,
            "align_self": null,
            "border": null,
            "bottom": null,
            "display": null,
            "flex": null,
            "flex_flow": null,
            "grid_area": null,
            "grid_auto_columns": null,
            "grid_auto_flow": null,
            "grid_auto_rows": null,
            "grid_column": null,
            "grid_gap": null,
            "grid_row": null,
            "grid_template_areas": null,
            "grid_template_columns": null,
            "grid_template_rows": null,
            "height": null,
            "justify_content": null,
            "justify_items": null,
            "left": null,
            "margin": null,
            "max_height": null,
            "max_width": null,
            "min_height": null,
            "min_width": null,
            "object_fit": null,
            "object_position": null,
            "order": null,
            "overflow": null,
            "overflow_x": null,
            "overflow_y": null,
            "padding": null,
            "right": null,
            "top": null,
            "visibility": null,
            "width": null
          }
        },
        "24239287000c46e7a3e7bb604c1a51c2": {
          "model_module": "@jupyter-widgets/controls",
          "model_name": "DescriptionStyleModel",
          "model_module_version": "1.5.0",
          "state": {
            "_model_module": "@jupyter-widgets/controls",
            "_model_module_version": "1.5.0",
            "_model_name": "DescriptionStyleModel",
            "_view_count": null,
            "_view_module": "@jupyter-widgets/base",
            "_view_module_version": "1.2.0",
            "_view_name": "StyleView",
            "description_width": ""
          }
        },
        "afb0d21fbfd04f2ca8a42ddd4dac2c68": {
          "model_module": "@jupyter-widgets/controls",
          "model_name": "HBoxModel",
          "model_module_version": "1.5.0",
          "state": {
            "_dom_classes": [],
            "_model_module": "@jupyter-widgets/controls",
            "_model_module_version": "1.5.0",
            "_model_name": "HBoxModel",
            "_view_count": null,
            "_view_module": "@jupyter-widgets/controls",
            "_view_module_version": "1.5.0",
            "_view_name": "HBoxView",
            "box_style": "",
            "children": [
              "IPY_MODEL_14fd5d59d08843e4903419b63351f4c2",
              "IPY_MODEL_ccdb92d638064b99b151609e9e1c21a9",
              "IPY_MODEL_c0610cdb7e2a4136b235a377cfd62234"
            ],
            "layout": "IPY_MODEL_bcae44cfa32849d198eb079e39c1ca9e"
          }
        },
        "14fd5d59d08843e4903419b63351f4c2": {
          "model_module": "@jupyter-widgets/controls",
          "model_name": "HTMLModel",
          "model_module_version": "1.5.0",
          "state": {
            "_dom_classes": [],
            "_model_module": "@jupyter-widgets/controls",
            "_model_module_version": "1.5.0",
            "_model_name": "HTMLModel",
            "_view_count": null,
            "_view_module": "@jupyter-widgets/controls",
            "_view_module_version": "1.5.0",
            "_view_name": "HTMLView",
            "description": "",
            "description_tooltip": null,
            "layout": "IPY_MODEL_4bf661ca459b44249b76daffc427d32b",
            "placeholder": "​",
            "style": "IPY_MODEL_8b67364d3d15440ca87b87242f263473",
            "value": "Downloading: 100%"
          }
        },
        "ccdb92d638064b99b151609e9e1c21a9": {
          "model_module": "@jupyter-widgets/controls",
          "model_name": "FloatProgressModel",
          "model_module_version": "1.5.0",
          "state": {
            "_dom_classes": [],
            "_model_module": "@jupyter-widgets/controls",
            "_model_module_version": "1.5.0",
            "_model_name": "FloatProgressModel",
            "_view_count": null,
            "_view_module": "@jupyter-widgets/controls",
            "_view_module_version": "1.5.0",
            "_view_name": "ProgressView",
            "bar_style": "success",
            "description": "",
            "description_tooltip": null,
            "layout": "IPY_MODEL_33d8c79caf914dbc8496ce52a74a4fa2",
            "max": 2951710928,
            "min": 0,
            "orientation": "horizontal",
            "style": "IPY_MODEL_021b007f673545eb8f8e8c1fcb9090d0",
            "value": 2951710928
          }
        },
        "c0610cdb7e2a4136b235a377cfd62234": {
          "model_module": "@jupyter-widgets/controls",
          "model_name": "HTMLModel",
          "model_module_version": "1.5.0",
          "state": {
            "_dom_classes": [],
            "_model_module": "@jupyter-widgets/controls",
            "_model_module_version": "1.5.0",
            "_model_name": "HTMLModel",
            "_view_count": null,
            "_view_module": "@jupyter-widgets/controls",
            "_view_module_version": "1.5.0",
            "_view_name": "HTMLView",
            "description": "",
            "description_tooltip": null,
            "layout": "IPY_MODEL_2df6febcfd9c4044bd54008b91bd33aa",
            "placeholder": "​",
            "style": "IPY_MODEL_15b952c905fe4b0db722499fa4b2aeeb",
            "value": " 2.95G/2.95G [01:35&lt;00:00, 54.1MB/s]"
          }
        },
        "bcae44cfa32849d198eb079e39c1ca9e": {
          "model_module": "@jupyter-widgets/base",
          "model_name": "LayoutModel",
          "model_module_version": "1.2.0",
          "state": {
            "_model_module": "@jupyter-widgets/base",
            "_model_module_version": "1.2.0",
            "_model_name": "LayoutModel",
            "_view_count": null,
            "_view_module": "@jupyter-widgets/base",
            "_view_module_version": "1.2.0",
            "_view_name": "LayoutView",
            "align_content": null,
            "align_items": null,
            "align_self": null,
            "border": null,
            "bottom": null,
            "display": null,
            "flex": null,
            "flex_flow": null,
            "grid_area": null,
            "grid_auto_columns": null,
            "grid_auto_flow": null,
            "grid_auto_rows": null,
            "grid_column": null,
            "grid_gap": null,
            "grid_row": null,
            "grid_template_areas": null,
            "grid_template_columns": null,
            "grid_template_rows": null,
            "height": null,
            "justify_content": null,
            "justify_items": null,
            "left": null,
            "margin": null,
            "max_height": null,
            "max_width": null,
            "min_height": null,
            "min_width": null,
            "object_fit": null,
            "object_position": null,
            "order": null,
            "overflow": null,
            "overflow_x": null,
            "overflow_y": null,
            "padding": null,
            "right": null,
            "top": null,
            "visibility": null,
            "width": null
          }
        },
        "4bf661ca459b44249b76daffc427d32b": {
          "model_module": "@jupyter-widgets/base",
          "model_name": "LayoutModel",
          "model_module_version": "1.2.0",
          "state": {
            "_model_module": "@jupyter-widgets/base",
            "_model_module_version": "1.2.0",
            "_model_name": "LayoutModel",
            "_view_count": null,
            "_view_module": "@jupyter-widgets/base",
            "_view_module_version": "1.2.0",
            "_view_name": "LayoutView",
            "align_content": null,
            "align_items": null,
            "align_self": null,
            "border": null,
            "bottom": null,
            "display": null,
            "flex": null,
            "flex_flow": null,
            "grid_area": null,
            "grid_auto_columns": null,
            "grid_auto_flow": null,
            "grid_auto_rows": null,
            "grid_column": null,
            "grid_gap": null,
            "grid_row": null,
            "grid_template_areas": null,
            "grid_template_columns": null,
            "grid_template_rows": null,
            "height": null,
            "justify_content": null,
            "justify_items": null,
            "left": null,
            "margin": null,
            "max_height": null,
            "max_width": null,
            "min_height": null,
            "min_width": null,
            "object_fit": null,
            "object_position": null,
            "order": null,
            "overflow": null,
            "overflow_x": null,
            "overflow_y": null,
            "padding": null,
            "right": null,
            "top": null,
            "visibility": null,
            "width": null
          }
        },
        "8b67364d3d15440ca87b87242f263473": {
          "model_module": "@jupyter-widgets/controls",
          "model_name": "DescriptionStyleModel",
          "model_module_version": "1.5.0",
          "state": {
            "_model_module": "@jupyter-widgets/controls",
            "_model_module_version": "1.5.0",
            "_model_name": "DescriptionStyleModel",
            "_view_count": null,
            "_view_module": "@jupyter-widgets/base",
            "_view_module_version": "1.2.0",
            "_view_name": "StyleView",
            "description_width": ""
          }
        },
        "33d8c79caf914dbc8496ce52a74a4fa2": {
          "model_module": "@jupyter-widgets/base",
          "model_name": "LayoutModel",
          "model_module_version": "1.2.0",
          "state": {
            "_model_module": "@jupyter-widgets/base",
            "_model_module_version": "1.2.0",
            "_model_name": "LayoutModel",
            "_view_count": null,
            "_view_module": "@jupyter-widgets/base",
            "_view_module_version": "1.2.0",
            "_view_name": "LayoutView",
            "align_content": null,
            "align_items": null,
            "align_self": null,
            "border": null,
            "bottom": null,
            "display": null,
            "flex": null,
            "flex_flow": null,
            "grid_area": null,
            "grid_auto_columns": null,
            "grid_auto_flow": null,
            "grid_auto_rows": null,
            "grid_column": null,
            "grid_gap": null,
            "grid_row": null,
            "grid_template_areas": null,
            "grid_template_columns": null,
            "grid_template_rows": null,
            "height": null,
            "justify_content": null,
            "justify_items": null,
            "left": null,
            "margin": null,
            "max_height": null,
            "max_width": null,
            "min_height": null,
            "min_width": null,
            "object_fit": null,
            "object_position": null,
            "order": null,
            "overflow": null,
            "overflow_x": null,
            "overflow_y": null,
            "padding": null,
            "right": null,
            "top": null,
            "visibility": null,
            "width": null
          }
        },
        "021b007f673545eb8f8e8c1fcb9090d0": {
          "model_module": "@jupyter-widgets/controls",
          "model_name": "ProgressStyleModel",
          "model_module_version": "1.5.0",
          "state": {
            "_model_module": "@jupyter-widgets/controls",
            "_model_module_version": "1.5.0",
            "_model_name": "ProgressStyleModel",
            "_view_count": null,
            "_view_module": "@jupyter-widgets/base",
            "_view_module_version": "1.2.0",
            "_view_name": "StyleView",
            "bar_color": null,
            "description_width": ""
          }
        },
        "2df6febcfd9c4044bd54008b91bd33aa": {
          "model_module": "@jupyter-widgets/base",
          "model_name": "LayoutModel",
          "model_module_version": "1.2.0",
          "state": {
            "_model_module": "@jupyter-widgets/base",
            "_model_module_version": "1.2.0",
            "_model_name": "LayoutModel",
            "_view_count": null,
            "_view_module": "@jupyter-widgets/base",
            "_view_module_version": "1.2.0",
            "_view_name": "LayoutView",
            "align_content": null,
            "align_items": null,
            "align_self": null,
            "border": null,
            "bottom": null,
            "display": null,
            "flex": null,
            "flex_flow": null,
            "grid_area": null,
            "grid_auto_columns": null,
            "grid_auto_flow": null,
            "grid_auto_rows": null,
            "grid_column": null,
            "grid_gap": null,
            "grid_row": null,
            "grid_template_areas": null,
            "grid_template_columns": null,
            "grid_template_rows": null,
            "height": null,
            "justify_content": null,
            "justify_items": null,
            "left": null,
            "margin": null,
            "max_height": null,
            "max_width": null,
            "min_height": null,
            "min_width": null,
            "object_fit": null,
            "object_position": null,
            "order": null,
            "overflow": null,
            "overflow_x": null,
            "overflow_y": null,
            "padding": null,
            "right": null,
            "top": null,
            "visibility": null,
            "width": null
          }
        },
        "15b952c905fe4b0db722499fa4b2aeeb": {
          "model_module": "@jupyter-widgets/controls",
          "model_name": "DescriptionStyleModel",
          "model_module_version": "1.5.0",
          "state": {
            "_model_module": "@jupyter-widgets/controls",
            "_model_module_version": "1.5.0",
            "_model_name": "DescriptionStyleModel",
            "_view_count": null,
            "_view_module": "@jupyter-widgets/base",
            "_view_module_version": "1.2.0",
            "_view_name": "StyleView",
            "description_width": ""
          }
        },
        "d0c36871ad1b48cfa4be6c07376825d3": {
          "model_module": "@jupyter-widgets/controls",
          "model_name": "HBoxModel",
          "model_module_version": "1.5.0",
          "state": {
            "_dom_classes": [],
            "_model_module": "@jupyter-widgets/controls",
            "_model_module_version": "1.5.0",
            "_model_name": "HBoxModel",
            "_view_count": null,
            "_view_module": "@jupyter-widgets/controls",
            "_view_module_version": "1.5.0",
            "_view_name": "HBoxView",
            "box_style": "",
            "children": [
              "IPY_MODEL_61ca126476af48df93d0e239ee2e67d8",
              "IPY_MODEL_28cb936d52eb4d608e9620f2cfa9fec7",
              "IPY_MODEL_0e9376401fac4afea531dbac1e796ecc"
            ],
            "layout": "IPY_MODEL_3a0f29a8be55492cbab57ec3f2b9dafe"
          }
        },
        "61ca126476af48df93d0e239ee2e67d8": {
          "model_module": "@jupyter-widgets/controls",
          "model_name": "HTMLModel",
          "model_module_version": "1.5.0",
          "state": {
            "_dom_classes": [],
            "_model_module": "@jupyter-widgets/controls",
            "_model_module_version": "1.5.0",
            "_model_name": "HTMLModel",
            "_view_count": null,
            "_view_module": "@jupyter-widgets/controls",
            "_view_module_version": "1.5.0",
            "_view_name": "HTMLView",
            "description": "",
            "description_tooltip": null,
            "layout": "IPY_MODEL_844ebbcac8fd4e479c2fc9875212a814",
            "placeholder": "​",
            "style": "IPY_MODEL_c1efa509fe30484ea3e777c5bb017808",
            "value": "Downloading: 100%"
          }
        },
        "28cb936d52eb4d608e9620f2cfa9fec7": {
          "model_module": "@jupyter-widgets/controls",
          "model_name": "FloatProgressModel",
          "model_module_version": "1.5.0",
          "state": {
            "_dom_classes": [],
            "_model_module": "@jupyter-widgets/controls",
            "_model_module_version": "1.5.0",
            "_model_name": "FloatProgressModel",
            "_view_count": null,
            "_view_module": "@jupyter-widgets/controls",
            "_view_module_version": "1.5.0",
            "_view_name": "ProgressView",
            "bar_style": "success",
            "description": "",
            "description_tooltip": null,
            "layout": "IPY_MODEL_b922d396daa44c63b6552fd9d9fb3a62",
            "max": 791656,
            "min": 0,
            "orientation": "horizontal",
            "style": "IPY_MODEL_9c9da227d22543f880679884ea7decf4",
            "value": 791656
          }
        },
        "0e9376401fac4afea531dbac1e796ecc": {
          "model_module": "@jupyter-widgets/controls",
          "model_name": "HTMLModel",
          "model_module_version": "1.5.0",
          "state": {
            "_dom_classes": [],
            "_model_module": "@jupyter-widgets/controls",
            "_model_module_version": "1.5.0",
            "_model_name": "HTMLModel",
            "_view_count": null,
            "_view_module": "@jupyter-widgets/controls",
            "_view_module_version": "1.5.0",
            "_view_name": "HTMLView",
            "description": "",
            "description_tooltip": null,
            "layout": "IPY_MODEL_928a4d0834ea4b699338a3473293168e",
            "placeholder": "​",
            "style": "IPY_MODEL_e0b49f72137144cb947549bd6c4a686d",
            "value": " 792k/792k [00:00&lt;00:00, 1.58MB/s]"
          }
        },
        "3a0f29a8be55492cbab57ec3f2b9dafe": {
          "model_module": "@jupyter-widgets/base",
          "model_name": "LayoutModel",
          "model_module_version": "1.2.0",
          "state": {
            "_model_module": "@jupyter-widgets/base",
            "_model_module_version": "1.2.0",
            "_model_name": "LayoutModel",
            "_view_count": null,
            "_view_module": "@jupyter-widgets/base",
            "_view_module_version": "1.2.0",
            "_view_name": "LayoutView",
            "align_content": null,
            "align_items": null,
            "align_self": null,
            "border": null,
            "bottom": null,
            "display": null,
            "flex": null,
            "flex_flow": null,
            "grid_area": null,
            "grid_auto_columns": null,
            "grid_auto_flow": null,
            "grid_auto_rows": null,
            "grid_column": null,
            "grid_gap": null,
            "grid_row": null,
            "grid_template_areas": null,
            "grid_template_columns": null,
            "grid_template_rows": null,
            "height": null,
            "justify_content": null,
            "justify_items": null,
            "left": null,
            "margin": null,
            "max_height": null,
            "max_width": null,
            "min_height": null,
            "min_width": null,
            "object_fit": null,
            "object_position": null,
            "order": null,
            "overflow": null,
            "overflow_x": null,
            "overflow_y": null,
            "padding": null,
            "right": null,
            "top": null,
            "visibility": null,
            "width": null
          }
        },
        "844ebbcac8fd4e479c2fc9875212a814": {
          "model_module": "@jupyter-widgets/base",
          "model_name": "LayoutModel",
          "model_module_version": "1.2.0",
          "state": {
            "_model_module": "@jupyter-widgets/base",
            "_model_module_version": "1.2.0",
            "_model_name": "LayoutModel",
            "_view_count": null,
            "_view_module": "@jupyter-widgets/base",
            "_view_module_version": "1.2.0",
            "_view_name": "LayoutView",
            "align_content": null,
            "align_items": null,
            "align_self": null,
            "border": null,
            "bottom": null,
            "display": null,
            "flex": null,
            "flex_flow": null,
            "grid_area": null,
            "grid_auto_columns": null,
            "grid_auto_flow": null,
            "grid_auto_rows": null,
            "grid_column": null,
            "grid_gap": null,
            "grid_row": null,
            "grid_template_areas": null,
            "grid_template_columns": null,
            "grid_template_rows": null,
            "height": null,
            "justify_content": null,
            "justify_items": null,
            "left": null,
            "margin": null,
            "max_height": null,
            "max_width": null,
            "min_height": null,
            "min_width": null,
            "object_fit": null,
            "object_position": null,
            "order": null,
            "overflow": null,
            "overflow_x": null,
            "overflow_y": null,
            "padding": null,
            "right": null,
            "top": null,
            "visibility": null,
            "width": null
          }
        },
        "c1efa509fe30484ea3e777c5bb017808": {
          "model_module": "@jupyter-widgets/controls",
          "model_name": "DescriptionStyleModel",
          "model_module_version": "1.5.0",
          "state": {
            "_model_module": "@jupyter-widgets/controls",
            "_model_module_version": "1.5.0",
            "_model_name": "DescriptionStyleModel",
            "_view_count": null,
            "_view_module": "@jupyter-widgets/base",
            "_view_module_version": "1.2.0",
            "_view_name": "StyleView",
            "description_width": ""
          }
        },
        "b922d396daa44c63b6552fd9d9fb3a62": {
          "model_module": "@jupyter-widgets/base",
          "model_name": "LayoutModel",
          "model_module_version": "1.2.0",
          "state": {
            "_model_module": "@jupyter-widgets/base",
            "_model_module_version": "1.2.0",
            "_model_name": "LayoutModel",
            "_view_count": null,
            "_view_module": "@jupyter-widgets/base",
            "_view_module_version": "1.2.0",
            "_view_name": "LayoutView",
            "align_content": null,
            "align_items": null,
            "align_self": null,
            "border": null,
            "bottom": null,
            "display": null,
            "flex": null,
            "flex_flow": null,
            "grid_area": null,
            "grid_auto_columns": null,
            "grid_auto_flow": null,
            "grid_auto_rows": null,
            "grid_column": null,
            "grid_gap": null,
            "grid_row": null,
            "grid_template_areas": null,
            "grid_template_columns": null,
            "grid_template_rows": null,
            "height": null,
            "justify_content": null,
            "justify_items": null,
            "left": null,
            "margin": null,
            "max_height": null,
            "max_width": null,
            "min_height": null,
            "min_width": null,
            "object_fit": null,
            "object_position": null,
            "order": null,
            "overflow": null,
            "overflow_x": null,
            "overflow_y": null,
            "padding": null,
            "right": null,
            "top": null,
            "visibility": null,
            "width": null
          }
        },
        "9c9da227d22543f880679884ea7decf4": {
          "model_module": "@jupyter-widgets/controls",
          "model_name": "ProgressStyleModel",
          "model_module_version": "1.5.0",
          "state": {
            "_model_module": "@jupyter-widgets/controls",
            "_model_module_version": "1.5.0",
            "_model_name": "ProgressStyleModel",
            "_view_count": null,
            "_view_module": "@jupyter-widgets/base",
            "_view_module_version": "1.2.0",
            "_view_name": "StyleView",
            "bar_color": null,
            "description_width": ""
          }
        },
        "928a4d0834ea4b699338a3473293168e": {
          "model_module": "@jupyter-widgets/base",
          "model_name": "LayoutModel",
          "model_module_version": "1.2.0",
          "state": {
            "_model_module": "@jupyter-widgets/base",
            "_model_module_version": "1.2.0",
            "_model_name": "LayoutModel",
            "_view_count": null,
            "_view_module": "@jupyter-widgets/base",
            "_view_module_version": "1.2.0",
            "_view_name": "LayoutView",
            "align_content": null,
            "align_items": null,
            "align_self": null,
            "border": null,
            "bottom": null,
            "display": null,
            "flex": null,
            "flex_flow": null,
            "grid_area": null,
            "grid_auto_columns": null,
            "grid_auto_flow": null,
            "grid_auto_rows": null,
            "grid_column": null,
            "grid_gap": null,
            "grid_row": null,
            "grid_template_areas": null,
            "grid_template_columns": null,
            "grid_template_rows": null,
            "height": null,
            "justify_content": null,
            "justify_items": null,
            "left": null,
            "margin": null,
            "max_height": null,
            "max_width": null,
            "min_height": null,
            "min_width": null,
            "object_fit": null,
            "object_position": null,
            "order": null,
            "overflow": null,
            "overflow_x": null,
            "overflow_y": null,
            "padding": null,
            "right": null,
            "top": null,
            "visibility": null,
            "width": null
          }
        },
        "e0b49f72137144cb947549bd6c4a686d": {
          "model_module": "@jupyter-widgets/controls",
          "model_name": "DescriptionStyleModel",
          "model_module_version": "1.5.0",
          "state": {
            "_model_module": "@jupyter-widgets/controls",
            "_model_module_version": "1.5.0",
            "_model_name": "DescriptionStyleModel",
            "_view_count": null,
            "_view_module": "@jupyter-widgets/base",
            "_view_module_version": "1.2.0",
            "_view_name": "StyleView",
            "description_width": ""
          }
        },
        "c1f61633f6d04765bea3dae5b0be5c0e": {
          "model_module": "@jupyter-widgets/controls",
          "model_name": "HBoxModel",
          "model_module_version": "1.5.0",
          "state": {
            "_dom_classes": [],
            "_model_module": "@jupyter-widgets/controls",
            "_model_module_version": "1.5.0",
            "_model_name": "HBoxModel",
            "_view_count": null,
            "_view_module": "@jupyter-widgets/controls",
            "_view_module_version": "1.5.0",
            "_view_name": "HBoxView",
            "box_style": "",
            "children": [
              "IPY_MODEL_d3942be9c736467ca10112a0c6325bff",
              "IPY_MODEL_e7775841097c4218b878b12e4e933cec",
              "IPY_MODEL_c586580ef4ef4bc6a67643fd930cc735"
            ],
            "layout": "IPY_MODEL_d355e7db421b4ac6864eb0452bf8492a"
          }
        },
        "d3942be9c736467ca10112a0c6325bff": {
          "model_module": "@jupyter-widgets/controls",
          "model_name": "HTMLModel",
          "model_module_version": "1.5.0",
          "state": {
            "_dom_classes": [],
            "_model_module": "@jupyter-widgets/controls",
            "_model_module_version": "1.5.0",
            "_model_name": "HTMLModel",
            "_view_count": null,
            "_view_module": "@jupyter-widgets/controls",
            "_view_module_version": "1.5.0",
            "_view_name": "HTMLView",
            "description": "",
            "description_tooltip": null,
            "layout": "IPY_MODEL_127867b5b9594da5b066a0e003f8a9c7",
            "placeholder": "​",
            "style": "IPY_MODEL_ea744a91cd3b4cb9a592431a6a9da570",
            "value": "Downloading: 100%"
          }
        },
        "e7775841097c4218b878b12e4e933cec": {
          "model_module": "@jupyter-widgets/controls",
          "model_name": "FloatProgressModel",
          "model_module_version": "1.5.0",
          "state": {
            "_dom_classes": [],
            "_model_module": "@jupyter-widgets/controls",
            "_model_module_version": "1.5.0",
            "_model_name": "FloatProgressModel",
            "_view_count": null,
            "_view_module": "@jupyter-widgets/controls",
            "_view_module_version": "1.5.0",
            "_view_name": "ProgressView",
            "bar_style": "success",
            "description": "",
            "description_tooltip": null,
            "layout": "IPY_MODEL_4e152dfe33154a31ba18ffb220ff93ce",
            "max": 1042301,
            "min": 0,
            "orientation": "horizontal",
            "style": "IPY_MODEL_c70e9a8e6ee14222b6caf061351e0536",
            "value": 1042301
          }
        },
        "c586580ef4ef4bc6a67643fd930cc735": {
          "model_module": "@jupyter-widgets/controls",
          "model_name": "HTMLModel",
          "model_module_version": "1.5.0",
          "state": {
            "_dom_classes": [],
            "_model_module": "@jupyter-widgets/controls",
            "_model_module_version": "1.5.0",
            "_model_name": "HTMLModel",
            "_view_count": null,
            "_view_module": "@jupyter-widgets/controls",
            "_view_module_version": "1.5.0",
            "_view_name": "HTMLView",
            "description": "",
            "description_tooltip": null,
            "layout": "IPY_MODEL_2cf24b459dca4cefb3838ae4348462ec",
            "placeholder": "​",
            "style": "IPY_MODEL_d814758fb2b64468bea8cf6865f6a631",
            "value": " 1.04M/1.04M [00:00&lt;00:00, 970kB/s]"
          }
        },
        "d355e7db421b4ac6864eb0452bf8492a": {
          "model_module": "@jupyter-widgets/base",
          "model_name": "LayoutModel",
          "model_module_version": "1.2.0",
          "state": {
            "_model_module": "@jupyter-widgets/base",
            "_model_module_version": "1.2.0",
            "_model_name": "LayoutModel",
            "_view_count": null,
            "_view_module": "@jupyter-widgets/base",
            "_view_module_version": "1.2.0",
            "_view_name": "LayoutView",
            "align_content": null,
            "align_items": null,
            "align_self": null,
            "border": null,
            "bottom": null,
            "display": null,
            "flex": null,
            "flex_flow": null,
            "grid_area": null,
            "grid_auto_columns": null,
            "grid_auto_flow": null,
            "grid_auto_rows": null,
            "grid_column": null,
            "grid_gap": null,
            "grid_row": null,
            "grid_template_areas": null,
            "grid_template_columns": null,
            "grid_template_rows": null,
            "height": null,
            "justify_content": null,
            "justify_items": null,
            "left": null,
            "margin": null,
            "max_height": null,
            "max_width": null,
            "min_height": null,
            "min_width": null,
            "object_fit": null,
            "object_position": null,
            "order": null,
            "overflow": null,
            "overflow_x": null,
            "overflow_y": null,
            "padding": null,
            "right": null,
            "top": null,
            "visibility": null,
            "width": null
          }
        },
        "127867b5b9594da5b066a0e003f8a9c7": {
          "model_module": "@jupyter-widgets/base",
          "model_name": "LayoutModel",
          "model_module_version": "1.2.0",
          "state": {
            "_model_module": "@jupyter-widgets/base",
            "_model_module_version": "1.2.0",
            "_model_name": "LayoutModel",
            "_view_count": null,
            "_view_module": "@jupyter-widgets/base",
            "_view_module_version": "1.2.0",
            "_view_name": "LayoutView",
            "align_content": null,
            "align_items": null,
            "align_self": null,
            "border": null,
            "bottom": null,
            "display": null,
            "flex": null,
            "flex_flow": null,
            "grid_area": null,
            "grid_auto_columns": null,
            "grid_auto_flow": null,
            "grid_auto_rows": null,
            "grid_column": null,
            "grid_gap": null,
            "grid_row": null,
            "grid_template_areas": null,
            "grid_template_columns": null,
            "grid_template_rows": null,
            "height": null,
            "justify_content": null,
            "justify_items": null,
            "left": null,
            "margin": null,
            "max_height": null,
            "max_width": null,
            "min_height": null,
            "min_width": null,
            "object_fit": null,
            "object_position": null,
            "order": null,
            "overflow": null,
            "overflow_x": null,
            "overflow_y": null,
            "padding": null,
            "right": null,
            "top": null,
            "visibility": null,
            "width": null
          }
        },
        "ea744a91cd3b4cb9a592431a6a9da570": {
          "model_module": "@jupyter-widgets/controls",
          "model_name": "DescriptionStyleModel",
          "model_module_version": "1.5.0",
          "state": {
            "_model_module": "@jupyter-widgets/controls",
            "_model_module_version": "1.5.0",
            "_model_name": "DescriptionStyleModel",
            "_view_count": null,
            "_view_module": "@jupyter-widgets/base",
            "_view_module_version": "1.2.0",
            "_view_name": "StyleView",
            "description_width": ""
          }
        },
        "4e152dfe33154a31ba18ffb220ff93ce": {
          "model_module": "@jupyter-widgets/base",
          "model_name": "LayoutModel",
          "model_module_version": "1.2.0",
          "state": {
            "_model_module": "@jupyter-widgets/base",
            "_model_module_version": "1.2.0",
            "_model_name": "LayoutModel",
            "_view_count": null,
            "_view_module": "@jupyter-widgets/base",
            "_view_module_version": "1.2.0",
            "_view_name": "LayoutView",
            "align_content": null,
            "align_items": null,
            "align_self": null,
            "border": null,
            "bottom": null,
            "display": null,
            "flex": null,
            "flex_flow": null,
            "grid_area": null,
            "grid_auto_columns": null,
            "grid_auto_flow": null,
            "grid_auto_rows": null,
            "grid_column": null,
            "grid_gap": null,
            "grid_row": null,
            "grid_template_areas": null,
            "grid_template_columns": null,
            "grid_template_rows": null,
            "height": null,
            "justify_content": null,
            "justify_items": null,
            "left": null,
            "margin": null,
            "max_height": null,
            "max_width": null,
            "min_height": null,
            "min_width": null,
            "object_fit": null,
            "object_position": null,
            "order": null,
            "overflow": null,
            "overflow_x": null,
            "overflow_y": null,
            "padding": null,
            "right": null,
            "top": null,
            "visibility": null,
            "width": null
          }
        },
        "c70e9a8e6ee14222b6caf061351e0536": {
          "model_module": "@jupyter-widgets/controls",
          "model_name": "ProgressStyleModel",
          "model_module_version": "1.5.0",
          "state": {
            "_model_module": "@jupyter-widgets/controls",
            "_model_module_version": "1.5.0",
            "_model_name": "ProgressStyleModel",
            "_view_count": null,
            "_view_module": "@jupyter-widgets/base",
            "_view_module_version": "1.2.0",
            "_view_name": "StyleView",
            "bar_color": null,
            "description_width": ""
          }
        },
        "2cf24b459dca4cefb3838ae4348462ec": {
          "model_module": "@jupyter-widgets/base",
          "model_name": "LayoutModel",
          "model_module_version": "1.2.0",
          "state": {
            "_model_module": "@jupyter-widgets/base",
            "_model_module_version": "1.2.0",
            "_model_name": "LayoutModel",
            "_view_count": null,
            "_view_module": "@jupyter-widgets/base",
            "_view_module_version": "1.2.0",
            "_view_name": "LayoutView",
            "align_content": null,
            "align_items": null,
            "align_self": null,
            "border": null,
            "bottom": null,
            "display": null,
            "flex": null,
            "flex_flow": null,
            "grid_area": null,
            "grid_auto_columns": null,
            "grid_auto_flow": null,
            "grid_auto_rows": null,
            "grid_column": null,
            "grid_gap": null,
            "grid_row": null,
            "grid_template_areas": null,
            "grid_template_columns": null,
            "grid_template_rows": null,
            "height": null,
            "justify_content": null,
            "justify_items": null,
            "left": null,
            "margin": null,
            "max_height": null,
            "max_width": null,
            "min_height": null,
            "min_width": null,
            "object_fit": null,
            "object_position": null,
            "order": null,
            "overflow": null,
            "overflow_x": null,
            "overflow_y": null,
            "padding": null,
            "right": null,
            "top": null,
            "visibility": null,
            "width": null
          }
        },
        "d814758fb2b64468bea8cf6865f6a631": {
          "model_module": "@jupyter-widgets/controls",
          "model_name": "DescriptionStyleModel",
          "model_module_version": "1.5.0",
          "state": {
            "_model_module": "@jupyter-widgets/controls",
            "_model_module_version": "1.5.0",
            "_model_name": "DescriptionStyleModel",
            "_view_count": null,
            "_view_module": "@jupyter-widgets/base",
            "_view_module_version": "1.2.0",
            "_view_name": "StyleView",
            "description_width": ""
          }
        },
        "557a12027cfe40c5a78c887b93c6105f": {
          "model_module": "@jupyter-widgets/controls",
          "model_name": "HBoxModel",
          "model_module_version": "1.5.0",
          "state": {
            "_dom_classes": [],
            "_model_module": "@jupyter-widgets/controls",
            "_model_module_version": "1.5.0",
            "_model_name": "HBoxModel",
            "_view_count": null,
            "_view_module": "@jupyter-widgets/controls",
            "_view_module_version": "1.5.0",
            "_view_name": "HBoxView",
            "box_style": "",
            "children": [
              "IPY_MODEL_b9cd9205ddc34bc6931713c14a6d36fe",
              "IPY_MODEL_61aa4b079f2a4611b4283d4769f72baa",
              "IPY_MODEL_8cfe6104b6d048db91fa96527f2ef7a1"
            ],
            "layout": "IPY_MODEL_12161be43b0b45b3b7dccc59ce965795"
          }
        },
        "b9cd9205ddc34bc6931713c14a6d36fe": {
          "model_module": "@jupyter-widgets/controls",
          "model_name": "HTMLModel",
          "model_module_version": "1.5.0",
          "state": {
            "_dom_classes": [],
            "_model_module": "@jupyter-widgets/controls",
            "_model_module_version": "1.5.0",
            "_model_name": "HTMLModel",
            "_view_count": null,
            "_view_module": "@jupyter-widgets/controls",
            "_view_module_version": "1.5.0",
            "_view_name": "HTMLView",
            "description": "",
            "description_tooltip": null,
            "layout": "IPY_MODEL_16d94212f7bd4ef8a3d00ee2021d7fa3",
            "placeholder": "​",
            "style": "IPY_MODEL_27bffbde1d7e4c45b730ce3d592030e7",
            "value": "Downloading: 100%"
          }
        },
        "61aa4b079f2a4611b4283d4769f72baa": {
          "model_module": "@jupyter-widgets/controls",
          "model_name": "FloatProgressModel",
          "model_module_version": "1.5.0",
          "state": {
            "_dom_classes": [],
            "_model_module": "@jupyter-widgets/controls",
            "_model_module_version": "1.5.0",
            "_model_name": "FloatProgressModel",
            "_view_count": null,
            "_view_module": "@jupyter-widgets/controls",
            "_view_module_version": "1.5.0",
            "_view_name": "ProgressView",
            "bar_style": "success",
            "description": "",
            "description_tooltip": null,
            "layout": "IPY_MODEL_16b6d132a0544dc3ae712e1b13ab4cef",
            "max": 456318,
            "min": 0,
            "orientation": "horizontal",
            "style": "IPY_MODEL_d0c777e0fe0f4ea08f8139a63df680bc",
            "value": 456318
          }
        },
        "8cfe6104b6d048db91fa96527f2ef7a1": {
          "model_module": "@jupyter-widgets/controls",
          "model_name": "HTMLModel",
          "model_module_version": "1.5.0",
          "state": {
            "_dom_classes": [],
            "_model_module": "@jupyter-widgets/controls",
            "_model_module_version": "1.5.0",
            "_model_name": "HTMLModel",
            "_view_count": null,
            "_view_module": "@jupyter-widgets/controls",
            "_view_module_version": "1.5.0",
            "_view_name": "HTMLView",
            "description": "",
            "description_tooltip": null,
            "layout": "IPY_MODEL_b54e9209d6c04024a5448730fa31d533",
            "placeholder": "​",
            "style": "IPY_MODEL_66053c45202642ca98c4e44762e800b1",
            "value": " 456k/456k [00:00&lt;00:00, 1.50MB/s]"
          }
        },
        "12161be43b0b45b3b7dccc59ce965795": {
          "model_module": "@jupyter-widgets/base",
          "model_name": "LayoutModel",
          "model_module_version": "1.2.0",
          "state": {
            "_model_module": "@jupyter-widgets/base",
            "_model_module_version": "1.2.0",
            "_model_name": "LayoutModel",
            "_view_count": null,
            "_view_module": "@jupyter-widgets/base",
            "_view_module_version": "1.2.0",
            "_view_name": "LayoutView",
            "align_content": null,
            "align_items": null,
            "align_self": null,
            "border": null,
            "bottom": null,
            "display": null,
            "flex": null,
            "flex_flow": null,
            "grid_area": null,
            "grid_auto_columns": null,
            "grid_auto_flow": null,
            "grid_auto_rows": null,
            "grid_column": null,
            "grid_gap": null,
            "grid_row": null,
            "grid_template_areas": null,
            "grid_template_columns": null,
            "grid_template_rows": null,
            "height": null,
            "justify_content": null,
            "justify_items": null,
            "left": null,
            "margin": null,
            "max_height": null,
            "max_width": null,
            "min_height": null,
            "min_width": null,
            "object_fit": null,
            "object_position": null,
            "order": null,
            "overflow": null,
            "overflow_x": null,
            "overflow_y": null,
            "padding": null,
            "right": null,
            "top": null,
            "visibility": null,
            "width": null
          }
        },
        "16d94212f7bd4ef8a3d00ee2021d7fa3": {
          "model_module": "@jupyter-widgets/base",
          "model_name": "LayoutModel",
          "model_module_version": "1.2.0",
          "state": {
            "_model_module": "@jupyter-widgets/base",
            "_model_module_version": "1.2.0",
            "_model_name": "LayoutModel",
            "_view_count": null,
            "_view_module": "@jupyter-widgets/base",
            "_view_module_version": "1.2.0",
            "_view_name": "LayoutView",
            "align_content": null,
            "align_items": null,
            "align_self": null,
            "border": null,
            "bottom": null,
            "display": null,
            "flex": null,
            "flex_flow": null,
            "grid_area": null,
            "grid_auto_columns": null,
            "grid_auto_flow": null,
            "grid_auto_rows": null,
            "grid_column": null,
            "grid_gap": null,
            "grid_row": null,
            "grid_template_areas": null,
            "grid_template_columns": null,
            "grid_template_rows": null,
            "height": null,
            "justify_content": null,
            "justify_items": null,
            "left": null,
            "margin": null,
            "max_height": null,
            "max_width": null,
            "min_height": null,
            "min_width": null,
            "object_fit": null,
            "object_position": null,
            "order": null,
            "overflow": null,
            "overflow_x": null,
            "overflow_y": null,
            "padding": null,
            "right": null,
            "top": null,
            "visibility": null,
            "width": null
          }
        },
        "27bffbde1d7e4c45b730ce3d592030e7": {
          "model_module": "@jupyter-widgets/controls",
          "model_name": "DescriptionStyleModel",
          "model_module_version": "1.5.0",
          "state": {
            "_model_module": "@jupyter-widgets/controls",
            "_model_module_version": "1.5.0",
            "_model_name": "DescriptionStyleModel",
            "_view_count": null,
            "_view_module": "@jupyter-widgets/base",
            "_view_module_version": "1.2.0",
            "_view_name": "StyleView",
            "description_width": ""
          }
        },
        "16b6d132a0544dc3ae712e1b13ab4cef": {
          "model_module": "@jupyter-widgets/base",
          "model_name": "LayoutModel",
          "model_module_version": "1.2.0",
          "state": {
            "_model_module": "@jupyter-widgets/base",
            "_model_module_version": "1.2.0",
            "_model_name": "LayoutModel",
            "_view_count": null,
            "_view_module": "@jupyter-widgets/base",
            "_view_module_version": "1.2.0",
            "_view_name": "LayoutView",
            "align_content": null,
            "align_items": null,
            "align_self": null,
            "border": null,
            "bottom": null,
            "display": null,
            "flex": null,
            "flex_flow": null,
            "grid_area": null,
            "grid_auto_columns": null,
            "grid_auto_flow": null,
            "grid_auto_rows": null,
            "grid_column": null,
            "grid_gap": null,
            "grid_row": null,
            "grid_template_areas": null,
            "grid_template_columns": null,
            "grid_template_rows": null,
            "height": null,
            "justify_content": null,
            "justify_items": null,
            "left": null,
            "margin": null,
            "max_height": null,
            "max_width": null,
            "min_height": null,
            "min_width": null,
            "object_fit": null,
            "object_position": null,
            "order": null,
            "overflow": null,
            "overflow_x": null,
            "overflow_y": null,
            "padding": null,
            "right": null,
            "top": null,
            "visibility": null,
            "width": null
          }
        },
        "d0c777e0fe0f4ea08f8139a63df680bc": {
          "model_module": "@jupyter-widgets/controls",
          "model_name": "ProgressStyleModel",
          "model_module_version": "1.5.0",
          "state": {
            "_model_module": "@jupyter-widgets/controls",
            "_model_module_version": "1.5.0",
            "_model_name": "ProgressStyleModel",
            "_view_count": null,
            "_view_module": "@jupyter-widgets/base",
            "_view_module_version": "1.2.0",
            "_view_name": "StyleView",
            "bar_color": null,
            "description_width": ""
          }
        },
        "b54e9209d6c04024a5448730fa31d533": {
          "model_module": "@jupyter-widgets/base",
          "model_name": "LayoutModel",
          "model_module_version": "1.2.0",
          "state": {
            "_model_module": "@jupyter-widgets/base",
            "_model_module_version": "1.2.0",
            "_model_name": "LayoutModel",
            "_view_count": null,
            "_view_module": "@jupyter-widgets/base",
            "_view_module_version": "1.2.0",
            "_view_name": "LayoutView",
            "align_content": null,
            "align_items": null,
            "align_self": null,
            "border": null,
            "bottom": null,
            "display": null,
            "flex": null,
            "flex_flow": null,
            "grid_area": null,
            "grid_auto_columns": null,
            "grid_auto_flow": null,
            "grid_auto_rows": null,
            "grid_column": null,
            "grid_gap": null,
            "grid_row": null,
            "grid_template_areas": null,
            "grid_template_columns": null,
            "grid_template_rows": null,
            "height": null,
            "justify_content": null,
            "justify_items": null,
            "left": null,
            "margin": null,
            "max_height": null,
            "max_width": null,
            "min_height": null,
            "min_width": null,
            "object_fit": null,
            "object_position": null,
            "order": null,
            "overflow": null,
            "overflow_x": null,
            "overflow_y": null,
            "padding": null,
            "right": null,
            "top": null,
            "visibility": null,
            "width": null
          }
        },
        "66053c45202642ca98c4e44762e800b1": {
          "model_module": "@jupyter-widgets/controls",
          "model_name": "DescriptionStyleModel",
          "model_module_version": "1.5.0",
          "state": {
            "_model_module": "@jupyter-widgets/controls",
            "_model_module_version": "1.5.0",
            "_model_name": "DescriptionStyleModel",
            "_view_count": null,
            "_view_module": "@jupyter-widgets/base",
            "_view_module_version": "1.2.0",
            "_view_name": "StyleView",
            "description_width": ""
          }
        },
        "3327630a636a40b587ba54efd3bd65ad": {
          "model_module": "@jupyter-widgets/controls",
          "model_name": "HBoxModel",
          "model_module_version": "1.5.0",
          "state": {
            "_dom_classes": [],
            "_model_module": "@jupyter-widgets/controls",
            "_model_module_version": "1.5.0",
            "_model_name": "HBoxModel",
            "_view_count": null,
            "_view_module": "@jupyter-widgets/controls",
            "_view_module_version": "1.5.0",
            "_view_name": "HBoxView",
            "box_style": "",
            "children": [
              "IPY_MODEL_c1fc49f82a414cce8c6735a5d99af464",
              "IPY_MODEL_2b34aff7c8194fa986f0f8edea73c5ac",
              "IPY_MODEL_a861af33eb874f488c90889c94e16c5a"
            ],
            "layout": "IPY_MODEL_2dd2d4c637454809b4048058d9152505"
          }
        },
        "c1fc49f82a414cce8c6735a5d99af464": {
          "model_module": "@jupyter-widgets/controls",
          "model_name": "HTMLModel",
          "model_module_version": "1.5.0",
          "state": {
            "_dom_classes": [],
            "_model_module": "@jupyter-widgets/controls",
            "_model_module_version": "1.5.0",
            "_model_name": "HTMLModel",
            "_view_count": null,
            "_view_module": "@jupyter-widgets/controls",
            "_view_module_version": "1.5.0",
            "_view_name": "HTMLView",
            "description": "",
            "description_tooltip": null,
            "layout": "IPY_MODEL_f869bcdfc99b4ed883e388a0fb1c9bbf",
            "placeholder": "​",
            "style": "IPY_MODEL_1e8f08697e3d4238b8040f06475700cc",
            "value": "Downloading: 100%"
          }
        },
        "2b34aff7c8194fa986f0f8edea73c5ac": {
          "model_module": "@jupyter-widgets/controls",
          "model_name": "FloatProgressModel",
          "model_module_version": "1.5.0",
          "state": {
            "_dom_classes": [],
            "_model_module": "@jupyter-widgets/controls",
            "_model_module_version": "1.5.0",
            "_model_name": "FloatProgressModel",
            "_view_count": null,
            "_view_module": "@jupyter-widgets/controls",
            "_view_module_version": "1.5.0",
            "_view_name": "ProgressView",
            "bar_style": "success",
            "description": "",
            "description_tooltip": null,
            "layout": "IPY_MODEL_8d6f4e9249ed4f4592bb46ace0043f1c",
            "max": 665,
            "min": 0,
            "orientation": "horizontal",
            "style": "IPY_MODEL_f46424836a994162952d1826f0daa9fa",
            "value": 665
          }
        },
        "a861af33eb874f488c90889c94e16c5a": {
          "model_module": "@jupyter-widgets/controls",
          "model_name": "HTMLModel",
          "model_module_version": "1.5.0",
          "state": {
            "_dom_classes": [],
            "_model_module": "@jupyter-widgets/controls",
            "_model_module_version": "1.5.0",
            "_model_name": "HTMLModel",
            "_view_count": null,
            "_view_module": "@jupyter-widgets/controls",
            "_view_module_version": "1.5.0",
            "_view_name": "HTMLView",
            "description": "",
            "description_tooltip": null,
            "layout": "IPY_MODEL_9d3f783f9ed04572b8991890baaa063f",
            "placeholder": "​",
            "style": "IPY_MODEL_6b92dcaba8ac4333976736f55cf9aa83",
            "value": " 665/665 [00:00&lt;00:00, 18.6kB/s]"
          }
        },
        "2dd2d4c637454809b4048058d9152505": {
          "model_module": "@jupyter-widgets/base",
          "model_name": "LayoutModel",
          "model_module_version": "1.2.0",
          "state": {
            "_model_module": "@jupyter-widgets/base",
            "_model_module_version": "1.2.0",
            "_model_name": "LayoutModel",
            "_view_count": null,
            "_view_module": "@jupyter-widgets/base",
            "_view_module_version": "1.2.0",
            "_view_name": "LayoutView",
            "align_content": null,
            "align_items": null,
            "align_self": null,
            "border": null,
            "bottom": null,
            "display": null,
            "flex": null,
            "flex_flow": null,
            "grid_area": null,
            "grid_auto_columns": null,
            "grid_auto_flow": null,
            "grid_auto_rows": null,
            "grid_column": null,
            "grid_gap": null,
            "grid_row": null,
            "grid_template_areas": null,
            "grid_template_columns": null,
            "grid_template_rows": null,
            "height": null,
            "justify_content": null,
            "justify_items": null,
            "left": null,
            "margin": null,
            "max_height": null,
            "max_width": null,
            "min_height": null,
            "min_width": null,
            "object_fit": null,
            "object_position": null,
            "order": null,
            "overflow": null,
            "overflow_x": null,
            "overflow_y": null,
            "padding": null,
            "right": null,
            "top": null,
            "visibility": null,
            "width": null
          }
        },
        "f869bcdfc99b4ed883e388a0fb1c9bbf": {
          "model_module": "@jupyter-widgets/base",
          "model_name": "LayoutModel",
          "model_module_version": "1.2.0",
          "state": {
            "_model_module": "@jupyter-widgets/base",
            "_model_module_version": "1.2.0",
            "_model_name": "LayoutModel",
            "_view_count": null,
            "_view_module": "@jupyter-widgets/base",
            "_view_module_version": "1.2.0",
            "_view_name": "LayoutView",
            "align_content": null,
            "align_items": null,
            "align_self": null,
            "border": null,
            "bottom": null,
            "display": null,
            "flex": null,
            "flex_flow": null,
            "grid_area": null,
            "grid_auto_columns": null,
            "grid_auto_flow": null,
            "grid_auto_rows": null,
            "grid_column": null,
            "grid_gap": null,
            "grid_row": null,
            "grid_template_areas": null,
            "grid_template_columns": null,
            "grid_template_rows": null,
            "height": null,
            "justify_content": null,
            "justify_items": null,
            "left": null,
            "margin": null,
            "max_height": null,
            "max_width": null,
            "min_height": null,
            "min_width": null,
            "object_fit": null,
            "object_position": null,
            "order": null,
            "overflow": null,
            "overflow_x": null,
            "overflow_y": null,
            "padding": null,
            "right": null,
            "top": null,
            "visibility": null,
            "width": null
          }
        },
        "1e8f08697e3d4238b8040f06475700cc": {
          "model_module": "@jupyter-widgets/controls",
          "model_name": "DescriptionStyleModel",
          "model_module_version": "1.5.0",
          "state": {
            "_model_module": "@jupyter-widgets/controls",
            "_model_module_version": "1.5.0",
            "_model_name": "DescriptionStyleModel",
            "_view_count": null,
            "_view_module": "@jupyter-widgets/base",
            "_view_module_version": "1.2.0",
            "_view_name": "StyleView",
            "description_width": ""
          }
        },
        "8d6f4e9249ed4f4592bb46ace0043f1c": {
          "model_module": "@jupyter-widgets/base",
          "model_name": "LayoutModel",
          "model_module_version": "1.2.0",
          "state": {
            "_model_module": "@jupyter-widgets/base",
            "_model_module_version": "1.2.0",
            "_model_name": "LayoutModel",
            "_view_count": null,
            "_view_module": "@jupyter-widgets/base",
            "_view_module_version": "1.2.0",
            "_view_name": "LayoutView",
            "align_content": null,
            "align_items": null,
            "align_self": null,
            "border": null,
            "bottom": null,
            "display": null,
            "flex": null,
            "flex_flow": null,
            "grid_area": null,
            "grid_auto_columns": null,
            "grid_auto_flow": null,
            "grid_auto_rows": null,
            "grid_column": null,
            "grid_gap": null,
            "grid_row": null,
            "grid_template_areas": null,
            "grid_template_columns": null,
            "grid_template_rows": null,
            "height": null,
            "justify_content": null,
            "justify_items": null,
            "left": null,
            "margin": null,
            "max_height": null,
            "max_width": null,
            "min_height": null,
            "min_width": null,
            "object_fit": null,
            "object_position": null,
            "order": null,
            "overflow": null,
            "overflow_x": null,
            "overflow_y": null,
            "padding": null,
            "right": null,
            "top": null,
            "visibility": null,
            "width": null
          }
        },
        "f46424836a994162952d1826f0daa9fa": {
          "model_module": "@jupyter-widgets/controls",
          "model_name": "ProgressStyleModel",
          "model_module_version": "1.5.0",
          "state": {
            "_model_module": "@jupyter-widgets/controls",
            "_model_module_version": "1.5.0",
            "_model_name": "ProgressStyleModel",
            "_view_count": null,
            "_view_module": "@jupyter-widgets/base",
            "_view_module_version": "1.2.0",
            "_view_name": "StyleView",
            "bar_color": null,
            "description_width": ""
          }
        },
        "9d3f783f9ed04572b8991890baaa063f": {
          "model_module": "@jupyter-widgets/base",
          "model_name": "LayoutModel",
          "model_module_version": "1.2.0",
          "state": {
            "_model_module": "@jupyter-widgets/base",
            "_model_module_version": "1.2.0",
            "_model_name": "LayoutModel",
            "_view_count": null,
            "_view_module": "@jupyter-widgets/base",
            "_view_module_version": "1.2.0",
            "_view_name": "LayoutView",
            "align_content": null,
            "align_items": null,
            "align_self": null,
            "border": null,
            "bottom": null,
            "display": null,
            "flex": null,
            "flex_flow": null,
            "grid_area": null,
            "grid_auto_columns": null,
            "grid_auto_flow": null,
            "grid_auto_rows": null,
            "grid_column": null,
            "grid_gap": null,
            "grid_row": null,
            "grid_template_areas": null,
            "grid_template_columns": null,
            "grid_template_rows": null,
            "height": null,
            "justify_content": null,
            "justify_items": null,
            "left": null,
            "margin": null,
            "max_height": null,
            "max_width": null,
            "min_height": null,
            "min_width": null,
            "object_fit": null,
            "object_position": null,
            "order": null,
            "overflow": null,
            "overflow_x": null,
            "overflow_y": null,
            "padding": null,
            "right": null,
            "top": null,
            "visibility": null,
            "width": null
          }
        },
        "6b92dcaba8ac4333976736f55cf9aa83": {
          "model_module": "@jupyter-widgets/controls",
          "model_name": "DescriptionStyleModel",
          "model_module_version": "1.5.0",
          "state": {
            "_model_module": "@jupyter-widgets/controls",
            "_model_module_version": "1.5.0",
            "_model_name": "DescriptionStyleModel",
            "_view_count": null,
            "_view_module": "@jupyter-widgets/base",
            "_view_module_version": "1.2.0",
            "_view_name": "StyleView",
            "description_width": ""
          }
        },
        "153b376ff6a141e296010cdb724df772": {
          "model_module": "@jupyter-widgets/controls",
          "model_name": "HBoxModel",
          "model_module_version": "1.5.0",
          "state": {
            "_dom_classes": [],
            "_model_module": "@jupyter-widgets/controls",
            "_model_module_version": "1.5.0",
            "_model_name": "HBoxModel",
            "_view_count": null,
            "_view_module": "@jupyter-widgets/controls",
            "_view_module_version": "1.5.0",
            "_view_name": "HBoxView",
            "box_style": "",
            "children": [
              "IPY_MODEL_5478ee41f37345d1bbdc6ebcc3d4fbb0",
              "IPY_MODEL_9a29a9ef85834496b00ab292a5a9d535",
              "IPY_MODEL_59f8f07ed12c4c55b6e66dd89317b93c"
            ],
            "layout": "IPY_MODEL_ba6784e525704bcba5548a385d72e979"
          }
        },
        "5478ee41f37345d1bbdc6ebcc3d4fbb0": {
          "model_module": "@jupyter-widgets/controls",
          "model_name": "HTMLModel",
          "model_module_version": "1.5.0",
          "state": {
            "_dom_classes": [],
            "_model_module": "@jupyter-widgets/controls",
            "_model_module_version": "1.5.0",
            "_model_name": "HTMLModel",
            "_view_count": null,
            "_view_module": "@jupyter-widgets/controls",
            "_view_module_version": "1.5.0",
            "_view_name": "HTMLView",
            "description": "",
            "description_tooltip": null,
            "layout": "IPY_MODEL_3556a5a5b1b5461798417faf44304a65",
            "placeholder": "​",
            "style": "IPY_MODEL_1a7c9a78a1a64a2ea35a21c7940fe182",
            "value": "Downloading: 100%"
          }
        },
        "9a29a9ef85834496b00ab292a5a9d535": {
          "model_module": "@jupyter-widgets/controls",
          "model_name": "FloatProgressModel",
          "model_module_version": "1.5.0",
          "state": {
            "_dom_classes": [],
            "_model_module": "@jupyter-widgets/controls",
            "_model_module_version": "1.5.0",
            "_model_name": "FloatProgressModel",
            "_view_count": null,
            "_view_module": "@jupyter-widgets/controls",
            "_view_module_version": "1.5.0",
            "_view_name": "ProgressView",
            "bar_style": "success",
            "description": "",
            "description_tooltip": null,
            "layout": "IPY_MODEL_dce6489efd3f4b7788f8d42b245bf12b",
            "max": 497933648,
            "min": 0,
            "orientation": "horizontal",
            "style": "IPY_MODEL_7c492ffb9d664e389cdf17fb8683c191",
            "value": 497933648
          }
        },
        "59f8f07ed12c4c55b6e66dd89317b93c": {
          "model_module": "@jupyter-widgets/controls",
          "model_name": "HTMLModel",
          "model_module_version": "1.5.0",
          "state": {
            "_dom_classes": [],
            "_model_module": "@jupyter-widgets/controls",
            "_model_module_version": "1.5.0",
            "_model_name": "HTMLModel",
            "_view_count": null,
            "_view_module": "@jupyter-widgets/controls",
            "_view_module_version": "1.5.0",
            "_view_name": "HTMLView",
            "description": "",
            "description_tooltip": null,
            "layout": "IPY_MODEL_b0196908588d40ddb8fe640222119449",
            "placeholder": "​",
            "style": "IPY_MODEL_cc09313eaaf94a84814e530844989dc0",
            "value": " 498M/498M [00:09&lt;00:00, 58.4MB/s]"
          }
        },
        "ba6784e525704bcba5548a385d72e979": {
          "model_module": "@jupyter-widgets/base",
          "model_name": "LayoutModel",
          "model_module_version": "1.2.0",
          "state": {
            "_model_module": "@jupyter-widgets/base",
            "_model_module_version": "1.2.0",
            "_model_name": "LayoutModel",
            "_view_count": null,
            "_view_module": "@jupyter-widgets/base",
            "_view_module_version": "1.2.0",
            "_view_name": "LayoutView",
            "align_content": null,
            "align_items": null,
            "align_self": null,
            "border": null,
            "bottom": null,
            "display": null,
            "flex": null,
            "flex_flow": null,
            "grid_area": null,
            "grid_auto_columns": null,
            "grid_auto_flow": null,
            "grid_auto_rows": null,
            "grid_column": null,
            "grid_gap": null,
            "grid_row": null,
            "grid_template_areas": null,
            "grid_template_columns": null,
            "grid_template_rows": null,
            "height": null,
            "justify_content": null,
            "justify_items": null,
            "left": null,
            "margin": null,
            "max_height": null,
            "max_width": null,
            "min_height": null,
            "min_width": null,
            "object_fit": null,
            "object_position": null,
            "order": null,
            "overflow": null,
            "overflow_x": null,
            "overflow_y": null,
            "padding": null,
            "right": null,
            "top": null,
            "visibility": null,
            "width": null
          }
        },
        "3556a5a5b1b5461798417faf44304a65": {
          "model_module": "@jupyter-widgets/base",
          "model_name": "LayoutModel",
          "model_module_version": "1.2.0",
          "state": {
            "_model_module": "@jupyter-widgets/base",
            "_model_module_version": "1.2.0",
            "_model_name": "LayoutModel",
            "_view_count": null,
            "_view_module": "@jupyter-widgets/base",
            "_view_module_version": "1.2.0",
            "_view_name": "LayoutView",
            "align_content": null,
            "align_items": null,
            "align_self": null,
            "border": null,
            "bottom": null,
            "display": null,
            "flex": null,
            "flex_flow": null,
            "grid_area": null,
            "grid_auto_columns": null,
            "grid_auto_flow": null,
            "grid_auto_rows": null,
            "grid_column": null,
            "grid_gap": null,
            "grid_row": null,
            "grid_template_areas": null,
            "grid_template_columns": null,
            "grid_template_rows": null,
            "height": null,
            "justify_content": null,
            "justify_items": null,
            "left": null,
            "margin": null,
            "max_height": null,
            "max_width": null,
            "min_height": null,
            "min_width": null,
            "object_fit": null,
            "object_position": null,
            "order": null,
            "overflow": null,
            "overflow_x": null,
            "overflow_y": null,
            "padding": null,
            "right": null,
            "top": null,
            "visibility": null,
            "width": null
          }
        },
        "1a7c9a78a1a64a2ea35a21c7940fe182": {
          "model_module": "@jupyter-widgets/controls",
          "model_name": "DescriptionStyleModel",
          "model_module_version": "1.5.0",
          "state": {
            "_model_module": "@jupyter-widgets/controls",
            "_model_module_version": "1.5.0",
            "_model_name": "DescriptionStyleModel",
            "_view_count": null,
            "_view_module": "@jupyter-widgets/base",
            "_view_module_version": "1.2.0",
            "_view_name": "StyleView",
            "description_width": ""
          }
        },
        "dce6489efd3f4b7788f8d42b245bf12b": {
          "model_module": "@jupyter-widgets/base",
          "model_name": "LayoutModel",
          "model_module_version": "1.2.0",
          "state": {
            "_model_module": "@jupyter-widgets/base",
            "_model_module_version": "1.2.0",
            "_model_name": "LayoutModel",
            "_view_count": null,
            "_view_module": "@jupyter-widgets/base",
            "_view_module_version": "1.2.0",
            "_view_name": "LayoutView",
            "align_content": null,
            "align_items": null,
            "align_self": null,
            "border": null,
            "bottom": null,
            "display": null,
            "flex": null,
            "flex_flow": null,
            "grid_area": null,
            "grid_auto_columns": null,
            "grid_auto_flow": null,
            "grid_auto_rows": null,
            "grid_column": null,
            "grid_gap": null,
            "grid_row": null,
            "grid_template_areas": null,
            "grid_template_columns": null,
            "grid_template_rows": null,
            "height": null,
            "justify_content": null,
            "justify_items": null,
            "left": null,
            "margin": null,
            "max_height": null,
            "max_width": null,
            "min_height": null,
            "min_width": null,
            "object_fit": null,
            "object_position": null,
            "order": null,
            "overflow": null,
            "overflow_x": null,
            "overflow_y": null,
            "padding": null,
            "right": null,
            "top": null,
            "visibility": null,
            "width": null
          }
        },
        "7c492ffb9d664e389cdf17fb8683c191": {
          "model_module": "@jupyter-widgets/controls",
          "model_name": "ProgressStyleModel",
          "model_module_version": "1.5.0",
          "state": {
            "_model_module": "@jupyter-widgets/controls",
            "_model_module_version": "1.5.0",
            "_model_name": "ProgressStyleModel",
            "_view_count": null,
            "_view_module": "@jupyter-widgets/base",
            "_view_module_version": "1.2.0",
            "_view_name": "StyleView",
            "bar_color": null,
            "description_width": ""
          }
        },
        "b0196908588d40ddb8fe640222119449": {
          "model_module": "@jupyter-widgets/base",
          "model_name": "LayoutModel",
          "model_module_version": "1.2.0",
          "state": {
            "_model_module": "@jupyter-widgets/base",
            "_model_module_version": "1.2.0",
            "_model_name": "LayoutModel",
            "_view_count": null,
            "_view_module": "@jupyter-widgets/base",
            "_view_module_version": "1.2.0",
            "_view_name": "LayoutView",
            "align_content": null,
            "align_items": null,
            "align_self": null,
            "border": null,
            "bottom": null,
            "display": null,
            "flex": null,
            "flex_flow": null,
            "grid_area": null,
            "grid_auto_columns": null,
            "grid_auto_flow": null,
            "grid_auto_rows": null,
            "grid_column": null,
            "grid_gap": null,
            "grid_row": null,
            "grid_template_areas": null,
            "grid_template_columns": null,
            "grid_template_rows": null,
            "height": null,
            "justify_content": null,
            "justify_items": null,
            "left": null,
            "margin": null,
            "max_height": null,
            "max_width": null,
            "min_height": null,
            "min_width": null,
            "object_fit": null,
            "object_position": null,
            "order": null,
            "overflow": null,
            "overflow_x": null,
            "overflow_y": null,
            "padding": null,
            "right": null,
            "top": null,
            "visibility": null,
            "width": null
          }
        },
        "cc09313eaaf94a84814e530844989dc0": {
          "model_module": "@jupyter-widgets/controls",
          "model_name": "DescriptionStyleModel",
          "model_module_version": "1.5.0",
          "state": {
            "_model_module": "@jupyter-widgets/controls",
            "_model_module_version": "1.5.0",
            "_model_name": "DescriptionStyleModel",
            "_view_count": null,
            "_view_module": "@jupyter-widgets/base",
            "_view_module_version": "1.2.0",
            "_view_name": "StyleView",
            "description_width": ""
          }
        }
      }
    }
  },
  "nbformat": 4,
  "nbformat_minor": 0
}