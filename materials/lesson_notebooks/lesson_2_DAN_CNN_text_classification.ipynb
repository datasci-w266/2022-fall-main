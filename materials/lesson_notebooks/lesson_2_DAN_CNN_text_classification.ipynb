{
  "cells": [
    {
      "cell_type": "markdown",
      "metadata": {
        "id": "d3FHyR2vMlnM"
      },
      "source": [
        "# lesson_2_DAN_CNN_Word2Vec_Embeddings_Classifier\n",
        "\n",
        "**Description:** Text classification on the IMDB movie dataset using i) Deep Averaging Networks, and ii) Convolutions Neural Nets (CNN) and pre-trained Word2Vec word embeddings.<br>\n",
        "\n",
        "Section 1 deals with setup and prerequisites, which does not need a lot of discussion. \n",
        "Data acquisition and preparation are handled in section 2, and section 3 looks at DANs and CNNs.\n",
        "\n",
        "<a id = 'returnToTop'></a>\n",
        "\n",
        "## Notebook Contents\n",
        "  * 1. [Setup](#setup) \n",
        "  * 2. [Creation of the Dataset](#creationOfDataset)  \n",
        "  * 3. [Modeling](#modeling)\n",
        "    * 3.1 [Averaging Network (AN) Model](#averagingNetwork)\n",
        "    * 3.2 [Deep Averaging Network (DAN)](#modelDAN)\n",
        "    * 3.3 [Convolutional Neural Net (CNN)](#modelCNN)\n",
        "    * 3.4 [In-Class Exercises](#inClassExercises)\n",
        "\n",
        "  \n",
        "  \n",
        "  [![Open In Colab](https://colab.research.google.com/assets/colab-badge.svg)](https://colab.research.google.com/github/datasci-w266/2022-fall-main/blob/master/materials/lesson_notebooks/lesson_2_DAN_CNN_text_classification_notebook.ipynb)"
      ]
    },
    {
      "cell_type": "markdown",
      "metadata": {
        "id": "FEK-bUc2MlnO"
      },
      "source": [
        "[Return to Top](#returnToTop)  \n",
        "<a id = 'setup'></a>\n",
        "## 1. Setup\n",
        "\n",
        "This notebook requires the tensorflow dataset and other prerequisites that you must download and then store locally. "
      ]
    },
    {
      "cell_type": "code",
      "execution_count": 1,
      "metadata": {
        "colab": {
          "base_uri": "https://localhost:8080/"
        },
        "id": "N4gdz81fMlnP",
        "outputId": "56416c02-915f-4637-c66b-c5c45251da10"
      },
      "outputs": [
        {
          "output_type": "stream",
          "name": "stdout",
          "text": [
            "\u001b[K     |████████████████████████████████| 24.2 MB 1.3 MB/s \n",
            "\u001b[?25h"
          ]
        }
      ],
      "source": [
        "!pip install gensim==3.8.3 --quiet"
      ]
    },
    {
      "cell_type": "code",
      "execution_count": 2,
      "metadata": {
        "id": "dOSnMqiYMlnP"
      },
      "outputs": [],
      "source": [
        "!pip install tensorflow-datasets --quiet"
      ]
    },
    {
      "cell_type": "code",
      "execution_count": 3,
      "metadata": {
        "colab": {
          "base_uri": "https://localhost:8080/"
        },
        "id": "pu8MIPByMlnP",
        "outputId": "5a02749c-90df-4639-ba7a-5f9aab3f82c8"
      },
      "outputs": [
        {
          "output_type": "stream",
          "name": "stdout",
          "text": [
            "\u001b[K     |████████████████████████████████| 4.9 MB 16.5 MB/s \n",
            "\u001b[?25h"
          ]
        }
      ],
      "source": [
        "!pip install -U tensorflow-text==2.8.2 --quiet"
      ]
    },
    {
      "cell_type": "markdown",
      "metadata": {
        "id": "L-4vXVxKMlnQ"
      },
      "source": [
        "pydot is also required, along with **graphviz**."
      ]
    },
    {
      "cell_type": "code",
      "execution_count": 4,
      "metadata": {
        "id": "SbN0SnpZMlnQ"
      },
      "outputs": [],
      "source": [
        "!pip install pydot --quiet"
      ]
    },
    {
      "cell_type": "markdown",
      "metadata": {
        "id": "c3fGCI9BMlnQ"
      },
      "source": [
        "Ready to do the imports."
      ]
    },
    {
      "cell_type": "code",
      "execution_count": 5,
      "metadata": {
        "id": "ju4oXKFYMlnQ"
      },
      "outputs": [],
      "source": [
        "import numpy as np\n",
        "import tensorflow as tf\n",
        "from tensorflow import keras\n",
        "\n",
        "from tensorflow.keras.layers import Embedding, Input, Dense, Lambda\n",
        "from tensorflow.keras.models import Model\n",
        "import tensorflow.keras.backend as K\n",
        "import tensorflow_datasets as tfds\n",
        "import tensorflow_text as tf_text\n",
        "\n",
        "import sklearn as sk\n",
        "import os\n",
        "import nltk\n",
        "from nltk.corpus import reuters\n",
        "from nltk.data import find\n",
        "\n",
        "import matplotlib.pyplot as plt\n",
        "\n",
        "import re\n",
        "\n",
        "#This continues to work with gensim 3.8.3.  It doesn't yet work with 4.x.  \n",
        "#Make sure your pip install command specifies gensim==3.8.3\n",
        "import gensim\n",
        "\n",
        "import numpy as np"
      ]
    },
    {
      "cell_type": "markdown",
      "metadata": {
        "id": "FuoGw0MdMlnR"
      },
      "source": [
        "Below is a helper function to plot histories."
      ]
    },
    {
      "cell_type": "code",
      "execution_count": 6,
      "metadata": {
        "id": "qvJ4iSOfNKmE"
      },
      "outputs": [],
      "source": [
        "# 4-window plot of loss and accuracy for two models, for comparison\n",
        "\n",
        "def make_plot(axs,\n",
        "              model_history1, \n",
        "              model_history2, \n",
        "              model_1_name='model 1',\n",
        "              model_2_name='model 2',\n",
        "              ):\n",
        "    box = dict(facecolor='yellow', pad=5, alpha=0.2)\n",
        "\n",
        "    for i, metric in enumerate(['loss', 'accuracy']):\n",
        "        y_lim_lower1 = np.min(model_history1.history[metric])\n",
        "        y_lim_lower2 = np.min(model_history2.history[metric])\n",
        "        y_lim_lower = min(y_lim_lower1, y_lim_lower2) * 0.9\n",
        "\n",
        "        y_lim_upper1 = np.max(model_history1.history[metric])\n",
        "        y_lim_upper2 = np.max(model_history2.history[metric])\n",
        "        y_lim_upper = max(y_lim_upper1, y_lim_upper2) * 1.1\n",
        "\n",
        "        for j, model_history in enumerate([model_history1, model_history2]):\n",
        "            model_name = [model_1_name, model_2_name][j]\n",
        "            ax1 = axs[i, j]\n",
        "            ax1.plot(model_history.history[metric])\n",
        "            ax1.plot(model_history.history['val_%s' % metric])\n",
        "            ax1.set_title('%s - %s' % (metric, model_name))\n",
        "            ax1.set_ylabel(metric, bbox=box)\n",
        "            ax1.set_ylim(y_lim_lower, y_lim_upper)"
      ]
    },
    {
      "cell_type": "markdown",
      "metadata": {
        "id": "OXGeoMS-MlnS"
      },
      "source": [
        "Next, we get the word2vec model from nltk."
      ]
    },
    {
      "cell_type": "code",
      "execution_count": 7,
      "metadata": {
        "colab": {
          "base_uri": "https://localhost:8080/"
        },
        "id": "h5wOh6KbMlnS",
        "outputId": "65b9b7f1-78a2-48fc-ba7b-a68253dee67b"
      },
      "outputs": [
        {
          "output_type": "stream",
          "name": "stderr",
          "text": [
            "[nltk_data] Downloading package word2vec_sample to /root/nltk_data...\n",
            "[nltk_data]   Unzipping models/word2vec_sample.zip.\n"
          ]
        },
        {
          "output_type": "execute_result",
          "data": {
            "text/plain": [
              "True"
            ]
          },
          "metadata": {},
          "execution_count": 7
        }
      ],
      "source": [
        "nltk.download('word2vec_sample')"
      ]
    },
    {
      "cell_type": "code",
      "execution_count": 8,
      "metadata": {
        "id": "9VySoBJYMlnS"
      },
      "outputs": [],
      "source": [
        "word2vec_sample = str(find('models/word2vec_sample/pruned.word2vec.txt'))"
      ]
    },
    {
      "cell_type": "code",
      "execution_count": 9,
      "metadata": {
        "id": "ZvvhhTYgMlnS"
      },
      "outputs": [],
      "source": [
        "model = gensim.models.KeyedVectors.load_word2vec_format(word2vec_sample, binary=False)"
      ]
    },
    {
      "cell_type": "markdown",
      "metadata": {
        "id": "uvcUmdy3MlnS"
      },
      "source": [
        "How many words are in the vocabulary?"
      ]
    },
    {
      "cell_type": "code",
      "execution_count": 10,
      "metadata": {
        "colab": {
          "base_uri": "https://localhost:8080/"
        },
        "id": "Vao1xmYvMlnS",
        "outputId": "c6a9199f-fff1-482a-8fdf-5d7d113459f3"
      },
      "outputs": [
        {
          "output_type": "execute_result",
          "data": {
            "text/plain": [
              "43981"
            ]
          },
          "metadata": {},
          "execution_count": 10
        }
      ],
      "source": [
        "len(model.vocab)"
      ]
    },
    {
      "cell_type": "markdown",
      "metadata": {
        "id": "PcSVLgxZMlnT"
      },
      "source": [
        "How do the word vectors look like? As expected:"
      ]
    },
    {
      "cell_type": "code",
      "execution_count": 11,
      "metadata": {
        "colab": {
          "base_uri": "https://localhost:8080/"
        },
        "id": "8XIi_ZhUMlnT",
        "outputId": "538927e3-65da-4a40-ca20-5ad5554e2484"
      },
      "outputs": [
        {
          "output_type": "execute_result",
          "data": {
            "text/plain": [
              "array([ 3.06035e-02,  8.86877e-02, -1.21269e-02,  7.61965e-02,\n",
              "        5.66269e-02, -4.24702e-02,  4.10129e-02, -4.97567e-02,\n",
              "       -3.64328e-03,  6.32889e-02, -1.42608e-02, -7.91111e-02,\n",
              "        1.74877e-02, -3.83064e-02,  9.26433e-03,  2.95626e-02,\n",
              "        7.70293e-02,  9.49334e-02, -4.28866e-02, -2.95626e-02,\n",
              "        4.45244e-05,  6.82854e-02,  1.73836e-02,  3.14363e-02,\n",
              "        6.53708e-02,  2.89380e-02, -4.39275e-02,  1.78000e-02,\n",
              "        1.82164e-02, -4.70503e-02, -2.85216e-02,  1.79041e-02,\n",
              "        1.06592e-01,  9.07696e-02,  6.78690e-02,  6.16755e-03,\n",
              "       -2.08187e-02,  5.95936e-03,  1.51586e-03,  8.95205e-02,\n",
              "        6.49544e-02, -3.12281e-02,  9.24351e-02, -2.45661e-02,\n",
              "       -1.21269e-02, -1.53538e-03,  6.49544e-02, -1.12421e-02,\n",
              "        9.10819e-03, -6.45380e-02,  4.43439e-02,  1.35738e-01,\n",
              "       -7.91111e-02,  1.57181e-02, -4.72585e-02, -1.35322e-02,\n",
              "       -4.33029e-02, -5.16304e-02,  1.37404e-01, -3.12281e-02,\n",
              "       -6.49544e-02,  1.14087e-01, -6.41217e-02, -5.24632e-02,\n",
              "        4.60094e-02,  2.85216e-02, -9.10819e-03, -4.28866e-02,\n",
              "       -8.74386e-02,  5.01731e-02,  2.62316e-02,  2.89380e-02,\n",
              "        4.55930e-02, -3.28936e-02, -6.49544e-02, -1.80863e-03,\n",
              "       -6.20398e-02,  1.08257e-01,  2.05064e-02,  4.14293e-02,\n",
              "       -3.56521e-03,  4.80912e-02,  2.27965e-02,  7.65088e-03,\n",
              "       -2.40456e-02, -1.40735e-01, -4.16374e-02,  6.07907e-02,\n",
              "       -5.87088e-02,  9.42047e-03,  4.26784e-02, -2.43579e-02,\n",
              "       -6.66199e-02, -2.71945e-03, -3.99719e-02, -1.99860e-02,\n",
              "        3.66409e-02,  1.30742e-01, -4.74667e-02, -8.28585e-02,\n",
              "       -8.86877e-02,  3.45591e-02, -1.79041e-02, -3.53918e-02,\n",
              "       -4.43439e-02,  1.24912e-01,  1.02012e-02, -1.64468e-02,\n",
              "        1.51977e-02, -4.47602e-02, -2.78971e-02,  1.19083e-01,\n",
              "       -4.95486e-02, -6.21959e-03,  1.64052e-01, -3.33099e-02,\n",
              "       -1.24912e-02, -5.78760e-02, -2.30047e-02, -2.34211e-02,\n",
              "       -3.45591e-02, -1.22830e-02,  3.56000e-02,  1.16585e-01,\n",
              "       -2.64398e-02, -2.04023e-02, -4.65819e-03, -4.85076e-02,\n",
              "       -4.68421e-02,  8.61895e-02, -5.49614e-02, -2.85216e-02,\n",
              "       -1.14087e-01,  4.10129e-02,  4.43439e-02, -7.24491e-02,\n",
              "        2.37333e-02,  6.57872e-02,  3.43509e-02,  9.36842e-02,\n",
              "       -9.70152e-02,  4.70503e-02, -3.46111e-03, -2.40456e-02,\n",
              "       -3.85146e-02, -3.31018e-02, -1.54059e-02,  1.54059e-02,\n",
              "        6.74526e-02, -6.66199e-02,  9.65989e-02,  1.21581e-01,\n",
              "       -2.35252e-02,  1.50728e-01, -5.14222e-02,  4.51766e-02,\n",
              "        1.32719e-02, -8.16094e-02, -9.86807e-02, -4.76749e-02,\n",
              "        1.01491e-03,  3.20608e-02, -5.49094e-03,  4.28866e-02,\n",
              "        1.89867e-01, -1.18250e-01,  2.85216e-02, -3.45591e-02,\n",
              "        2.72725e-02,  7.91111e-03, -4.74667e-02,  4.16374e-02,\n",
              "        8.78550e-02, -5.57942e-02,  1.02012e-02,  4.72585e-02,\n",
              "        3.43509e-02, -6.49544e-02,  2.06886e-03,  7.85907e-03,\n",
              "       -3.91392e-02, -1.02844e-01,  3.58082e-02, -4.28866e-02,\n",
              "       -6.57872e-02,  1.17626e-02, -6.99509e-02, -4.33029e-02,\n",
              "       -2.58933e-03,  5.69262e-04, -1.08257e-01,  1.34073e-01,\n",
              "        5.62105e-02, -5.62105e-02,  9.26433e-03, -6.66199e-02,\n",
              "       -6.24562e-02, -2.18597e-02, -5.14222e-02, -9.20187e-02,\n",
              "        1.32199e-02,  5.57942e-02,  4.14293e-02,  2.42018e-03,\n",
              "        9.42047e-03,  5.41287e-02, -5.30877e-03,  2.62316e-02,\n",
              "       -9.52456e-03,  1.06592e-01, -3.06035e-02,  6.74526e-02,\n",
              "       -3.10199e-02,  8.43158e-03,  3.77339e-03, -3.87228e-02,\n",
              "        1.54891e-01, -3.85146e-02,  1.03053e-02, -5.95936e-03,\n",
              "       -2.17556e-02,  1.02532e-02,  2.51126e-03, -4.35111e-02,\n",
              "       -3.77339e-03,  1.30117e-02, -3.33099e-02, -5.45450e-02,\n",
              "        1.64468e-02,  1.22310e-02, -9.74316e-02, -5.33480e-03,\n",
              "        6.57872e-02,  3.89310e-02,  4.49684e-02, -2.74807e-02,\n",
              "       -5.49614e-02, -4.35111e-02, -9.21228e-03, -1.40526e-02,\n",
              "        3.18526e-02,  1.61345e-02,  3.16445e-02, -5.28275e-03,\n",
              "       -1.99860e-02,  2.08187e-03,  4.41357e-02, -3.70573e-02,\n",
              "       -9.65989e-02, -1.08257e-01,  1.53018e-02,  1.89867e-01,\n",
              "        2.37333e-02,  6.78690e-02,  1.15752e-01, -4.62176e-02,\n",
              "        2.66480e-02, -2.38374e-02, -1.06592e-01, -6.62035e-02,\n",
              "       -2.91462e-02, -5.95415e-02, -6.78690e-02, -7.65088e-03,\n",
              "        9.05614e-03,  3.14363e-02,  5.57942e-02, -3.43509e-02,\n",
              "        1.27515e-02,  6.63597e-03, -7.07836e-02,  6.41217e-02,\n",
              "       -2.88860e-03,  4.31988e-03,  4.89240e-02, -6.32889e-02,\n",
              "       -1.95696e-02, -5.95415e-02, -7.41146e-02, -1.82164e-02,\n",
              "       -2.47743e-02,  2.22760e-02, -4.74667e-02,  3.60164e-02,\n",
              "       -1.08778e-02,  5.99579e-02, -7.74456e-02,  7.33860e-03,\n",
              "       -5.87088e-02, -6.29766e-03, -4.89240e-03,  2.74807e-02,\n",
              "       -1.23247e-01, -2.05064e-02, -8.49404e-02, -3.03953e-02,\n",
              "        2.74807e-02, -7.16164e-02, -8.90000e-03, -6.07907e-02],\n",
              "      dtype=float32)"
            ]
          },
          "metadata": {},
          "execution_count": 11
        }
      ],
      "source": [
        "model['great']"
      ]
    },
    {
      "cell_type": "markdown",
      "metadata": {
        "id": "a--OJlw_MlnT"
      },
      "source": [
        "We can now build the embedding matrix and a vocabulary dictionary:"
      ]
    },
    {
      "cell_type": "code",
      "execution_count": 12,
      "metadata": {
        "id": "DvrOdsOcMlnT"
      },
      "outputs": [],
      "source": [
        "EMBEDDING_DIM = len(model['university'])      # we know... it's 300\n",
        "\n",
        "# initialize embedding matrix and word-to-id map:\n",
        "embedding_matrix = np.zeros((len(model.vocab.keys()) + 1, EMBEDDING_DIM))       \n",
        "vocab_dict = {}\n",
        "\n",
        "# build the embedding matrix and the word-to-id map:\n",
        "for i, word in enumerate(model.vocab.keys()):\n",
        "    embedding_vector = model[word]\n",
        "\n",
        "    if embedding_vector is not None:\n",
        "        # words not found in embedding index will be all-zeros.\n",
        "        embedding_matrix[i] = embedding_vector\n",
        "        vocab_dict[word] = i\n",
        "\n",
        "# we can use the last index at the end of the vocab for unknown tokens\n",
        "vocab_dict['[UNK]'] = len(vocab_dict)"
      ]
    },
    {
      "cell_type": "code",
      "execution_count": 13,
      "metadata": {
        "colab": {
          "base_uri": "https://localhost:8080/"
        },
        "id": "19YExA5rMlnT",
        "outputId": "4f221ef8-8534-4f9a-9654-e28ca27b0bed"
      },
      "outputs": [
        {
          "output_type": "execute_result",
          "data": {
            "text/plain": [
              "(43982, 300)"
            ]
          },
          "metadata": {},
          "execution_count": 13
        }
      ],
      "source": [
        "embedding_matrix.shape"
      ]
    },
    {
      "cell_type": "code",
      "execution_count": 14,
      "metadata": {
        "colab": {
          "base_uri": "https://localhost:8080/"
        },
        "id": "lJ9M8iJfUQyZ",
        "outputId": "9deabc71-1fea-443b-d4fc-90663be53ac3"
      },
      "outputs": [
        {
          "output_type": "execute_result",
          "data": {
            "text/plain": [
              "array([[ 0.0891758 ,  0.121832  , -0.0671959 ,  0.0477279 , -0.013659  ],\n",
              "       [ 0.0526281 ,  0.013157  , -0.010104  ,  0.0540819 ,  0.0386715 ],\n",
              "       [ 0.0786419 ,  0.0373911 , -0.0131472 ,  0.0347375 ,  0.0288273 ],\n",
              "       [-0.00157585, -0.0564239 ,  0.00320281,  0.0422498 ,  0.15264399],\n",
              "       [ 0.0356899 , -0.00367283, -0.065534  ,  0.0213832 ,  0.00788408]])"
            ]
          },
          "metadata": {},
          "execution_count": 14
        }
      ],
      "source": [
        "embedding_matrix[:5, :5]"
      ]
    },
    {
      "cell_type": "markdown",
      "metadata": {
        "id": "7Sc3vGORMlnT"
      },
      "source": [
        "[Return to Top](#returnToTop)  \n",
        "<a id = 'creationOfDataset'></a>\n",
        "## 2. Creation of the Dataset\n",
        "\n",
        "### 2.1 Data Acquisition\n",
        "\n",
        "We will use the IMDB dataset delivered as part of the tensorflow-datasets library, and split into training and test sets. For expedience, we will limit ourselves in terms of train and test examples."
      ]
    },
    {
      "cell_type": "code",
      "execution_count": 15,
      "metadata": {
        "colab": {
          "base_uri": "https://localhost:8080/",
          "height": 136,
          "referenced_widgets": [
            "601da30a06ce48028d2d8c69f9c37f98",
            "04dc1d9ce7604e20b8b94b199c81befe",
            "f0fe0215057548ea85baa1f4b34aaee4",
            "c918349584cb41df8b2f15c5aae3b88f",
            "c1131cf24441480aa450fabda8acb978",
            "07d791c9b44944669ba4620459eb1590",
            "df8bddf7743c43b6a16093a5a0c07ea9",
            "0a3146ae5c8b4538a6bb39e2408e5ce9",
            "313be8a201884063991530be4228d141",
            "0f7c8ab71639467a9849921513704405",
            "196bb28eb4e6435685dfddef377c21db",
            "39a8d22b883a4905b63e4d46d7a06d3d",
            "59f95055cdb544a4a3ee0b787038851f",
            "f0ba9bfeb87f406f8a630b6af81d4087",
            "56b3037724ec45e6a32df541e8d6f417",
            "cf680a4f15704c9e9e0b783efc228e9e",
            "3caac51bade04efda5a580b541c42f4e",
            "f30956ab56904f02887d5a0773c86384",
            "3c90eac1ddd84c378699b38d3ecea91d",
            "1807edb968bd458a81cce015d6192a85",
            "4776e227e5614b7a88e0fd4e781ec4a2",
            "1e6a23a250c74612b4d9175eb3533a97",
            "8e58c44926984e9abf978ab2f0ab9c78",
            "d5b68518dcc948f999a5a594e6dd753d",
            "6b6f8bc840c14a68b93ebe98347364d6",
            "b75b252667ed4749b24dc9ac563c6284",
            "e7258fdaf199408a8b5bfb53d6fe1aff",
            "cdb9c215d8a5404094ee8050216a4118",
            "4c19e3828b7e47549f50596998c6d4fc",
            "5e7cd6a2b0b241ddb4900eece2425cce",
            "9776bcc89437416391c9aede5b80045b",
            "2a46ca8ab72f429eaa5c607fcc1293e0",
            "4b6ead82b345491198b31594553247c9",
            "fddea816a0ec435ab6ef63e1e5d2ee68",
            "e723e6658e764a7492fa0f99443ca35e",
            "f35d3e7571b442edb4350a85cc110e88",
            "7cd22035173e447985fd3a80d98d7123",
            "4707582e5e884c9fb536dde5e274482d",
            "1a8df6521f094092b882b405221f1226",
            "e6a3a3f0b2fa4342b04bc4dc8b14f2fd",
            "ec984da614eb456b8805854e2b1c65fd",
            "b7c89ce13ecf40b3aee1c8538330603a",
            "795769faed234b2bb8da86be2a7392c1",
            "f4c74ba4880041fa8980ca3b250e8664",
            "4ab2ba0cf86e43fd8da320925deea7c4",
            "95cb700ea5054ba0bcff30451396301e",
            "6619a15107884e998f05190efc5efc94",
            "42453ee5cd5747d9b061c30eeb60a865",
            "334353b570d34461b60c90263984fc04",
            "99d039a9db0f48eb9eff80c1e71e727f",
            "a8f557e342e3401d9cd685f52b71a0a6",
            "8be1393d3f7b47f0957984bad6d3c71a",
            "06d62beb1eb9462c8716fa2af6e0d278",
            "50e94d4314b44d859c7c2f328b2aabff",
            "5b195254d7344268845900429db67435",
            "696854142b804674aab271b450dfc6b2",
            "b4276aebdefd4d29a8bf1bd15e5ce11a",
            "a52e2fb5964b4828b71c8588232a7ef0",
            "e997e77725ce4e9abd9e0190d775b225",
            "ebba125d213a47e5ba1dc86f11f32e2e",
            "e2ed3d005ba04b89908ad1a458720ca6",
            "f2dfb38849654c26bfe6dd1d6ec8f0c8",
            "11a49e70536346c4a2b1d63cbd390fdb",
            "608a996bff8d4474bb1140bec35677a2",
            "540da59e68ab44eea70e0ec4495b5f45",
            "600fd3017bf24437acb61f1abbf025f3",
            "63b8ef863dde457d9e64f8f040e3ac4b",
            "d0c9ac29cb89438993cdf1ffb663b835",
            "b1f39ce14f2f46b0babfbd7b562cf6b2",
            "8d993ae156044eb5ae313a7c35c2aa0a",
            "c67e11ba45d04e22ab99e50cd260c9d6",
            "e97893f1474b43c1ba1535ee6df65fe0",
            "985f7c5e454d43eb9580ae775636642f",
            "81d2c7344e9a43b29de3a0f018caf1e8",
            "b8e272d2bb8f4bc1a8dddc740bf61e5c",
            "4ab0ef6243854cefaafe5f0e4c49359a",
            "fda12b788d3144ddac57209406646b55",
            "9e176387d1474c9281c76e9ef8b3f091",
            "8a5be8365dc84727a01aa9bccc2bc1df",
            "7ce16cb2b1704f7687ce1745bfa6d666",
            "992a459b286b4239ae4d47876ac21721",
            "eac531e5598e43ae8b0bf97e23073b9a",
            "a39d48dc41a846f6bd3761e92438df54",
            "53c887cc3b5f40b58587b5d4d4af6e9d",
            "055c5167ca5f451d881e12c4b82cf498",
            "04c2e5b483d14a6b9e83ae205601caf5",
            "b184bc3d41e74379a5db2d2e56b138c5",
            "9bc47794aeca4655b2c29e57608c971b",
            "05273ecf7e4043eda316a6b3f0b6d49d",
            "ca67797e370d4b0983e55b9108b9e727",
            "29954ab6b0c04e269071976d735831f0",
            "36d337b1437d49fe8cc61875a1adbb02",
            "249be2aefe894ccd9893be6fd2bb87c5",
            "92efb75b90674875ad3fcc84fb817b7b",
            "03ccdbbe096b4d64957f23f4b9a308aa",
            "68aeca67f12543f2967bdd60b90ff1fe",
            "cfaf5a6ac5e74cc2b37d3c4cfc7abc45",
            "cf5490d1b9694a91ab871bc80890fa10",
            "a99a3ed639fb4017a6dac6598f14c569"
          ]
        },
        "id": "_a5rAWnuMlnT",
        "outputId": "b6ae1774-87c4-4d4f-cea1-91a13ee5e7d1"
      },
      "outputs": [
        {
          "output_type": "stream",
          "name": "stdout",
          "text": [
            "\u001b[1mDownloading and preparing dataset 80.23 MiB (download: 80.23 MiB, generated: Unknown size, total: 80.23 MiB) to ~/tensorflow_datasets/imdb_reviews/plain_text/1.0.0...\u001b[0m\n"
          ]
        },
        {
          "output_type": "display_data",
          "data": {
            "text/plain": [
              "Dl Completed...: 0 url [00:00, ? url/s]"
            ],
            "application/vnd.jupyter.widget-view+json": {
              "version_major": 2,
              "version_minor": 0,
              "model_id": "601da30a06ce48028d2d8c69f9c37f98"
            }
          },
          "metadata": {}
        },
        {
          "output_type": "display_data",
          "data": {
            "text/plain": [
              "Dl Size...: 0 MiB [00:00, ? MiB/s]"
            ],
            "application/vnd.jupyter.widget-view+json": {
              "version_major": 2,
              "version_minor": 0,
              "model_id": "39a8d22b883a4905b63e4d46d7a06d3d"
            }
          },
          "metadata": {}
        },
        {
          "output_type": "display_data",
          "data": {
            "text/plain": [
              "Generating splits...:   0%|          | 0/3 [00:00<?, ? splits/s]"
            ],
            "application/vnd.jupyter.widget-view+json": {
              "version_major": 2,
              "version_minor": 0,
              "model_id": "8e58c44926984e9abf978ab2f0ab9c78"
            }
          },
          "metadata": {}
        },
        {
          "output_type": "display_data",
          "data": {
            "text/plain": [
              "Generating train examples...:   0%|          | 0/25000 [00:00<?, ? examples/s]"
            ],
            "application/vnd.jupyter.widget-view+json": {
              "version_major": 2,
              "version_minor": 0,
              "model_id": "fddea816a0ec435ab6ef63e1e5d2ee68"
            }
          },
          "metadata": {}
        },
        {
          "output_type": "display_data",
          "data": {
            "text/plain": [
              "Shuffling ~/tensorflow_datasets/imdb_reviews/plain_text/1.0.0.incomplete5JA718/imdb_reviews-train.tfrecord*...…"
            ],
            "application/vnd.jupyter.widget-view+json": {
              "version_major": 2,
              "version_minor": 0,
              "model_id": "4ab2ba0cf86e43fd8da320925deea7c4"
            }
          },
          "metadata": {}
        },
        {
          "output_type": "display_data",
          "data": {
            "text/plain": [
              "Generating test examples...:   0%|          | 0/25000 [00:00<?, ? examples/s]"
            ],
            "application/vnd.jupyter.widget-view+json": {
              "version_major": 2,
              "version_minor": 0,
              "model_id": "696854142b804674aab271b450dfc6b2"
            }
          },
          "metadata": {}
        },
        {
          "output_type": "display_data",
          "data": {
            "text/plain": [
              "Shuffling ~/tensorflow_datasets/imdb_reviews/plain_text/1.0.0.incomplete5JA718/imdb_reviews-test.tfrecord*...:…"
            ],
            "application/vnd.jupyter.widget-view+json": {
              "version_major": 2,
              "version_minor": 0,
              "model_id": "63b8ef863dde457d9e64f8f040e3ac4b"
            }
          },
          "metadata": {}
        },
        {
          "output_type": "display_data",
          "data": {
            "text/plain": [
              "Generating unsupervised examples...:   0%|          | 0/50000 [00:00<?, ? examples/s]"
            ],
            "application/vnd.jupyter.widget-view+json": {
              "version_major": 2,
              "version_minor": 0,
              "model_id": "9e176387d1474c9281c76e9ef8b3f091"
            }
          },
          "metadata": {}
        },
        {
          "output_type": "display_data",
          "data": {
            "text/plain": [
              "Shuffling ~/tensorflow_datasets/imdb_reviews/plain_text/1.0.0.incomplete5JA718/imdb_reviews-unsupervised.tfrec…"
            ],
            "application/vnd.jupyter.widget-view+json": {
              "version_major": 2,
              "version_minor": 0,
              "model_id": "05273ecf7e4043eda316a6b3f0b6d49d"
            }
          },
          "metadata": {}
        },
        {
          "output_type": "stream",
          "name": "stdout",
          "text": [
            "\u001b[1mDataset imdb_reviews downloaded and prepared to ~/tensorflow_datasets/imdb_reviews/plain_text/1.0.0. Subsequent calls will reuse this data.\u001b[0m\n"
          ]
        }
      ],
      "source": [
        "train_data, test_data = tfds.load(\n",
        "    name=\"imdb_reviews\", \n",
        "    split=('train[:80%]', 'test[80%:]'),\n",
        "    as_supervised=True)"
      ]
    },
    {
      "cell_type": "code",
      "execution_count": 16,
      "metadata": {
        "id": "2rwgO27KMlnT"
      },
      "outputs": [],
      "source": [
        "train_examples, train_labels = next(iter(train_data.batch(20000)))\n",
        "test_examples, test_labels = next(iter(test_data.batch(5000)))"
      ]
    },
    {
      "cell_type": "code",
      "execution_count": 17,
      "metadata": {
        "colab": {
          "base_uri": "https://localhost:8080/"
        },
        "id": "U8Rz5vdRMlnT",
        "outputId": "155b3d5c-fb58-4244-d6d5-2ac35ca5e95e"
      },
      "outputs": [
        {
          "output_type": "execute_result",
          "data": {
            "text/plain": [
              "<tf.Tensor: shape=(4,), dtype=string, numpy=\n",
              "array([b\"This was an absolutely terrible movie. Don't be lured in by Christopher Walken or Michael Ironside. Both are great actors, but this must simply be their worst role in history. Even their great acting could not redeem this movie's ridiculous storyline. This movie is an early nineties US propaganda piece. The most pathetic scenes were those when the Columbian rebels were making their cases for revolutions. Maria Conchita Alonso appeared phony, and her pseudo-love affair with Walken was nothing but a pathetic emotional plug in a movie that was devoid of any real meaning. I am disappointed that there are movies like this, ruining actor's like Christopher Walken's good name. I could barely sit through it.\",\n",
              "       b'I have been known to fall asleep during films, but this is usually due to a combination of things including, really tired, being warm and comfortable on the sette and having just eaten a lot. However on this occasion I fell asleep because the film was rubbish. The plot development was constant. Constantly slow and boring. Things seemed to happen, but with no explanation of what was causing them or why. I admit, I may have missed part of the film, but i watched the majority of it and everything just seemed to happen of its own accord without any real concern for anything else. I cant recommend this film at all.',\n",
              "       b'Mann photographs the Alberta Rocky Mountains in a superb fashion, and Jimmy Stewart and Walter Brennan give enjoyable performances as they always seem to do. <br /><br />But come on Hollywood - a Mountie telling the people of Dawson City, Yukon to elect themselves a marshal (yes a marshal!) and to enforce the law themselves, then gunfighters battling it out on the streets for control of the town? <br /><br />Nothing even remotely resembling that happened on the Canadian side of the border during the Klondike gold rush. Mr. Mann and company appear to have mistaken Dawson City for Deadwood, the Canadian North for the American Wild West.<br /><br />Canadian viewers be prepared for a Reefer Madness type of enjoyable howl with this ludicrous plot, or, to shake your head in disgust.',\n",
              "       b'This is the kind of film for a snowy Sunday afternoon when the rest of the world can go ahead with its own business as you descend into a big arm-chair and mellow for a couple of hours. Wonderful performances from Cher and Nicolas Cage (as always) gently row the plot along. There are no rapids to cross, no dangerous waters, just a warm and witty paddle through New York life at its best. A family film in every sense and one that deserves the praise it received.'],\n",
              "      dtype=object)>"
            ]
          },
          "metadata": {},
          "execution_count": 17
        }
      ],
      "source": [
        "train_examples[:4]"
      ]
    },
    {
      "cell_type": "raw",
      "metadata": {
        "id": "Dh5xIUqOMlnT"
      },
      "source": [
        "train_examples = np.array([x.decode('utf-8') for x in train_examples_batch.numpy()])\n",
        "test_examples = np.array([x.decode('utf-8') for x in test_examples_batch.numpy()])\n",
        "\n",
        "train_labels = train_labels_batch.numpy()\n",
        "test_labels = test_labels_batch.numpy()"
      ]
    },
    {
      "cell_type": "code",
      "execution_count": 18,
      "metadata": {
        "colab": {
          "base_uri": "https://localhost:8080/"
        },
        "id": "d9sE7RYoMlnT",
        "outputId": "b9e91be4-19fe-450f-a91e-1a806bd50902"
      },
      "outputs": [
        {
          "output_type": "execute_result",
          "data": {
            "text/plain": [
              "<tf.Tensor: shape=(4,), dtype=int64, numpy=array([0, 0, 0, 1])>"
            ]
          },
          "metadata": {},
          "execution_count": 18
        }
      ],
      "source": [
        "train_labels[:4]"
      ]
    },
    {
      "cell_type": "markdown",
      "metadata": {
        "id": "pkasJbOpMlnU"
      },
      "source": [
        "Next, we tokenize the data:"
      ]
    },
    {
      "cell_type": "code",
      "execution_count": 19,
      "metadata": {
        "id": "AsJVAaCXMlnU"
      },
      "outputs": [],
      "source": [
        "tokenizer = tf_text.WhitespaceTokenizer()\n",
        "train_tokens = tokenizer.tokenize(train_examples)\n",
        "test_tokens = tokenizer.tokenize(test_examples)"
      ]
    },
    {
      "cell_type": "markdown",
      "metadata": {
        "id": "_8fiq7WVMlnU"
      },
      "source": [
        "Does this look right?"
      ]
    },
    {
      "cell_type": "code",
      "execution_count": 20,
      "metadata": {
        "colab": {
          "base_uri": "https://localhost:8080/"
        },
        "id": "XfWbd8UPMlnU",
        "outputId": "deef4a6a-8247-4e17-a195-7caf80f7da9c"
      },
      "outputs": [
        {
          "output_type": "execute_result",
          "data": {
            "text/plain": [
              "<tf.Tensor: shape=(116,), dtype=string, numpy=\n",
              "array([b'This', b'was', b'an', b'absolutely', b'terrible', b'movie.',\n",
              "       b\"Don't\", b'be', b'lured', b'in', b'by', b'Christopher', b'Walken',\n",
              "       b'or', b'Michael', b'Ironside.', b'Both', b'are', b'great',\n",
              "       b'actors,', b'but', b'this', b'must', b'simply', b'be', b'their',\n",
              "       b'worst', b'role', b'in', b'history.', b'Even', b'their', b'great',\n",
              "       b'acting', b'could', b'not', b'redeem', b'this', b\"movie's\",\n",
              "       b'ridiculous', b'storyline.', b'This', b'movie', b'is', b'an',\n",
              "       b'early', b'nineties', b'US', b'propaganda', b'piece.', b'The',\n",
              "       b'most', b'pathetic', b'scenes', b'were', b'those', b'when',\n",
              "       b'the', b'Columbian', b'rebels', b'were', b'making', b'their',\n",
              "       b'cases', b'for', b'revolutions.', b'Maria', b'Conchita',\n",
              "       b'Alonso', b'appeared', b'phony,', b'and', b'her', b'pseudo-love',\n",
              "       b'affair', b'with', b'Walken', b'was', b'nothing', b'but', b'a',\n",
              "       b'pathetic', b'emotional', b'plug', b'in', b'a', b'movie', b'that',\n",
              "       b'was', b'devoid', b'of', b'any', b'real', b'meaning.', b'I',\n",
              "       b'am', b'disappointed', b'that', b'there', b'are', b'movies',\n",
              "       b'like', b'this,', b'ruining', b\"actor's\", b'like', b'Christopher',\n",
              "       b\"Walken's\", b'good', b'name.', b'I', b'could', b'barely', b'sit',\n",
              "       b'through', b'it.'], dtype=object)>"
            ]
          },
          "metadata": {},
          "execution_count": 20
        }
      ],
      "source": [
        "train_tokens[0]"
      ]
    },
    {
      "cell_type": "markdown",
      "metadata": {
        "id": "9qvhRJ2HMlnU"
      },
      "source": [
        "Yup... looks right. Of course we will need to take care of the encoding later."
      ]
    },
    {
      "cell_type": "markdown",
      "metadata": {
        "id": "bY4nDQaoMlnU"
      },
      "source": [
        "### 2.2 Data Preparation\n",
        "\n",
        "For the models we will use, we need to define a maximum sequence length (max number of tokens per movie review that we'll feed into our model). We'll cut off any tokens longer than that, and we'll pad shorter movie reviews with zeros at the end."
      ]
    },
    {
      "cell_type": "code",
      "execution_count": 21,
      "metadata": {
        "id": "CmHtHIw-MlnU"
      },
      "outputs": [],
      "source": [
        "MAX_SEQUENCE_LENGTH = 128"
      ]
    },
    {
      "cell_type": "markdown",
      "metadata": {
        "id": "bPJ6awp2MlnU"
      },
      "source": [
        "Next, we define a simple function that converts the tokens of each movie review into their word2vec vocabulary index values.   "
      ]
    },
    {
      "cell_type": "code",
      "execution_count": 22,
      "metadata": {
        "id": "O2wWKarvMlnU"
      },
      "outputs": [],
      "source": [
        "def docs_to_vocab_ids(tokenized_texts_list):\n",
        "    \"\"\"\n",
        "    converting a list of strings to a list of lists of word ids\n",
        "    \"\"\"\n",
        "    texts_vocab_ids = []\n",
        "    for i, token_list in enumerate(tokenized_texts_list):\n",
        "\n",
        "        # Get the vocab id for each token in this doc ([UNK] if not in vocab)\n",
        "        vocab_ids = []\n",
        "        for token in list(token_list.numpy()):\n",
        "            decoded = token.decode('utf-8', errors='ignore')\n",
        "            if decoded in vocab_dict:\n",
        "                vocab_ids.append(vocab_dict[decoded])\n",
        "            else:\n",
        "                vocab_ids.append(vocab_dict['[UNK]'])\n",
        "            \n",
        "        # Truncate text to max length, add padding up to max length\n",
        "        vocab_ids = vocab_ids[:MAX_SEQUENCE_LENGTH]\n",
        "        n_padding = (MAX_SEQUENCE_LENGTH - len(vocab_ids))\n",
        "        # For simplicity in this model, we'll just pad with uknown tokens\n",
        "        vocab_ids += [vocab_dict['[UNK]']] * n_padding\n",
        "\n",
        "        # Add this example to the list of converted docs\n",
        "        texts_vocab_ids.append(vocab_ids)\n",
        "            \n",
        "        if i % 5000 == 0:\n",
        "            print('Examples processed: ', i)\n",
        "\n",
        "    return np.array(texts_vocab_ids)"
      ]
    },
    {
      "cell_type": "markdown",
      "metadata": {
        "id": "Tpt4_70BMlnU"
      },
      "source": [
        "Now we can create training and test data that can be fed into the models of interest."
      ]
    },
    {
      "cell_type": "code",
      "execution_count": 23,
      "metadata": {
        "colab": {
          "base_uri": "https://localhost:8080/"
        },
        "id": "J9m_pOqVMlnU",
        "outputId": "d2ec9a1e-a4f5-416b-f9bf-fd1f378cfa7f"
      },
      "outputs": [
        {
          "output_type": "stream",
          "name": "stdout",
          "text": [
            "Examples processed:  0\n",
            "Examples processed:  5000\n",
            "Examples processed:  10000\n",
            "Examples processed:  15000\n",
            "Examples processed:  0\n"
          ]
        }
      ],
      "source": [
        "train_input = docs_to_vocab_ids(train_tokens)\n",
        "test_input = docs_to_vocab_ids(test_tokens)\n",
        "\n",
        "train_labels = np.array(train_labels)\n",
        "test_labels = np.array(test_labels)"
      ]
    },
    {
      "cell_type": "markdown",
      "metadata": {
        "id": "2ycaqQNyMlnU"
      },
      "source": [
        "Let's convince ourselves that the data looks correct:"
      ]
    },
    {
      "cell_type": "code",
      "execution_count": 24,
      "metadata": {
        "colab": {
          "base_uri": "https://localhost:8080/"
        },
        "id": "NOY1newUMlnU",
        "outputId": "8565b33f-8521-4313-9336-0f397e027a3f"
      },
      "outputs": [
        {
          "output_type": "execute_result",
          "data": {
            "text/plain": [
              "array([[21531, 25272, 12291,  7427, 37254, 43981,  6891, 12917, 38232,\n",
              "        16915, 12929, 16182, 43981, 20526, 23487, 43981, 23807, 42958,\n",
              "        35058, 43981, 19123, 35029, 41270, 29275, 12917, 32597, 20659,\n",
              "          638, 16915, 43981,   174, 32597, 35058, 39971,  2326,  3636,\n",
              "        22434, 35029, 43981, 33922, 43981, 21531, 34710, 16908, 12291,\n",
              "        36880, 28137,  5376, 28038, 43981, 15402, 29155, 18063, 24951,\n",
              "        17433, 17595,  8856, 14193, 43981, 43248, 17433,  6290, 32597,\n",
              "         9001, 11511, 43981, 21807, 39168, 43981, 16856, 43981, 43981,\n",
              "        23245, 43981,  8889,  1331, 43981, 25272, 31976, 19123, 43981,\n",
              "        18063, 36309, 24099, 16915, 43981, 34710, 36633, 25272, 20413,\n",
              "        43981, 33458, 14926, 43981, 12139, 12289, 39617, 36633,  9483,\n",
              "        42958,  5589,  8092, 43981, 34516, 43981,  8092, 16182, 43981,\n",
              "        39933, 43981, 12139,  2326, 32781, 32467,  7046, 43981, 43981,\n",
              "        43981, 43981, 43981, 43981, 43981, 43981, 43981, 43981, 43981,\n",
              "        43981, 43981],\n",
              "       [12139,  7841, 19666, 31757, 43981, 17853, 25745, 15445, 43981,\n",
              "        19123, 35029, 16908, 21113, 21068, 43981, 43981,  5668, 43981,\n",
              "        33456, 43981, 34554, 43981,  1200, 27498, 43981, 18802, 20514,\n",
              "        14193, 43981, 43981, 23955, 14042, 15400, 43981, 43981, 32334,\n",
              "        20514, 35029,  7870, 12139, 17108, 25745, 43830, 14193, 28743,\n",
              "        25272, 43981, 15402, 17006,   222, 25272, 43981, 43981, 33994,\n",
              "        43981, 43981, 42659, 12375, 43981, 43981, 19123,  1331, 19870,\n",
              "         7816, 43981, 31696, 25272, 23801, 13877, 20526, 43981, 12139,\n",
              "        43981, 12139, 37939,  7841, 24998, 29109, 43981, 14193, 43981,\n",
              "        19123, 16266,  8017, 14193, 43099, 43981, 16909, 43981, 30811,\n",
              "        14042, 12375, 43981, 25574, 43981, 34511, 21851, 14087,  9370,\n",
              "        33458, 14926, 14799, 11511, 12936, 43981, 12139,  5935, 16531,\n",
              "        35029, 28743, 40418, 43981, 43981, 43981, 43981, 43981, 43981,\n",
              "        43981, 43981, 43981, 43981, 43981, 43981, 43981, 43981, 43981,\n",
              "        43981, 43981]])"
            ]
          },
          "metadata": {},
          "execution_count": 24
        }
      ],
      "source": [
        "train_input[:2]"
      ]
    },
    {
      "cell_type": "code",
      "execution_count": 25,
      "metadata": {
        "colab": {
          "base_uri": "https://localhost:8080/"
        },
        "id": "WcfkqFlvMlnU",
        "outputId": "bea7a8ec-18d9-4e1f-e14b-d3fe98cab8fc"
      },
      "outputs": [
        {
          "output_type": "execute_result",
          "data": {
            "text/plain": [
              "array([0, 0, 0, 1])"
            ]
          },
          "metadata": {},
          "execution_count": 25
        }
      ],
      "source": [
        "train_labels[:4]"
      ]
    },
    {
      "cell_type": "markdown",
      "metadata": {
        "id": "ePxwJP48MlnU"
      },
      "source": [
        "[Return to Top](#returnToTop)  \n",
        "<a id = 'modeling'></a>\n",
        "## 3. Modeling\n",
        "\n",
        "<a id = 'averagingNetwork'></a>\n",
        "### 3.1 Averaging Network (AN) Model\n",
        "\n",
        "Let us start by defining the embedding layer, then we'll average the embeddings and pass them into our classification layer."
      ]
    },
    {
      "cell_type": "code",
      "execution_count": 26,
      "metadata": {
        "id": "3pqP3_6VeTQ-"
      },
      "outputs": [],
      "source": [
        "an_input_layer = tf.keras.layers.Input(shape=(MAX_SEQUENCE_LENGTH,), dtype='int64')"
      ]
    },
    {
      "cell_type": "code",
      "execution_count": 27,
      "metadata": {
        "id": "kuhtMfRzMlnV"
      },
      "outputs": [],
      "source": [
        "an_embedding_layer = Embedding(embedding_matrix.shape[0],\n",
        "                               embedding_matrix.shape[1],\n",
        "                               embeddings_initializer=tf.keras.initializers.Constant(embedding_matrix),\n",
        "                               input_length=MAX_SEQUENCE_LENGTH,\n",
        "                               trainable=False)"
      ]
    },
    {
      "cell_type": "code",
      "execution_count": 28,
      "metadata": {
        "id": "IJP0bf8lMlnV"
      },
      "outputs": [],
      "source": [
        "an_embeddings = an_embedding_layer(an_input_layer)"
      ]
    },
    {
      "cell_type": "code",
      "execution_count": 29,
      "metadata": {
        "id": "9x-hGIfJMlnV"
      },
      "outputs": [],
      "source": [
        "an_avg_embeddings = tf.keras.layers.Lambda(lambda x: K.mean(x, axis=1), name='averaging')(an_embeddings)"
      ]
    },
    {
      "cell_type": "code",
      "execution_count": 30,
      "metadata": {
        "id": "JnHSyTJoMlnV"
      },
      "outputs": [],
      "source": [
        "an_classification = tf.keras.layers.Dense(1, \n",
        "                                          activation='sigmoid', \n",
        "                                          name='an_classification')(an_avg_embeddings)"
      ]
    },
    {
      "cell_type": "code",
      "execution_count": 31,
      "metadata": {
        "id": "xnCtk8N6MlnV"
      },
      "outputs": [],
      "source": [
        "an_model = tf.keras.models.Model(inputs=an_input_layer, outputs=[an_classification])"
      ]
    },
    {
      "cell_type": "code",
      "execution_count": 32,
      "metadata": {
        "id": "Hait_XiLMlnV"
      },
      "outputs": [],
      "source": [
        "an_model.compile(loss='binary_crossentropy',\n",
        "                 optimizer=tf.keras.optimizers.Adam(learning_rate=0.001,\n",
        "                                                    beta_1=0.9,\n",
        "                                                    beta_2=0.999,\n",
        "                                                    epsilon=1e-07,\n",
        "                                                    amsgrad=False,\n",
        "                                                    name='Adam'),\n",
        "                 metrics='accuracy')"
      ]
    },
    {
      "cell_type": "code",
      "execution_count": 33,
      "metadata": {
        "colab": {
          "base_uri": "https://localhost:8080/"
        },
        "id": "5a3lU-rCMlnV",
        "outputId": "70458abb-53af-4e9d-9314-b30f3ef93be7"
      },
      "outputs": [
        {
          "output_type": "stream",
          "name": "stdout",
          "text": [
            "Model: \"model\"\n",
            "_________________________________________________________________\n",
            " Layer (type)                Output Shape              Param #   \n",
            "=================================================================\n",
            " input_1 (InputLayer)        [(None, 128)]             0         \n",
            "                                                                 \n",
            " embedding (Embedding)       (None, 128, 300)          13194600  \n",
            "                                                                 \n",
            " averaging (Lambda)          (None, 300)               0         \n",
            "                                                                 \n",
            " an_classification (Dense)   (None, 1)                 301       \n",
            "                                                                 \n",
            "=================================================================\n",
            "Total params: 13,194,901\n",
            "Trainable params: 301\n",
            "Non-trainable params: 13,194,600\n",
            "_________________________________________________________________\n"
          ]
        }
      ],
      "source": [
        "an_model.summary()"
      ]
    },
    {
      "cell_type": "code",
      "execution_count": 34,
      "metadata": {
        "colab": {
          "base_uri": "https://localhost:8080/",
          "height": 397
        },
        "id": "lhyGPsK0MlnV",
        "outputId": "b0d261b2-3ac1-45fd-9054-d515fe217c6c"
      },
      "outputs": [
        {
          "output_type": "execute_result",
          "data": {
            "image/png": "[encoded data removed]",
            "text/plain": [
              "<IPython.core.display.Image object>"
            ]
          },
          "metadata": {},
          "execution_count": 34
        }
      ],
      "source": [
        "keras.utils.plot_model(an_model, show_shapes=True, dpi=90)"
      ]
    },
    {
      "cell_type": "markdown",
      "metadata": {
        "id": "s3mrVye_MlnV"
      },
      "source": [
        "Let's look at the predictions and labels before training. Do those make sense?"
      ]
    },
    {
      "cell_type": "code",
      "execution_count": 35,
      "metadata": {
        "colab": {
          "base_uri": "https://localhost:8080/"
        },
        "id": "GwRb8foUMlnV",
        "outputId": "4027e6af-a171-4684-82b4-40aa2fe4446f"
      },
      "outputs": [
        {
          "output_type": "stream",
          "name": "stdout",
          "text": [
            "predictions:\n",
            " [[0.49747592]\n",
            " [0.4978235 ]\n",
            " [0.5029473 ]\n",
            " [0.49828908]\n",
            " [0.5005155 ]]\n",
            "\n",
            "\n",
            "labels:\n",
            " [0 0 0 1 1]\n"
          ]
        }
      ],
      "source": [
        "print('predictions:\\n', an_model.predict(train_input[:5]))\n",
        "print('\\n\\nlabels:\\n', train_labels[:5])"
      ]
    },
    {
      "cell_type": "code",
      "execution_count": 36,
      "metadata": {
        "colab": {
          "base_uri": "https://localhost:8080/"
        },
        "id": "VLdk2sCdMlnV",
        "outputId": "35e4f839-ed21-4305-a92a-3fb32cf5a6af"
      },
      "outputs": [
        {
          "output_type": "stream",
          "name": "stdout",
          "text": [
            "Epoch 1/20\n",
            "625/625 [==============================] - 3s 3ms/step - loss: 0.6875 - accuracy: 0.5834 - val_loss: 0.6834 - val_accuracy: 0.6464\n",
            "Epoch 2/20\n",
            "625/625 [==============================] - 2s 3ms/step - loss: 0.6775 - accuracy: 0.6468 - val_loss: 0.6754 - val_accuracy: 0.6354\n",
            "Epoch 3/20\n",
            "625/625 [==============================] - 2s 3ms/step - loss: 0.6689 - accuracy: 0.6634 - val_loss: 0.6681 - val_accuracy: 0.6532\n",
            "Epoch 4/20\n",
            "625/625 [==============================] - 2s 3ms/step - loss: 0.6613 - accuracy: 0.6680 - val_loss: 0.6617 - val_accuracy: 0.6554\n",
            "Epoch 5/20\n",
            "625/625 [==============================] - 2s 2ms/step - loss: 0.6544 - accuracy: 0.6730 - val_loss: 0.6558 - val_accuracy: 0.6618\n",
            "Epoch 6/20\n",
            "625/625 [==============================] - 2s 3ms/step - loss: 0.6480 - accuracy: 0.6791 - val_loss: 0.6508 - val_accuracy: 0.6658\n",
            "Epoch 7/20\n",
            "625/625 [==============================] - 2s 3ms/step - loss: 0.6422 - accuracy: 0.6827 - val_loss: 0.6452 - val_accuracy: 0.6720\n",
            "Epoch 8/20\n",
            "625/625 [==============================] - 2s 3ms/step - loss: 0.6367 - accuracy: 0.6877 - val_loss: 0.6402 - val_accuracy: 0.6740\n",
            "Epoch 9/20\n",
            "625/625 [==============================] - 2s 3ms/step - loss: 0.6315 - accuracy: 0.6921 - val_loss: 0.6357 - val_accuracy: 0.6784\n",
            "Epoch 10/20\n",
            "625/625 [==============================] - 2s 2ms/step - loss: 0.6266 - accuracy: 0.6964 - val_loss: 0.6313 - val_accuracy: 0.6828\n",
            "Epoch 11/20\n",
            "625/625 [==============================] - 2s 2ms/step - loss: 0.6220 - accuracy: 0.7006 - val_loss: 0.6269 - val_accuracy: 0.6838\n",
            "Epoch 12/20\n",
            "625/625 [==============================] - 2s 3ms/step - loss: 0.6177 - accuracy: 0.7036 - val_loss: 0.6233 - val_accuracy: 0.6900\n",
            "Epoch 13/20\n",
            "625/625 [==============================] - 2s 2ms/step - loss: 0.6134 - accuracy: 0.7070 - val_loss: 0.6191 - val_accuracy: 0.6894\n",
            "Epoch 14/20\n",
            "625/625 [==============================] - 2s 3ms/step - loss: 0.6094 - accuracy: 0.7102 - val_loss: 0.6158 - val_accuracy: 0.6970\n",
            "Epoch 15/20\n",
            "625/625 [==============================] - 2s 2ms/step - loss: 0.6057 - accuracy: 0.7133 - val_loss: 0.6122 - val_accuracy: 0.7006\n",
            "Epoch 16/20\n",
            "625/625 [==============================] - 2s 3ms/step - loss: 0.6021 - accuracy: 0.7160 - val_loss: 0.6088 - val_accuracy: 0.7022\n",
            "Epoch 17/20\n",
            "625/625 [==============================] - 2s 3ms/step - loss: 0.5986 - accuracy: 0.7176 - val_loss: 0.6056 - val_accuracy: 0.7040\n",
            "Epoch 18/20\n",
            "625/625 [==============================] - 2s 2ms/step - loss: 0.5952 - accuracy: 0.7210 - val_loss: 0.6025 - val_accuracy: 0.7080\n",
            "Epoch 19/20\n",
            "625/625 [==============================] - 2s 3ms/step - loss: 0.5920 - accuracy: 0.7219 - val_loss: 0.5997 - val_accuracy: 0.7100\n",
            "Epoch 20/20\n",
            "625/625 [==============================] - 2s 2ms/step - loss: 0.5890 - accuracy: 0.7236 - val_loss: 0.5968 - val_accuracy: 0.7120\n"
          ]
        }
      ],
      "source": [
        "an_history = an_model.fit(train_input,\n",
        "                          train_labels,\n",
        "                          validation_data=(test_input, test_labels),\n",
        "                          batch_size=32,\n",
        "                          epochs=20\n",
        "                          )"
      ]
    },
    {
      "cell_type": "markdown",
      "metadata": {
        "id": "oUdddsevMlnV"
      },
      "source": [
        "Let's revisit the predictions. How is this?"
      ]
    },
    {
      "cell_type": "code",
      "execution_count": 37,
      "metadata": {
        "colab": {
          "base_uri": "https://localhost:8080/"
        },
        "id": "Dazj7jEfMlnV",
        "outputId": "dcd18bc9-7962-48a1-b177-424378ab6e4e"
      },
      "outputs": [
        {
          "output_type": "stream",
          "name": "stdout",
          "text": [
            "predictions:\n",
            " [[0.32614532]\n",
            " [0.31061164]\n",
            " [0.5986833 ]\n",
            " [0.6317239 ]\n",
            " [0.5299526 ]]\n",
            "\n",
            "\n",
            "labels:\n",
            " [0 0 0 1 1]\n"
          ]
        }
      ],
      "source": [
        "print('predictions:\\n', an_model.predict(train_input[:5]))\n",
        "print('\\n\\nlabels:\\n', train_labels[:5])"
      ]
    },
    {
      "cell_type": "markdown",
      "metadata": {
        "id": "6yDQcGMlMlnV"
      },
      "source": [
        "That learned somewhat, can we do better?\n",
        "\n",
        "[Return to Top](#returnToTop)  \n",
        "<a id = 'modelDAN'></a>\n",
        "### 3.2. Deep Averaging Network (DAN)\n",
        "\n",
        "Now let's add some hidden layers after the averaging layer, to give our model more depth. The first and last layers are the same as above.\n",
        "\n",
        "We'll also put our model creation code into a function, with variables for the things we can change (in this case, the hidden layers). Then we can try different values later."
      ]
    },
    {
      "cell_type": "code",
      "execution_count": 38,
      "metadata": {
        "id": "ygOwHEqLMlnV"
      },
      "outputs": [],
      "source": [
        "def build_dan_model(hidden_layer_dims, dropout_rate, embeddings_trainable=False):\n",
        "    dan_input_layer = tf.keras.layers.Input(shape=(MAX_SEQUENCE_LENGTH,), dtype='int64')\n",
        "    dan_embedding_layer = Embedding(embedding_matrix.shape[0],\n",
        "                                    embedding_matrix.shape[1],\n",
        "                                    embeddings_initializer=tf.keras.initializers.Constant(embedding_matrix),\n",
        "                                    input_length=MAX_SEQUENCE_LENGTH,\n",
        "                                    trainable=embeddings_trainable)\n",
        "    dan_embeddings = dan_embedding_layer(dan_input_layer)\n",
        "    dan_avg_embeddings = tf.keras.layers.Lambda(lambda x: K.mean(x, axis=1),\n",
        "                                                name='averaging')(dan_embeddings)\n",
        "    last_hidden_output = dan_avg_embeddings\n",
        "\n",
        "    for i, h_dim in enumerate(hidden_layer_dims):\n",
        "        last_hidden_output = tf.keras.layers.Dense(h_dim, activation='relu',\n",
        "                                                   name='dan_hidden_%d' % i)(last_hidden_output)\n",
        "        last_hidden_output = tf.keras.layers.Dropout(dropout_rate)(last_hidden_output)\n",
        "    \n",
        "    dan_classification = tf.keras.layers.Dense(1,\n",
        "                                               activation='sigmoid',\n",
        "                                               name='dan_classification')(last_hidden_output)\n",
        "    \n",
        "    dan_model = tf.keras.models.Model(inputs=dan_input_layer, outputs=[dan_classification])\n",
        "    dan_model.compile(loss='binary_crossentropy',\n",
        "                      optimizer=tf.keras.optimizers.Adam(learning_rate=0.001,\n",
        "                                                         beta_1=0.9,\n",
        "                                                         beta_2=0.999,\n",
        "                                                         epsilon=1e-07,\n",
        "                                                         amsgrad=False,\n",
        "                                                         name='Adam'),\n",
        "                      metrics='accuracy')\n",
        "    return dan_model"
      ]
    },
    {
      "cell_type": "code",
      "execution_count": 39,
      "metadata": {
        "colab": {
          "base_uri": "https://localhost:8080/",
          "height": 812
        },
        "id": "QRXwMFi3MlnV",
        "outputId": "2ccde682-0aba-4c4e-fa6c-ebec6e77ef3a"
      },
      "outputs": [
        {
          "output_type": "execute_result",
          "data": {
            "image/png": "[encoded data removed]",
            "text/plain": [
              "<IPython.core.display.Image object>"
            ]
          },
          "metadata": {},
          "execution_count": 39
        }
      ],
      "source": [
        "# Now call our function to create a DAN model, and show the model diagram\n",
        "\n",
        "hidden_layer_sizes = [100, 50]\n",
        "dropout_rate = 0.5\n",
        "\n",
        "dan_model = build_dan_model(hidden_layer_sizes, dropout_rate)\n",
        "keras.utils.plot_model(dan_model, show_shapes=True, dpi=90)"
      ]
    },
    {
      "cell_type": "code",
      "execution_count": 40,
      "metadata": {
        "colab": {
          "base_uri": "https://localhost:8080/"
        },
        "id": "ONqclasBMlnW",
        "outputId": "259ccfb2-baf1-4ae4-93b9-99fe77afac10"
      },
      "outputs": [
        {
          "output_type": "stream",
          "name": "stdout",
          "text": [
            "Epoch 1/20\n",
            "625/625 [==============================] - 3s 3ms/step - loss: 0.6423 - accuracy: 0.6262 - val_loss: 0.5657 - val_accuracy: 0.7190\n",
            "Epoch 2/20\n",
            "625/625 [==============================] - 2s 3ms/step - loss: 0.5360 - accuracy: 0.7375 - val_loss: 0.5130 - val_accuracy: 0.7496\n",
            "Epoch 3/20\n",
            "625/625 [==============================] - 2s 3ms/step - loss: 0.5127 - accuracy: 0.7520 - val_loss: 0.5178 - val_accuracy: 0.7474\n",
            "Epoch 4/20\n",
            "625/625 [==============================] - 2s 3ms/step - loss: 0.4992 - accuracy: 0.7624 - val_loss: 0.4855 - val_accuracy: 0.7638\n",
            "Epoch 5/20\n",
            "625/625 [==============================] - 2s 3ms/step - loss: 0.4895 - accuracy: 0.7659 - val_loss: 0.4848 - val_accuracy: 0.7676\n",
            "Epoch 6/20\n",
            "625/625 [==============================] - 2s 3ms/step - loss: 0.4854 - accuracy: 0.7675 - val_loss: 0.4741 - val_accuracy: 0.7732\n",
            "Epoch 7/20\n",
            "625/625 [==============================] - 2s 3ms/step - loss: 0.4803 - accuracy: 0.7715 - val_loss: 0.4901 - val_accuracy: 0.7576\n",
            "Epoch 8/20\n",
            "625/625 [==============================] - 2s 3ms/step - loss: 0.4752 - accuracy: 0.7739 - val_loss: 0.4693 - val_accuracy: 0.7756\n",
            "Epoch 9/20\n",
            "625/625 [==============================] - 2s 3ms/step - loss: 0.4738 - accuracy: 0.7745 - val_loss: 0.4691 - val_accuracy: 0.7736\n",
            "Epoch 10/20\n",
            "625/625 [==============================] - 2s 3ms/step - loss: 0.4716 - accuracy: 0.7801 - val_loss: 0.4689 - val_accuracy: 0.7736\n",
            "Epoch 11/20\n",
            "625/625 [==============================] - 2s 3ms/step - loss: 0.4670 - accuracy: 0.7768 - val_loss: 0.4677 - val_accuracy: 0.7740\n",
            "Epoch 12/20\n",
            "625/625 [==============================] - 2s 3ms/step - loss: 0.4679 - accuracy: 0.7782 - val_loss: 0.4623 - val_accuracy: 0.7762\n",
            "Epoch 13/20\n",
            "625/625 [==============================] - 2s 3ms/step - loss: 0.4636 - accuracy: 0.7811 - val_loss: 0.4647 - val_accuracy: 0.7742\n",
            "Epoch 14/20\n",
            "625/625 [==============================] - 2s 3ms/step - loss: 0.4640 - accuracy: 0.7829 - val_loss: 0.4665 - val_accuracy: 0.7732\n",
            "Epoch 15/20\n",
            "625/625 [==============================] - 2s 3ms/step - loss: 0.4619 - accuracy: 0.7839 - val_loss: 0.4653 - val_accuracy: 0.7776\n",
            "Epoch 16/20\n",
            "625/625 [==============================] - 2s 3ms/step - loss: 0.4605 - accuracy: 0.7844 - val_loss: 0.4964 - val_accuracy: 0.7688\n",
            "Epoch 17/20\n",
            "625/625 [==============================] - 2s 3ms/step - loss: 0.4610 - accuracy: 0.7837 - val_loss: 0.4608 - val_accuracy: 0.7770\n",
            "Epoch 18/20\n",
            "625/625 [==============================] - 2s 3ms/step - loss: 0.4583 - accuracy: 0.7858 - val_loss: 0.4628 - val_accuracy: 0.7772\n",
            "Epoch 19/20\n",
            "625/625 [==============================] - 3s 4ms/step - loss: 0.4585 - accuracy: 0.7849 - val_loss: 0.4634 - val_accuracy: 0.7740\n",
            "Epoch 20/20\n",
            "625/625 [==============================] - 2s 3ms/step - loss: 0.4578 - accuracy: 0.7839 - val_loss: 0.4565 - val_accuracy: 0.7810\n"
          ]
        }
      ],
      "source": [
        "dan_history = dan_model.fit(train_input,\n",
        "                            train_labels,\n",
        "                            validation_data=(test_input, test_labels),\n",
        "                            batch_size=32,\n",
        "                            epochs=20\n",
        "                            )"
      ]
    },
    {
      "cell_type": "markdown",
      "metadata": {
        "id": "CPHHM-Q8MlnW"
      },
      "source": [
        "Below is a sample plot for two different models:"
      ]
    },
    {
      "cell_type": "code",
      "execution_count": 41,
      "metadata": {
        "colab": {
          "base_uri": "https://localhost:8080/",
          "height": 635
        },
        "id": "o_yH7ySqWyjz",
        "outputId": "648fa304-6144-4ba3-cda4-53f78c79ffa1"
      },
      "outputs": [
        {
          "output_type": "display_data",
          "data": {
            "text/plain": [
              "<Figure size 1332x756 with 4 Axes>"
            ],
            "image/png": "[encoded data removed]"
          },
          "metadata": {
            "needs_background": "light"
          }
        }
      ],
      "source": [
        "fig, axs = plt.subplots(2, 2)\n",
        "fig.subplots_adjust(left=0.2, wspace=0.6)\n",
        "make_plot(axs,\n",
        "          an_history,\n",
        "          dan_history,\n",
        "          model_1_name='an',\n",
        "          model_2_name='dan')\n",
        "\n",
        "fig.align_ylabels(axs[:, 1])\n",
        "fig.set_size_inches(18.5, 10.5)\n",
        "plt.show()"
      ]
    },
    {
      "cell_type": "markdown",
      "metadata": {
        "id": "28MFkARVMlnW"
      },
      "source": [
        "Of course, the avergaing network is not done training."
      ]
    },
    {
      "cell_type": "markdown",
      "metadata": {
        "id": "Cw9-emMXMlnW"
      },
      "source": [
        "[Return to Top](#returnToTop)  \n",
        "<a id = 'modelCNN'></a>\n",
        "### 3.3 CNN Model\n",
        "\n",
        "Next let's build a CNN model. We'll also wrap the model building code in a function that takes some hyperparameters, so that we can adjust things like number of filters and filter sizes later."
      ]
    },
    {
      "cell_type": "code",
      "execution_count": 42,
      "metadata": {
        "id": "NhTOlX25MlnW"
      },
      "outputs": [],
      "source": [
        "def build_cnn_model(num_filters, kernel_sizes, dense_layer_dims, dropout_rate, embeddings_trainable=False):\n",
        "    cnn_input_layer = tf.keras.layers.Input(shape=(MAX_SEQUENCE_LENGTH,), dtype='int64')\n",
        "    cnn_embedding_layer = Embedding(embedding_matrix.shape[0],\n",
        "                                    embedding_matrix.shape[1],\n",
        "                                    embeddings_initializer=tf.keras.initializers.Constant(embedding_matrix),\n",
        "                                    input_length=MAX_SEQUENCE_LENGTH,\n",
        "                                    trainable=embeddings_trainable)\n",
        "    cnn_embeddings = cnn_embedding_layer(cnn_input_layer)\n",
        "\n",
        "    conv_layers_for_all_kernel_sizes = []\n",
        "    for kernel_size, filters in zip(kernel_sizes, num_filters):\n",
        "        conv_layer = keras.layers.Conv1D(filters=filters, kernel_size=kernel_size, activation='relu')(cnn_embeddings)\n",
        "        conv_layer = keras.layers.GlobalMaxPooling1D()(conv_layer)\n",
        "        conv_layers_for_all_kernel_sizes.append(conv_layer)\n",
        "    \n",
        "    conv_output = keras.layers.concatenate(conv_layers_for_all_kernel_sizes, axis=1)\n",
        "    last_hidden_output = keras.layers.Dropout(rate=dropout_rate)(conv_output)\n",
        "\n",
        "    for dense_layer_dim in dense_layer_dims:\n",
        "        last_hidden_output = keras.layers.Dense(dense_layer_dim, activation='relu')(last_hidden_output)\n",
        "    \n",
        "    cnn_prediction = keras.layers.Dense(1, activation='sigmoid')(last_hidden_output)\n",
        "\n",
        "    cnn_model = keras.Model(inputs=cnn_input_layer, outputs=cnn_prediction)\n",
        "    cnn_model.compile(optimizer='adam',\n",
        "                      loss='binary_crossentropy',  # From information theory notebooks.\n",
        "                      metrics=['accuracy'])\n",
        "    return cnn_model"
      ]
    },
    {
      "cell_type": "code",
      "execution_count": 43,
      "metadata": {
        "id": "Jkx80zazMlnW"
      },
      "outputs": [],
      "source": [
        "# Now specify model hyperparameters and call the function to create a CNN model\n",
        "\n",
        "num_filters = [100, 100, 50, 25]\n",
        "kernel_sizes = [3, 4, 5, 10]\n",
        "dense_layer_dims = [100, 50]\n",
        "dropout_rate = 0.5\n",
        "\n",
        "cnn_model = build_cnn_model(num_filters, kernel_sizes, dense_layer_dims, dropout_rate)"
      ]
    },
    {
      "cell_type": "code",
      "execution_count": 44,
      "metadata": {
        "colab": {
          "base_uri": "https://localhost:8080/"
        },
        "id": "7G0cH1a2MlnW",
        "outputId": "eabf0868-cf05-4bf3-8d13-e6137c24cdfc"
      },
      "outputs": [
        {
          "output_type": "stream",
          "name": "stdout",
          "text": [
            "Model: \"model_2\"\n",
            "__________________________________________________________________________________________________\n",
            " Layer (type)                   Output Shape         Param #     Connected to                     \n",
            "==================================================================================================\n",
            " input_3 (InputLayer)           [(None, 128)]        0           []                               \n",
            "                                                                                                  \n",
            " embedding_2 (Embedding)        (None, 128, 300)     13194600    ['input_3[0][0]']                \n",
            "                                                                                                  \n",
            " conv1d (Conv1D)                (None, 126, 100)     90100       ['embedding_2[0][0]']            \n",
            "                                                                                                  \n",
            " conv1d_1 (Conv1D)              (None, 125, 100)     120100      ['embedding_2[0][0]']            \n",
            "                                                                                                  \n",
            " conv1d_2 (Conv1D)              (None, 124, 50)      75050       ['embedding_2[0][0]']            \n",
            "                                                                                                  \n",
            " conv1d_3 (Conv1D)              (None, 119, 25)      75025       ['embedding_2[0][0]']            \n",
            "                                                                                                  \n",
            " global_max_pooling1d (GlobalMa  (None, 100)         0           ['conv1d[0][0]']                 \n",
            " xPooling1D)                                                                                      \n",
            "                                                                                                  \n",
            " global_max_pooling1d_1 (Global  (None, 100)         0           ['conv1d_1[0][0]']               \n",
            " MaxPooling1D)                                                                                    \n",
            "                                                                                                  \n",
            " global_max_pooling1d_2 (Global  (None, 50)          0           ['conv1d_2[0][0]']               \n",
            " MaxPooling1D)                                                                                    \n",
            "                                                                                                  \n",
            " global_max_pooling1d_3 (Global  (None, 25)          0           ['conv1d_3[0][0]']               \n",
            " MaxPooling1D)                                                                                    \n",
            "                                                                                                  \n",
            " concatenate (Concatenate)      (None, 275)          0           ['global_max_pooling1d[0][0]',   \n",
            "                                                                  'global_max_pooling1d_1[0][0]', \n",
            "                                                                  'global_max_pooling1d_2[0][0]', \n",
            "                                                                  'global_max_pooling1d_3[0][0]'] \n",
            "                                                                                                  \n",
            " dropout_2 (Dropout)            (None, 275)          0           ['concatenate[0][0]']            \n",
            "                                                                                                  \n",
            " dense (Dense)                  (None, 100)          27600       ['dropout_2[0][0]']              \n",
            "                                                                                                  \n",
            " dense_1 (Dense)                (None, 50)           5050        ['dense[0][0]']                  \n",
            "                                                                                                  \n",
            " dense_2 (Dense)                (None, 1)            51          ['dense_1[0][0]']                \n",
            "                                                                                                  \n",
            "==================================================================================================\n",
            "Total params: 13,587,576\n",
            "Trainable params: 392,976\n",
            "Non-trainable params: 13,194,600\n",
            "__________________________________________________________________________________________________\n"
          ]
        }
      ],
      "source": [
        "cnn_model.summary()"
      ]
    },
    {
      "cell_type": "markdown",
      "metadata": {
        "id": "1W2eeXE4MlnW"
      },
      "source": [
        "The keras plot utility shows this probably a bit nicer:"
      ]
    },
    {
      "cell_type": "code",
      "execution_count": 45,
      "metadata": {
        "colab": {
          "base_uri": "https://localhost:8080/",
          "height": 494
        },
        "id": "rLxkEjKbMlnW",
        "outputId": "ff666108-bcb1-4078-9920-fb04ae101c04"
      },
      "outputs": [
        {
          "output_type": "execute_result",
          "data": {
            "image/png": "[encoded data removed]",
            "text/plain": [
              "<IPython.core.display.Image object>"
            ]
          },
          "metadata": {},
          "execution_count": 45
        }
      ],
      "source": [
        "keras.utils.plot_model(cnn_model, show_shapes=True, dpi=90)"
      ]
    },
    {
      "cell_type": "code",
      "execution_count": 46,
      "metadata": {
        "colab": {
          "base_uri": "https://localhost:8080/"
        },
        "id": "kA4LlSm5MlnW",
        "outputId": "4ef18d9c-eaea-4e90-efb3-fb4f44f2e225"
      },
      "outputs": [
        {
          "output_type": "stream",
          "name": "stdout",
          "text": [
            "Epoch 1/5\n",
            "625/625 [==============================] - 15s 8ms/step - loss: 0.5471 - accuracy: 0.7035 - val_loss: 0.4282 - val_accuracy: 0.8098\n",
            "Epoch 2/5\n",
            "625/625 [==============================] - 4s 6ms/step - loss: 0.4221 - accuracy: 0.8058 - val_loss: 0.4142 - val_accuracy: 0.8112\n",
            "Epoch 3/5\n",
            "625/625 [==============================] - 4s 6ms/step - loss: 0.3692 - accuracy: 0.8400 - val_loss: 0.4154 - val_accuracy: 0.8150\n",
            "Epoch 4/5\n",
            "625/625 [==============================] - 4s 6ms/step - loss: 0.3237 - accuracy: 0.8598 - val_loss: 0.4458 - val_accuracy: 0.8020\n",
            "Epoch 5/5\n",
            "625/625 [==============================] - 4s 7ms/step - loss: 0.2800 - accuracy: 0.8824 - val_loss: 0.4196 - val_accuracy: 0.8216\n"
          ]
        }
      ],
      "source": [
        "cnn_history = cnn_model.fit(train_input,\n",
        "                            train_labels,\n",
        "                            validation_data=(test_input, test_labels),\n",
        "                            batch_size=32,\n",
        "                            epochs=5\n",
        "                            )"
      ]
    },
    {
      "cell_type": "markdown",
      "metadata": {
        "id": "qnUPF0OYMlnX"
      },
      "source": [
        "Below is a comparison of a CNN model with a DAN model: "
      ]
    },
    {
      "cell_type": "code",
      "execution_count": 47,
      "metadata": {
        "colab": {
          "base_uri": "https://localhost:8080/",
          "height": 635
        },
        "id": "YUfJc4VJX-Gp",
        "outputId": "19e1aee1-14fb-4ac8-f281-e0ffbcf81caa"
      },
      "outputs": [
        {
          "output_type": "display_data",
          "data": {
            "text/plain": [
              "<Figure size 1332x756 with 4 Axes>"
            ],
            "image/png": "[encoded data removed]"
          },
          "metadata": {
            "needs_background": "light"
          }
        }
      ],
      "source": [
        "fig, axs = plt.subplots(2, 2)\n",
        "fig.subplots_adjust(left=0.2, wspace=0.6)\n",
        "make_plot(axs, \n",
        "          dan_history, \n",
        "          cnn_history, \n",
        "          model_1_name='dan',\n",
        "          model_2_name='cnn')\n",
        "\n",
        "fig.align_ylabels(axs[:, 1])\n",
        "fig.set_size_inches(18.5, 10.5)\n",
        "plt.show()"
      ]
    },
    {
      "cell_type": "markdown",
      "metadata": {
        "id": "J6bJvfz8Zwuz"
      },
      "source": [
        "[Return to Top](#returnToTop)  \n",
        "<a id = 'inClassExercises'></a>\n",
        "### 3.4. In-Class Exercises\n",
        "\n",
        "A. Are any of the models above overfitting? Can you make them overfit less, or more? What parameters might you change to make these models more or less likely to overfit? How good (or bad) can you make it get?\n",
        "\n",
        "> Hint: think about all of the options you can vary, including:\n",
        "* add/remove more hidden layers\n",
        "* vary dropout rates and dimensions\n",
        "* enable/disable retraining of embedding matrix\n",
        "* (for CNN) change number of filters\n",
        "* (for CNN) change kernel sizes of filters\n",
        ">\n",
        "> For the option(s) you choose, do you think it will make the model more or less likely to overfit? Try it, does it work the way you expect?\n",
        "\n",
        "\n",
        "B. Can you make any of these models train faster (or slower)? What parameters might you change to make that happen? Again, does it work how you expect when you try it?\n",
        "\n",
        "You can use the cells below to explore either/both the DAN and CNN, using the functions defined above."
      ]
    },
    {
      "cell_type": "code",
      "execution_count": null,
      "metadata": {
        "id": "EzokuzC6ZxAv"
      },
      "outputs": [],
      "source": [
        "# DAN model hyperparameters: Change these?\n",
        "hidden_layer_sizes = [100, 50]\n",
        "dropout_rate = 0.5\n",
        "embeddings_trainable = False\n",
        "\n",
        "dan_model2 = build_dan_model(hidden_layer_sizes, dropout_rate,\n",
        "                             embeddings_trainable)\n",
        "\n",
        "dan_history2 = dan_model2.fit(train_input,\n",
        "                              train_labels,\n",
        "                              validation_data=(test_input, test_labels),\n",
        "                              batch_size=32,\n",
        "                              epochs=20\n",
        "                              )"
      ]
    },
    {
      "cell_type": "code",
      "execution_count": null,
      "metadata": {
        "id": "veiiANCiXqJo"
      },
      "outputs": [],
      "source": [
        "# Do the plots change how you'd expect?\n",
        "# Did the runtime change (in the cells above)?\n",
        "\n",
        "fig, axs = plt.subplots(2, 2)\n",
        "fig.subplots_adjust(left=0.2, wspace=0.6)\n",
        "make_plot(axs,\n",
        "          dan_history,\n",
        "          dan_history2,\n",
        "          model_1_name='dan v1',\n",
        "          model_2_name='dan v2')\n",
        "\n",
        "fig.align_ylabels(axs[:, 1])\n",
        "fig.set_size_inches(18.5, 10.5)\n",
        "plt.show()"
      ]
    },
    {
      "cell_type": "code",
      "execution_count": null,
      "metadata": {
        "id": "nxTaZIeDiO2F"
      },
      "outputs": [],
      "source": [
        "# CNN model hyperparameters: Change these?\n",
        "num_filters = [100, 100, 50, 25]\n",
        "kernel_sizes = [3, 4, 5, 10]\n",
        "dense_layer_dims = [100, 50]\n",
        "dropout_rate = 0.5\n",
        "embeddings_trainable = False\n",
        "\n",
        "cnn_model2 = build_cnn_model(num_filters, kernel_sizes, dense_layer_dims,\n",
        "                            dropout_rate, embeddings_trainable)\n",
        "\n",
        "cnn_history2 = cnn_model2.fit(train_input,\n",
        "                              train_labels,\n",
        "                              validation_data=(test_input, test_labels),\n",
        "                              batch_size=32,\n",
        "                              epochs=5\n",
        "                              )"
      ]
    },
    {
      "cell_type": "code",
      "execution_count": null,
      "metadata": {
        "id": "PUReh7zOiZi9"
      },
      "outputs": [],
      "source": [
        "# Do the plots change how you'd expect?\n",
        "# Did the runtime change (in the cells above)?\n",
        "\n",
        "fig, axs = plt.subplots(2, 2)\n",
        "fig.subplots_adjust(left=0.2, wspace=0.6)\n",
        "make_plot(axs,\n",
        "          cnn_history,\n",
        "          cnn_history2,\n",
        "          model_1_name='cnn v1',\n",
        "          model_2_name='cnn v2')\n",
        "\n",
        "fig.align_ylabels(axs[:, 1])\n",
        "fig.set_size_inches(18.5, 10.5)\n",
        "plt.show()"
      ]
    },
    {
      "cell_type": "markdown",
      "metadata": {
        "id": "nGvfPUnEMlnX"
      },
      "source": [
        "This finalizes the discussions of DANs and CNNs.\n",
        "\n",
        "Over the next 2 weeks we will first add RNNs and then also classification with BERT."
      ]
    },
    {
      "cell_type": "code",
      "execution_count": null,
      "metadata": {
        "id": "363oxPcGMlnX"
      },
      "outputs": [],
      "source": []
    }
  ],
  "metadata": {
    "colab": {
      "collapsed_sections": [],
      "name": "lesson_2_DAN_CNN_text_classification.ipynb",
      "provenance": []
    },
    "gpuClass": "standard",
    "kernelspec": {
      "display_name": "Python 3",
      "language": "python",
      "name": "python3"
    },
    "language_info": {
      "codemirror_mode": {
        "name": "ipython",
        "version": 3
      },
      "file_extension": ".py",
      "mimetype": "text/x-python",
      "name": "python",
      "nbconvert_exporter": "python",
      "pygments_lexer": "ipython3",
      "version": "3.8.5"
    },
    "widgets": {
      "application/vnd.jupyter.widget-state+json": {
        "601da30a06ce48028d2d8c69f9c37f98": {
          "model_module": "@jupyter-widgets/controls",
          "model_name": "HBoxModel",
          "model_module_version": "1.5.0",
          "state": {
            "_dom_classes": [],
            "_model_module": "@jupyter-widgets/controls",
            "_model_module_version": "1.5.0",
            "_model_name": "HBoxModel",
            "_view_count": null,
            "_view_module": "@jupyter-widgets/controls",
            "_view_module_version": "1.5.0",
            "_view_name": "HBoxView",
            "box_style": "",
            "children": [
              "IPY_MODEL_04dc1d9ce7604e20b8b94b199c81befe",
              "IPY_MODEL_f0fe0215057548ea85baa1f4b34aaee4",
              "IPY_MODEL_c918349584cb41df8b2f15c5aae3b88f"
            ],
            "layout": "IPY_MODEL_c1131cf24441480aa450fabda8acb978"
          }
        },
        "04dc1d9ce7604e20b8b94b199c81befe": {
          "model_module": "@jupyter-widgets/controls",
          "model_name": "HTMLModel",
          "model_module_version": "1.5.0",
          "state": {
            "_dom_classes": [],
            "_model_module": "@jupyter-widgets/controls",
            "_model_module_version": "1.5.0",
            "_model_name": "HTMLModel",
            "_view_count": null,
            "_view_module": "@jupyter-widgets/controls",
            "_view_module_version": "1.5.0",
            "_view_name": "HTMLView",
            "description": "",
            "description_tooltip": null,
            "layout": "IPY_MODEL_07d791c9b44944669ba4620459eb1590",
            "placeholder": "​",
            "style": "IPY_MODEL_df8bddf7743c43b6a16093a5a0c07ea9",
            "value": "Dl Completed...: 100%"
          }
        },
        "f0fe0215057548ea85baa1f4b34aaee4": {
          "model_module": "@jupyter-widgets/controls",
          "model_name": "FloatProgressModel",
          "model_module_version": "1.5.0",
          "state": {
            "_dom_classes": [],
            "_model_module": "@jupyter-widgets/controls",
            "_model_module_version": "1.5.0",
            "_model_name": "FloatProgressModel",
            "_view_count": null,
            "_view_module": "@jupyter-widgets/controls",
            "_view_module_version": "1.5.0",
            "_view_name": "ProgressView",
            "bar_style": "success",
            "description": "",
            "description_tooltip": null,
            "layout": "IPY_MODEL_0a3146ae5c8b4538a6bb39e2408e5ce9",
            "max": 1,
            "min": 0,
            "orientation": "horizontal",
            "style": "IPY_MODEL_313be8a201884063991530be4228d141",
            "value": 1
          }
        },
        "c918349584cb41df8b2f15c5aae3b88f": {
          "model_module": "@jupyter-widgets/controls",
          "model_name": "HTMLModel",
          "model_module_version": "1.5.0",
          "state": {
            "_dom_classes": [],
            "_model_module": "@jupyter-widgets/controls",
            "_model_module_version": "1.5.0",
            "_model_name": "HTMLModel",
            "_view_count": null,
            "_view_module": "@jupyter-widgets/controls",
            "_view_module_version": "1.5.0",
            "_view_name": "HTMLView",
            "description": "",
            "description_tooltip": null,
            "layout": "IPY_MODEL_0f7c8ab71639467a9849921513704405",
            "placeholder": "​",
            "style": "IPY_MODEL_196bb28eb4e6435685dfddef377c21db",
            "value": " 1/1 [00:04&lt;00:00,  4.92s/ url]"
          }
        },
        "c1131cf24441480aa450fabda8acb978": {
          "model_module": "@jupyter-widgets/base",
          "model_name": "LayoutModel",
          "model_module_version": "1.2.0",
          "state": {
            "_model_module": "@jupyter-widgets/base",
            "_model_module_version": "1.2.0",
            "_model_name": "LayoutModel",
            "_view_count": null,
            "_view_module": "@jupyter-widgets/base",
            "_view_module_version": "1.2.0",
            "_view_name": "LayoutView",
            "align_content": null,
            "align_items": null,
            "align_self": null,
            "border": null,
            "bottom": null,
            "display": null,
            "flex": null,
            "flex_flow": null,
            "grid_area": null,
            "grid_auto_columns": null,
            "grid_auto_flow": null,
            "grid_auto_rows": null,
            "grid_column": null,
            "grid_gap": null,
            "grid_row": null,
            "grid_template_areas": null,
            "grid_template_columns": null,
            "grid_template_rows": null,
            "height": null,
            "justify_content": null,
            "justify_items": null,
            "left": null,
            "margin": null,
            "max_height": null,
            "max_width": null,
            "min_height": null,
            "min_width": null,
            "object_fit": null,
            "object_position": null,
            "order": null,
            "overflow": null,
            "overflow_x": null,
            "overflow_y": null,
            "padding": null,
            "right": null,
            "top": null,
            "visibility": null,
            "width": null
          }
        },
        "07d791c9b44944669ba4620459eb1590": {
          "model_module": "@jupyter-widgets/base",
          "model_name": "LayoutModel",
          "model_module_version": "1.2.0",
          "state": {
            "_model_module": "@jupyter-widgets/base",
            "_model_module_version": "1.2.0",
            "_model_name": "LayoutModel",
            "_view_count": null,
            "_view_module": "@jupyter-widgets/base",
            "_view_module_version": "1.2.0",
            "_view_name": "LayoutView",
            "align_content": null,
            "align_items": null,
            "align_self": null,
            "border": null,
            "bottom": null,
            "display": null,
            "flex": null,
            "flex_flow": null,
            "grid_area": null,
            "grid_auto_columns": null,
            "grid_auto_flow": null,
            "grid_auto_rows": null,
            "grid_column": null,
            "grid_gap": null,
            "grid_row": null,
            "grid_template_areas": null,
            "grid_template_columns": null,
            "grid_template_rows": null,
            "height": null,
            "justify_content": null,
            "justify_items": null,
            "left": null,
            "margin": null,
            "max_height": null,
            "max_width": null,
            "min_height": null,
            "min_width": null,
            "object_fit": null,
            "object_position": null,
            "order": null,
            "overflow": null,
            "overflow_x": null,
            "overflow_y": null,
            "padding": null,
            "right": null,
            "top": null,
            "visibility": null,
            "width": null
          }
        },
        "df8bddf7743c43b6a16093a5a0c07ea9": {
          "model_module": "@jupyter-widgets/controls",
          "model_name": "DescriptionStyleModel",
          "model_module_version": "1.5.0",
          "state": {
            "_model_module": "@jupyter-widgets/controls",
            "_model_module_version": "1.5.0",
            "_model_name": "DescriptionStyleModel",
            "_view_count": null,
            "_view_module": "@jupyter-widgets/base",
            "_view_module_version": "1.2.0",
            "_view_name": "StyleView",
            "description_width": ""
          }
        },
        "0a3146ae5c8b4538a6bb39e2408e5ce9": {
          "model_module": "@jupyter-widgets/base",
          "model_name": "LayoutModel",
          "model_module_version": "1.2.0",
          "state": {
            "_model_module": "@jupyter-widgets/base",
            "_model_module_version": "1.2.0",
            "_model_name": "LayoutModel",
            "_view_count": null,
            "_view_module": "@jupyter-widgets/base",
            "_view_module_version": "1.2.0",
            "_view_name": "LayoutView",
            "align_content": null,
            "align_items": null,
            "align_self": null,
            "border": null,
            "bottom": null,
            "display": null,
            "flex": null,
            "flex_flow": null,
            "grid_area": null,
            "grid_auto_columns": null,
            "grid_auto_flow": null,
            "grid_auto_rows": null,
            "grid_column": null,
            "grid_gap": null,
            "grid_row": null,
            "grid_template_areas": null,
            "grid_template_columns": null,
            "grid_template_rows": null,
            "height": null,
            "justify_content": null,
            "justify_items": null,
            "left": null,
            "margin": null,
            "max_height": null,
            "max_width": null,
            "min_height": null,
            "min_width": null,
            "object_fit": null,
            "object_position": null,
            "order": null,
            "overflow": null,
            "overflow_x": null,
            "overflow_y": null,
            "padding": null,
            "right": null,
            "top": null,
            "visibility": null,
            "width": "20px"
          }
        },
        "313be8a201884063991530be4228d141": {
          "model_module": "@jupyter-widgets/controls",
          "model_name": "ProgressStyleModel",
          "model_module_version": "1.5.0",
          "state": {
            "_model_module": "@jupyter-widgets/controls",
            "_model_module_version": "1.5.0",
            "_model_name": "ProgressStyleModel",
            "_view_count": null,
            "_view_module": "@jupyter-widgets/base",
            "_view_module_version": "1.2.0",
            "_view_name": "StyleView",
            "bar_color": null,
            "description_width": ""
          }
        },
        "0f7c8ab71639467a9849921513704405": {
          "model_module": "@jupyter-widgets/base",
          "model_name": "LayoutModel",
          "model_module_version": "1.2.0",
          "state": {
            "_model_module": "@jupyter-widgets/base",
            "_model_module_version": "1.2.0",
            "_model_name": "LayoutModel",
            "_view_count": null,
            "_view_module": "@jupyter-widgets/base",
            "_view_module_version": "1.2.0",
            "_view_name": "LayoutView",
            "align_content": null,
            "align_items": null,
            "align_self": null,
            "border": null,
            "bottom": null,
            "display": null,
            "flex": null,
            "flex_flow": null,
            "grid_area": null,
            "grid_auto_columns": null,
            "grid_auto_flow": null,
            "grid_auto_rows": null,
            "grid_column": null,
            "grid_gap": null,
            "grid_row": null,
            "grid_template_areas": null,
            "grid_template_columns": null,
            "grid_template_rows": null,
            "height": null,
            "justify_content": null,
            "justify_items": null,
            "left": null,
            "margin": null,
            "max_height": null,
            "max_width": null,
            "min_height": null,
            "min_width": null,
            "object_fit": null,
            "object_position": null,
            "order": null,
            "overflow": null,
            "overflow_x": null,
            "overflow_y": null,
            "padding": null,
            "right": null,
            "top": null,
            "visibility": null,
            "width": null
          }
        },
        "196bb28eb4e6435685dfddef377c21db": {
          "model_module": "@jupyter-widgets/controls",
          "model_name": "DescriptionStyleModel",
          "model_module_version": "1.5.0",
          "state": {
            "_model_module": "@jupyter-widgets/controls",
            "_model_module_version": "1.5.0",
            "_model_name": "DescriptionStyleModel",
            "_view_count": null,
            "_view_module": "@jupyter-widgets/base",
            "_view_module_version": "1.2.0",
            "_view_name": "StyleView",
            "description_width": ""
          }
        },
        "39a8d22b883a4905b63e4d46d7a06d3d": {
          "model_module": "@jupyter-widgets/controls",
          "model_name": "HBoxModel",
          "model_module_version": "1.5.0",
          "state": {
            "_dom_classes": [],
            "_model_module": "@jupyter-widgets/controls",
            "_model_module_version": "1.5.0",
            "_model_name": "HBoxModel",
            "_view_count": null,
            "_view_module": "@jupyter-widgets/controls",
            "_view_module_version": "1.5.0",
            "_view_name": "HBoxView",
            "box_style": "",
            "children": [
              "IPY_MODEL_59f95055cdb544a4a3ee0b787038851f",
              "IPY_MODEL_f0ba9bfeb87f406f8a630b6af81d4087",
              "IPY_MODEL_56b3037724ec45e6a32df541e8d6f417"
            ],
            "layout": "IPY_MODEL_cf680a4f15704c9e9e0b783efc228e9e"
          }
        },
        "59f95055cdb544a4a3ee0b787038851f": {
          "model_module": "@jupyter-widgets/controls",
          "model_name": "HTMLModel",
          "model_module_version": "1.5.0",
          "state": {
            "_dom_classes": [],
            "_model_module": "@jupyter-widgets/controls",
            "_model_module_version": "1.5.0",
            "_model_name": "HTMLModel",
            "_view_count": null,
            "_view_module": "@jupyter-widgets/controls",
            "_view_module_version": "1.5.0",
            "_view_name": "HTMLView",
            "description": "",
            "description_tooltip": null,
            "layout": "IPY_MODEL_3caac51bade04efda5a580b541c42f4e",
            "placeholder": "​",
            "style": "IPY_MODEL_f30956ab56904f02887d5a0773c86384",
            "value": "Dl Size...: 100%"
          }
        },
        "f0ba9bfeb87f406f8a630b6af81d4087": {
          "model_module": "@jupyter-widgets/controls",
          "model_name": "FloatProgressModel",
          "model_module_version": "1.5.0",
          "state": {
            "_dom_classes": [],
            "_model_module": "@jupyter-widgets/controls",
            "_model_module_version": "1.5.0",
            "_model_name": "FloatProgressModel",
            "_view_count": null,
            "_view_module": "@jupyter-widgets/controls",
            "_view_module_version": "1.5.0",
            "_view_name": "ProgressView",
            "bar_style": "success",
            "description": "",
            "description_tooltip": null,
            "layout": "IPY_MODEL_3c90eac1ddd84c378699b38d3ecea91d",
            "max": 1,
            "min": 0,
            "orientation": "horizontal",
            "style": "IPY_MODEL_1807edb968bd458a81cce015d6192a85",
            "value": 1
          }
        },
        "56b3037724ec45e6a32df541e8d6f417": {
          "model_module": "@jupyter-widgets/controls",
          "model_name": "HTMLModel",
          "model_module_version": "1.5.0",
          "state": {
            "_dom_classes": [],
            "_model_module": "@jupyter-widgets/controls",
            "_model_module_version": "1.5.0",
            "_model_name": "HTMLModel",
            "_view_count": null,
            "_view_module": "@jupyter-widgets/controls",
            "_view_module_version": "1.5.0",
            "_view_name": "HTMLView",
            "description": "",
            "description_tooltip": null,
            "layout": "IPY_MODEL_4776e227e5614b7a88e0fd4e781ec4a2",
            "placeholder": "​",
            "style": "IPY_MODEL_1e6a23a250c74612b4d9175eb3533a97",
            "value": " 80/80 [00:04&lt;00:00, 38.08 MiB/s]"
          }
        },
        "cf680a4f15704c9e9e0b783efc228e9e": {
          "model_module": "@jupyter-widgets/base",
          "model_name": "LayoutModel",
          "model_module_version": "1.2.0",
          "state": {
            "_model_module": "@jupyter-widgets/base",
            "_model_module_version": "1.2.0",
            "_model_name": "LayoutModel",
            "_view_count": null,
            "_view_module": "@jupyter-widgets/base",
            "_view_module_version": "1.2.0",
            "_view_name": "LayoutView",
            "align_content": null,
            "align_items": null,
            "align_self": null,
            "border": null,
            "bottom": null,
            "display": null,
            "flex": null,
            "flex_flow": null,
            "grid_area": null,
            "grid_auto_columns": null,
            "grid_auto_flow": null,
            "grid_auto_rows": null,
            "grid_column": null,
            "grid_gap": null,
            "grid_row": null,
            "grid_template_areas": null,
            "grid_template_columns": null,
            "grid_template_rows": null,
            "height": null,
            "justify_content": null,
            "justify_items": null,
            "left": null,
            "margin": null,
            "max_height": null,
            "max_width": null,
            "min_height": null,
            "min_width": null,
            "object_fit": null,
            "object_position": null,
            "order": null,
            "overflow": null,
            "overflow_x": null,
            "overflow_y": null,
            "padding": null,
            "right": null,
            "top": null,
            "visibility": null,
            "width": null
          }
        },
        "3caac51bade04efda5a580b541c42f4e": {
          "model_module": "@jupyter-widgets/base",
          "model_name": "LayoutModel",
          "model_module_version": "1.2.0",
          "state": {
            "_model_module": "@jupyter-widgets/base",
            "_model_module_version": "1.2.0",
            "_model_name": "LayoutModel",
            "_view_count": null,
            "_view_module": "@jupyter-widgets/base",
            "_view_module_version": "1.2.0",
            "_view_name": "LayoutView",
            "align_content": null,
            "align_items": null,
            "align_self": null,
            "border": null,
            "bottom": null,
            "display": null,
            "flex": null,
            "flex_flow": null,
            "grid_area": null,
            "grid_auto_columns": null,
            "grid_auto_flow": null,
            "grid_auto_rows": null,
            "grid_column": null,
            "grid_gap": null,
            "grid_row": null,
            "grid_template_areas": null,
            "grid_template_columns": null,
            "grid_template_rows": null,
            "height": null,
            "justify_content": null,
            "justify_items": null,
            "left": null,
            "margin": null,
            "max_height": null,
            "max_width": null,
            "min_height": null,
            "min_width": null,
            "object_fit": null,
            "object_position": null,
            "order": null,
            "overflow": null,
            "overflow_x": null,
            "overflow_y": null,
            "padding": null,
            "right": null,
            "top": null,
            "visibility": null,
            "width": null
          }
        },
        "f30956ab56904f02887d5a0773c86384": {
          "model_module": "@jupyter-widgets/controls",
          "model_name": "DescriptionStyleModel",
          "model_module_version": "1.5.0",
          "state": {
            "_model_module": "@jupyter-widgets/controls",
            "_model_module_version": "1.5.0",
            "_model_name": "DescriptionStyleModel",
            "_view_count": null,
            "_view_module": "@jupyter-widgets/base",
            "_view_module_version": "1.2.0",
            "_view_name": "StyleView",
            "description_width": ""
          }
        },
        "3c90eac1ddd84c378699b38d3ecea91d": {
          "model_module": "@jupyter-widgets/base",
          "model_name": "LayoutModel",
          "model_module_version": "1.2.0",
          "state": {
            "_model_module": "@jupyter-widgets/base",
            "_model_module_version": "1.2.0",
            "_model_name": "LayoutModel",
            "_view_count": null,
            "_view_module": "@jupyter-widgets/base",
            "_view_module_version": "1.2.0",
            "_view_name": "LayoutView",
            "align_content": null,
            "align_items": null,
            "align_self": null,
            "border": null,
            "bottom": null,
            "display": null,
            "flex": null,
            "flex_flow": null,
            "grid_area": null,
            "grid_auto_columns": null,
            "grid_auto_flow": null,
            "grid_auto_rows": null,
            "grid_column": null,
            "grid_gap": null,
            "grid_row": null,
            "grid_template_areas": null,
            "grid_template_columns": null,
            "grid_template_rows": null,
            "height": null,
            "justify_content": null,
            "justify_items": null,
            "left": null,
            "margin": null,
            "max_height": null,
            "max_width": null,
            "min_height": null,
            "min_width": null,
            "object_fit": null,
            "object_position": null,
            "order": null,
            "overflow": null,
            "overflow_x": null,
            "overflow_y": null,
            "padding": null,
            "right": null,
            "top": null,
            "visibility": null,
            "width": "20px"
          }
        },
        "1807edb968bd458a81cce015d6192a85": {
          "model_module": "@jupyter-widgets/controls",
          "model_name": "ProgressStyleModel",
          "model_module_version": "1.5.0",
          "state": {
            "_model_module": "@jupyter-widgets/controls",
            "_model_module_version": "1.5.0",
            "_model_name": "ProgressStyleModel",
            "_view_count": null,
            "_view_module": "@jupyter-widgets/base",
            "_view_module_version": "1.2.0",
            "_view_name": "StyleView",
            "bar_color": null,
            "description_width": ""
          }
        },
        "4776e227e5614b7a88e0fd4e781ec4a2": {
          "model_module": "@jupyter-widgets/base",
          "model_name": "LayoutModel",
          "model_module_version": "1.2.0",
          "state": {
            "_model_module": "@jupyter-widgets/base",
            "_model_module_version": "1.2.0",
            "_model_name": "LayoutModel",
            "_view_count": null,
            "_view_module": "@jupyter-widgets/base",
            "_view_module_version": "1.2.0",
            "_view_name": "LayoutView",
            "align_content": null,
            "align_items": null,
            "align_self": null,
            "border": null,
            "bottom": null,
            "display": null,
            "flex": null,
            "flex_flow": null,
            "grid_area": null,
            "grid_auto_columns": null,
            "grid_auto_flow": null,
            "grid_auto_rows": null,
            "grid_column": null,
            "grid_gap": null,
            "grid_row": null,
            "grid_template_areas": null,
            "grid_template_columns": null,
            "grid_template_rows": null,
            "height": null,
            "justify_content": null,
            "justify_items": null,
            "left": null,
            "margin": null,
            "max_height": null,
            "max_width": null,
            "min_height": null,
            "min_width": null,
            "object_fit": null,
            "object_position": null,
            "order": null,
            "overflow": null,
            "overflow_x": null,
            "overflow_y": null,
            "padding": null,
            "right": null,
            "top": null,
            "visibility": null,
            "width": null
          }
        },
        "1e6a23a250c74612b4d9175eb3533a97": {
          "model_module": "@jupyter-widgets/controls",
          "model_name": "DescriptionStyleModel",
          "model_module_version": "1.5.0",
          "state": {
            "_model_module": "@jupyter-widgets/controls",
            "_model_module_version": "1.5.0",
            "_model_name": "DescriptionStyleModel",
            "_view_count": null,
            "_view_module": "@jupyter-widgets/base",
            "_view_module_version": "1.2.0",
            "_view_name": "StyleView",
            "description_width": ""
          }
        },
        "8e58c44926984e9abf978ab2f0ab9c78": {
          "model_module": "@jupyter-widgets/controls",
          "model_name": "HBoxModel",
          "model_module_version": "1.5.0",
          "state": {
            "_dom_classes": [],
            "_model_module": "@jupyter-widgets/controls",
            "_model_module_version": "1.5.0",
            "_model_name": "HBoxModel",
            "_view_count": null,
            "_view_module": "@jupyter-widgets/controls",
            "_view_module_version": "1.5.0",
            "_view_name": "HBoxView",
            "box_style": "",
            "children": [
              "IPY_MODEL_d5b68518dcc948f999a5a594e6dd753d",
              "IPY_MODEL_6b6f8bc840c14a68b93ebe98347364d6",
              "IPY_MODEL_b75b252667ed4749b24dc9ac563c6284"
            ],
            "layout": "IPY_MODEL_e7258fdaf199408a8b5bfb53d6fe1aff"
          }
        },
        "d5b68518dcc948f999a5a594e6dd753d": {
          "model_module": "@jupyter-widgets/controls",
          "model_name": "HTMLModel",
          "model_module_version": "1.5.0",
          "state": {
            "_dom_classes": [],
            "_model_module": "@jupyter-widgets/controls",
            "_model_module_version": "1.5.0",
            "_model_name": "HTMLModel",
            "_view_count": null,
            "_view_module": "@jupyter-widgets/controls",
            "_view_module_version": "1.5.0",
            "_view_name": "HTMLView",
            "description": "",
            "description_tooltip": null,
            "layout": "IPY_MODEL_cdb9c215d8a5404094ee8050216a4118",
            "placeholder": "​",
            "style": "IPY_MODEL_4c19e3828b7e47549f50596998c6d4fc",
            "value": "Generating splits...: 100%"
          }
        },
        "6b6f8bc840c14a68b93ebe98347364d6": {
          "model_module": "@jupyter-widgets/controls",
          "model_name": "FloatProgressModel",
          "model_module_version": "1.5.0",
          "state": {
            "_dom_classes": [],
            "_model_module": "@jupyter-widgets/controls",
            "_model_module_version": "1.5.0",
            "_model_name": "FloatProgressModel",
            "_view_count": null,
            "_view_module": "@jupyter-widgets/controls",
            "_view_module_version": "1.5.0",
            "_view_name": "ProgressView",
            "bar_style": "",
            "description": "",
            "description_tooltip": null,
            "layout": "IPY_MODEL_5e7cd6a2b0b241ddb4900eece2425cce",
            "max": 3,
            "min": 0,
            "orientation": "horizontal",
            "style": "IPY_MODEL_9776bcc89437416391c9aede5b80045b",
            "value": 3
          }
        },
        "b75b252667ed4749b24dc9ac563c6284": {
          "model_module": "@jupyter-widgets/controls",
          "model_name": "HTMLModel",
          "model_module_version": "1.5.0",
          "state": {
            "_dom_classes": [],
            "_model_module": "@jupyter-widgets/controls",
            "_model_module_version": "1.5.0",
            "_model_name": "HTMLModel",
            "_view_count": null,
            "_view_module": "@jupyter-widgets/controls",
            "_view_module_version": "1.5.0",
            "_view_name": "HTMLView",
            "description": "",
            "description_tooltip": null,
            "layout": "IPY_MODEL_2a46ca8ab72f429eaa5c607fcc1293e0",
            "placeholder": "​",
            "style": "IPY_MODEL_4b6ead82b345491198b31594553247c9",
            "value": " 3/3 [00:38&lt;00:00, 13.27s/ splits]"
          }
        },
        "e7258fdaf199408a8b5bfb53d6fe1aff": {
          "model_module": "@jupyter-widgets/base",
          "model_name": "LayoutModel",
          "model_module_version": "1.2.0",
          "state": {
            "_model_module": "@jupyter-widgets/base",
            "_model_module_version": "1.2.0",
            "_model_name": "LayoutModel",
            "_view_count": null,
            "_view_module": "@jupyter-widgets/base",
            "_view_module_version": "1.2.0",
            "_view_name": "LayoutView",
            "align_content": null,
            "align_items": null,
            "align_self": null,
            "border": null,
            "bottom": null,
            "display": null,
            "flex": null,
            "flex_flow": null,
            "grid_area": null,
            "grid_auto_columns": null,
            "grid_auto_flow": null,
            "grid_auto_rows": null,
            "grid_column": null,
            "grid_gap": null,
            "grid_row": null,
            "grid_template_areas": null,
            "grid_template_columns": null,
            "grid_template_rows": null,
            "height": null,
            "justify_content": null,
            "justify_items": null,
            "left": null,
            "margin": null,
            "max_height": null,
            "max_width": null,
            "min_height": null,
            "min_width": null,
            "object_fit": null,
            "object_position": null,
            "order": null,
            "overflow": null,
            "overflow_x": null,
            "overflow_y": null,
            "padding": null,
            "right": null,
            "top": null,
            "visibility": null,
            "width": null
          }
        },
        "cdb9c215d8a5404094ee8050216a4118": {
          "model_module": "@jupyter-widgets/base",
          "model_name": "LayoutModel",
          "model_module_version": "1.2.0",
          "state": {
            "_model_module": "@jupyter-widgets/base",
            "_model_module_version": "1.2.0",
            "_model_name": "LayoutModel",
            "_view_count": null,
            "_view_module": "@jupyter-widgets/base",
            "_view_module_version": "1.2.0",
            "_view_name": "LayoutView",
            "align_content": null,
            "align_items": null,
            "align_self": null,
            "border": null,
            "bottom": null,
            "display": null,
            "flex": null,
            "flex_flow": null,
            "grid_area": null,
            "grid_auto_columns": null,
            "grid_auto_flow": null,
            "grid_auto_rows": null,
            "grid_column": null,
            "grid_gap": null,
            "grid_row": null,
            "grid_template_areas": null,
            "grid_template_columns": null,
            "grid_template_rows": null,
            "height": null,
            "justify_content": null,
            "justify_items": null,
            "left": null,
            "margin": null,
            "max_height": null,
            "max_width": null,
            "min_height": null,
            "min_width": null,
            "object_fit": null,
            "object_position": null,
            "order": null,
            "overflow": null,
            "overflow_x": null,
            "overflow_y": null,
            "padding": null,
            "right": null,
            "top": null,
            "visibility": null,
            "width": null
          }
        },
        "4c19e3828b7e47549f50596998c6d4fc": {
          "model_module": "@jupyter-widgets/controls",
          "model_name": "DescriptionStyleModel",
          "model_module_version": "1.5.0",
          "state": {
            "_model_module": "@jupyter-widgets/controls",
            "_model_module_version": "1.5.0",
            "_model_name": "DescriptionStyleModel",
            "_view_count": null,
            "_view_module": "@jupyter-widgets/base",
            "_view_module_version": "1.2.0",
            "_view_name": "StyleView",
            "description_width": ""
          }
        },
        "5e7cd6a2b0b241ddb4900eece2425cce": {
          "model_module": "@jupyter-widgets/base",
          "model_name": "LayoutModel",
          "model_module_version": "1.2.0",
          "state": {
            "_model_module": "@jupyter-widgets/base",
            "_model_module_version": "1.2.0",
            "_model_name": "LayoutModel",
            "_view_count": null,
            "_view_module": "@jupyter-widgets/base",
            "_view_module_version": "1.2.0",
            "_view_name": "LayoutView",
            "align_content": null,
            "align_items": null,
            "align_self": null,
            "border": null,
            "bottom": null,
            "display": null,
            "flex": null,
            "flex_flow": null,
            "grid_area": null,
            "grid_auto_columns": null,
            "grid_auto_flow": null,
            "grid_auto_rows": null,
            "grid_column": null,
            "grid_gap": null,
            "grid_row": null,
            "grid_template_areas": null,
            "grid_template_columns": null,
            "grid_template_rows": null,
            "height": null,
            "justify_content": null,
            "justify_items": null,
            "left": null,
            "margin": null,
            "max_height": null,
            "max_width": null,
            "min_height": null,
            "min_width": null,
            "object_fit": null,
            "object_position": null,
            "order": null,
            "overflow": null,
            "overflow_x": null,
            "overflow_y": null,
            "padding": null,
            "right": null,
            "top": null,
            "visibility": null,
            "width": null
          }
        },
        "9776bcc89437416391c9aede5b80045b": {
          "model_module": "@jupyter-widgets/controls",
          "model_name": "ProgressStyleModel",
          "model_module_version": "1.5.0",
          "state": {
            "_model_module": "@jupyter-widgets/controls",
            "_model_module_version": "1.5.0",
            "_model_name": "ProgressStyleModel",
            "_view_count": null,
            "_view_module": "@jupyter-widgets/base",
            "_view_module_version": "1.2.0",
            "_view_name": "StyleView",
            "bar_color": null,
            "description_width": ""
          }
        },
        "2a46ca8ab72f429eaa5c607fcc1293e0": {
          "model_module": "@jupyter-widgets/base",
          "model_name": "LayoutModel",
          "model_module_version": "1.2.0",
          "state": {
            "_model_module": "@jupyter-widgets/base",
            "_model_module_version": "1.2.0",
            "_model_name": "LayoutModel",
            "_view_count": null,
            "_view_module": "@jupyter-widgets/base",
            "_view_module_version": "1.2.0",
            "_view_name": "LayoutView",
            "align_content": null,
            "align_items": null,
            "align_self": null,
            "border": null,
            "bottom": null,
            "display": null,
            "flex": null,
            "flex_flow": null,
            "grid_area": null,
            "grid_auto_columns": null,
            "grid_auto_flow": null,
            "grid_auto_rows": null,
            "grid_column": null,
            "grid_gap": null,
            "grid_row": null,
            "grid_template_areas": null,
            "grid_template_columns": null,
            "grid_template_rows": null,
            "height": null,
            "justify_content": null,
            "justify_items": null,
            "left": null,
            "margin": null,
            "max_height": null,
            "max_width": null,
            "min_height": null,
            "min_width": null,
            "object_fit": null,
            "object_position": null,
            "order": null,
            "overflow": null,
            "overflow_x": null,
            "overflow_y": null,
            "padding": null,
            "right": null,
            "top": null,
            "visibility": null,
            "width": null
          }
        },
        "4b6ead82b345491198b31594553247c9": {
          "model_module": "@jupyter-widgets/controls",
          "model_name": "DescriptionStyleModel",
          "model_module_version": "1.5.0",
          "state": {
            "_model_module": "@jupyter-widgets/controls",
            "_model_module_version": "1.5.0",
            "_model_name": "DescriptionStyleModel",
            "_view_count": null,
            "_view_module": "@jupyter-widgets/base",
            "_view_module_version": "1.2.0",
            "_view_name": "StyleView",
            "description_width": ""
          }
        },
        "fddea816a0ec435ab6ef63e1e5d2ee68": {
          "model_module": "@jupyter-widgets/controls",
          "model_name": "HBoxModel",
          "model_module_version": "1.5.0",
          "state": {
            "_dom_classes": [],
            "_model_module": "@jupyter-widgets/controls",
            "_model_module_version": "1.5.0",
            "_model_name": "HBoxModel",
            "_view_count": null,
            "_view_module": "@jupyter-widgets/controls",
            "_view_module_version": "1.5.0",
            "_view_name": "HBoxView",
            "box_style": "",
            "children": [
              "IPY_MODEL_e723e6658e764a7492fa0f99443ca35e",
              "IPY_MODEL_f35d3e7571b442edb4350a85cc110e88",
              "IPY_MODEL_7cd22035173e447985fd3a80d98d7123"
            ],
            "layout": "IPY_MODEL_4707582e5e884c9fb536dde5e274482d"
          }
        },
        "e723e6658e764a7492fa0f99443ca35e": {
          "model_module": "@jupyter-widgets/controls",
          "model_name": "HTMLModel",
          "model_module_version": "1.5.0",
          "state": {
            "_dom_classes": [],
            "_model_module": "@jupyter-widgets/controls",
            "_model_module_version": "1.5.0",
            "_model_name": "HTMLModel",
            "_view_count": null,
            "_view_module": "@jupyter-widgets/controls",
            "_view_module_version": "1.5.0",
            "_view_name": "HTMLView",
            "description": "",
            "description_tooltip": null,
            "layout": "IPY_MODEL_1a8df6521f094092b882b405221f1226",
            "placeholder": "​",
            "style": "IPY_MODEL_e6a3a3f0b2fa4342b04bc4dc8b14f2fd",
            "value": "Generating train examples...: 100%"
          }
        },
        "f35d3e7571b442edb4350a85cc110e88": {
          "model_module": "@jupyter-widgets/controls",
          "model_name": "FloatProgressModel",
          "model_module_version": "1.5.0",
          "state": {
            "_dom_classes": [],
            "_model_module": "@jupyter-widgets/controls",
            "_model_module_version": "1.5.0",
            "_model_name": "FloatProgressModel",
            "_view_count": null,
            "_view_module": "@jupyter-widgets/controls",
            "_view_module_version": "1.5.0",
            "_view_name": "ProgressView",
            "bar_style": "",
            "description": "",
            "description_tooltip": null,
            "layout": "IPY_MODEL_ec984da614eb456b8805854e2b1c65fd",
            "max": 25000,
            "min": 0,
            "orientation": "horizontal",
            "style": "IPY_MODEL_b7c89ce13ecf40b3aee1c8538330603a",
            "value": 25000
          }
        },
        "7cd22035173e447985fd3a80d98d7123": {
          "model_module": "@jupyter-widgets/controls",
          "model_name": "HTMLModel",
          "model_module_version": "1.5.0",
          "state": {
            "_dom_classes": [],
            "_model_module": "@jupyter-widgets/controls",
            "_model_module_version": "1.5.0",
            "_model_name": "HTMLModel",
            "_view_count": null,
            "_view_module": "@jupyter-widgets/controls",
            "_view_module_version": "1.5.0",
            "_view_name": "HTMLView",
            "description": "",
            "description_tooltip": null,
            "layout": "IPY_MODEL_795769faed234b2bb8da86be2a7392c1",
            "placeholder": "​",
            "style": "IPY_MODEL_f4c74ba4880041fa8980ca3b250e8664",
            "value": " 24948/25000 [00:07&lt;00:00, 4684.79 examples/s]"
          }
        },
        "4707582e5e884c9fb536dde5e274482d": {
          "model_module": "@jupyter-widgets/base",
          "model_name": "LayoutModel",
          "model_module_version": "1.2.0",
          "state": {
            "_model_module": "@jupyter-widgets/base",
            "_model_module_version": "1.2.0",
            "_model_name": "LayoutModel",
            "_view_count": null,
            "_view_module": "@jupyter-widgets/base",
            "_view_module_version": "1.2.0",
            "_view_name": "LayoutView",
            "align_content": null,
            "align_items": null,
            "align_self": null,
            "border": null,
            "bottom": null,
            "display": null,
            "flex": null,
            "flex_flow": null,
            "grid_area": null,
            "grid_auto_columns": null,
            "grid_auto_flow": null,
            "grid_auto_rows": null,
            "grid_column": null,
            "grid_gap": null,
            "grid_row": null,
            "grid_template_areas": null,
            "grid_template_columns": null,
            "grid_template_rows": null,
            "height": null,
            "justify_content": null,
            "justify_items": null,
            "left": null,
            "margin": null,
            "max_height": null,
            "max_width": null,
            "min_height": null,
            "min_width": null,
            "object_fit": null,
            "object_position": null,
            "order": null,
            "overflow": null,
            "overflow_x": null,
            "overflow_y": null,
            "padding": null,
            "right": null,
            "top": null,
            "visibility": null,
            "width": null
          }
        },
        "1a8df6521f094092b882b405221f1226": {
          "model_module": "@jupyter-widgets/base",
          "model_name": "LayoutModel",
          "model_module_version": "1.2.0",
          "state": {
            "_model_module": "@jupyter-widgets/base",
            "_model_module_version": "1.2.0",
            "_model_name": "LayoutModel",
            "_view_count": null,
            "_view_module": "@jupyter-widgets/base",
            "_view_module_version": "1.2.0",
            "_view_name": "LayoutView",
            "align_content": null,
            "align_items": null,
            "align_self": null,
            "border": null,
            "bottom": null,
            "display": null,
            "flex": null,
            "flex_flow": null,
            "grid_area": null,
            "grid_auto_columns": null,
            "grid_auto_flow": null,
            "grid_auto_rows": null,
            "grid_column": null,
            "grid_gap": null,
            "grid_row": null,
            "grid_template_areas": null,
            "grid_template_columns": null,
            "grid_template_rows": null,
            "height": null,
            "justify_content": null,
            "justify_items": null,
            "left": null,
            "margin": null,
            "max_height": null,
            "max_width": null,
            "min_height": null,
            "min_width": null,
            "object_fit": null,
            "object_position": null,
            "order": null,
            "overflow": null,
            "overflow_x": null,
            "overflow_y": null,
            "padding": null,
            "right": null,
            "top": null,
            "visibility": null,
            "width": null
          }
        },
        "e6a3a3f0b2fa4342b04bc4dc8b14f2fd": {
          "model_module": "@jupyter-widgets/controls",
          "model_name": "DescriptionStyleModel",
          "model_module_version": "1.5.0",
          "state": {
            "_model_module": "@jupyter-widgets/controls",
            "_model_module_version": "1.5.0",
            "_model_name": "DescriptionStyleModel",
            "_view_count": null,
            "_view_module": "@jupyter-widgets/base",
            "_view_module_version": "1.2.0",
            "_view_name": "StyleView",
            "description_width": ""
          }
        },
        "ec984da614eb456b8805854e2b1c65fd": {
          "model_module": "@jupyter-widgets/base",
          "model_name": "LayoutModel",
          "model_module_version": "1.2.0",
          "state": {
            "_model_module": "@jupyter-widgets/base",
            "_model_module_version": "1.2.0",
            "_model_name": "LayoutModel",
            "_view_count": null,
            "_view_module": "@jupyter-widgets/base",
            "_view_module_version": "1.2.0",
            "_view_name": "LayoutView",
            "align_content": null,
            "align_items": null,
            "align_self": null,
            "border": null,
            "bottom": null,
            "display": null,
            "flex": null,
            "flex_flow": null,
            "grid_area": null,
            "grid_auto_columns": null,
            "grid_auto_flow": null,
            "grid_auto_rows": null,
            "grid_column": null,
            "grid_gap": null,
            "grid_row": null,
            "grid_template_areas": null,
            "grid_template_columns": null,
            "grid_template_rows": null,
            "height": null,
            "justify_content": null,
            "justify_items": null,
            "left": null,
            "margin": null,
            "max_height": null,
            "max_width": null,
            "min_height": null,
            "min_width": null,
            "object_fit": null,
            "object_position": null,
            "order": null,
            "overflow": null,
            "overflow_x": null,
            "overflow_y": null,
            "padding": null,
            "right": null,
            "top": null,
            "visibility": null,
            "width": null
          }
        },
        "b7c89ce13ecf40b3aee1c8538330603a": {
          "model_module": "@jupyter-widgets/controls",
          "model_name": "ProgressStyleModel",
          "model_module_version": "1.5.0",
          "state": {
            "_model_module": "@jupyter-widgets/controls",
            "_model_module_version": "1.5.0",
            "_model_name": "ProgressStyleModel",
            "_view_count": null,
            "_view_module": "@jupyter-widgets/base",
            "_view_module_version": "1.2.0",
            "_view_name": "StyleView",
            "bar_color": null,
            "description_width": ""
          }
        },
        "795769faed234b2bb8da86be2a7392c1": {
          "model_module": "@jupyter-widgets/base",
          "model_name": "LayoutModel",
          "model_module_version": "1.2.0",
          "state": {
            "_model_module": "@jupyter-widgets/base",
            "_model_module_version": "1.2.0",
            "_model_name": "LayoutModel",
            "_view_count": null,
            "_view_module": "@jupyter-widgets/base",
            "_view_module_version": "1.2.0",
            "_view_name": "LayoutView",
            "align_content": null,
            "align_items": null,
            "align_self": null,
            "border": null,
            "bottom": null,
            "display": null,
            "flex": null,
            "flex_flow": null,
            "grid_area": null,
            "grid_auto_columns": null,
            "grid_auto_flow": null,
            "grid_auto_rows": null,
            "grid_column": null,
            "grid_gap": null,
            "grid_row": null,
            "grid_template_areas": null,
            "grid_template_columns": null,
            "grid_template_rows": null,
            "height": null,
            "justify_content": null,
            "justify_items": null,
            "left": null,
            "margin": null,
            "max_height": null,
            "max_width": null,
            "min_height": null,
            "min_width": null,
            "object_fit": null,
            "object_position": null,
            "order": null,
            "overflow": null,
            "overflow_x": null,
            "overflow_y": null,
            "padding": null,
            "right": null,
            "top": null,
            "visibility": null,
            "width": null
          }
        },
        "f4c74ba4880041fa8980ca3b250e8664": {
          "model_module": "@jupyter-widgets/controls",
          "model_name": "DescriptionStyleModel",
          "model_module_version": "1.5.0",
          "state": {
            "_model_module": "@jupyter-widgets/controls",
            "_model_module_version": "1.5.0",
            "_model_name": "DescriptionStyleModel",
            "_view_count": null,
            "_view_module": "@jupyter-widgets/base",
            "_view_module_version": "1.2.0",
            "_view_name": "StyleView",
            "description_width": ""
          }
        },
        "4ab2ba0cf86e43fd8da320925deea7c4": {
          "model_module": "@jupyter-widgets/controls",
          "model_name": "HBoxModel",
          "model_module_version": "1.5.0",
          "state": {
            "_dom_classes": [],
            "_model_module": "@jupyter-widgets/controls",
            "_model_module_version": "1.5.0",
            "_model_name": "HBoxModel",
            "_view_count": null,
            "_view_module": "@jupyter-widgets/controls",
            "_view_module_version": "1.5.0",
            "_view_name": "HBoxView",
            "box_style": "",
            "children": [
              "IPY_MODEL_95cb700ea5054ba0bcff30451396301e",
              "IPY_MODEL_6619a15107884e998f05190efc5efc94",
              "IPY_MODEL_42453ee5cd5747d9b061c30eeb60a865"
            ],
            "layout": "IPY_MODEL_334353b570d34461b60c90263984fc04"
          }
        },
        "95cb700ea5054ba0bcff30451396301e": {
          "model_module": "@jupyter-widgets/controls",
          "model_name": "HTMLModel",
          "model_module_version": "1.5.0",
          "state": {
            "_dom_classes": [],
            "_model_module": "@jupyter-widgets/controls",
            "_model_module_version": "1.5.0",
            "_model_name": "HTMLModel",
            "_view_count": null,
            "_view_module": "@jupyter-widgets/controls",
            "_view_module_version": "1.5.0",
            "_view_name": "HTMLView",
            "description": "",
            "description_tooltip": null,
            "layout": "IPY_MODEL_99d039a9db0f48eb9eff80c1e71e727f",
            "placeholder": "​",
            "style": "IPY_MODEL_a8f557e342e3401d9cd685f52b71a0a6",
            "value": "Shuffling ~/tensorflow_datasets/imdb_reviews/plain_text/1.0.0.incomplete5JA718/imdb_reviews-train.tfrecord*...:  35%"
          }
        },
        "6619a15107884e998f05190efc5efc94": {
          "model_module": "@jupyter-widgets/controls",
          "model_name": "FloatProgressModel",
          "model_module_version": "1.5.0",
          "state": {
            "_dom_classes": [],
            "_model_module": "@jupyter-widgets/controls",
            "_model_module_version": "1.5.0",
            "_model_name": "FloatProgressModel",
            "_view_count": null,
            "_view_module": "@jupyter-widgets/controls",
            "_view_module_version": "1.5.0",
            "_view_name": "ProgressView",
            "bar_style": "",
            "description": "",
            "description_tooltip": null,
            "layout": "IPY_MODEL_8be1393d3f7b47f0957984bad6d3c71a",
            "max": 25000,
            "min": 0,
            "orientation": "horizontal",
            "style": "IPY_MODEL_06d62beb1eb9462c8716fa2af6e0d278",
            "value": 25000
          }
        },
        "42453ee5cd5747d9b061c30eeb60a865": {
          "model_module": "@jupyter-widgets/controls",
          "model_name": "HTMLModel",
          "model_module_version": "1.5.0",
          "state": {
            "_dom_classes": [],
            "_model_module": "@jupyter-widgets/controls",
            "_model_module_version": "1.5.0",
            "_model_name": "HTMLModel",
            "_view_count": null,
            "_view_module": "@jupyter-widgets/controls",
            "_view_module_version": "1.5.0",
            "_view_name": "HTMLView",
            "description": "",
            "description_tooltip": null,
            "layout": "IPY_MODEL_50e94d4314b44d859c7c2f328b2aabff",
            "placeholder": "​",
            "style": "IPY_MODEL_5b195254d7344268845900429db67435",
            "value": " 8654/25000 [00:00&lt;00:00, 86529.56 examples/s]"
          }
        },
        "334353b570d34461b60c90263984fc04": {
          "model_module": "@jupyter-widgets/base",
          "model_name": "LayoutModel",
          "model_module_version": "1.2.0",
          "state": {
            "_model_module": "@jupyter-widgets/base",
            "_model_module_version": "1.2.0",
            "_model_name": "LayoutModel",
            "_view_count": null,
            "_view_module": "@jupyter-widgets/base",
            "_view_module_version": "1.2.0",
            "_view_name": "LayoutView",
            "align_content": null,
            "align_items": null,
            "align_self": null,
            "border": null,
            "bottom": null,
            "display": null,
            "flex": null,
            "flex_flow": null,
            "grid_area": null,
            "grid_auto_columns": null,
            "grid_auto_flow": null,
            "grid_auto_rows": null,
            "grid_column": null,
            "grid_gap": null,
            "grid_row": null,
            "grid_template_areas": null,
            "grid_template_columns": null,
            "grid_template_rows": null,
            "height": null,
            "justify_content": null,
            "justify_items": null,
            "left": null,
            "margin": null,
            "max_height": null,
            "max_width": null,
            "min_height": null,
            "min_width": null,
            "object_fit": null,
            "object_position": null,
            "order": null,
            "overflow": null,
            "overflow_x": null,
            "overflow_y": null,
            "padding": null,
            "right": null,
            "top": null,
            "visibility": null,
            "width": null
          }
        },
        "99d039a9db0f48eb9eff80c1e71e727f": {
          "model_module": "@jupyter-widgets/base",
          "model_name": "LayoutModel",
          "model_module_version": "1.2.0",
          "state": {
            "_model_module": "@jupyter-widgets/base",
            "_model_module_version": "1.2.0",
            "_model_name": "LayoutModel",
            "_view_count": null,
            "_view_module": "@jupyter-widgets/base",
            "_view_module_version": "1.2.0",
            "_view_name": "LayoutView",
            "align_content": null,
            "align_items": null,
            "align_self": null,
            "border": null,
            "bottom": null,
            "display": null,
            "flex": null,
            "flex_flow": null,
            "grid_area": null,
            "grid_auto_columns": null,
            "grid_auto_flow": null,
            "grid_auto_rows": null,
            "grid_column": null,
            "grid_gap": null,
            "grid_row": null,
            "grid_template_areas": null,
            "grid_template_columns": null,
            "grid_template_rows": null,
            "height": null,
            "justify_content": null,
            "justify_items": null,
            "left": null,
            "margin": null,
            "max_height": null,
            "max_width": null,
            "min_height": null,
            "min_width": null,
            "object_fit": null,
            "object_position": null,
            "order": null,
            "overflow": null,
            "overflow_x": null,
            "overflow_y": null,
            "padding": null,
            "right": null,
            "top": null,
            "visibility": null,
            "width": null
          }
        },
        "a8f557e342e3401d9cd685f52b71a0a6": {
          "model_module": "@jupyter-widgets/controls",
          "model_name": "DescriptionStyleModel",
          "model_module_version": "1.5.0",
          "state": {
            "_model_module": "@jupyter-widgets/controls",
            "_model_module_version": "1.5.0",
            "_model_name": "DescriptionStyleModel",
            "_view_count": null,
            "_view_module": "@jupyter-widgets/base",
            "_view_module_version": "1.2.0",
            "_view_name": "StyleView",
            "description_width": ""
          }
        },
        "8be1393d3f7b47f0957984bad6d3c71a": {
          "model_module": "@jupyter-widgets/base",
          "model_name": "LayoutModel",
          "model_module_version": "1.2.0",
          "state": {
            "_model_module": "@jupyter-widgets/base",
            "_model_module_version": "1.2.0",
            "_model_name": "LayoutModel",
            "_view_count": null,
            "_view_module": "@jupyter-widgets/base",
            "_view_module_version": "1.2.0",
            "_view_name": "LayoutView",
            "align_content": null,
            "align_items": null,
            "align_self": null,
            "border": null,
            "bottom": null,
            "display": null,
            "flex": null,
            "flex_flow": null,
            "grid_area": null,
            "grid_auto_columns": null,
            "grid_auto_flow": null,
            "grid_auto_rows": null,
            "grid_column": null,
            "grid_gap": null,
            "grid_row": null,
            "grid_template_areas": null,
            "grid_template_columns": null,
            "grid_template_rows": null,
            "height": null,
            "justify_content": null,
            "justify_items": null,
            "left": null,
            "margin": null,
            "max_height": null,
            "max_width": null,
            "min_height": null,
            "min_width": null,
            "object_fit": null,
            "object_position": null,
            "order": null,
            "overflow": null,
            "overflow_x": null,
            "overflow_y": null,
            "padding": null,
            "right": null,
            "top": null,
            "visibility": null,
            "width": null
          }
        },
        "06d62beb1eb9462c8716fa2af6e0d278": {
          "model_module": "@jupyter-widgets/controls",
          "model_name": "ProgressStyleModel",
          "model_module_version": "1.5.0",
          "state": {
            "_model_module": "@jupyter-widgets/controls",
            "_model_module_version": "1.5.0",
            "_model_name": "ProgressStyleModel",
            "_view_count": null,
            "_view_module": "@jupyter-widgets/base",
            "_view_module_version": "1.2.0",
            "_view_name": "StyleView",
            "bar_color": null,
            "description_width": ""
          }
        },
        "50e94d4314b44d859c7c2f328b2aabff": {
          "model_module": "@jupyter-widgets/base",
          "model_name": "LayoutModel",
          "model_module_version": "1.2.0",
          "state": {
            "_model_module": "@jupyter-widgets/base",
            "_model_module_version": "1.2.0",
            "_model_name": "LayoutModel",
            "_view_count": null,
            "_view_module": "@jupyter-widgets/base",
            "_view_module_version": "1.2.0",
            "_view_name": "LayoutView",
            "align_content": null,
            "align_items": null,
            "align_self": null,
            "border": null,
            "bottom": null,
            "display": null,
            "flex": null,
            "flex_flow": null,
            "grid_area": null,
            "grid_auto_columns": null,
            "grid_auto_flow": null,
            "grid_auto_rows": null,
            "grid_column": null,
            "grid_gap": null,
            "grid_row": null,
            "grid_template_areas": null,
            "grid_template_columns": null,
            "grid_template_rows": null,
            "height": null,
            "justify_content": null,
            "justify_items": null,
            "left": null,
            "margin": null,
            "max_height": null,
            "max_width": null,
            "min_height": null,
            "min_width": null,
            "object_fit": null,
            "object_position": null,
            "order": null,
            "overflow": null,
            "overflow_x": null,
            "overflow_y": null,
            "padding": null,
            "right": null,
            "top": null,
            "visibility": null,
            "width": null
          }
        },
        "5b195254d7344268845900429db67435": {
          "model_module": "@jupyter-widgets/controls",
          "model_name": "DescriptionStyleModel",
          "model_module_version": "1.5.0",
          "state": {
            "_model_module": "@jupyter-widgets/controls",
            "_model_module_version": "1.5.0",
            "_model_name": "DescriptionStyleModel",
            "_view_count": null,
            "_view_module": "@jupyter-widgets/base",
            "_view_module_version": "1.2.0",
            "_view_name": "StyleView",
            "description_width": ""
          }
        },
        "696854142b804674aab271b450dfc6b2": {
          "model_module": "@jupyter-widgets/controls",
          "model_name": "HBoxModel",
          "model_module_version": "1.5.0",
          "state": {
            "_dom_classes": [],
            "_model_module": "@jupyter-widgets/controls",
            "_model_module_version": "1.5.0",
            "_model_name": "HBoxModel",
            "_view_count": null,
            "_view_module": "@jupyter-widgets/controls",
            "_view_module_version": "1.5.0",
            "_view_name": "HBoxView",
            "box_style": "",
            "children": [
              "IPY_MODEL_b4276aebdefd4d29a8bf1bd15e5ce11a",
              "IPY_MODEL_a52e2fb5964b4828b71c8588232a7ef0",
              "IPY_MODEL_e997e77725ce4e9abd9e0190d775b225"
            ],
            "layout": "IPY_MODEL_ebba125d213a47e5ba1dc86f11f32e2e"
          }
        },
        "b4276aebdefd4d29a8bf1bd15e5ce11a": {
          "model_module": "@jupyter-widgets/controls",
          "model_name": "HTMLModel",
          "model_module_version": "1.5.0",
          "state": {
            "_dom_classes": [],
            "_model_module": "@jupyter-widgets/controls",
            "_model_module_version": "1.5.0",
            "_model_name": "HTMLModel",
            "_view_count": null,
            "_view_module": "@jupyter-widgets/controls",
            "_view_module_version": "1.5.0",
            "_view_name": "HTMLView",
            "description": "",
            "description_tooltip": null,
            "layout": "IPY_MODEL_e2ed3d005ba04b89908ad1a458720ca6",
            "placeholder": "​",
            "style": "IPY_MODEL_f2dfb38849654c26bfe6dd1d6ec8f0c8",
            "value": "Generating test examples...:  99%"
          }
        },
        "a52e2fb5964b4828b71c8588232a7ef0": {
          "model_module": "@jupyter-widgets/controls",
          "model_name": "FloatProgressModel",
          "model_module_version": "1.5.0",
          "state": {
            "_dom_classes": [],
            "_model_module": "@jupyter-widgets/controls",
            "_model_module_version": "1.5.0",
            "_model_name": "FloatProgressModel",
            "_view_count": null,
            "_view_module": "@jupyter-widgets/controls",
            "_view_module_version": "1.5.0",
            "_view_name": "ProgressView",
            "bar_style": "",
            "description": "",
            "description_tooltip": null,
            "layout": "IPY_MODEL_11a49e70536346c4a2b1d63cbd390fdb",
            "max": 25000,
            "min": 0,
            "orientation": "horizontal",
            "style": "IPY_MODEL_608a996bff8d4474bb1140bec35677a2",
            "value": 25000
          }
        },
        "e997e77725ce4e9abd9e0190d775b225": {
          "model_module": "@jupyter-widgets/controls",
          "model_name": "HTMLModel",
          "model_module_version": "1.5.0",
          "state": {
            "_dom_classes": [],
            "_model_module": "@jupyter-widgets/controls",
            "_model_module_version": "1.5.0",
            "_model_name": "HTMLModel",
            "_view_count": null,
            "_view_module": "@jupyter-widgets/controls",
            "_view_module_version": "1.5.0",
            "_view_name": "HTMLView",
            "description": "",
            "description_tooltip": null,
            "layout": "IPY_MODEL_540da59e68ab44eea70e0ec4495b5f45",
            "placeholder": "​",
            "style": "IPY_MODEL_600fd3017bf24437acb61f1abbf025f3",
            "value": " 24653/25000 [00:05&lt;00:00, 4734.08 examples/s]"
          }
        },
        "ebba125d213a47e5ba1dc86f11f32e2e": {
          "model_module": "@jupyter-widgets/base",
          "model_name": "LayoutModel",
          "model_module_version": "1.2.0",
          "state": {
            "_model_module": "@jupyter-widgets/base",
            "_model_module_version": "1.2.0",
            "_model_name": "LayoutModel",
            "_view_count": null,
            "_view_module": "@jupyter-widgets/base",
            "_view_module_version": "1.2.0",
            "_view_name": "LayoutView",
            "align_content": null,
            "align_items": null,
            "align_self": null,
            "border": null,
            "bottom": null,
            "display": null,
            "flex": null,
            "flex_flow": null,
            "grid_area": null,
            "grid_auto_columns": null,
            "grid_auto_flow": null,
            "grid_auto_rows": null,
            "grid_column": null,
            "grid_gap": null,
            "grid_row": null,
            "grid_template_areas": null,
            "grid_template_columns": null,
            "grid_template_rows": null,
            "height": null,
            "justify_content": null,
            "justify_items": null,
            "left": null,
            "margin": null,
            "max_height": null,
            "max_width": null,
            "min_height": null,
            "min_width": null,
            "object_fit": null,
            "object_position": null,
            "order": null,
            "overflow": null,
            "overflow_x": null,
            "overflow_y": null,
            "padding": null,
            "right": null,
            "top": null,
            "visibility": null,
            "width": null
          }
        },
        "e2ed3d005ba04b89908ad1a458720ca6": {
          "model_module": "@jupyter-widgets/base",
          "model_name": "LayoutModel",
          "model_module_version": "1.2.0",
          "state": {
            "_model_module": "@jupyter-widgets/base",
            "_model_module_version": "1.2.0",
            "_model_name": "LayoutModel",
            "_view_count": null,
            "_view_module": "@jupyter-widgets/base",
            "_view_module_version": "1.2.0",
            "_view_name": "LayoutView",
            "align_content": null,
            "align_items": null,
            "align_self": null,
            "border": null,
            "bottom": null,
            "display": null,
            "flex": null,
            "flex_flow": null,
            "grid_area": null,
            "grid_auto_columns": null,
            "grid_auto_flow": null,
            "grid_auto_rows": null,
            "grid_column": null,
            "grid_gap": null,
            "grid_row": null,
            "grid_template_areas": null,
            "grid_template_columns": null,
            "grid_template_rows": null,
            "height": null,
            "justify_content": null,
            "justify_items": null,
            "left": null,
            "margin": null,
            "max_height": null,
            "max_width": null,
            "min_height": null,
            "min_width": null,
            "object_fit": null,
            "object_position": null,
            "order": null,
            "overflow": null,
            "overflow_x": null,
            "overflow_y": null,
            "padding": null,
            "right": null,
            "top": null,
            "visibility": null,
            "width": null
          }
        },
        "f2dfb38849654c26bfe6dd1d6ec8f0c8": {
          "model_module": "@jupyter-widgets/controls",
          "model_name": "DescriptionStyleModel",
          "model_module_version": "1.5.0",
          "state": {
            "_model_module": "@jupyter-widgets/controls",
            "_model_module_version": "1.5.0",
            "_model_name": "DescriptionStyleModel",
            "_view_count": null,
            "_view_module": "@jupyter-widgets/base",
            "_view_module_version": "1.2.0",
            "_view_name": "StyleView",
            "description_width": ""
          }
        },
        "11a49e70536346c4a2b1d63cbd390fdb": {
          "model_module": "@jupyter-widgets/base",
          "model_name": "LayoutModel",
          "model_module_version": "1.2.0",
          "state": {
            "_model_module": "@jupyter-widgets/base",
            "_model_module_version": "1.2.0",
            "_model_name": "LayoutModel",
            "_view_count": null,
            "_view_module": "@jupyter-widgets/base",
            "_view_module_version": "1.2.0",
            "_view_name": "LayoutView",
            "align_content": null,
            "align_items": null,
            "align_self": null,
            "border": null,
            "bottom": null,
            "display": null,
            "flex": null,
            "flex_flow": null,
            "grid_area": null,
            "grid_auto_columns": null,
            "grid_auto_flow": null,
            "grid_auto_rows": null,
            "grid_column": null,
            "grid_gap": null,
            "grid_row": null,
            "grid_template_areas": null,
            "grid_template_columns": null,
            "grid_template_rows": null,
            "height": null,
            "justify_content": null,
            "justify_items": null,
            "left": null,
            "margin": null,
            "max_height": null,
            "max_width": null,
            "min_height": null,
            "min_width": null,
            "object_fit": null,
            "object_position": null,
            "order": null,
            "overflow": null,
            "overflow_x": null,
            "overflow_y": null,
            "padding": null,
            "right": null,
            "top": null,
            "visibility": null,
            "width": null
          }
        },
        "608a996bff8d4474bb1140bec35677a2": {
          "model_module": "@jupyter-widgets/controls",
          "model_name": "ProgressStyleModel",
          "model_module_version": "1.5.0",
          "state": {
            "_model_module": "@jupyter-widgets/controls",
            "_model_module_version": "1.5.0",
            "_model_name": "ProgressStyleModel",
            "_view_count": null,
            "_view_module": "@jupyter-widgets/base",
            "_view_module_version": "1.2.0",
            "_view_name": "StyleView",
            "bar_color": null,
            "description_width": ""
          }
        },
        "540da59e68ab44eea70e0ec4495b5f45": {
          "model_module": "@jupyter-widgets/base",
          "model_name": "LayoutModel",
          "model_module_version": "1.2.0",
          "state": {
            "_model_module": "@jupyter-widgets/base",
            "_model_module_version": "1.2.0",
            "_model_name": "LayoutModel",
            "_view_count": null,
            "_view_module": "@jupyter-widgets/base",
            "_view_module_version": "1.2.0",
            "_view_name": "LayoutView",
            "align_content": null,
            "align_items": null,
            "align_self": null,
            "border": null,
            "bottom": null,
            "display": null,
            "flex": null,
            "flex_flow": null,
            "grid_area": null,
            "grid_auto_columns": null,
            "grid_auto_flow": null,
            "grid_auto_rows": null,
            "grid_column": null,
            "grid_gap": null,
            "grid_row": null,
            "grid_template_areas": null,
            "grid_template_columns": null,
            "grid_template_rows": null,
            "height": null,
            "justify_content": null,
            "justify_items": null,
            "left": null,
            "margin": null,
            "max_height": null,
            "max_width": null,
            "min_height": null,
            "min_width": null,
            "object_fit": null,
            "object_position": null,
            "order": null,
            "overflow": null,
            "overflow_x": null,
            "overflow_y": null,
            "padding": null,
            "right": null,
            "top": null,
            "visibility": null,
            "width": null
          }
        },
        "600fd3017bf24437acb61f1abbf025f3": {
          "model_module": "@jupyter-widgets/controls",
          "model_name": "DescriptionStyleModel",
          "model_module_version": "1.5.0",
          "state": {
            "_model_module": "@jupyter-widgets/controls",
            "_model_module_version": "1.5.0",
            "_model_name": "DescriptionStyleModel",
            "_view_count": null,
            "_view_module": "@jupyter-widgets/base",
            "_view_module_version": "1.2.0",
            "_view_name": "StyleView",
            "description_width": ""
          }
        },
        "63b8ef863dde457d9e64f8f040e3ac4b": {
          "model_module": "@jupyter-widgets/controls",
          "model_name": "HBoxModel",
          "model_module_version": "1.5.0",
          "state": {
            "_dom_classes": [],
            "_model_module": "@jupyter-widgets/controls",
            "_model_module_version": "1.5.0",
            "_model_name": "HBoxModel",
            "_view_count": null,
            "_view_module": "@jupyter-widgets/controls",
            "_view_module_version": "1.5.0",
            "_view_name": "HBoxView",
            "box_style": "",
            "children": [
              "IPY_MODEL_d0c9ac29cb89438993cdf1ffb663b835",
              "IPY_MODEL_b1f39ce14f2f46b0babfbd7b562cf6b2",
              "IPY_MODEL_8d993ae156044eb5ae313a7c35c2aa0a"
            ],
            "layout": "IPY_MODEL_c67e11ba45d04e22ab99e50cd260c9d6"
          }
        },
        "d0c9ac29cb89438993cdf1ffb663b835": {
          "model_module": "@jupyter-widgets/controls",
          "model_name": "HTMLModel",
          "model_module_version": "1.5.0",
          "state": {
            "_dom_classes": [],
            "_model_module": "@jupyter-widgets/controls",
            "_model_module_version": "1.5.0",
            "_model_name": "HTMLModel",
            "_view_count": null,
            "_view_module": "@jupyter-widgets/controls",
            "_view_module_version": "1.5.0",
            "_view_name": "HTMLView",
            "description": "",
            "description_tooltip": null,
            "layout": "IPY_MODEL_e97893f1474b43c1ba1535ee6df65fe0",
            "placeholder": "​",
            "style": "IPY_MODEL_985f7c5e454d43eb9580ae775636642f",
            "value": "Shuffling ~/tensorflow_datasets/imdb_reviews/plain_text/1.0.0.incomplete5JA718/imdb_reviews-test.tfrecord*...:  44%"
          }
        },
        "b1f39ce14f2f46b0babfbd7b562cf6b2": {
          "model_module": "@jupyter-widgets/controls",
          "model_name": "FloatProgressModel",
          "model_module_version": "1.5.0",
          "state": {
            "_dom_classes": [],
            "_model_module": "@jupyter-widgets/controls",
            "_model_module_version": "1.5.0",
            "_model_name": "FloatProgressModel",
            "_view_count": null,
            "_view_module": "@jupyter-widgets/controls",
            "_view_module_version": "1.5.0",
            "_view_name": "ProgressView",
            "bar_style": "",
            "description": "",
            "description_tooltip": null,
            "layout": "IPY_MODEL_81d2c7344e9a43b29de3a0f018caf1e8",
            "max": 25000,
            "min": 0,
            "orientation": "horizontal",
            "style": "IPY_MODEL_b8e272d2bb8f4bc1a8dddc740bf61e5c",
            "value": 25000
          }
        },
        "8d993ae156044eb5ae313a7c35c2aa0a": {
          "model_module": "@jupyter-widgets/controls",
          "model_name": "HTMLModel",
          "model_module_version": "1.5.0",
          "state": {
            "_dom_classes": [],
            "_model_module": "@jupyter-widgets/controls",
            "_model_module_version": "1.5.0",
            "_model_name": "HTMLModel",
            "_view_count": null,
            "_view_module": "@jupyter-widgets/controls",
            "_view_module_version": "1.5.0",
            "_view_name": "HTMLView",
            "description": "",
            "description_tooltip": null,
            "layout": "IPY_MODEL_4ab0ef6243854cefaafe5f0e4c49359a",
            "placeholder": "​",
            "style": "IPY_MODEL_fda12b788d3144ddac57209406646b55",
            "value": " 10986/25000 [00:00&lt;00:00, 109847.80 examples/s]"
          }
        },
        "c67e11ba45d04e22ab99e50cd260c9d6": {
          "model_module": "@jupyter-widgets/base",
          "model_name": "LayoutModel",
          "model_module_version": "1.2.0",
          "state": {
            "_model_module": "@jupyter-widgets/base",
            "_model_module_version": "1.2.0",
            "_model_name": "LayoutModel",
            "_view_count": null,
            "_view_module": "@jupyter-widgets/base",
            "_view_module_version": "1.2.0",
            "_view_name": "LayoutView",
            "align_content": null,
            "align_items": null,
            "align_self": null,
            "border": null,
            "bottom": null,
            "display": null,
            "flex": null,
            "flex_flow": null,
            "grid_area": null,
            "grid_auto_columns": null,
            "grid_auto_flow": null,
            "grid_auto_rows": null,
            "grid_column": null,
            "grid_gap": null,
            "grid_row": null,
            "grid_template_areas": null,
            "grid_template_columns": null,
            "grid_template_rows": null,
            "height": null,
            "justify_content": null,
            "justify_items": null,
            "left": null,
            "margin": null,
            "max_height": null,
            "max_width": null,
            "min_height": null,
            "min_width": null,
            "object_fit": null,
            "object_position": null,
            "order": null,
            "overflow": null,
            "overflow_x": null,
            "overflow_y": null,
            "padding": null,
            "right": null,
            "top": null,
            "visibility": null,
            "width": null
          }
        },
        "e97893f1474b43c1ba1535ee6df65fe0": {
          "model_module": "@jupyter-widgets/base",
          "model_name": "LayoutModel",
          "model_module_version": "1.2.0",
          "state": {
            "_model_module": "@jupyter-widgets/base",
            "_model_module_version": "1.2.0",
            "_model_name": "LayoutModel",
            "_view_count": null,
            "_view_module": "@jupyter-widgets/base",
            "_view_module_version": "1.2.0",
            "_view_name": "LayoutView",
            "align_content": null,
            "align_items": null,
            "align_self": null,
            "border": null,
            "bottom": null,
            "display": null,
            "flex": null,
            "flex_flow": null,
            "grid_area": null,
            "grid_auto_columns": null,
            "grid_auto_flow": null,
            "grid_auto_rows": null,
            "grid_column": null,
            "grid_gap": null,
            "grid_row": null,
            "grid_template_areas": null,
            "grid_template_columns": null,
            "grid_template_rows": null,
            "height": null,
            "justify_content": null,
            "justify_items": null,
            "left": null,
            "margin": null,
            "max_height": null,
            "max_width": null,
            "min_height": null,
            "min_width": null,
            "object_fit": null,
            "object_position": null,
            "order": null,
            "overflow": null,
            "overflow_x": null,
            "overflow_y": null,
            "padding": null,
            "right": null,
            "top": null,
            "visibility": null,
            "width": null
          }
        },
        "985f7c5e454d43eb9580ae775636642f": {
          "model_module": "@jupyter-widgets/controls",
          "model_name": "DescriptionStyleModel",
          "model_module_version": "1.5.0",
          "state": {
            "_model_module": "@jupyter-widgets/controls",
            "_model_module_version": "1.5.0",
            "_model_name": "DescriptionStyleModel",
            "_view_count": null,
            "_view_module": "@jupyter-widgets/base",
            "_view_module_version": "1.2.0",
            "_view_name": "StyleView",
            "description_width": ""
          }
        },
        "81d2c7344e9a43b29de3a0f018caf1e8": {
          "model_module": "@jupyter-widgets/base",
          "model_name": "LayoutModel",
          "model_module_version": "1.2.0",
          "state": {
            "_model_module": "@jupyter-widgets/base",
            "_model_module_version": "1.2.0",
            "_model_name": "LayoutModel",
            "_view_count": null,
            "_view_module": "@jupyter-widgets/base",
            "_view_module_version": "1.2.0",
            "_view_name": "LayoutView",
            "align_content": null,
            "align_items": null,
            "align_self": null,
            "border": null,
            "bottom": null,
            "display": null,
            "flex": null,
            "flex_flow": null,
            "grid_area": null,
            "grid_auto_columns": null,
            "grid_auto_flow": null,
            "grid_auto_rows": null,
            "grid_column": null,
            "grid_gap": null,
            "grid_row": null,
            "grid_template_areas": null,
            "grid_template_columns": null,
            "grid_template_rows": null,
            "height": null,
            "justify_content": null,
            "justify_items": null,
            "left": null,
            "margin": null,
            "max_height": null,
            "max_width": null,
            "min_height": null,
            "min_width": null,
            "object_fit": null,
            "object_position": null,
            "order": null,
            "overflow": null,
            "overflow_x": null,
            "overflow_y": null,
            "padding": null,
            "right": null,
            "top": null,
            "visibility": null,
            "width": null
          }
        },
        "b8e272d2bb8f4bc1a8dddc740bf61e5c": {
          "model_module": "@jupyter-widgets/controls",
          "model_name": "ProgressStyleModel",
          "model_module_version": "1.5.0",
          "state": {
            "_model_module": "@jupyter-widgets/controls",
            "_model_module_version": "1.5.0",
            "_model_name": "ProgressStyleModel",
            "_view_count": null,
            "_view_module": "@jupyter-widgets/base",
            "_view_module_version": "1.2.0",
            "_view_name": "StyleView",
            "bar_color": null,
            "description_width": ""
          }
        },
        "4ab0ef6243854cefaafe5f0e4c49359a": {
          "model_module": "@jupyter-widgets/base",
          "model_name": "LayoutModel",
          "model_module_version": "1.2.0",
          "state": {
            "_model_module": "@jupyter-widgets/base",
            "_model_module_version": "1.2.0",
            "_model_name": "LayoutModel",
            "_view_count": null,
            "_view_module": "@jupyter-widgets/base",
            "_view_module_version": "1.2.0",
            "_view_name": "LayoutView",
            "align_content": null,
            "align_items": null,
            "align_self": null,
            "border": null,
            "bottom": null,
            "display": null,
            "flex": null,
            "flex_flow": null,
            "grid_area": null,
            "grid_auto_columns": null,
            "grid_auto_flow": null,
            "grid_auto_rows": null,
            "grid_column": null,
            "grid_gap": null,
            "grid_row": null,
            "grid_template_areas": null,
            "grid_template_columns": null,
            "grid_template_rows": null,
            "height": null,
            "justify_content": null,
            "justify_items": null,
            "left": null,
            "margin": null,
            "max_height": null,
            "max_width": null,
            "min_height": null,
            "min_width": null,
            "object_fit": null,
            "object_position": null,
            "order": null,
            "overflow": null,
            "overflow_x": null,
            "overflow_y": null,
            "padding": null,
            "right": null,
            "top": null,
            "visibility": null,
            "width": null
          }
        },
        "fda12b788d3144ddac57209406646b55": {
          "model_module": "@jupyter-widgets/controls",
          "model_name": "DescriptionStyleModel",
          "model_module_version": "1.5.0",
          "state": {
            "_model_module": "@jupyter-widgets/controls",
            "_model_module_version": "1.5.0",
            "_model_name": "DescriptionStyleModel",
            "_view_count": null,
            "_view_module": "@jupyter-widgets/base",
            "_view_module_version": "1.2.0",
            "_view_name": "StyleView",
            "description_width": ""
          }
        },
        "9e176387d1474c9281c76e9ef8b3f091": {
          "model_module": "@jupyter-widgets/controls",
          "model_name": "HBoxModel",
          "model_module_version": "1.5.0",
          "state": {
            "_dom_classes": [],
            "_model_module": "@jupyter-widgets/controls",
            "_model_module_version": "1.5.0",
            "_model_name": "HBoxModel",
            "_view_count": null,
            "_view_module": "@jupyter-widgets/controls",
            "_view_module_version": "1.5.0",
            "_view_name": "HBoxView",
            "box_style": "",
            "children": [
              "IPY_MODEL_8a5be8365dc84727a01aa9bccc2bc1df",
              "IPY_MODEL_7ce16cb2b1704f7687ce1745bfa6d666",
              "IPY_MODEL_992a459b286b4239ae4d47876ac21721"
            ],
            "layout": "IPY_MODEL_eac531e5598e43ae8b0bf97e23073b9a"
          }
        },
        "8a5be8365dc84727a01aa9bccc2bc1df": {
          "model_module": "@jupyter-widgets/controls",
          "model_name": "HTMLModel",
          "model_module_version": "1.5.0",
          "state": {
            "_dom_classes": [],
            "_model_module": "@jupyter-widgets/controls",
            "_model_module_version": "1.5.0",
            "_model_name": "HTMLModel",
            "_view_count": null,
            "_view_module": "@jupyter-widgets/controls",
            "_view_module_version": "1.5.0",
            "_view_name": "HTMLView",
            "description": "",
            "description_tooltip": null,
            "layout": "IPY_MODEL_a39d48dc41a846f6bd3761e92438df54",
            "placeholder": "​",
            "style": "IPY_MODEL_53c887cc3b5f40b58587b5d4d4af6e9d",
            "value": "Generating unsupervised examples...:  99%"
          }
        },
        "7ce16cb2b1704f7687ce1745bfa6d666": {
          "model_module": "@jupyter-widgets/controls",
          "model_name": "FloatProgressModel",
          "model_module_version": "1.5.0",
          "state": {
            "_dom_classes": [],
            "_model_module": "@jupyter-widgets/controls",
            "_model_module_version": "1.5.0",
            "_model_name": "FloatProgressModel",
            "_view_count": null,
            "_view_module": "@jupyter-widgets/controls",
            "_view_module_version": "1.5.0",
            "_view_name": "ProgressView",
            "bar_style": "",
            "description": "",
            "description_tooltip": null,
            "layout": "IPY_MODEL_055c5167ca5f451d881e12c4b82cf498",
            "max": 50000,
            "min": 0,
            "orientation": "horizontal",
            "style": "IPY_MODEL_04c2e5b483d14a6b9e83ae205601caf5",
            "value": 50000
          }
        },
        "992a459b286b4239ae4d47876ac21721": {
          "model_module": "@jupyter-widgets/controls",
          "model_name": "HTMLModel",
          "model_module_version": "1.5.0",
          "state": {
            "_dom_classes": [],
            "_model_module": "@jupyter-widgets/controls",
            "_model_module_version": "1.5.0",
            "_model_name": "HTMLModel",
            "_view_count": null,
            "_view_module": "@jupyter-widgets/controls",
            "_view_module_version": "1.5.0",
            "_view_name": "HTMLView",
            "description": "",
            "description_tooltip": null,
            "layout": "IPY_MODEL_b184bc3d41e74379a5db2d2e56b138c5",
            "placeholder": "​",
            "style": "IPY_MODEL_9bc47794aeca4655b2c29e57608c971b",
            "value": " 49567/50000 [00:14&lt;00:00, 4820.98 examples/s]"
          }
        },
        "eac531e5598e43ae8b0bf97e23073b9a": {
          "model_module": "@jupyter-widgets/base",
          "model_name": "LayoutModel",
          "model_module_version": "1.2.0",
          "state": {
            "_model_module": "@jupyter-widgets/base",
            "_model_module_version": "1.2.0",
            "_model_name": "LayoutModel",
            "_view_count": null,
            "_view_module": "@jupyter-widgets/base",
            "_view_module_version": "1.2.0",
            "_view_name": "LayoutView",
            "align_content": null,
            "align_items": null,
            "align_self": null,
            "border": null,
            "bottom": null,
            "display": null,
            "flex": null,
            "flex_flow": null,
            "grid_area": null,
            "grid_auto_columns": null,
            "grid_auto_flow": null,
            "grid_auto_rows": null,
            "grid_column": null,
            "grid_gap": null,
            "grid_row": null,
            "grid_template_areas": null,
            "grid_template_columns": null,
            "grid_template_rows": null,
            "height": null,
            "justify_content": null,
            "justify_items": null,
            "left": null,
            "margin": null,
            "max_height": null,
            "max_width": null,
            "min_height": null,
            "min_width": null,
            "object_fit": null,
            "object_position": null,
            "order": null,
            "overflow": null,
            "overflow_x": null,
            "overflow_y": null,
            "padding": null,
            "right": null,
            "top": null,
            "visibility": null,
            "width": null
          }
        },
        "a39d48dc41a846f6bd3761e92438df54": {
          "model_module": "@jupyter-widgets/base",
          "model_name": "LayoutModel",
          "model_module_version": "1.2.0",
          "state": {
            "_model_module": "@jupyter-widgets/base",
            "_model_module_version": "1.2.0",
            "_model_name": "LayoutModel",
            "_view_count": null,
            "_view_module": "@jupyter-widgets/base",
            "_view_module_version": "1.2.0",
            "_view_name": "LayoutView",
            "align_content": null,
            "align_items": null,
            "align_self": null,
            "border": null,
            "bottom": null,
            "display": null,
            "flex": null,
            "flex_flow": null,
            "grid_area": null,
            "grid_auto_columns": null,
            "grid_auto_flow": null,
            "grid_auto_rows": null,
            "grid_column": null,
            "grid_gap": null,
            "grid_row": null,
            "grid_template_areas": null,
            "grid_template_columns": null,
            "grid_template_rows": null,
            "height": null,
            "justify_content": null,
            "justify_items": null,
            "left": null,
            "margin": null,
            "max_height": null,
            "max_width": null,
            "min_height": null,
            "min_width": null,
            "object_fit": null,
            "object_position": null,
            "order": null,
            "overflow": null,
            "overflow_x": null,
            "overflow_y": null,
            "padding": null,
            "right": null,
            "top": null,
            "visibility": null,
            "width": null
          }
        },
        "53c887cc3b5f40b58587b5d4d4af6e9d": {
          "model_module": "@jupyter-widgets/controls",
          "model_name": "DescriptionStyleModel",
          "model_module_version": "1.5.0",
          "state": {
            "_model_module": "@jupyter-widgets/controls",
            "_model_module_version": "1.5.0",
            "_model_name": "DescriptionStyleModel",
            "_view_count": null,
            "_view_module": "@jupyter-widgets/base",
            "_view_module_version": "1.2.0",
            "_view_name": "StyleView",
            "description_width": ""
          }
        },
        "055c5167ca5f451d881e12c4b82cf498": {
          "model_module": "@jupyter-widgets/base",
          "model_name": "LayoutModel",
          "model_module_version": "1.2.0",
          "state": {
            "_model_module": "@jupyter-widgets/base",
            "_model_module_version": "1.2.0",
            "_model_name": "LayoutModel",
            "_view_count": null,
            "_view_module": "@jupyter-widgets/base",
            "_view_module_version": "1.2.0",
            "_view_name": "LayoutView",
            "align_content": null,
            "align_items": null,
            "align_self": null,
            "border": null,
            "bottom": null,
            "display": null,
            "flex": null,
            "flex_flow": null,
            "grid_area": null,
            "grid_auto_columns": null,
            "grid_auto_flow": null,
            "grid_auto_rows": null,
            "grid_column": null,
            "grid_gap": null,
            "grid_row": null,
            "grid_template_areas": null,
            "grid_template_columns": null,
            "grid_template_rows": null,
            "height": null,
            "justify_content": null,
            "justify_items": null,
            "left": null,
            "margin": null,
            "max_height": null,
            "max_width": null,
            "min_height": null,
            "min_width": null,
            "object_fit": null,
            "object_position": null,
            "order": null,
            "overflow": null,
            "overflow_x": null,
            "overflow_y": null,
            "padding": null,
            "right": null,
            "top": null,
            "visibility": null,
            "width": null
          }
        },
        "04c2e5b483d14a6b9e83ae205601caf5": {
          "model_module": "@jupyter-widgets/controls",
          "model_name": "ProgressStyleModel",
          "model_module_version": "1.5.0",
          "state": {
            "_model_module": "@jupyter-widgets/controls",
            "_model_module_version": "1.5.0",
            "_model_name": "ProgressStyleModel",
            "_view_count": null,
            "_view_module": "@jupyter-widgets/base",
            "_view_module_version": "1.2.0",
            "_view_name": "StyleView",
            "bar_color": null,
            "description_width": ""
          }
        },
        "b184bc3d41e74379a5db2d2e56b138c5": {
          "model_module": "@jupyter-widgets/base",
          "model_name": "LayoutModel",
          "model_module_version": "1.2.0",
          "state": {
            "_model_module": "@jupyter-widgets/base",
            "_model_module_version": "1.2.0",
            "_model_name": "LayoutModel",
            "_view_count": null,
            "_view_module": "@jupyter-widgets/base",
            "_view_module_version": "1.2.0",
            "_view_name": "LayoutView",
            "align_content": null,
            "align_items": null,
            "align_self": null,
            "border": null,
            "bottom": null,
            "display": null,
            "flex": null,
            "flex_flow": null,
            "grid_area": null,
            "grid_auto_columns": null,
            "grid_auto_flow": null,
            "grid_auto_rows": null,
            "grid_column": null,
            "grid_gap": null,
            "grid_row": null,
            "grid_template_areas": null,
            "grid_template_columns": null,
            "grid_template_rows": null,
            "height": null,
            "justify_content": null,
            "justify_items": null,
            "left": null,
            "margin": null,
            "max_height": null,
            "max_width": null,
            "min_height": null,
            "min_width": null,
            "object_fit": null,
            "object_position": null,
            "order": null,
            "overflow": null,
            "overflow_x": null,
            "overflow_y": null,
            "padding": null,
            "right": null,
            "top": null,
            "visibility": null,
            "width": null
          }
        },
        "9bc47794aeca4655b2c29e57608c971b": {
          "model_module": "@jupyter-widgets/controls",
          "model_name": "DescriptionStyleModel",
          "model_module_version": "1.5.0",
          "state": {
            "_model_module": "@jupyter-widgets/controls",
            "_model_module_version": "1.5.0",
            "_model_name": "DescriptionStyleModel",
            "_view_count": null,
            "_view_module": "@jupyter-widgets/base",
            "_view_module_version": "1.2.0",
            "_view_name": "StyleView",
            "description_width": ""
          }
        },
        "05273ecf7e4043eda316a6b3f0b6d49d": {
          "model_module": "@jupyter-widgets/controls",
          "model_name": "HBoxModel",
          "model_module_version": "1.5.0",
          "state": {
            "_dom_classes": [],
            "_model_module": "@jupyter-widgets/controls",
            "_model_module_version": "1.5.0",
            "_model_name": "HBoxModel",
            "_view_count": null,
            "_view_module": "@jupyter-widgets/controls",
            "_view_module_version": "1.5.0",
            "_view_name": "HBoxView",
            "box_style": "",
            "children": [
              "IPY_MODEL_ca67797e370d4b0983e55b9108b9e727",
              "IPY_MODEL_29954ab6b0c04e269071976d735831f0",
              "IPY_MODEL_36d337b1437d49fe8cc61875a1adbb02"
            ],
            "layout": "IPY_MODEL_249be2aefe894ccd9893be6fd2bb87c5"
          }
        },
        "ca67797e370d4b0983e55b9108b9e727": {
          "model_module": "@jupyter-widgets/controls",
          "model_name": "HTMLModel",
          "model_module_version": "1.5.0",
          "state": {
            "_dom_classes": [],
            "_model_module": "@jupyter-widgets/controls",
            "_model_module_version": "1.5.0",
            "_model_name": "HTMLModel",
            "_view_count": null,
            "_view_module": "@jupyter-widgets/controls",
            "_view_module_version": "1.5.0",
            "_view_name": "HTMLView",
            "description": "",
            "description_tooltip": null,
            "layout": "IPY_MODEL_92efb75b90674875ad3fcc84fb817b7b",
            "placeholder": "​",
            "style": "IPY_MODEL_03ccdbbe096b4d64957f23f4b9a308aa",
            "value": "Shuffling ~/tensorflow_datasets/imdb_reviews/plain_text/1.0.0.incomplete5JA718/imdb_reviews-unsupervised.tfrecord*...:  61%"
          }
        },
        "29954ab6b0c04e269071976d735831f0": {
          "model_module": "@jupyter-widgets/controls",
          "model_name": "FloatProgressModel",
          "model_module_version": "1.5.0",
          "state": {
            "_dom_classes": [],
            "_model_module": "@jupyter-widgets/controls",
            "_model_module_version": "1.5.0",
            "_model_name": "FloatProgressModel",
            "_view_count": null,
            "_view_module": "@jupyter-widgets/controls",
            "_view_module_version": "1.5.0",
            "_view_name": "ProgressView",
            "bar_style": "",
            "description": "",
            "description_tooltip": null,
            "layout": "IPY_MODEL_68aeca67f12543f2967bdd60b90ff1fe",
            "max": 50000,
            "min": 0,
            "orientation": "horizontal",
            "style": "IPY_MODEL_cfaf5a6ac5e74cc2b37d3c4cfc7abc45",
            "value": 50000
          }
        },
        "36d337b1437d49fe8cc61875a1adbb02": {
          "model_module": "@jupyter-widgets/controls",
          "model_name": "HTMLModel",
          "model_module_version": "1.5.0",
          "state": {
            "_dom_classes": [],
            "_model_module": "@jupyter-widgets/controls",
            "_model_module_version": "1.5.0",
            "_model_name": "HTMLModel",
            "_view_count": null,
            "_view_module": "@jupyter-widgets/controls",
            "_view_module_version": "1.5.0",
            "_view_name": "HTMLView",
            "description": "",
            "description_tooltip": null,
            "layout": "IPY_MODEL_cf5490d1b9694a91ab871bc80890fa10",
            "placeholder": "​",
            "style": "IPY_MODEL_a99a3ed639fb4017a6dac6598f14c569",
            "value": " 30402/50000 [00:00&lt;00:00, 172862.38 examples/s]"
          }
        },
        "249be2aefe894ccd9893be6fd2bb87c5": {
          "model_module": "@jupyter-widgets/base",
          "model_name": "LayoutModel",
          "model_module_version": "1.2.0",
          "state": {
            "_model_module": "@jupyter-widgets/base",
            "_model_module_version": "1.2.0",
            "_model_name": "LayoutModel",
            "_view_count": null,
            "_view_module": "@jupyter-widgets/base",
            "_view_module_version": "1.2.0",
            "_view_name": "LayoutView",
            "align_content": null,
            "align_items": null,
            "align_self": null,
            "border": null,
            "bottom": null,
            "display": null,
            "flex": null,
            "flex_flow": null,
            "grid_area": null,
            "grid_auto_columns": null,
            "grid_auto_flow": null,
            "grid_auto_rows": null,
            "grid_column": null,
            "grid_gap": null,
            "grid_row": null,
            "grid_template_areas": null,
            "grid_template_columns": null,
            "grid_template_rows": null,
            "height": null,
            "justify_content": null,
            "justify_items": null,
            "left": null,
            "margin": null,
            "max_height": null,
            "max_width": null,
            "min_height": null,
            "min_width": null,
            "object_fit": null,
            "object_position": null,
            "order": null,
            "overflow": null,
            "overflow_x": null,
            "overflow_y": null,
            "padding": null,
            "right": null,
            "top": null,
            "visibility": null,
            "width": null
          }
        },
        "92efb75b90674875ad3fcc84fb817b7b": {
          "model_module": "@jupyter-widgets/base",
          "model_name": "LayoutModel",
          "model_module_version": "1.2.0",
          "state": {
            "_model_module": "@jupyter-widgets/base",
            "_model_module_version": "1.2.0",
            "_model_name": "LayoutModel",
            "_view_count": null,
            "_view_module": "@jupyter-widgets/base",
            "_view_module_version": "1.2.0",
            "_view_name": "LayoutView",
            "align_content": null,
            "align_items": null,
            "align_self": null,
            "border": null,
            "bottom": null,
            "display": null,
            "flex": null,
            "flex_flow": null,
            "grid_area": null,
            "grid_auto_columns": null,
            "grid_auto_flow": null,
            "grid_auto_rows": null,
            "grid_column": null,
            "grid_gap": null,
            "grid_row": null,
            "grid_template_areas": null,
            "grid_template_columns": null,
            "grid_template_rows": null,
            "height": null,
            "justify_content": null,
            "justify_items": null,
            "left": null,
            "margin": null,
            "max_height": null,
            "max_width": null,
            "min_height": null,
            "min_width": null,
            "object_fit": null,
            "object_position": null,
            "order": null,
            "overflow": null,
            "overflow_x": null,
            "overflow_y": null,
            "padding": null,
            "right": null,
            "top": null,
            "visibility": null,
            "width": null
          }
        },
        "03ccdbbe096b4d64957f23f4b9a308aa": {
          "model_module": "@jupyter-widgets/controls",
          "model_name": "DescriptionStyleModel",
          "model_module_version": "1.5.0",
          "state": {
            "_model_module": "@jupyter-widgets/controls",
            "_model_module_version": "1.5.0",
            "_model_name": "DescriptionStyleModel",
            "_view_count": null,
            "_view_module": "@jupyter-widgets/base",
            "_view_module_version": "1.2.0",
            "_view_name": "StyleView",
            "description_width": ""
          }
        },
        "68aeca67f12543f2967bdd60b90ff1fe": {
          "model_module": "@jupyter-widgets/base",
          "model_name": "LayoutModel",
          "model_module_version": "1.2.0",
          "state": {
            "_model_module": "@jupyter-widgets/base",
            "_model_module_version": "1.2.0",
            "_model_name": "LayoutModel",
            "_view_count": null,
            "_view_module": "@jupyter-widgets/base",
            "_view_module_version": "1.2.0",
            "_view_name": "LayoutView",
            "align_content": null,
            "align_items": null,
            "align_self": null,
            "border": null,
            "bottom": null,
            "display": null,
            "flex": null,
            "flex_flow": null,
            "grid_area": null,
            "grid_auto_columns": null,
            "grid_auto_flow": null,
            "grid_auto_rows": null,
            "grid_column": null,
            "grid_gap": null,
            "grid_row": null,
            "grid_template_areas": null,
            "grid_template_columns": null,
            "grid_template_rows": null,
            "height": null,
            "justify_content": null,
            "justify_items": null,
            "left": null,
            "margin": null,
            "max_height": null,
            "max_width": null,
            "min_height": null,
            "min_width": null,
            "object_fit": null,
            "object_position": null,
            "order": null,
            "overflow": null,
            "overflow_x": null,
            "overflow_y": null,
            "padding": null,
            "right": null,
            "top": null,
            "visibility": null,
            "width": null
          }
        },
        "cfaf5a6ac5e74cc2b37d3c4cfc7abc45": {
          "model_module": "@jupyter-widgets/controls",
          "model_name": "ProgressStyleModel",
          "model_module_version": "1.5.0",
          "state": {
            "_model_module": "@jupyter-widgets/controls",
            "_model_module_version": "1.5.0",
            "_model_name": "ProgressStyleModel",
            "_view_count": null,
            "_view_module": "@jupyter-widgets/base",
            "_view_module_version": "1.2.0",
            "_view_name": "StyleView",
            "bar_color": null,
            "description_width": ""
          }
        },
        "cf5490d1b9694a91ab871bc80890fa10": {
          "model_module": "@jupyter-widgets/base",
          "model_name": "LayoutModel",
          "model_module_version": "1.2.0",
          "state": {
            "_model_module": "@jupyter-widgets/base",
            "_model_module_version": "1.2.0",
            "_model_name": "LayoutModel",
            "_view_count": null,
            "_view_module": "@jupyter-widgets/base",
            "_view_module_version": "1.2.0",
            "_view_name": "LayoutView",
            "align_content": null,
            "align_items": null,
            "align_self": null,
            "border": null,
            "bottom": null,
            "display": null,
            "flex": null,
            "flex_flow": null,
            "grid_area": null,
            "grid_auto_columns": null,
            "grid_auto_flow": null,
            "grid_auto_rows": null,
            "grid_column": null,
            "grid_gap": null,
            "grid_row": null,
            "grid_template_areas": null,
            "grid_template_columns": null,
            "grid_template_rows": null,
            "height": null,
            "justify_content": null,
            "justify_items": null,
            "left": null,
            "margin": null,
            "max_height": null,
            "max_width": null,
            "min_height": null,
            "min_width": null,
            "object_fit": null,
            "object_position": null,
            "order": null,
            "overflow": null,
            "overflow_x": null,
            "overflow_y": null,
            "padding": null,
            "right": null,
            "top": null,
            "visibility": null,
            "width": null
          }
        },
        "a99a3ed639fb4017a6dac6598f14c569": {
          "model_module": "@jupyter-widgets/controls",
          "model_name": "DescriptionStyleModel",
          "model_module_version": "1.5.0",
          "state": {
            "_model_module": "@jupyter-widgets/controls",
            "_model_module_version": "1.5.0",
            "_model_name": "DescriptionStyleModel",
            "_view_count": null,
            "_view_module": "@jupyter-widgets/base",
            "_view_module_version": "1.2.0",
            "_view_name": "StyleView",
            "description_width": ""
          }
        }
      }
    },
    "accelerator": "GPU"
  },
  "nbformat": 4,
  "nbformat_minor": 0
}