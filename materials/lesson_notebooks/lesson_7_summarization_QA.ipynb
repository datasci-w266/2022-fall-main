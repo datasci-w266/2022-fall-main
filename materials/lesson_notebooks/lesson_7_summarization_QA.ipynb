{
  "cells": [
    {
      "cell_type": "markdown",
      "metadata": {
        "id": "tcH1I6BsI1CY"
      },
      "source": [
        "# Lesson notebook 7 - Summarization and Question Answering\n",
        "\n",
        "\n",
        "\n",
        "### Extractive summarization example\n",
        "\n",
        "One of the challenges faced by current neural systems is the size of the input they can manage.  As a result most  of these systems end up truncating the inputOne solution to this is to use an older approach called extractive summarization.  In this approach the content of the input document(s) is broken into sentences which are scored for their relevance to either the document or to a query.  We'll demonstrate it's use on a wikipedia article.\n",
        "\n",
        "\n",
        "### Abstractive  summarization example\n",
        "\n",
        "We'll use T5 again to summarize some input text.  We do this because the text in -> text out interface as well as the multi-task fine tuning makes it a great vehicle for demonstration.\n",
        "\n",
        "\n",
        "### Span-based question answering example\n",
        "\n",
        "There are a variety of approaches to question answering.  Here we demonstrate one particular approach to the problem -- span detection -- where we feed a context paragraph and the question to the system and want the machine to identify the answer span within the context paragraph.\n",
        "\n",
        "<a id = 'returnToTop'></a>\n",
        "\n",
        "## Notebook Contents\n",
        "  * 1. [Setup](#setup)\n",
        "  * 2. [Text Rank Extractive Summarization](#extractiveSummarization)\n",
        "  * 3. [Abstractive Summarization with T5](#abstractiveSummarization)\n",
        "  * 4. [Extractive Question Answering with T5](#extractiveQA)\n",
        "  * [Answers](#answers)\n",
        "\n",
        "[![Open In Colab](https://colab.research.google.com/assets/colab-badge.svg)](https://colab.research.google.com/github/datasci-w266/2022-fall-main/blob/master/materials/lesson_notebooks/lesson_7_summarization_QA.ipynb)\n",
        "\n"
      ]
    },
    {
      "cell_type": "markdown",
      "metadata": {
        "id": "NYOyJBZHbLgv"
      },
      "source": [
        "[Return to Top](#returnToTop) \n",
        "<a id = 'setup'></a>\n",
        "\n",
        "## 1. Setup\n",
        "\n",
        "Let's set up our environment and grab the wikipedia page on Natural Language Processing.  You can modify the string to find the Wikipedia page of your choice.\n",
        "\n",
        "We'll also need the HuggingFace Transformers library for our abstractive summarization and question answering examples."
      ]
    },
    {
      "cell_type": "code",
      "execution_count": 1,
      "metadata": {
        "colab": {
          "base_uri": "https://localhost:8080/"
        },
        "id": "si0liygA0ToA",
        "outputId": "d16a005a-becc-45f2-a060-0c1f1fd2d40d"
      },
      "outputs": [
        {
          "output_type": "stream",
          "name": "stdout",
          "text": [
            "Looking in indexes: https://pypi.org/simple, https://us-python.pkg.dev/colab-wheels/public/simple/\n",
            "Collecting gensim==3.8.3\n",
            "  Downloading gensim-3.8.3-cp37-cp37m-manylinux1_x86_64.whl (24.2 MB)\n",
            "\u001b[K     |████████████████████████████████| 24.2 MB 1.4 MB/s \n",
            "\u001b[?25hRequirement already satisfied: numpy>=1.11.3 in /usr/local/lib/python3.7/dist-packages (from gensim==3.8.3) (1.21.6)\n",
            "Requirement already satisfied: smart-open>=1.8.1 in /usr/local/lib/python3.7/dist-packages (from gensim==3.8.3) (5.2.1)\n",
            "Requirement already satisfied: six>=1.5.0 in /usr/local/lib/python3.7/dist-packages (from gensim==3.8.3) (1.15.0)\n",
            "Requirement already satisfied: scipy>=0.18.1 in /usr/local/lib/python3.7/dist-packages (from gensim==3.8.3) (1.7.3)\n",
            "Installing collected packages: gensim\n",
            "  Attempting uninstall: gensim\n",
            "    Found existing installation: gensim 3.6.0\n",
            "    Uninstalling gensim-3.6.0:\n",
            "      Successfully uninstalled gensim-3.6.0\n",
            "Successfully installed gensim-3.8.3\n"
          ]
        }
      ],
      "source": [
        "!pip install gensim==3.8.3"
      ]
    },
    {
      "cell_type": "markdown",
      "metadata": {
        "id": "El7x22c9bLgy"
      },
      "source": [
        "Now let's get a document to summarize.  We'll use Wikipedia since it contains a large number of longer documents."
      ]
    },
    {
      "cell_type": "code",
      "execution_count": 2,
      "metadata": {
        "colab": {
          "base_uri": "https://localhost:8080/"
        },
        "id": "JKbUf5Fq0Tf6",
        "outputId": "f76cc61e-1553-4d10-ed7d-9d596e9334da"
      },
      "outputs": [
        {
          "output_type": "stream",
          "name": "stdout",
          "text": [
            "  Building wheel for wikipedia (setup.py) ... \u001b[?25l\u001b[?25hdone\n"
          ]
        }
      ],
      "source": [
        "!pip install -q wikipedia"
      ]
    },
    {
      "cell_type": "code",
      "execution_count": 3,
      "metadata": {
        "colab": {
          "base_uri": "https://localhost:8080/"
        },
        "id": "9_4igssSbLgz",
        "outputId": "e7b808ce-3cf3-4418-fc35-d0d04bdbd2fc"
      },
      "outputs": [
        {
          "output_type": "stream",
          "name": "stdout",
          "text": [
            "\u001b[?25l\r\u001b[K     |▎                               | 10 kB 10.9 MB/s eta 0:00:01\r\u001b[K     |▌                               | 20 kB 5.5 MB/s eta 0:00:01\r\u001b[K     |▊                               | 30 kB 7.8 MB/s eta 0:00:01\r\u001b[K     |█                               | 40 kB 5.4 MB/s eta 0:00:01\r\u001b[K     |█▎                              | 51 kB 5.4 MB/s eta 0:00:01\r\u001b[K     |█▌                              | 61 kB 6.3 MB/s eta 0:00:01\r\u001b[K     |█▉                              | 71 kB 6.4 MB/s eta 0:00:01\r\u001b[K     |██                              | 81 kB 6.0 MB/s eta 0:00:01\r\u001b[K     |██▎                             | 92 kB 6.6 MB/s eta 0:00:01\r\u001b[K     |██▋                             | 102 kB 6.6 MB/s eta 0:00:01\r\u001b[K     |██▉                             | 112 kB 6.6 MB/s eta 0:00:01\r\u001b[K     |███                             | 122 kB 6.6 MB/s eta 0:00:01\r\u001b[K     |███▍                            | 133 kB 6.6 MB/s eta 0:00:01\r\u001b[K     |███▋                            | 143 kB 6.6 MB/s eta 0:00:01\r\u001b[K     |███▉                            | 153 kB 6.6 MB/s eta 0:00:01\r\u001b[K     |████                            | 163 kB 6.6 MB/s eta 0:00:01\r\u001b[K     |████▍                           | 174 kB 6.6 MB/s eta 0:00:01\r\u001b[K     |████▋                           | 184 kB 6.6 MB/s eta 0:00:01\r\u001b[K     |████▉                           | 194 kB 6.6 MB/s eta 0:00:01\r\u001b[K     |█████▏                          | 204 kB 6.6 MB/s eta 0:00:01\r\u001b[K     |█████▍                          | 215 kB 6.6 MB/s eta 0:00:01\r\u001b[K     |█████▋                          | 225 kB 6.6 MB/s eta 0:00:01\r\u001b[K     |██████                          | 235 kB 6.6 MB/s eta 0:00:01\r\u001b[K     |██████▏                         | 245 kB 6.6 MB/s eta 0:00:01\r\u001b[K     |██████▍                         | 256 kB 6.6 MB/s eta 0:00:01\r\u001b[K     |██████▊                         | 266 kB 6.6 MB/s eta 0:00:01\r\u001b[K     |███████                         | 276 kB 6.6 MB/s eta 0:00:01\r\u001b[K     |███████▏                        | 286 kB 6.6 MB/s eta 0:00:01\r\u001b[K     |███████▍                        | 296 kB 6.6 MB/s eta 0:00:01\r\u001b[K     |███████▊                        | 307 kB 6.6 MB/s eta 0:00:01\r\u001b[K     |████████                        | 317 kB 6.6 MB/s eta 0:00:01\r\u001b[K     |████████▏                       | 327 kB 6.6 MB/s eta 0:00:01\r\u001b[K     |████████▌                       | 337 kB 6.6 MB/s eta 0:00:01\r\u001b[K     |████████▊                       | 348 kB 6.6 MB/s eta 0:00:01\r\u001b[K     |█████████                       | 358 kB 6.6 MB/s eta 0:00:01\r\u001b[K     |█████████▎                      | 368 kB 6.6 MB/s eta 0:00:01\r\u001b[K     |█████████▌                      | 378 kB 6.6 MB/s eta 0:00:01\r\u001b[K     |█████████▊                      | 389 kB 6.6 MB/s eta 0:00:01\r\u001b[K     |██████████                      | 399 kB 6.6 MB/s eta 0:00:01\r\u001b[K     |██████████▎                     | 409 kB 6.6 MB/s eta 0:00:01\r\u001b[K     |██████████▌                     | 419 kB 6.6 MB/s eta 0:00:01\r\u001b[K     |██████████▉                     | 430 kB 6.6 MB/s eta 0:00:01\r\u001b[K     |███████████                     | 440 kB 6.6 MB/s eta 0:00:01\r\u001b[K     |███████████▎                    | 450 kB 6.6 MB/s eta 0:00:01\r\u001b[K     |███████████▌                    | 460 kB 6.6 MB/s eta 0:00:01\r\u001b[K     |███████████▉                    | 471 kB 6.6 MB/s eta 0:00:01\r\u001b[K     |████████████                    | 481 kB 6.6 MB/s eta 0:00:01\r\u001b[K     |████████████▎                   | 491 kB 6.6 MB/s eta 0:00:01\r\u001b[K     |████████████▋                   | 501 kB 6.6 MB/s eta 0:00:01\r\u001b[K     |████████████▉                   | 512 kB 6.6 MB/s eta 0:00:01\r\u001b[K     |█████████████                   | 522 kB 6.6 MB/s eta 0:00:01\r\u001b[K     |█████████████▍                  | 532 kB 6.6 MB/s eta 0:00:01\r\u001b[K     |█████████████▋                  | 542 kB 6.6 MB/s eta 0:00:01\r\u001b[K     |█████████████▉                  | 552 kB 6.6 MB/s eta 0:00:01\r\u001b[K     |██████████████▏                 | 563 kB 6.6 MB/s eta 0:00:01\r\u001b[K     |██████████████▍                 | 573 kB 6.6 MB/s eta 0:00:01\r\u001b[K     |██████████████▋                 | 583 kB 6.6 MB/s eta 0:00:01\r\u001b[K     |██████████████▉                 | 593 kB 6.6 MB/s eta 0:00:01\r\u001b[K     |███████████████▏                | 604 kB 6.6 MB/s eta 0:00:01\r\u001b[K     |███████████████▍                | 614 kB 6.6 MB/s eta 0:00:01\r\u001b[K     |███████████████▋                | 624 kB 6.6 MB/s eta 0:00:01\r\u001b[K     |████████████████                | 634 kB 6.6 MB/s eta 0:00:01\r\u001b[K     |████████████████▏               | 645 kB 6.6 MB/s eta 0:00:01\r\u001b[K     |████████████████▍               | 655 kB 6.6 MB/s eta 0:00:01\r\u001b[K     |████████████████▊               | 665 kB 6.6 MB/s eta 0:00:01\r\u001b[K     |█████████████████               | 675 kB 6.6 MB/s eta 0:00:01\r\u001b[K     |█████████████████▏              | 686 kB 6.6 MB/s eta 0:00:01\r\u001b[K     |█████████████████▌              | 696 kB 6.6 MB/s eta 0:00:01\r\u001b[K     |█████████████████▊              | 706 kB 6.6 MB/s eta 0:00:01\r\u001b[K     |██████████████████              | 716 kB 6.6 MB/s eta 0:00:01\r\u001b[K     |██████████████████▎             | 727 kB 6.6 MB/s eta 0:00:01\r\u001b[K     |██████████████████▌             | 737 kB 6.6 MB/s eta 0:00:01\r\u001b[K     |██████████████████▊             | 747 kB 6.6 MB/s eta 0:00:01\r\u001b[K     |███████████████████             | 757 kB 6.6 MB/s eta 0:00:01\r\u001b[K     |███████████████████▎            | 768 kB 6.6 MB/s eta 0:00:01\r\u001b[K     |███████████████████▌            | 778 kB 6.6 MB/s eta 0:00:01\r\u001b[K     |███████████████████▊            | 788 kB 6.6 MB/s eta 0:00:01\r\u001b[K     |████████████████████            | 798 kB 6.6 MB/s eta 0:00:01\r\u001b[K     |████████████████████▎           | 808 kB 6.6 MB/s eta 0:00:01\r\u001b[K     |████████████████████▌           | 819 kB 6.6 MB/s eta 0:00:01\r\u001b[K     |████████████████████▉           | 829 kB 6.6 MB/s eta 0:00:01\r\u001b[K     |█████████████████████           | 839 kB 6.6 MB/s eta 0:00:01\r\u001b[K     |█████████████████████▎          | 849 kB 6.6 MB/s eta 0:00:01\r\u001b[K     |█████████████████████▋          | 860 kB 6.6 MB/s eta 0:00:01\r\u001b[K     |█████████████████████▉          | 870 kB 6.6 MB/s eta 0:00:01\r\u001b[K     |██████████████████████          | 880 kB 6.6 MB/s eta 0:00:01\r\u001b[K     |██████████████████████▎         | 890 kB 6.6 MB/s eta 0:00:01\r\u001b[K     |██████████████████████▋         | 901 kB 6.6 MB/s eta 0:00:01\r\u001b[K     |██████████████████████▉         | 911 kB 6.6 MB/s eta 0:00:01\r\u001b[K     |███████████████████████         | 921 kB 6.6 MB/s eta 0:00:01\r\u001b[K     |███████████████████████▍        | 931 kB 6.6 MB/s eta 0:00:01\r\u001b[K     |███████████████████████▋        | 942 kB 6.6 MB/s eta 0:00:01\r\u001b[K     |███████████████████████▉        | 952 kB 6.6 MB/s eta 0:00:01\r\u001b[K     |████████████████████████▏       | 962 kB 6.6 MB/s eta 0:00:01\r\u001b[K     |████████████████████████▍       | 972 kB 6.6 MB/s eta 0:00:01\r\u001b[K     |████████████████████████▋       | 983 kB 6.6 MB/s eta 0:00:01\r\u001b[K     |█████████████████████████       | 993 kB 6.6 MB/s eta 0:00:01\r\u001b[K     |█████████████████████████▏      | 1.0 MB 6.6 MB/s eta 0:00:01\r\u001b[K     |█████████████████████████▍      | 1.0 MB 6.6 MB/s eta 0:00:01\r\u001b[K     |█████████████████████████▊      | 1.0 MB 6.6 MB/s eta 0:00:01\r\u001b[K     |██████████████████████████      | 1.0 MB 6.6 MB/s eta 0:00:01\r\u001b[K     |██████████████████████████▏     | 1.0 MB 6.6 MB/s eta 0:00:01\r\u001b[K     |██████████████████████████▍     | 1.1 MB 6.6 MB/s eta 0:00:01\r\u001b[K     |██████████████████████████▊     | 1.1 MB 6.6 MB/s eta 0:00:01\r\u001b[K     |███████████████████████████     | 1.1 MB 6.6 MB/s eta 0:00:01\r\u001b[K     |███████████████████████████▏    | 1.1 MB 6.6 MB/s eta 0:00:01\r\u001b[K     |███████████████████████████▌    | 1.1 MB 6.6 MB/s eta 0:00:01\r\u001b[K     |███████████████████████████▊    | 1.1 MB 6.6 MB/s eta 0:00:01\r\u001b[K     |████████████████████████████    | 1.1 MB 6.6 MB/s eta 0:00:01\r\u001b[K     |████████████████████████████▎   | 1.1 MB 6.6 MB/s eta 0:00:01\r\u001b[K     |████████████████████████████▌   | 1.1 MB 6.6 MB/s eta 0:00:01\r\u001b[K     |████████████████████████████▊   | 1.1 MB 6.6 MB/s eta 0:00:01\r\u001b[K     |█████████████████████████████   | 1.2 MB 6.6 MB/s eta 0:00:01\r\u001b[K     |█████████████████████████████▎  | 1.2 MB 6.6 MB/s eta 0:00:01\r\u001b[K     |█████████████████████████████▌  | 1.2 MB 6.6 MB/s eta 0:00:01\r\u001b[K     |█████████████████████████████▊  | 1.2 MB 6.6 MB/s eta 0:00:01\r\u001b[K     |██████████████████████████████  | 1.2 MB 6.6 MB/s eta 0:00:01\r\u001b[K     |██████████████████████████████▎ | 1.2 MB 6.6 MB/s eta 0:00:01\r\u001b[K     |██████████████████████████████▌ | 1.2 MB 6.6 MB/s eta 0:00:01\r\u001b[K     |██████████████████████████████▉ | 1.2 MB 6.6 MB/s eta 0:00:01\r\u001b[K     |███████████████████████████████ | 1.2 MB 6.6 MB/s eta 0:00:01\r\u001b[K     |███████████████████████████████▎| 1.2 MB 6.6 MB/s eta 0:00:01\r\u001b[K     |███████████████████████████████▋| 1.3 MB 6.6 MB/s eta 0:00:01\r\u001b[K     |███████████████████████████████▉| 1.3 MB 6.6 MB/s eta 0:00:01\r\u001b[K     |████████████████████████████████| 1.3 MB 6.6 MB/s \n",
            "\u001b[?25h"
          ]
        }
      ],
      "source": [
        "!pip install -q sentencepiece"
      ]
    },
    {
      "cell_type": "code",
      "execution_count": 4,
      "metadata": {
        "colab": {
          "base_uri": "https://localhost:8080/"
        },
        "id": "qCp2UU4fbLg0",
        "outputId": "49b27bb0-830d-40a0-c1af-1fbb858acd57"
      },
      "outputs": [
        {
          "output_type": "stream",
          "name": "stdout",
          "text": [
            "\u001b[K     |████████████████████████████████| 4.9 MB 8.2 MB/s \n",
            "\u001b[K     |████████████████████████████████| 6.6 MB 33.8 MB/s \n",
            "\u001b[K     |████████████████████████████████| 163 kB 48.6 MB/s \n",
            "\u001b[?25h"
          ]
        }
      ],
      "source": [
        "!pip install -q transformers"
      ]
    },
    {
      "cell_type": "markdown",
      "metadata": {
        "id": "unTmpeZBbLg0"
      },
      "source": [
        "[Return to Top](#returnToTop) \n",
        "<a id = 'extractiveSummarization'></a>\n",
        "\n",
        "## 2. Text Rank Extractive Summarization\n",
        "\n",
        "Let's run our extractive summarization example.  We'll leverage an older version of gensim that has a built in extactive summarization module.  The module was contributed so it hasn't been update to 4.0 yet.\n",
        "\n",
        "This extractive sumarization approach is based on an algorithm called [Text Rank](https://dl.acm.org/doi/pdf/10.3115/1219044.1219064).  It calculates the similarity between each sentence based on the number of shared tokens normalized for the length of the sentence.  These pairwise similarity scores are used to construct a weighted graph where each node is a sentences the edges are the weights.  These wieghts are then used to select the top (most weighted) sentences for use in the summary."
      ]
    },
    {
      "cell_type": "code",
      "execution_count": 5,
      "metadata": {
        "id": "OHvwr7Qw0TXm"
      },
      "outputs": [],
      "source": [
        "from gensim.summarization.summarizer import summarize\n",
        "from gensim.summarization import keywords\n",
        "import wikipedia\n",
        "from pprint import pprint\n",
        "\n",
        " \n",
        "# Get wiki content.\n",
        "wikisearch = wikipedia.page(\"Natural Language Processing\")\n",
        "wikicontent = wikisearch.content"
      ]
    },
    {
      "cell_type": "markdown",
      "metadata": {
        "id": "RGnjEX4cbLg2"
      },
      "source": [
        "The extractive summarization module allows us to specify the size of the summary we want.  We can either do it as a percentage of the size of the input or by the number of words.  Let's first grab a small percentage of the original doc.  Under the hood the system is breaking the document into sentences and scoring those sentences by their relevance to the document according to the weighted graph produced by the TextRank algorithm.  As a result the summary is a set of sentences copied from the original.  They may be presented in score order or they may be presented in the order in which they appeared in the original document.  Why do you think that might matter?"
      ]
    },
    {
      "cell_type": "code",
      "execution_count": 6,
      "metadata": {
        "colab": {
          "base_uri": "https://localhost:8080/"
        },
        "id": "eQ2k7UQT0TPC",
        "outputId": "370d67ef-23fc-46d9-cdaf-9761e3613512"
      },
      "outputs": [
        {
          "output_type": "stream",
          "name": "stdout",
          "text": [
            "Percent summary\n",
            "(\"The premise of symbolic NLP is well-summarized by John Searle's Chinese room \"\n",
            " 'experiment: Given a collection of rules (e.g., a Chinese phrasebook, with '\n",
            " 'questions and matching answers), the computer emulates natural language '\n",
            " 'understanding (or other NLP tasks) by applying those rules to the data it '\n",
            " 'confronts.\\n'\n",
            " 'Focus areas of the time included research on rule-based parsing (e.g., the '\n",
            " 'development of HPSG as a computational operationalization of generative '\n",
            " 'grammar), morphology (e.g., two-level morphology), semantics (e.g., Lesk '\n",
            " 'algorithm), reference (e.g., within Centering Theory) and other areas of '\n",
            " 'natural language understanding (e.g., in the Rhetorical Structure Theory).\\n'\n",
            " 'Generally, this task is much more difficult than supervised learning, and '\n",
            " 'typically produces less accurate results for a given amount of input data.\\n'\n",
            " 'However, creating more data to input to machine-learning systems simply '\n",
            " 'requires a corresponding increase in the number of man-hours worked, '\n",
            " 'generally without significant increases in the complexity of the annotation '\n",
            " 'process.Despite the popularity of machine learning in NLP research, symbolic '\n",
            " 'methods are still (2020) commonly used:\\n'\n",
            " 'The machine-learning paradigm calls instead for using statistical inference '\n",
            " 'to automatically learn such rules through the analysis of large corpora (the '\n",
            " 'plural form of corpus, is a set of documents, possibly with human or '\n",
            " 'computer annotations) of typical real-world examples.\\n'\n",
            " 'Many different classes of machine-learning algorithms have been applied to '\n",
            " 'natural-language-processing tasks.\\n'\n",
            " 'Increasingly, however, research has focused on statistical models, which '\n",
            " 'make soft, probabilistic decisions based on attaching real-valued weights to '\n",
            " 'each input feature (complex-valued embeddings, and neural networks in '\n",
            " 'general have also been proposed, for e.g. speech).\\n'\n",
            " 'However, part-of-speech tagging introduced the use of hidden Markov models '\n",
            " 'to natural language processing, and increasingly, research has focused on '\n",
            " 'statistical models, which make soft, probabilistic decisions based on '\n",
            " 'attaching real-valued weights to the features making up the input data.\\n'\n",
            " 'Such models are generally more robust when given unfamiliar input, '\n",
            " 'especially input that contains errors (as is very common for real-world '\n",
            " 'data), and produce more reliable results when integrated into a larger '\n",
            " 'system comprising multiple subtasks.\\n'\n",
            " 'Popular techniques include the use of word embeddings to capture semantic '\n",
            " 'properties of words, and an increase in end-to-end learning of a '\n",
            " 'higher-level task (e.g., question answering) instead of relying on a '\n",
            " 'pipeline of separate intermediate tasks (e.g., part-of-speech tagging and '\n",
            " 'dependency parsing).\\n'\n",
            " 'In some areas, this shift has entailed substantial changes in how NLP '\n",
            " 'systems are designed, such that deep neural network-based approaches may be '\n",
            " 'viewed as a new paradigm distinct from statistical natural language '\n",
            " 'processing.\\n'\n",
            " 'This challenge typically includes aspects of several more elementary NLP '\n",
            " 'tasks from semantics (e.g., semantic role labelling, word-sense '\n",
            " 'disambiguation) and can be extended to include full-fledged discourse '\n",
            " 'analysis (e.g., discourse analysis, coreference; see Natural language '\n",
            " 'understanding below).')\n"
          ]
        }
      ],
      "source": [
        "# Summary (5% of the original content).\n",
        "summ_per = summarize(wikicontent, ratio = 0.05)\n",
        "print(\"Percent summary\")\n",
        "pprint(summ_per, compact=True)"
      ]
    },
    {
      "cell_type": "markdown",
      "metadata": {
        "id": "uYMBzwY-bLg4"
      },
      "source": [
        "Now let's summarize the content again but this time by specifying the size of the summary in words."
      ]
    },
    {
      "cell_type": "code",
      "execution_count": 7,
      "metadata": {
        "colab": {
          "base_uri": "https://localhost:8080/"
        },
        "id": "h5nc6Qoe0TFK",
        "outputId": "d09dfa5d-0936-4312-bcb6-8ba11961102b"
      },
      "outputs": [
        {
          "output_type": "stream",
          "name": "stdout",
          "text": [
            "Word count summary\n",
            "(\"The premise of symbolic NLP is well-summarized by John Searle's Chinese room \"\n",
            " 'experiment: Given a collection of rules (e.g., a Chinese phrasebook, with '\n",
            " 'questions and matching answers), the computer emulates natural language '\n",
            " 'understanding (or other NLP tasks) by applying those rules to the data it '\n",
            " 'confronts.\\n'\n",
            " 'Focus areas of the time included research on rule-based parsing (e.g., the '\n",
            " 'development of HPSG as a computational operationalization of generative '\n",
            " 'grammar), morphology (e.g., two-level morphology), semantics (e.g., Lesk '\n",
            " 'algorithm), reference (e.g., within Centering Theory) and other areas of '\n",
            " 'natural language understanding (e.g., in the Rhetorical Structure Theory).\\n'\n",
            " 'However, creating more data to input to machine-learning systems simply '\n",
            " 'requires a corresponding increase in the number of man-hours worked, '\n",
            " 'generally without significant increases in the complexity of the annotation '\n",
            " 'process.Despite the popularity of machine learning in NLP research, symbolic '\n",
            " 'methods are still (2020) commonly used:\\n'\n",
            " 'The machine-learning paradigm calls instead for using statistical inference '\n",
            " 'to automatically learn such rules through the analysis of large corpora (the '\n",
            " 'plural form of corpus, is a set of documents, possibly with human or '\n",
            " 'computer annotations) of typical real-world examples.\\n'\n",
            " 'However, part-of-speech tagging introduced the use of hidden Markov models '\n",
            " 'to natural language processing, and increasingly, research has focused on '\n",
            " 'statistical models, which make soft, probabilistic decisions based on '\n",
            " 'attaching real-valued weights to the features making up the input data.')\n"
          ]
        }
      ],
      "source": [
        "# Summary (200 words)\n",
        "summ_words = summarize(wikicontent, word_count = 200)\n",
        "print(\"Word count summary\")\n",
        "pprint(summ_words, compact=True)"
      ]
    },
    {
      "cell_type": "markdown",
      "metadata": {
        "id": "WzMVCO5mbLg5"
      },
      "source": [
        "The genism module can also summarize by keyword rather than sentence."
      ]
    },
    {
      "cell_type": "code",
      "execution_count": 8,
      "metadata": {
        "colab": {
          "base_uri": "https://localhost:8080/"
        },
        "id": "s8AAbLb50SoM",
        "outputId": "ef468200-b075-41f7-b80f-947451c7e30e"
      },
      "outputs": [
        {
          "output_type": "stream",
          "name": "stdout",
          "text": [
            "language\n",
            "languages\n",
            "words\n",
            "word\n",
            "semantics\n",
            "semantic\n",
            "nlp\n",
            "text\n",
            "generation\n",
            "generic\n",
            "generative\n",
            "generally\n",
            "generated\n",
            "general\n",
            "generate\n"
          ]
        }
      ],
      "source": [
        "from gensim.summarization import keywords\n",
        "print(keywords(wikicontent, ratio=0.01))"
      ]
    },
    {
      "cell_type": "markdown",
      "metadata": {
        "id": "C-uhdR0oz_ge"
      },
      "source": [
        "[Return to Top](#returnToTop) \n",
        "<a id = 'abstractiveSummarization'></a>\n",
        "\n",
        "## 3. Abstractive summarization with T5\n",
        "\n",
        "Let's set up our environment to run the Hugging Face version of T5 and feed it a small snippet of text to see what kind of summary it produces.  Note that we could not feed the entire Wikipedia article we used above into T5."
      ]
    },
    {
      "cell_type": "code",
      "execution_count": 9,
      "metadata": {
        "id": "a5T3hjU60VRe"
      },
      "outputs": [],
      "source": [
        "import tensorflow as tf"
      ]
    },
    {
      "cell_type": "code",
      "execution_count": 10,
      "metadata": {
        "id": "qMUH5Xsj0VLN"
      },
      "outputs": [],
      "source": [
        "from transformers import T5Tokenizer, TFT5Model, TFT5ForConditionalGeneration"
      ]
    },
    {
      "cell_type": "markdown",
      "metadata": {
        "id": "9nzpCG4QbLg7"
      },
      "source": [
        "Here's the text that we'll summarize."
      ]
    },
    {
      "cell_type": "code",
      "execution_count": 11,
      "metadata": {
        "id": "y7N0FrSK0VAj"
      },
      "outputs": [],
      "source": [
        "WARTICLE_TO_SUMMARIZE = (\"A neutron star is the collapsed core of a massive supergiant star, which had a total mass of \\\n",
        "            between 10 and 25 solar masses, possibly more if the star was especially metal-rich. Except for black holes, \\\n",
        "            and some hypothetical objects (e.g. white holes, quark stars, and strange stars), neutron stars are the smallest \\\n",
        "            and densest currently known class of stellar objects.\")"
      ]
    },
    {
      "cell_type": "code",
      "execution_count": 12,
      "metadata": {
        "colab": {
          "base_uri": "https://localhost:8080/",
          "height": 567,
          "referenced_widgets": [
            "240e56012cce442393d7246a05b39cd8",
            "21a30c6c31be437ea13903070a926d74",
            "b582d69677ce4421bb3acd2357e3eb81",
            "f8ebceff37434853855f77dcf0c2f472",
            "163b08c0cc8c407b962f5854ad161955",
            "1b12f893698b45be9a2dce734fbf2e33",
            "ff3dbac49ca342bbba5aa0bceb160137",
            "b0cfa404f959431c9b2c4f5d363571ea",
            "fb6bac8ffc1c4091b4974a90b548f3c6",
            "678c77f1378947bcbe7c5e6ad67174d4",
            "7da941b724994099bf76d607ffaf52c4",
            "ffb281b636dc4ca2b1bea4f123e6333a",
            "418ab9bc55ef4bc5a667f8dde90f58d9",
            "08b074369d8b425fbbc195c1c6d1cba5",
            "5e240b882aff455083614654d7056144",
            "31e59daecfb64b47b8554c447180280e",
            "7ecbdbd03483411cb8d9020764257b8c",
            "13ad581037084b80aed18341a7426d91",
            "db55b87b6ce545caa2a0f551a40375a4",
            "7452be292558447e86451cde4f572907",
            "0078297cad0a4b4a9e5bec79d5f13eb2",
            "29317bd55cc64ba1a762a95fe6d0d6b5",
            "0bbbf8c7541d431ebc762e263f04586f",
            "f8e1baf372e6469fae8431c3f4d30c4f",
            "9ca0a21d894a4ed7a507a2e891b9582f",
            "8dda9ae9a7d843b4af9d9fb5c582258f",
            "4404482c26f848c5bc1696ad4e2aa4a2",
            "1b7ca5efd64c48d289adb046eba0b543",
            "bb4c5973c49b4c5d82cb30b459780036",
            "0d629ebac4ae47359613fd765ce7af23",
            "854c574b79d042a7b0d17839c4136904",
            "0661653bbaea434d94d79ada0d38c98b",
            "b32eeb21144f4843b8eb40ce3e940924"
          ]
        },
        "id": "Sf5QPJGm0U2a",
        "outputId": "7e4eb967-f671-43f1-a857-e45a01e6c918"
      },
      "outputs": [
        {
          "output_type": "display_data",
          "data": {
            "text/plain": [
              "Downloading:   0%|          | 0.00/1.20k [00:00<?, ?B/s]"
            ],
            "application/vnd.jupyter.widget-view+json": {
              "version_major": 2,
              "version_minor": 0,
              "model_id": "240e56012cce442393d7246a05b39cd8"
            }
          },
          "metadata": {}
        },
        {
          "output_type": "display_data",
          "data": {
            "text/plain": [
              "Downloading:   0%|          | 0.00/892M [00:00<?, ?B/s]"
            ],
            "application/vnd.jupyter.widget-view+json": {
              "version_major": 2,
              "version_minor": 0,
              "model_id": "ffb281b636dc4ca2b1bea4f123e6333a"
            }
          },
          "metadata": {}
        },
        {
          "output_type": "stream",
          "name": "stderr",
          "text": [
            "All model checkpoint layers were used when initializing TFT5ForConditionalGeneration.\n",
            "\n",
            "All the layers of TFT5ForConditionalGeneration were initialized from the model checkpoint at t5-base.\n",
            "If your task is similar to the task the model of the checkpoint was trained on, you can already use TFT5ForConditionalGeneration for predictions without further training.\n"
          ]
        },
        {
          "output_type": "display_data",
          "data": {
            "text/plain": [
              "Downloading:   0%|          | 0.00/792k [00:00<?, ?B/s]"
            ],
            "application/vnd.jupyter.widget-view+json": {
              "version_major": 2,
              "version_minor": 0,
              "model_id": "0bbbf8c7541d431ebc762e263f04586f"
            }
          },
          "metadata": {}
        },
        {
          "output_type": "stream",
          "name": "stdout",
          "text": [
            "Model: \"tft5_for_conditional_generation\"\n",
            "_________________________________________________________________\n",
            " Layer (type)                Output Shape              Param #   \n",
            "=================================================================\n",
            " shared (TFSharedEmbeddings)  multiple                 24674304  \n",
            "                                                                 \n",
            " encoder (TFT5MainLayer)     multiple                  84954240  \n",
            "                                                                 \n",
            " decoder (TFT5MainLayer)     multiple                  113275008 \n",
            "                                                                 \n",
            "=================================================================\n",
            "Total params: 222,903,552\n",
            "Trainable params: 222,903,552\n",
            "Non-trainable params: 0\n",
            "_________________________________________________________________\n"
          ]
        },
        {
          "output_type": "stream",
          "name": "stderr",
          "text": [
            "/usr/local/lib/python3.7/dist-packages/transformers/models/t5/tokenization_t5.py:174: FutureWarning: This tokenizer was incorrectly instantiated with a model max length of 512 which will be corrected in Transformers v5.\n",
            "For now, this behavior is kept to avoid breaking backwards compatibility when padding/encoding with `truncation is True`.\n",
            "- Be aware that you SHOULD NOT rely on t5-base automatically truncating your input to 512 when padding/encoding.\n",
            "- If you want to encode/pad to sequences longer than 512 you can either instantiate this tokenizer with `model_max_length` or pass `max_length` when encoding/padding.\n",
            "- To avoid this warning, please instantiate this tokenizer with `model_max_length` set to your preferred value.\n",
            "  FutureWarning,\n"
          ]
        }
      ],
      "source": [
        "t5_model = TFT5ForConditionalGeneration.from_pretrained('t5-base') #also t5-small and t5-large\n",
        "t5_tokenizer = T5Tokenizer.from_pretrained('t5-base')\n",
        "\n",
        "t5_model.summary()"
      ]
    },
    {
      "cell_type": "markdown",
      "metadata": {
        "id": "w_WqdYm7bLg9"
      },
      "source": [
        "Don't forget to add the prompt to the begining of the article so T5 knows what we are asking it to do."
      ]
    },
    {
      "cell_type": "code",
      "execution_count": 13,
      "metadata": {
        "id": "jWdPetvc3tm_"
      },
      "outputs": [],
      "source": [
        "t5_input_text = \"summarize: \" + WARTICLE_TO_SUMMARIZE"
      ]
    },
    {
      "cell_type": "code",
      "execution_count": 14,
      "metadata": {
        "id": "839JTWPX3tbp"
      },
      "outputs": [],
      "source": [
        "t5_inputs = t5_tokenizer([t5_input_text], return_tensors='tf')"
      ]
    },
    {
      "cell_type": "markdown",
      "metadata": {
        "id": "cjY3c3kIbLg9"
      },
      "source": [
        "Here's the output.  The sentence is quite fluid.  How faithful to you think it is?"
      ]
    },
    {
      "cell_type": "code",
      "execution_count": 16,
      "metadata": {
        "colab": {
          "base_uri": "https://localhost:8080/"
        },
        "id": "xirurxbm3tMc",
        "outputId": "73559277-e35f-44ca-fa53-252e38d8fdca"
      },
      "outputs": [
        {
          "output_type": "stream",
          "name": "stdout",
          "text": [
            "['a neutron star is the collapsed core of a massive supergiant star . neutron stars are the smallest and densest currently known class']\n"
          ]
        }
      ],
      "source": [
        "t5_summary_ids = t5_model.generate(t5_inputs['input_ids'],\n",
        "                                    num_beams=3,\n",
        "                                    no_repeat_ngram_size=3,\n",
        "                                    min_length=15,\n",
        "                                    max_length=35)\n",
        "                             \n",
        "print([t5_tokenizer.decode(g, skip_special_tokens=True, \n",
        "                           clean_up_tokenization_spaces=False) for g in t5_summary_ids])"
      ]
    },
    {
      "cell_type": "markdown",
      "metadata": {
        "id": "gJ_mCsHo0GrS"
      },
      "source": [
        "[Return to Top](#returnToTop) \n",
        "<a id = 'extractiveQA'></a>\n",
        "\n",
        "## 4. Extractive question answering with T5\n",
        "\n",
        "Now let's look at an extractive question answering example.  We'll need to feed the model a context paragraph and a question.  The T5 model was pre-trained on the SQUAD dataset so it knows how to identify and extract the answer span. Note that we already have the prompt in the respective texts."
      ]
    },
    {
      "cell_type": "code",
      "execution_count": 17,
      "metadata": {
        "id": "xE5ANINx0XM6"
      },
      "outputs": [],
      "source": [
        "t5_context_text = \"\"\"context: Hyperbaric (high-pressure) medicine uses special oxygen\n",
        "chambers to increase the partial pressure of O 2 around the patient and, when needed,\n",
        "the medical staff. Carbon monoxide poisoning, gas gangrene, and decompression sickness\n",
        "(the ’bends’) are sometimes treated using these devices. Increased O 2 concentration\n",
        "in the lungs helps to displace carbon monoxide from the heme group of hemoglobin.\n",
        "Oxygen gas is poisonous to the anaerobic bacteria that cause gas gangrene, so increasing\n",
        "its partial pressure helps kill them. Decompression sickness occurs in divers who\n",
        "decompress too quickly after a dive, resulting in bubbles of inert gas, mostly nitrogen\n",
        "and helium, forming in their blood. Increasing the pressure of O 2 as soon as possible\n",
        "is part of the treatment.\"\"\""
      ]
    },
    {
      "cell_type": "code",
      "execution_count": 18,
      "metadata": {
        "id": "dUkH1xrl0XQE"
      },
      "outputs": [],
      "source": [
        "t5_question_text = \"\"\"question: What does increased oxygen concentrations in the patient’s\n",
        "lungs displace? \"\"\""
      ]
    },
    {
      "cell_type": "code",
      "execution_count": 19,
      "metadata": {
        "id": "d7KSOnfm0XJO"
      },
      "outputs": [],
      "source": [
        "t5_qa_input_text = t5_question_text + t5_context_text"
      ]
    },
    {
      "cell_type": "markdown",
      "metadata": {
        "id": "uCi0yvlqbLhA"
      },
      "source": [
        "Now let's run T5 and see how well it answers our question.  What do you think?"
      ]
    },
    {
      "cell_type": "code",
      "execution_count": 20,
      "metadata": {
        "colab": {
          "base_uri": "https://localhost:8080/"
        },
        "id": "X8XW3u6T0XGB",
        "outputId": "7084cc2b-2649-4edd-b25a-afcb208afd26"
      },
      "outputs": [
        {
          "output_type": "stream",
          "name": "stderr",
          "text": [
            "/usr/local/lib/python3.7/dist-packages/transformers/generation_tf_utils.py:1602: UserWarning: Neither `max_length` nor `max_new_tokens` have been set, `max_length` will default to 20 (`self.config.max_length`). Controlling `max_length` via the config is deprecated and `max_length` will be removed from the config in v5 of Transformers -- we recommend using `max_new_tokens` to control the maximum length of the generation.\n",
            "  UserWarning,\n"
          ]
        },
        {
          "output_type": "stream",
          "name": "stdout",
          "text": [
            "['carbon monoxide']\n"
          ]
        }
      ],
      "source": [
        "t5_inputs = t5_tokenizer([t5_qa_input_text], return_tensors='tf')\n",
        "\n",
        "t5_summary_ids = t5_model.generate(t5_inputs['input_ids'])\n",
        "                             \n",
        "print([t5_tokenizer.decode(g, skip_special_tokens=True, \n",
        "                           clean_up_tokenization_spaces=False) for g in t5_summary_ids])"
      ]
    }
  ],
  "metadata": {
    "colab": {
      "provenance": []
    },
    "kernelspec": {
      "display_name": "Python 3",
      "language": "python",
      "name": "python3"
    },
    "language_info": {
      "codemirror_mode": {
        "name": "ipython",
        "version": 3
      },
      "file_extension": ".py",
      "mimetype": "text/x-python",
      "name": "python",
      "nbconvert_exporter": "python",
      "pygments_lexer": "ipython3",
      "version": "3.8.5"
    },
    "widgets": {
      "application/vnd.jupyter.widget-state+json": {
        "240e56012cce442393d7246a05b39cd8": {
          "model_module": "@jupyter-widgets/controls",
          "model_name": "HBoxModel",
          "model_module_version": "1.5.0",
          "state": {
            "_dom_classes": [],
            "_model_module": "@jupyter-widgets/controls",
            "_model_module_version": "1.5.0",
            "_model_name": "HBoxModel",
            "_view_count": null,
            "_view_module": "@jupyter-widgets/controls",
            "_view_module_version": "1.5.0",
            "_view_name": "HBoxView",
            "box_style": "",
            "children": [
              "IPY_MODEL_21a30c6c31be437ea13903070a926d74",
              "IPY_MODEL_b582d69677ce4421bb3acd2357e3eb81",
              "IPY_MODEL_f8ebceff37434853855f77dcf0c2f472"
            ],
            "layout": "IPY_MODEL_163b08c0cc8c407b962f5854ad161955"
          }
        },
        "21a30c6c31be437ea13903070a926d74": {
          "model_module": "@jupyter-widgets/controls",
          "model_name": "HTMLModel",
          "model_module_version": "1.5.0",
          "state": {
            "_dom_classes": [],
            "_model_module": "@jupyter-widgets/controls",
            "_model_module_version": "1.5.0",
            "_model_name": "HTMLModel",
            "_view_count": null,
            "_view_module": "@jupyter-widgets/controls",
            "_view_module_version": "1.5.0",
            "_view_name": "HTMLView",
            "description": "",
            "description_tooltip": null,
            "layout": "IPY_MODEL_1b12f893698b45be9a2dce734fbf2e33",
            "placeholder": "​",
            "style": "IPY_MODEL_ff3dbac49ca342bbba5aa0bceb160137",
            "value": "Downloading: 100%"
          }
        },
        "b582d69677ce4421bb3acd2357e3eb81": {
          "model_module": "@jupyter-widgets/controls",
          "model_name": "FloatProgressModel",
          "model_module_version": "1.5.0",
          "state": {
            "_dom_classes": [],
            "_model_module": "@jupyter-widgets/controls",
            "_model_module_version": "1.5.0",
            "_model_name": "FloatProgressModel",
            "_view_count": null,
            "_view_module": "@jupyter-widgets/controls",
            "_view_module_version": "1.5.0",
            "_view_name": "ProgressView",
            "bar_style": "success",
            "description": "",
            "description_tooltip": null,
            "layout": "IPY_MODEL_b0cfa404f959431c9b2c4f5d363571ea",
            "max": 1199,
            "min": 0,
            "orientation": "horizontal",
            "style": "IPY_MODEL_fb6bac8ffc1c4091b4974a90b548f3c6",
            "value": 1199
          }
        },
        "f8ebceff37434853855f77dcf0c2f472": {
          "model_module": "@jupyter-widgets/controls",
          "model_name": "HTMLModel",
          "model_module_version": "1.5.0",
          "state": {
            "_dom_classes": [],
            "_model_module": "@jupyter-widgets/controls",
            "_model_module_version": "1.5.0",
            "_model_name": "HTMLModel",
            "_view_count": null,
            "_view_module": "@jupyter-widgets/controls",
            "_view_module_version": "1.5.0",
            "_view_name": "HTMLView",
            "description": "",
            "description_tooltip": null,
            "layout": "IPY_MODEL_678c77f1378947bcbe7c5e6ad67174d4",
            "placeholder": "​",
            "style": "IPY_MODEL_7da941b724994099bf76d607ffaf52c4",
            "value": " 1.20k/1.20k [00:00&lt;00:00, 30.4kB/s]"
          }
        },
        "163b08c0cc8c407b962f5854ad161955": {
          "model_module": "@jupyter-widgets/base",
          "model_name": "LayoutModel",
          "model_module_version": "1.2.0",
          "state": {
            "_model_module": "@jupyter-widgets/base",
            "_model_module_version": "1.2.0",
            "_model_name": "LayoutModel",
            "_view_count": null,
            "_view_module": "@jupyter-widgets/base",
            "_view_module_version": "1.2.0",
            "_view_name": "LayoutView",
            "align_content": null,
            "align_items": null,
            "align_self": null,
            "border": null,
            "bottom": null,
            "display": null,
            "flex": null,
            "flex_flow": null,
            "grid_area": null,
            "grid_auto_columns": null,
            "grid_auto_flow": null,
            "grid_auto_rows": null,
            "grid_column": null,
            "grid_gap": null,
            "grid_row": null,
            "grid_template_areas": null,
            "grid_template_columns": null,
            "grid_template_rows": null,
            "height": null,
            "justify_content": null,
            "justify_items": null,
            "left": null,
            "margin": null,
            "max_height": null,
            "max_width": null,
            "min_height": null,
            "min_width": null,
            "object_fit": null,
            "object_position": null,
            "order": null,
            "overflow": null,
            "overflow_x": null,
            "overflow_y": null,
            "padding": null,
            "right": null,
            "top": null,
            "visibility": null,
            "width": null
          }
        },
        "1b12f893698b45be9a2dce734fbf2e33": {
          "model_module": "@jupyter-widgets/base",
          "model_name": "LayoutModel",
          "model_module_version": "1.2.0",
          "state": {
            "_model_module": "@jupyter-widgets/base",
            "_model_module_version": "1.2.0",
            "_model_name": "LayoutModel",
            "_view_count": null,
            "_view_module": "@jupyter-widgets/base",
            "_view_module_version": "1.2.0",
            "_view_name": "LayoutView",
            "align_content": null,
            "align_items": null,
            "align_self": null,
            "border": null,
            "bottom": null,
            "display": null,
            "flex": null,
            "flex_flow": null,
            "grid_area": null,
            "grid_auto_columns": null,
            "grid_auto_flow": null,
            "grid_auto_rows": null,
            "grid_column": null,
            "grid_gap": null,
            "grid_row": null,
            "grid_template_areas": null,
            "grid_template_columns": null,
            "grid_template_rows": null,
            "height": null,
            "justify_content": null,
            "justify_items": null,
            "left": null,
            "margin": null,
            "max_height": null,
            "max_width": null,
            "min_height": null,
            "min_width": null,
            "object_fit": null,
            "object_position": null,
            "order": null,
            "overflow": null,
            "overflow_x": null,
            "overflow_y": null,
            "padding": null,
            "right": null,
            "top": null,
            "visibility": null,
            "width": null
          }
        },
        "ff3dbac49ca342bbba5aa0bceb160137": {
          "model_module": "@jupyter-widgets/controls",
          "model_name": "DescriptionStyleModel",
          "model_module_version": "1.5.0",
          "state": {
            "_model_module": "@jupyter-widgets/controls",
            "_model_module_version": "1.5.0",
            "_model_name": "DescriptionStyleModel",
            "_view_count": null,
            "_view_module": "@jupyter-widgets/base",
            "_view_module_version": "1.2.0",
            "_view_name": "StyleView",
            "description_width": ""
          }
        },
        "b0cfa404f959431c9b2c4f5d363571ea": {
          "model_module": "@jupyter-widgets/base",
          "model_name": "LayoutModel",
          "model_module_version": "1.2.0",
          "state": {
            "_model_module": "@jupyter-widgets/base",
            "_model_module_version": "1.2.0",
            "_model_name": "LayoutModel",
            "_view_count": null,
            "_view_module": "@jupyter-widgets/base",
            "_view_module_version": "1.2.0",
            "_view_name": "LayoutView",
            "align_content": null,
            "align_items": null,
            "align_self": null,
            "border": null,
            "bottom": null,
            "display": null,
            "flex": null,
            "flex_flow": null,
            "grid_area": null,
            "grid_auto_columns": null,
            "grid_auto_flow": null,
            "grid_auto_rows": null,
            "grid_column": null,
            "grid_gap": null,
            "grid_row": null,
            "grid_template_areas": null,
            "grid_template_columns": null,
            "grid_template_rows": null,
            "height": null,
            "justify_content": null,
            "justify_items": null,
            "left": null,
            "margin": null,
            "max_height": null,
            "max_width": null,
            "min_height": null,
            "min_width": null,
            "object_fit": null,
            "object_position": null,
            "order": null,
            "overflow": null,
            "overflow_x": null,
            "overflow_y": null,
            "padding": null,
            "right": null,
            "top": null,
            "visibility": null,
            "width": null
          }
        },
        "fb6bac8ffc1c4091b4974a90b548f3c6": {
          "model_module": "@jupyter-widgets/controls",
          "model_name": "ProgressStyleModel",
          "model_module_version": "1.5.0",
          "state": {
            "_model_module": "@jupyter-widgets/controls",
            "_model_module_version": "1.5.0",
            "_model_name": "ProgressStyleModel",
            "_view_count": null,
            "_view_module": "@jupyter-widgets/base",
            "_view_module_version": "1.2.0",
            "_view_name": "StyleView",
            "bar_color": null,
            "description_width": ""
          }
        },
        "678c77f1378947bcbe7c5e6ad67174d4": {
          "model_module": "@jupyter-widgets/base",
          "model_name": "LayoutModel",
          "model_module_version": "1.2.0",
          "state": {
            "_model_module": "@jupyter-widgets/base",
            "_model_module_version": "1.2.0",
            "_model_name": "LayoutModel",
            "_view_count": null,
            "_view_module": "@jupyter-widgets/base",
            "_view_module_version": "1.2.0",
            "_view_name": "LayoutView",
            "align_content": null,
            "align_items": null,
            "align_self": null,
            "border": null,
            "bottom": null,
            "display": null,
            "flex": null,
            "flex_flow": null,
            "grid_area": null,
            "grid_auto_columns": null,
            "grid_auto_flow": null,
            "grid_auto_rows": null,
            "grid_column": null,
            "grid_gap": null,
            "grid_row": null,
            "grid_template_areas": null,
            "grid_template_columns": null,
            "grid_template_rows": null,
            "height": null,
            "justify_content": null,
            "justify_items": null,
            "left": null,
            "margin": null,
            "max_height": null,
            "max_width": null,
            "min_height": null,
            "min_width": null,
            "object_fit": null,
            "object_position": null,
            "order": null,
            "overflow": null,
            "overflow_x": null,
            "overflow_y": null,
            "padding": null,
            "right": null,
            "top": null,
            "visibility": null,
            "width": null
          }
        },
        "7da941b724994099bf76d607ffaf52c4": {
          "model_module": "@jupyter-widgets/controls",
          "model_name": "DescriptionStyleModel",
          "model_module_version": "1.5.0",
          "state": {
            "_model_module": "@jupyter-widgets/controls",
            "_model_module_version": "1.5.0",
            "_model_name": "DescriptionStyleModel",
            "_view_count": null,
            "_view_module": "@jupyter-widgets/base",
            "_view_module_version": "1.2.0",
            "_view_name": "StyleView",
            "description_width": ""
          }
        },
        "ffb281b636dc4ca2b1bea4f123e6333a": {
          "model_module": "@jupyter-widgets/controls",
          "model_name": "HBoxModel",
          "model_module_version": "1.5.0",
          "state": {
            "_dom_classes": [],
            "_model_module": "@jupyter-widgets/controls",
            "_model_module_version": "1.5.0",
            "_model_name": "HBoxModel",
            "_view_count": null,
            "_view_module": "@jupyter-widgets/controls",
            "_view_module_version": "1.5.0",
            "_view_name": "HBoxView",
            "box_style": "",
            "children": [
              "IPY_MODEL_418ab9bc55ef4bc5a667f8dde90f58d9",
              "IPY_MODEL_08b074369d8b425fbbc195c1c6d1cba5",
              "IPY_MODEL_5e240b882aff455083614654d7056144"
            ],
            "layout": "IPY_MODEL_31e59daecfb64b47b8554c447180280e"
          }
        },
        "418ab9bc55ef4bc5a667f8dde90f58d9": {
          "model_module": "@jupyter-widgets/controls",
          "model_name": "HTMLModel",
          "model_module_version": "1.5.0",
          "state": {
            "_dom_classes": [],
            "_model_module": "@jupyter-widgets/controls",
            "_model_module_version": "1.5.0",
            "_model_name": "HTMLModel",
            "_view_count": null,
            "_view_module": "@jupyter-widgets/controls",
            "_view_module_version": "1.5.0",
            "_view_name": "HTMLView",
            "description": "",
            "description_tooltip": null,
            "layout": "IPY_MODEL_7ecbdbd03483411cb8d9020764257b8c",
            "placeholder": "​",
            "style": "IPY_MODEL_13ad581037084b80aed18341a7426d91",
            "value": "Downloading: 100%"
          }
        },
        "08b074369d8b425fbbc195c1c6d1cba5": {
          "model_module": "@jupyter-widgets/controls",
          "model_name": "FloatProgressModel",
          "model_module_version": "1.5.0",
          "state": {
            "_dom_classes": [],
            "_model_module": "@jupyter-widgets/controls",
            "_model_module_version": "1.5.0",
            "_model_name": "FloatProgressModel",
            "_view_count": null,
            "_view_module": "@jupyter-widgets/controls",
            "_view_module_version": "1.5.0",
            "_view_name": "ProgressView",
            "bar_style": "success",
            "description": "",
            "description_tooltip": null,
            "layout": "IPY_MODEL_db55b87b6ce545caa2a0f551a40375a4",
            "max": 892146080,
            "min": 0,
            "orientation": "horizontal",
            "style": "IPY_MODEL_7452be292558447e86451cde4f572907",
            "value": 892146080
          }
        },
        "5e240b882aff455083614654d7056144": {
          "model_module": "@jupyter-widgets/controls",
          "model_name": "HTMLModel",
          "model_module_version": "1.5.0",
          "state": {
            "_dom_classes": [],
            "_model_module": "@jupyter-widgets/controls",
            "_model_module_version": "1.5.0",
            "_model_name": "HTMLModel",
            "_view_count": null,
            "_view_module": "@jupyter-widgets/controls",
            "_view_module_version": "1.5.0",
            "_view_name": "HTMLView",
            "description": "",
            "description_tooltip": null,
            "layout": "IPY_MODEL_0078297cad0a4b4a9e5bec79d5f13eb2",
            "placeholder": "​",
            "style": "IPY_MODEL_29317bd55cc64ba1a762a95fe6d0d6b5",
            "value": " 892M/892M [00:21&lt;00:00, 33.6MB/s]"
          }
        },
        "31e59daecfb64b47b8554c447180280e": {
          "model_module": "@jupyter-widgets/base",
          "model_name": "LayoutModel",
          "model_module_version": "1.2.0",
          "state": {
            "_model_module": "@jupyter-widgets/base",
            "_model_module_version": "1.2.0",
            "_model_name": "LayoutModel",
            "_view_count": null,
            "_view_module": "@jupyter-widgets/base",
            "_view_module_version": "1.2.0",
            "_view_name": "LayoutView",
            "align_content": null,
            "align_items": null,
            "align_self": null,
            "border": null,
            "bottom": null,
            "display": null,
            "flex": null,
            "flex_flow": null,
            "grid_area": null,
            "grid_auto_columns": null,
            "grid_auto_flow": null,
            "grid_auto_rows": null,
            "grid_column": null,
            "grid_gap": null,
            "grid_row": null,
            "grid_template_areas": null,
            "grid_template_columns": null,
            "grid_template_rows": null,
            "height": null,
            "justify_content": null,
            "justify_items": null,
            "left": null,
            "margin": null,
            "max_height": null,
            "max_width": null,
            "min_height": null,
            "min_width": null,
            "object_fit": null,
            "object_position": null,
            "order": null,
            "overflow": null,
            "overflow_x": null,
            "overflow_y": null,
            "padding": null,
            "right": null,
            "top": null,
            "visibility": null,
            "width": null
          }
        },
        "7ecbdbd03483411cb8d9020764257b8c": {
          "model_module": "@jupyter-widgets/base",
          "model_name": "LayoutModel",
          "model_module_version": "1.2.0",
          "state": {
            "_model_module": "@jupyter-widgets/base",
            "_model_module_version": "1.2.0",
            "_model_name": "LayoutModel",
            "_view_count": null,
            "_view_module": "@jupyter-widgets/base",
            "_view_module_version": "1.2.0",
            "_view_name": "LayoutView",
            "align_content": null,
            "align_items": null,
            "align_self": null,
            "border": null,
            "bottom": null,
            "display": null,
            "flex": null,
            "flex_flow": null,
            "grid_area": null,
            "grid_auto_columns": null,
            "grid_auto_flow": null,
            "grid_auto_rows": null,
            "grid_column": null,
            "grid_gap": null,
            "grid_row": null,
            "grid_template_areas": null,
            "grid_template_columns": null,
            "grid_template_rows": null,
            "height": null,
            "justify_content": null,
            "justify_items": null,
            "left": null,
            "margin": null,
            "max_height": null,
            "max_width": null,
            "min_height": null,
            "min_width": null,
            "object_fit": null,
            "object_position": null,
            "order": null,
            "overflow": null,
            "overflow_x": null,
            "overflow_y": null,
            "padding": null,
            "right": null,
            "top": null,
            "visibility": null,
            "width": null
          }
        },
        "13ad581037084b80aed18341a7426d91": {
          "model_module": "@jupyter-widgets/controls",
          "model_name": "DescriptionStyleModel",
          "model_module_version": "1.5.0",
          "state": {
            "_model_module": "@jupyter-widgets/controls",
            "_model_module_version": "1.5.0",
            "_model_name": "DescriptionStyleModel",
            "_view_count": null,
            "_view_module": "@jupyter-widgets/base",
            "_view_module_version": "1.2.0",
            "_view_name": "StyleView",
            "description_width": ""
          }
        },
        "db55b87b6ce545caa2a0f551a40375a4": {
          "model_module": "@jupyter-widgets/base",
          "model_name": "LayoutModel",
          "model_module_version": "1.2.0",
          "state": {
            "_model_module": "@jupyter-widgets/base",
            "_model_module_version": "1.2.0",
            "_model_name": "LayoutModel",
            "_view_count": null,
            "_view_module": "@jupyter-widgets/base",
            "_view_module_version": "1.2.0",
            "_view_name": "LayoutView",
            "align_content": null,
            "align_items": null,
            "align_self": null,
            "border": null,
            "bottom": null,
            "display": null,
            "flex": null,
            "flex_flow": null,
            "grid_area": null,
            "grid_auto_columns": null,
            "grid_auto_flow": null,
            "grid_auto_rows": null,
            "grid_column": null,
            "grid_gap": null,
            "grid_row": null,
            "grid_template_areas": null,
            "grid_template_columns": null,
            "grid_template_rows": null,
            "height": null,
            "justify_content": null,
            "justify_items": null,
            "left": null,
            "margin": null,
            "max_height": null,
            "max_width": null,
            "min_height": null,
            "min_width": null,
            "object_fit": null,
            "object_position": null,
            "order": null,
            "overflow": null,
            "overflow_x": null,
            "overflow_y": null,
            "padding": null,
            "right": null,
            "top": null,
            "visibility": null,
            "width": null
          }
        },
        "7452be292558447e86451cde4f572907": {
          "model_module": "@jupyter-widgets/controls",
          "model_name": "ProgressStyleModel",
          "model_module_version": "1.5.0",
          "state": {
            "_model_module": "@jupyter-widgets/controls",
            "_model_module_version": "1.5.0",
            "_model_name": "ProgressStyleModel",
            "_view_count": null,
            "_view_module": "@jupyter-widgets/base",
            "_view_module_version": "1.2.0",
            "_view_name": "StyleView",
            "bar_color": null,
            "description_width": ""
          }
        },
        "0078297cad0a4b4a9e5bec79d5f13eb2": {
          "model_module": "@jupyter-widgets/base",
          "model_name": "LayoutModel",
          "model_module_version": "1.2.0",
          "state": {
            "_model_module": "@jupyter-widgets/base",
            "_model_module_version": "1.2.0",
            "_model_name": "LayoutModel",
            "_view_count": null,
            "_view_module": "@jupyter-widgets/base",
            "_view_module_version": "1.2.0",
            "_view_name": "LayoutView",
            "align_content": null,
            "align_items": null,
            "align_self": null,
            "border": null,
            "bottom": null,
            "display": null,
            "flex": null,
            "flex_flow": null,
            "grid_area": null,
            "grid_auto_columns": null,
            "grid_auto_flow": null,
            "grid_auto_rows": null,
            "grid_column": null,
            "grid_gap": null,
            "grid_row": null,
            "grid_template_areas": null,
            "grid_template_columns": null,
            "grid_template_rows": null,
            "height": null,
            "justify_content": null,
            "justify_items": null,
            "left": null,
            "margin": null,
            "max_height": null,
            "max_width": null,
            "min_height": null,
            "min_width": null,
            "object_fit": null,
            "object_position": null,
            "order": null,
            "overflow": null,
            "overflow_x": null,
            "overflow_y": null,
            "padding": null,
            "right": null,
            "top": null,
            "visibility": null,
            "width": null
          }
        },
        "29317bd55cc64ba1a762a95fe6d0d6b5": {
          "model_module": "@jupyter-widgets/controls",
          "model_name": "DescriptionStyleModel",
          "model_module_version": "1.5.0",
          "state": {
            "_model_module": "@jupyter-widgets/controls",
            "_model_module_version": "1.5.0",
            "_model_name": "DescriptionStyleModel",
            "_view_count": null,
            "_view_module": "@jupyter-widgets/base",
            "_view_module_version": "1.2.0",
            "_view_name": "StyleView",
            "description_width": ""
          }
        },
        "0bbbf8c7541d431ebc762e263f04586f": {
          "model_module": "@jupyter-widgets/controls",
          "model_name": "HBoxModel",
          "model_module_version": "1.5.0",
          "state": {
            "_dom_classes": [],
            "_model_module": "@jupyter-widgets/controls",
            "_model_module_version": "1.5.0",
            "_model_name": "HBoxModel",
            "_view_count": null,
            "_view_module": "@jupyter-widgets/controls",
            "_view_module_version": "1.5.0",
            "_view_name": "HBoxView",
            "box_style": "",
            "children": [
              "IPY_MODEL_f8e1baf372e6469fae8431c3f4d30c4f",
              "IPY_MODEL_9ca0a21d894a4ed7a507a2e891b9582f",
              "IPY_MODEL_8dda9ae9a7d843b4af9d9fb5c582258f"
            ],
            "layout": "IPY_MODEL_4404482c26f848c5bc1696ad4e2aa4a2"
          }
        },
        "f8e1baf372e6469fae8431c3f4d30c4f": {
          "model_module": "@jupyter-widgets/controls",
          "model_name": "HTMLModel",
          "model_module_version": "1.5.0",
          "state": {
            "_dom_classes": [],
            "_model_module": "@jupyter-widgets/controls",
            "_model_module_version": "1.5.0",
            "_model_name": "HTMLModel",
            "_view_count": null,
            "_view_module": "@jupyter-widgets/controls",
            "_view_module_version": "1.5.0",
            "_view_name": "HTMLView",
            "description": "",
            "description_tooltip": null,
            "layout": "IPY_MODEL_1b7ca5efd64c48d289adb046eba0b543",
            "placeholder": "​",
            "style": "IPY_MODEL_bb4c5973c49b4c5d82cb30b459780036",
            "value": "Downloading: 100%"
          }
        },
        "9ca0a21d894a4ed7a507a2e891b9582f": {
          "model_module": "@jupyter-widgets/controls",
          "model_name": "FloatProgressModel",
          "model_module_version": "1.5.0",
          "state": {
            "_dom_classes": [],
            "_model_module": "@jupyter-widgets/controls",
            "_model_module_version": "1.5.0",
            "_model_name": "FloatProgressModel",
            "_view_count": null,
            "_view_module": "@jupyter-widgets/controls",
            "_view_module_version": "1.5.0",
            "_view_name": "ProgressView",
            "bar_style": "success",
            "description": "",
            "description_tooltip": null,
            "layout": "IPY_MODEL_0d629ebac4ae47359613fd765ce7af23",
            "max": 791656,
            "min": 0,
            "orientation": "horizontal",
            "style": "IPY_MODEL_854c574b79d042a7b0d17839c4136904",
            "value": 791656
          }
        },
        "8dda9ae9a7d843b4af9d9fb5c582258f": {
          "model_module": "@jupyter-widgets/controls",
          "model_name": "HTMLModel",
          "model_module_version": "1.5.0",
          "state": {
            "_dom_classes": [],
            "_model_module": "@jupyter-widgets/controls",
            "_model_module_version": "1.5.0",
            "_model_name": "HTMLModel",
            "_view_count": null,
            "_view_module": "@jupyter-widgets/controls",
            "_view_module_version": "1.5.0",
            "_view_name": "HTMLView",
            "description": "",
            "description_tooltip": null,
            "layout": "IPY_MODEL_0661653bbaea434d94d79ada0d38c98b",
            "placeholder": "​",
            "style": "IPY_MODEL_b32eeb21144f4843b8eb40ce3e940924",
            "value": " 792k/792k [00:00&lt;00:00, 903kB/s]"
          }
        },
        "4404482c26f848c5bc1696ad4e2aa4a2": {
          "model_module": "@jupyter-widgets/base",
          "model_name": "LayoutModel",
          "model_module_version": "1.2.0",
          "state": {
            "_model_module": "@jupyter-widgets/base",
            "_model_module_version": "1.2.0",
            "_model_name": "LayoutModel",
            "_view_count": null,
            "_view_module": "@jupyter-widgets/base",
            "_view_module_version": "1.2.0",
            "_view_name": "LayoutView",
            "align_content": null,
            "align_items": null,
            "align_self": null,
            "border": null,
            "bottom": null,
            "display": null,
            "flex": null,
            "flex_flow": null,
            "grid_area": null,
            "grid_auto_columns": null,
            "grid_auto_flow": null,
            "grid_auto_rows": null,
            "grid_column": null,
            "grid_gap": null,
            "grid_row": null,
            "grid_template_areas": null,
            "grid_template_columns": null,
            "grid_template_rows": null,
            "height": null,
            "justify_content": null,
            "justify_items": null,
            "left": null,
            "margin": null,
            "max_height": null,
            "max_width": null,
            "min_height": null,
            "min_width": null,
            "object_fit": null,
            "object_position": null,
            "order": null,
            "overflow": null,
            "overflow_x": null,
            "overflow_y": null,
            "padding": null,
            "right": null,
            "top": null,
            "visibility": null,
            "width": null
          }
        },
        "1b7ca5efd64c48d289adb046eba0b543": {
          "model_module": "@jupyter-widgets/base",
          "model_name": "LayoutModel",
          "model_module_version": "1.2.0",
          "state": {
            "_model_module": "@jupyter-widgets/base",
            "_model_module_version": "1.2.0",
            "_model_name": "LayoutModel",
            "_view_count": null,
            "_view_module": "@jupyter-widgets/base",
            "_view_module_version": "1.2.0",
            "_view_name": "LayoutView",
            "align_content": null,
            "align_items": null,
            "align_self": null,
            "border": null,
            "bottom": null,
            "display": null,
            "flex": null,
            "flex_flow": null,
            "grid_area": null,
            "grid_auto_columns": null,
            "grid_auto_flow": null,
            "grid_auto_rows": null,
            "grid_column": null,
            "grid_gap": null,
            "grid_row": null,
            "grid_template_areas": null,
            "grid_template_columns": null,
            "grid_template_rows": null,
            "height": null,
            "justify_content": null,
            "justify_items": null,
            "left": null,
            "margin": null,
            "max_height": null,
            "max_width": null,
            "min_height": null,
            "min_width": null,
            "object_fit": null,
            "object_position": null,
            "order": null,
            "overflow": null,
            "overflow_x": null,
            "overflow_y": null,
            "padding": null,
            "right": null,
            "top": null,
            "visibility": null,
            "width": null
          }
        },
        "bb4c5973c49b4c5d82cb30b459780036": {
          "model_module": "@jupyter-widgets/controls",
          "model_name": "DescriptionStyleModel",
          "model_module_version": "1.5.0",
          "state": {
            "_model_module": "@jupyter-widgets/controls",
            "_model_module_version": "1.5.0",
            "_model_name": "DescriptionStyleModel",
            "_view_count": null,
            "_view_module": "@jupyter-widgets/base",
            "_view_module_version": "1.2.0",
            "_view_name": "StyleView",
            "description_width": ""
          }
        },
        "0d629ebac4ae47359613fd765ce7af23": {
          "model_module": "@jupyter-widgets/base",
          "model_name": "LayoutModel",
          "model_module_version": "1.2.0",
          "state": {
            "_model_module": "@jupyter-widgets/base",
            "_model_module_version": "1.2.0",
            "_model_name": "LayoutModel",
            "_view_count": null,
            "_view_module": "@jupyter-widgets/base",
            "_view_module_version": "1.2.0",
            "_view_name": "LayoutView",
            "align_content": null,
            "align_items": null,
            "align_self": null,
            "border": null,
            "bottom": null,
            "display": null,
            "flex": null,
            "flex_flow": null,
            "grid_area": null,
            "grid_auto_columns": null,
            "grid_auto_flow": null,
            "grid_auto_rows": null,
            "grid_column": null,
            "grid_gap": null,
            "grid_row": null,
            "grid_template_areas": null,
            "grid_template_columns": null,
            "grid_template_rows": null,
            "height": null,
            "justify_content": null,
            "justify_items": null,
            "left": null,
            "margin": null,
            "max_height": null,
            "max_width": null,
            "min_height": null,
            "min_width": null,
            "object_fit": null,
            "object_position": null,
            "order": null,
            "overflow": null,
            "overflow_x": null,
            "overflow_y": null,
            "padding": null,
            "right": null,
            "top": null,
            "visibility": null,
            "width": null
          }
        },
        "854c574b79d042a7b0d17839c4136904": {
          "model_module": "@jupyter-widgets/controls",
          "model_name": "ProgressStyleModel",
          "model_module_version": "1.5.0",
          "state": {
            "_model_module": "@jupyter-widgets/controls",
            "_model_module_version": "1.5.0",
            "_model_name": "ProgressStyleModel",
            "_view_count": null,
            "_view_module": "@jupyter-widgets/base",
            "_view_module_version": "1.2.0",
            "_view_name": "StyleView",
            "bar_color": null,
            "description_width": ""
          }
        },
        "0661653bbaea434d94d79ada0d38c98b": {
          "model_module": "@jupyter-widgets/base",
          "model_name": "LayoutModel",
          "model_module_version": "1.2.0",
          "state": {
            "_model_module": "@jupyter-widgets/base",
            "_model_module_version": "1.2.0",
            "_model_name": "LayoutModel",
            "_view_count": null,
            "_view_module": "@jupyter-widgets/base",
            "_view_module_version": "1.2.0",
            "_view_name": "LayoutView",
            "align_content": null,
            "align_items": null,
            "align_self": null,
            "border": null,
            "bottom": null,
            "display": null,
            "flex": null,
            "flex_flow": null,
            "grid_area": null,
            "grid_auto_columns": null,
            "grid_auto_flow": null,
            "grid_auto_rows": null,
            "grid_column": null,
            "grid_gap": null,
            "grid_row": null,
            "grid_template_areas": null,
            "grid_template_columns": null,
            "grid_template_rows": null,
            "height": null,
            "justify_content": null,
            "justify_items": null,
            "left": null,
            "margin": null,
            "max_height": null,
            "max_width": null,
            "min_height": null,
            "min_width": null,
            "object_fit": null,
            "object_position": null,
            "order": null,
            "overflow": null,
            "overflow_x": null,
            "overflow_y": null,
            "padding": null,
            "right": null,
            "top": null,
            "visibility": null,
            "width": null
          }
        },
        "b32eeb21144f4843b8eb40ce3e940924": {
          "model_module": "@jupyter-widgets/controls",
          "model_name": "DescriptionStyleModel",
          "model_module_version": "1.5.0",
          "state": {
            "_model_module": "@jupyter-widgets/controls",
            "_model_module_version": "1.5.0",
            "_model_name": "DescriptionStyleModel",
            "_view_count": null,
            "_view_module": "@jupyter-widgets/base",
            "_view_module_version": "1.2.0",
            "_view_name": "StyleView",
            "description_width": ""
          }
        }
      }
    }
  },
  "nbformat": 4,
  "nbformat_minor": 0
}